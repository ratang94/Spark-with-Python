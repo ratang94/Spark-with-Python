{
 "cells": [
  {
   "cell_type": "code",
   "execution_count": 1,
   "id": "4e33484e",
   "metadata": {
    "_kg_hide-output": true,
    "execution": {
     "iopub.execute_input": "2022-01-14T13:32:09.773325Z",
     "iopub.status.busy": "2022-01-14T13:32:09.772705Z",
     "iopub.status.idle": "2022-01-14T13:32:57.007997Z",
     "shell.execute_reply": "2022-01-14T13:32:57.006927Z",
     "shell.execute_reply.started": "2022-01-14T13:14:34.802934Z"
    },
    "papermill": {
     "duration": 47.292563,
     "end_time": "2022-01-14T13:32:57.008197",
     "exception": false,
     "start_time": "2022-01-14T13:32:09.715634",
     "status": "completed"
    },
    "tags": []
   },
   "outputs": [
    {
     "name": "stdout",
     "output_type": "stream",
     "text": [
      "Collecting pyspark\r\n",
      "  Downloading pyspark-3.2.0.tar.gz (281.3 MB)\r\n",
      "     |████████████████████████████████| 281.3 MB 35 kB/s             \r\n",
      "\u001b[?25h  Preparing metadata (setup.py) ... \u001b[?25l-\b \b\\\b \bdone\r\n",
      "\u001b[?25hCollecting py4j==0.10.9.2\r\n",
      "  Downloading py4j-0.10.9.2-py2.py3-none-any.whl (198 kB)\r\n",
      "     |████████████████████████████████| 198 kB 43.5 MB/s            \r\n",
      "\u001b[?25hBuilding wheels for collected packages: pyspark\r\n",
      "  Building wheel for pyspark (setup.py) ... \u001b[?25l-\b \b\\\b \b|\b \b/\b \b-\b \b\\\b \b|\b \b/\b \b-\b \b\\\b \b|\b \b/\b \b-\b \b\\\b \b|\b \b/\b \b-\b \b\\\b \b|\b \b/\b \b-\b \b\\\b \b|\b \b/\b \b-\b \b\\\b \b|\b \b/\b \b-\b \b\\\b \b|\b \b/\b \b-\b \b\\\b \b|\b \b/\b \b-\b \b\\\b \b|\b \b/\b \b-\b \b\\\b \b|\b \b/\b \b-\b \b\\\b \b|\b \b/\b \b-\b \b\\\b \b|\b \b/\b \b-\b \b\\\b \b|\b \b/\b \b-\b \b\\\b \bdone\r\n",
      "\u001b[?25h  Created wheel for pyspark: filename=pyspark-3.2.0-py2.py3-none-any.whl size=281805912 sha256=5d78794d1064dbca2f2ce76d041f12b0da113997a87f58e5619fcf4f37f2a3af\r\n",
      "  Stored in directory: /root/.cache/pip/wheels/0b/de/d2/9be5d59d7331c6c2a7c1b6d1a4f463ce107332b1ecd4e80718\r\n",
      "Successfully built pyspark\r\n",
      "Installing collected packages: py4j, pyspark\r\n",
      "  Attempting uninstall: py4j\r\n",
      "    Found existing installation: py4j 0.10.9.3\r\n",
      "    Uninstalling py4j-0.10.9.3:\r\n",
      "      Successfully uninstalled py4j-0.10.9.3\r\n",
      "Successfully installed py4j-0.10.9.2 pyspark-3.2.0\r\n",
      "\u001b[33mWARNING: Running pip as the 'root' user can result in broken permissions and conflicting behaviour with the system package manager. It is recommended to use a virtual environment instead: https://pip.pypa.io/warnings/venv\u001b[0m\r\n"
     ]
    }
   ],
   "source": [
    "!pip install pyspark"
   ]
  },
  {
   "cell_type": "code",
   "execution_count": 2,
   "id": "b2c31294",
   "metadata": {
    "execution": {
     "iopub.execute_input": "2022-01-14T13:32:57.357463Z",
     "iopub.status.busy": "2022-01-14T13:32:57.352734Z",
     "iopub.status.idle": "2022-01-14T13:33:03.415521Z",
     "shell.execute_reply": "2022-01-14T13:33:03.416298Z",
     "shell.execute_reply.started": "2022-01-14T13:15:20.942474Z"
    },
    "papermill": {
     "duration": 6.237274,
     "end_time": "2022-01-14T13:33:03.416535",
     "exception": false,
     "start_time": "2022-01-14T13:32:57.179261",
     "status": "completed"
    },
    "tags": []
   },
   "outputs": [
    {
     "name": "stderr",
     "output_type": "stream",
     "text": [
      "WARNING: An illegal reflective access operation has occurred\n",
      "WARNING: Illegal reflective access by org.apache.spark.unsafe.Platform (file:/opt/conda/lib/python3.7/site-packages/pyspark/jars/spark-unsafe_2.12-3.2.0.jar) to constructor java.nio.DirectByteBuffer(long,int)\n",
      "WARNING: Please consider reporting this to the maintainers of org.apache.spark.unsafe.Platform\n",
      "WARNING: Use --illegal-access=warn to enable warnings of further illegal reflective access operations\n",
      "WARNING: All illegal access operations will be denied in a future release\n",
      "Using Spark's default log4j profile: org/apache/spark/log4j-defaults.properties\n",
      "Setting default log level to \"WARN\".\n",
      "To adjust logging level use sc.setLogLevel(newLevel). For SparkR, use setLogLevel(newLevel).\n",
      "22/01/14 13:33:00 WARN NativeCodeLoader: Unable to load native-hadoop library for your platform... using builtin-java classes where applicable\n"
     ]
    },
    {
     "name": "stdout",
     "output_type": "stream",
     "text": [
      "You are working with 1 core(s)\n"
     ]
    },
    {
     "data": {
      "text/html": [
       "\n",
       "            <div>\n",
       "                <p><b>SparkSession - in-memory</b></p>\n",
       "                \n",
       "        <div>\n",
       "            <p><b>SparkContext</b></p>\n",
       "\n",
       "            <p><a href=\"http://1288ea33905a:4040\">Spark UI</a></p>\n",
       "\n",
       "            <dl>\n",
       "              <dt>Version</dt>\n",
       "                <dd><code>v3.2.0</code></dd>\n",
       "              <dt>Master</dt>\n",
       "                <dd><code>local[*]</code></dd>\n",
       "              <dt>AppName</dt>\n",
       "                <dd><code>Pyspark_2</code></dd>\n",
       "            </dl>\n",
       "        </div>\n",
       "        \n",
       "            </div>\n",
       "        "
      ],
      "text/plain": [
       "<pyspark.sql.session.SparkSession at 0x7faf5aa6ad50>"
      ]
     },
     "execution_count": 2,
     "metadata": {},
     "output_type": "execute_result"
    }
   ],
   "source": [
    "import numpy as np # linear algebra\n",
    "import pandas as pd # data processing, CSV file I/O (e.g. pd.read_csv)\n",
    "\n",
    "import os\n",
    "import pyspark # only run after findspark.init()\n",
    "from pyspark.sql import SparkSession\n",
    "# May take awhile locally\n",
    "spark = SparkSession.builder.appName(\"Pyspark_2\").getOrCreate()\n",
    "\n",
    "cores = spark._jsc.sc().getExecutorMemoryStatus().keySet().size()\n",
    "print(\"You are working with\", cores, \"core(s)\")\n",
    "spark"
   ]
  },
  {
   "cell_type": "code",
   "execution_count": 3,
   "id": "4ec5008d",
   "metadata": {
    "execution": {
     "iopub.execute_input": "2022-01-14T13:33:03.761989Z",
     "iopub.status.busy": "2022-01-14T13:33:03.760989Z",
     "iopub.status.idle": "2022-01-14T13:33:09.190506Z",
     "shell.execute_reply": "2022-01-14T13:33:09.189512Z",
     "shell.execute_reply.started": "2022-01-14T13:15:27.424868Z"
    },
    "papermill": {
     "duration": 5.597544,
     "end_time": "2022-01-14T13:33:09.190654",
     "exception": false,
     "start_time": "2022-01-14T13:33:03.593110",
     "status": "completed"
    },
    "tags": []
   },
   "outputs": [],
   "source": [
    "path =\"\"\n",
    "\n",
    "# Some csv data\n",
    "wine_quality = spark.read.csv(path+'/kaggle/input/red-wine-quality-cortez-et-al-2009/winequality-red.csv',\n",
    "                          inferSchema=True,header=True)"
   ]
  },
  {
   "cell_type": "code",
   "execution_count": 4,
   "id": "ee26b9ca",
   "metadata": {
    "execution": {
     "iopub.execute_input": "2022-01-14T13:33:09.529116Z",
     "iopub.status.busy": "2022-01-14T13:33:09.528137Z",
     "iopub.status.idle": "2022-01-14T13:33:09.858816Z",
     "shell.execute_reply": "2022-01-14T13:33:09.859302Z",
     "shell.execute_reply.started": "2022-01-14T13:15:33.131128Z"
    },
    "papermill": {
     "duration": 0.503505,
     "end_time": "2022-01-14T13:33:09.859478",
     "exception": false,
     "start_time": "2022-01-14T13:33:09.355973",
     "status": "completed"
    },
    "tags": []
   },
   "outputs": [
    {
     "data": {
      "text/html": [
       "<div>\n",
       "<style scoped>\n",
       "    .dataframe tbody tr th:only-of-type {\n",
       "        vertical-align: middle;\n",
       "    }\n",
       "\n",
       "    .dataframe tbody tr th {\n",
       "        vertical-align: top;\n",
       "    }\n",
       "\n",
       "    .dataframe thead th {\n",
       "        text-align: right;\n",
       "    }\n",
       "</style>\n",
       "<table border=\"1\" class=\"dataframe\">\n",
       "  <thead>\n",
       "    <tr style=\"text-align: right;\">\n",
       "      <th></th>\n",
       "      <th>fixed acidity</th>\n",
       "      <th>volatile acidity</th>\n",
       "      <th>citric acid</th>\n",
       "      <th>residual sugar</th>\n",
       "      <th>chlorides</th>\n",
       "      <th>free sulfur dioxide</th>\n",
       "      <th>total sulfur dioxide</th>\n",
       "      <th>density</th>\n",
       "      <th>pH</th>\n",
       "      <th>sulphates</th>\n",
       "      <th>alcohol</th>\n",
       "      <th>quality</th>\n",
       "    </tr>\n",
       "  </thead>\n",
       "  <tbody>\n",
       "    <tr>\n",
       "      <th>0</th>\n",
       "      <td>7.4</td>\n",
       "      <td>0.70</td>\n",
       "      <td>0.00</td>\n",
       "      <td>1.9</td>\n",
       "      <td>0.076</td>\n",
       "      <td>11.0</td>\n",
       "      <td>34.0</td>\n",
       "      <td>0.9978</td>\n",
       "      <td>3.51</td>\n",
       "      <td>0.56</td>\n",
       "      <td>9.4</td>\n",
       "      <td>5</td>\n",
       "    </tr>\n",
       "    <tr>\n",
       "      <th>1</th>\n",
       "      <td>7.8</td>\n",
       "      <td>0.88</td>\n",
       "      <td>0.00</td>\n",
       "      <td>2.6</td>\n",
       "      <td>0.098</td>\n",
       "      <td>25.0</td>\n",
       "      <td>67.0</td>\n",
       "      <td>0.9968</td>\n",
       "      <td>3.20</td>\n",
       "      <td>0.68</td>\n",
       "      <td>9.8</td>\n",
       "      <td>5</td>\n",
       "    </tr>\n",
       "    <tr>\n",
       "      <th>2</th>\n",
       "      <td>7.8</td>\n",
       "      <td>0.76</td>\n",
       "      <td>0.04</td>\n",
       "      <td>2.3</td>\n",
       "      <td>0.092</td>\n",
       "      <td>15.0</td>\n",
       "      <td>54.0</td>\n",
       "      <td>0.9970</td>\n",
       "      <td>3.26</td>\n",
       "      <td>0.65</td>\n",
       "      <td>9.8</td>\n",
       "      <td>5</td>\n",
       "    </tr>\n",
       "    <tr>\n",
       "      <th>3</th>\n",
       "      <td>11.2</td>\n",
       "      <td>0.28</td>\n",
       "      <td>0.56</td>\n",
       "      <td>1.9</td>\n",
       "      <td>0.075</td>\n",
       "      <td>17.0</td>\n",
       "      <td>60.0</td>\n",
       "      <td>0.9980</td>\n",
       "      <td>3.16</td>\n",
       "      <td>0.58</td>\n",
       "      <td>9.8</td>\n",
       "      <td>6</td>\n",
       "    </tr>\n",
       "    <tr>\n",
       "      <th>4</th>\n",
       "      <td>7.4</td>\n",
       "      <td>0.70</td>\n",
       "      <td>0.00</td>\n",
       "      <td>1.9</td>\n",
       "      <td>0.076</td>\n",
       "      <td>11.0</td>\n",
       "      <td>34.0</td>\n",
       "      <td>0.9978</td>\n",
       "      <td>3.51</td>\n",
       "      <td>0.56</td>\n",
       "      <td>9.4</td>\n",
       "      <td>5</td>\n",
       "    </tr>\n",
       "  </tbody>\n",
       "</table>\n",
       "</div>"
      ],
      "text/plain": [
       "   fixed acidity  volatile acidity  citric acid  residual sugar  chlorides  \\\n",
       "0            7.4              0.70         0.00             1.9      0.076   \n",
       "1            7.8              0.88         0.00             2.6      0.098   \n",
       "2            7.8              0.76         0.04             2.3      0.092   \n",
       "3           11.2              0.28         0.56             1.9      0.075   \n",
       "4            7.4              0.70         0.00             1.9      0.076   \n",
       "\n",
       "   free sulfur dioxide  total sulfur dioxide  density    pH  sulphates  \\\n",
       "0                 11.0                  34.0   0.9978  3.51       0.56   \n",
       "1                 25.0                  67.0   0.9968  3.20       0.68   \n",
       "2                 15.0                  54.0   0.9970  3.26       0.65   \n",
       "3                 17.0                  60.0   0.9980  3.16       0.58   \n",
       "4                 11.0                  34.0   0.9978  3.51       0.56   \n",
       "\n",
       "   alcohol  quality  \n",
       "0      9.4        5  \n",
       "1      9.8        5  \n",
       "2      9.8        5  \n",
       "3      9.8        6  \n",
       "4      9.4        5  "
      ]
     },
     "execution_count": 4,
     "metadata": {},
     "output_type": "execute_result"
    }
   ],
   "source": [
    "wine_quality.limit(5).toPandas()"
   ]
  },
  {
   "cell_type": "code",
   "execution_count": 5,
   "id": "eed6a78c",
   "metadata": {
    "execution": {
     "iopub.execute_input": "2022-01-14T13:33:10.199645Z",
     "iopub.status.busy": "2022-01-14T13:33:10.198986Z",
     "iopub.status.idle": "2022-01-14T13:33:10.205004Z",
     "shell.execute_reply": "2022-01-14T13:33:10.205565Z",
     "shell.execute_reply.started": "2022-01-14T13:15:33.471073Z"
    },
    "papermill": {
     "duration": 0.181615,
     "end_time": "2022-01-14T13:33:10.205732",
     "exception": false,
     "start_time": "2022-01-14T13:33:10.024117",
     "status": "completed"
    },
    "tags": []
   },
   "outputs": [
    {
     "name": "stdout",
     "output_type": "stream",
     "text": [
      "root\n",
      " |-- fixed acidity: double (nullable = true)\n",
      " |-- volatile acidity: double (nullable = true)\n",
      " |-- citric acid: double (nullable = true)\n",
      " |-- residual sugar: double (nullable = true)\n",
      " |-- chlorides: double (nullable = true)\n",
      " |-- free sulfur dioxide: double (nullable = true)\n",
      " |-- total sulfur dioxide: double (nullable = true)\n",
      " |-- density: double (nullable = true)\n",
      " |-- pH: double (nullable = true)\n",
      " |-- sulphates: double (nullable = true)\n",
      " |-- alcohol: double (nullable = true)\n",
      " |-- quality: integer (nullable = true)\n",
      "\n"
     ]
    }
   ],
   "source": [
    "wine_quality.printSchema()"
   ]
  },
  {
   "cell_type": "markdown",
   "id": "6c34c22e",
   "metadata": {
    "papermill": {
     "duration": 0.170462,
     "end_time": "2022-01-14T13:33:10.541111",
     "exception": false,
     "start_time": "2022-01-14T13:33:10.370649",
     "status": "completed"
    },
    "tags": []
   },
   "source": [
    "# Creating New Columns and Features"
   ]
  },
  {
   "cell_type": "markdown",
   "id": "353826e9",
   "metadata": {
    "papermill": {
     "duration": 0.168162,
     "end_time": "2022-01-14T13:33:10.877825",
     "exception": false,
     "start_time": "2022-01-14T13:33:10.709663",
     "status": "completed"
    },
    "tags": []
   },
   "source": [
    "#### Suppose we want to have a feature that is the square of the chlorides feature by the name 'sq_chlorides'. This can be accomplished with the withColumn() method of PySpark DataFrame."
   ]
  },
  {
   "cell_type": "markdown",
   "id": "f9153b83",
   "metadata": {
    "papermill": {
     "duration": 0.170516,
     "end_time": "2022-01-14T13:33:11.217620",
     "exception": false,
     "start_time": "2022-01-14T13:33:11.047104",
     "status": "completed"
    },
    "tags": []
   },
   "source": [
    "With the withColumn() function the first value we pass in is the name of the new column and the second calls on the existing dataframe column name we want to use or any other expression that returns valid value for the new column being generated."
   ]
  },
  {
   "cell_type": "code",
   "execution_count": 6,
   "id": "1bf0d792",
   "metadata": {
    "execution": {
     "iopub.execute_input": "2022-01-14T13:33:11.630159Z",
     "iopub.status.busy": "2022-01-14T13:33:11.629103Z",
     "iopub.status.idle": "2022-01-14T13:33:11.762527Z",
     "shell.execute_reply": "2022-01-14T13:33:11.761820Z",
     "shell.execute_reply.started": "2022-01-14T13:15:33.482540Z"
    },
    "papermill": {
     "duration": 0.34842,
     "end_time": "2022-01-14T13:33:11.762666",
     "exception": false,
     "start_time": "2022-01-14T13:33:11.414246",
     "status": "completed"
    },
    "tags": []
   },
   "outputs": [
    {
     "data": {
      "text/plain": [
       "DataFrame[fixed acidity: double, volatile acidity: double, citric acid: double, residual sugar: double, chlorides: double, free sulfur dioxide: double, total sulfur dioxide: double, density: double, pH: double, sulphates: double, alcohol: double, quality: int, sq_chlorides: double]"
      ]
     },
     "execution_count": 6,
     "metadata": {},
     "output_type": "execute_result"
    }
   ],
   "source": [
    "wine_quality.withColumn(\"sq_chlorides\", wine_quality.chlorides**2)"
   ]
  },
  {
   "cell_type": "code",
   "execution_count": 7,
   "id": "a73071a0",
   "metadata": {
    "execution": {
     "iopub.execute_input": "2022-01-14T13:33:12.112546Z",
     "iopub.status.busy": "2022-01-14T13:33:12.111900Z",
     "iopub.status.idle": "2022-01-14T13:33:13.832733Z",
     "shell.execute_reply": "2022-01-14T13:33:13.833454Z",
     "shell.execute_reply.started": "2022-01-14T13:15:33.590676Z"
    },
    "papermill": {
     "duration": 1.902406,
     "end_time": "2022-01-14T13:33:13.833672",
     "exception": false,
     "start_time": "2022-01-14T13:33:11.931266",
     "status": "completed"
    },
    "tags": []
   },
   "outputs": [
    {
     "name": "stdout",
     "output_type": "stream",
     "text": [
      "19.9 ms ± 4.9 ms per loop (mean ± std. dev. of 7 runs, 10 loops each)\n"
     ]
    }
   ],
   "source": [
    "%%timeit\n",
    "wine_quality_v1 = wine_quality.withColumn(\"sq_chlorides\", wine_quality.chlorides**2)"
   ]
  },
  {
   "cell_type": "code",
   "execution_count": 8,
   "id": "7647793e",
   "metadata": {
    "execution": {
     "iopub.execute_input": "2022-01-14T13:33:14.186662Z",
     "iopub.status.busy": "2022-01-14T13:33:14.185932Z",
     "iopub.status.idle": "2022-01-14T13:33:14.333505Z",
     "shell.execute_reply": "2022-01-14T13:33:14.334069Z",
     "shell.execute_reply.started": "2022-01-14T13:15:35.263962Z"
    },
    "papermill": {
     "duration": 0.330064,
     "end_time": "2022-01-14T13:33:14.334233",
     "exception": false,
     "start_time": "2022-01-14T13:33:14.004169",
     "status": "completed"
    },
    "tags": []
   },
   "outputs": [
    {
     "data": {
      "text/html": [
       "<div>\n",
       "<style scoped>\n",
       "    .dataframe tbody tr th:only-of-type {\n",
       "        vertical-align: middle;\n",
       "    }\n",
       "\n",
       "    .dataframe tbody tr th {\n",
       "        vertical-align: top;\n",
       "    }\n",
       "\n",
       "    .dataframe thead th {\n",
       "        text-align: right;\n",
       "    }\n",
       "</style>\n",
       "<table border=\"1\" class=\"dataframe\">\n",
       "  <thead>\n",
       "    <tr style=\"text-align: right;\">\n",
       "      <th></th>\n",
       "      <th>fixed acidity</th>\n",
       "      <th>volatile acidity</th>\n",
       "      <th>citric acid</th>\n",
       "      <th>residual sugar</th>\n",
       "      <th>chlorides</th>\n",
       "      <th>free sulfur dioxide</th>\n",
       "      <th>total sulfur dioxide</th>\n",
       "      <th>density</th>\n",
       "      <th>pH</th>\n",
       "      <th>sulphates</th>\n",
       "      <th>alcohol</th>\n",
       "      <th>quality</th>\n",
       "    </tr>\n",
       "  </thead>\n",
       "  <tbody>\n",
       "    <tr>\n",
       "      <th>0</th>\n",
       "      <td>7.4</td>\n",
       "      <td>0.70</td>\n",
       "      <td>0.00</td>\n",
       "      <td>1.9</td>\n",
       "      <td>0.076</td>\n",
       "      <td>11.0</td>\n",
       "      <td>34.0</td>\n",
       "      <td>0.9978</td>\n",
       "      <td>3.51</td>\n",
       "      <td>0.56</td>\n",
       "      <td>9.4</td>\n",
       "      <td>5</td>\n",
       "    </tr>\n",
       "    <tr>\n",
       "      <th>1</th>\n",
       "      <td>7.8</td>\n",
       "      <td>0.88</td>\n",
       "      <td>0.00</td>\n",
       "      <td>2.6</td>\n",
       "      <td>0.098</td>\n",
       "      <td>25.0</td>\n",
       "      <td>67.0</td>\n",
       "      <td>0.9968</td>\n",
       "      <td>3.20</td>\n",
       "      <td>0.68</td>\n",
       "      <td>9.8</td>\n",
       "      <td>5</td>\n",
       "    </tr>\n",
       "    <tr>\n",
       "      <th>2</th>\n",
       "      <td>7.8</td>\n",
       "      <td>0.76</td>\n",
       "      <td>0.04</td>\n",
       "      <td>2.3</td>\n",
       "      <td>0.092</td>\n",
       "      <td>15.0</td>\n",
       "      <td>54.0</td>\n",
       "      <td>0.9970</td>\n",
       "      <td>3.26</td>\n",
       "      <td>0.65</td>\n",
       "      <td>9.8</td>\n",
       "      <td>5</td>\n",
       "    </tr>\n",
       "    <tr>\n",
       "      <th>3</th>\n",
       "      <td>11.2</td>\n",
       "      <td>0.28</td>\n",
       "      <td>0.56</td>\n",
       "      <td>1.9</td>\n",
       "      <td>0.075</td>\n",
       "      <td>17.0</td>\n",
       "      <td>60.0</td>\n",
       "      <td>0.9980</td>\n",
       "      <td>3.16</td>\n",
       "      <td>0.58</td>\n",
       "      <td>9.8</td>\n",
       "      <td>6</td>\n",
       "    </tr>\n",
       "    <tr>\n",
       "      <th>4</th>\n",
       "      <td>7.4</td>\n",
       "      <td>0.70</td>\n",
       "      <td>0.00</td>\n",
       "      <td>1.9</td>\n",
       "      <td>0.076</td>\n",
       "      <td>11.0</td>\n",
       "      <td>34.0</td>\n",
       "      <td>0.9978</td>\n",
       "      <td>3.51</td>\n",
       "      <td>0.56</td>\n",
       "      <td>9.4</td>\n",
       "      <td>5</td>\n",
       "    </tr>\n",
       "  </tbody>\n",
       "</table>\n",
       "</div>"
      ],
      "text/plain": [
       "   fixed acidity  volatile acidity  citric acid  residual sugar  chlorides  \\\n",
       "0            7.4              0.70         0.00             1.9      0.076   \n",
       "1            7.8              0.88         0.00             2.6      0.098   \n",
       "2            7.8              0.76         0.04             2.3      0.092   \n",
       "3           11.2              0.28         0.56             1.9      0.075   \n",
       "4            7.4              0.70         0.00             1.9      0.076   \n",
       "\n",
       "   free sulfur dioxide  total sulfur dioxide  density    pH  sulphates  \\\n",
       "0                 11.0                  34.0   0.9978  3.51       0.56   \n",
       "1                 25.0                  67.0   0.9968  3.20       0.68   \n",
       "2                 15.0                  54.0   0.9970  3.26       0.65   \n",
       "3                 17.0                  60.0   0.9980  3.16       0.58   \n",
       "4                 11.0                  34.0   0.9978  3.51       0.56   \n",
       "\n",
       "   alcohol  quality  \n",
       "0      9.4        5  \n",
       "1      9.8        5  \n",
       "2      9.8        5  \n",
       "3      9.8        6  \n",
       "4      9.4        5  "
      ]
     },
     "execution_count": 8,
     "metadata": {},
     "output_type": "execute_result"
    }
   ],
   "source": [
    "wine_quality.limit(5).toPandas()"
   ]
  },
  {
   "cell_type": "markdown",
   "id": "6948ef54",
   "metadata": {
    "papermill": {
     "duration": 0.313651,
     "end_time": "2022-01-14T13:33:14.822779",
     "exception": false,
     "start_time": "2022-01-14T13:33:14.509128",
     "status": "completed"
    },
    "tags": []
   },
   "source": [
    "We can see the new column got created and also the amount of time it took for the whole operation however there's a very interesting possibility of modification in the way we just created this feature. Let's check that out."
   ]
  },
  {
   "cell_type": "markdown",
   "id": "84d81bb3",
   "metadata": {
    "papermill": {
     "duration": 0.178804,
     "end_time": "2022-01-14T13:33:15.169322",
     "exception": false,
     "start_time": "2022-01-14T13:33:14.990518",
     "status": "completed"
    },
    "tags": []
   },
   "source": [
    "# User Defined Functions"
   ]
  },
  {
   "cell_type": "markdown",
   "id": "9f1b99b9",
   "metadata": {
    "papermill": {
     "duration": 0.166551,
     "end_time": "2022-01-14T13:33:15.503830",
     "exception": false,
     "start_time": "2022-01-14T13:33:15.337279",
     "status": "completed"
    },
    "tags": []
   },
   "source": [
    "Spark get its great advantage from the idea of operating on distributed workers/executors that execute a subset of the bigger task and the final results are combined to form the final outcome.\n",
    "\n",
    "When working on operations in DataFrames on PySpark if we define a function in the traditional Pythonic manner the function would still execute and the output would be the same. However the time taken for the execution of the operation would be much more than what we would expect from a map and reduce framework based engine. \n",
    "\n",
    "Therefore to still be able to leverage the fast execution offered by Spark we need to create what are called User Defined Functions in PySpark."
   ]
  },
  {
   "cell_type": "code",
   "execution_count": 9,
   "id": "8eda820c",
   "metadata": {
    "execution": {
     "iopub.execute_input": "2022-01-14T13:33:15.848222Z",
     "iopub.status.busy": "2022-01-14T13:33:15.847615Z",
     "iopub.status.idle": "2022-01-14T13:33:15.852282Z",
     "shell.execute_reply": "2022-01-14T13:33:15.851677Z",
     "shell.execute_reply.started": "2022-01-14T13:15:35.430733Z"
    },
    "papermill": {
     "duration": 0.179702,
     "end_time": "2022-01-14T13:33:15.852433",
     "exception": false,
     "start_time": "2022-01-14T13:33:15.672731",
     "status": "completed"
    },
    "tags": []
   },
   "outputs": [],
   "source": [
    "from pyspark.sql.functions import udf\n",
    "from pyspark.sql.types import IntegerType\n",
    "\n",
    "def square(x):\n",
    "    return int(x**2)\n",
    "square_udf = udf(lambda z: square(z), IntegerType())"
   ]
  },
  {
   "cell_type": "code",
   "execution_count": 10,
   "id": "95253c21",
   "metadata": {
    "execution": {
     "iopub.execute_input": "2022-01-14T13:33:16.195166Z",
     "iopub.status.busy": "2022-01-14T13:33:16.194117Z",
     "iopub.status.idle": "2022-01-14T13:33:20.607833Z",
     "shell.execute_reply": "2022-01-14T13:33:20.608596Z",
     "shell.execute_reply.started": "2022-01-14T13:15:35.445236Z"
    },
    "papermill": {
     "duration": 4.586876,
     "end_time": "2022-01-14T13:33:20.608823",
     "exception": false,
     "start_time": "2022-01-14T13:33:16.021947",
     "status": "completed"
    },
    "tags": []
   },
   "outputs": [
    {
     "name": "stdout",
     "output_type": "stream",
     "text": [
      "4.8 ms ± 1.05 ms per loop (mean ± std. dev. of 7 runs, 100 loops each)\n"
     ]
    }
   ],
   "source": [
    "%%timeit\n",
    "wine_quality.withColumn(\"fast_sq_chlorides\", square_udf(wine_quality.chlorides))"
   ]
  },
  {
   "cell_type": "markdown",
   "id": "cba01416",
   "metadata": {
    "papermill": {
     "duration": 0.164015,
     "end_time": "2022-01-14T13:33:20.944393",
     "exception": false,
     "start_time": "2022-01-14T13:33:20.780378",
     "status": "completed"
    },
    "tags": []
   },
   "source": [
    "#### We can see with the notebook magic function timeit that even with a single core Spark's UDFs are much faster."
   ]
  },
  {
   "cell_type": "markdown",
   "id": "0b711bc1",
   "metadata": {
    "execution": {
     "iopub.execute_input": "2022-01-07T14:19:27.501912Z",
     "iopub.status.busy": "2022-01-07T14:19:27.501528Z",
     "iopub.status.idle": "2022-01-07T14:19:27.514117Z",
     "shell.execute_reply": "2022-01-07T14:19:27.513025Z",
     "shell.execute_reply.started": "2022-01-07T14:19:27.501874Z"
    },
    "papermill": {
     "duration": 0.191171,
     "end_time": "2022-01-14T13:33:21.301802",
     "exception": false,
     "start_time": "2022-01-14T13:33:21.110631",
     "status": "completed"
    },
    "tags": []
   },
   "source": [
    "\n",
    "# Changing data types after read in\n",
    "In the last notebook we had covered reading a data source in the specific format that we'd like to see it in.\n",
    "\n",
    "Now we consider the situation were we need to change the data type of a specific column after the data source has already been read.\n",
    "\n",
    "#### Available types:\n",
    "    - DataType\n",
    "    - NullType\n",
    "    - StringType\n",
    "    - BinaryType\n",
    "    - BooleanType\n",
    "    - DateType\n",
    "    - TimestampType\n",
    "    - DecimalType\n",
    "    - DoubleType\n",
    "    - FloatType\n",
    "    - ByteType\n",
    "    - IntegerType\n",
    "    - LongType\n",
    "    - ShortType\n",
    "    - ArrayType\n",
    "    - MapType\n",
    "    - StructField\n",
    "    - StructType\n",
    "    "
   ]
  },
  {
   "cell_type": "code",
   "execution_count": 11,
   "id": "c9aecf72",
   "metadata": {
    "execution": {
     "iopub.execute_input": "2022-01-14T13:33:21.685759Z",
     "iopub.status.busy": "2022-01-14T13:33:21.684801Z",
     "iopub.status.idle": "2022-01-14T13:33:21.703878Z",
     "shell.execute_reply": "2022-01-14T13:33:21.704369Z",
     "shell.execute_reply.started": "2022-01-14T13:15:40.033090Z"
    },
    "papermill": {
     "duration": 0.21214,
     "end_time": "2022-01-14T13:33:21.704534",
     "exception": false,
     "start_time": "2022-01-14T13:33:21.492394",
     "status": "completed"
    },
    "tags": []
   },
   "outputs": [
    {
     "name": "stdout",
     "output_type": "stream",
     "text": [
      "root\n",
      " |-- fixed acidity: double (nullable = true)\n",
      " |-- volatile acidity: double (nullable = true)\n",
      " |-- citric acid: double (nullable = true)\n",
      " |-- residual sugar: double (nullable = true)\n",
      " |-- chlorides: double (nullable = true)\n",
      " |-- free sulfur dioxide: double (nullable = true)\n",
      " |-- total sulfur dioxide: double (nullable = true)\n",
      " |-- density: integer (nullable = true)\n",
      " |-- pH: double (nullable = true)\n",
      " |-- sulphates: double (nullable = true)\n",
      " |-- alcohol: double (nullable = true)\n",
      " |-- quality: double (nullable = true)\n",
      "\n",
      "None\n"
     ]
    }
   ],
   "source": [
    "from pyspark.sql.functions import * \n",
    "from pyspark.sql.types import * # IntegerType\n",
    "\n",
    "df = wine_quality.withColumn(\"quality\", wine_quality[\"quality\"].cast(DoubleType())) \\\n",
    "        .withColumn(\"density\", wine_quality[\"density\"].cast(IntegerType())) \n",
    "        \n",
    "print(df.printSchema())\n"
   ]
  },
  {
   "cell_type": "markdown",
   "id": "70896b91",
   "metadata": {
    "papermill": {
     "duration": 0.170615,
     "end_time": "2022-01-14T13:33:22.045278",
     "exception": false,
     "start_time": "2022-01-14T13:33:21.874663",
     "status": "completed"
    },
    "tags": []
   },
   "source": [
    "We can see the schema of the DataFrame called df contains datatypes that we have defined by casting for the two columns. The important method to focus on here is the cast() method which can be called on a column of the dataframe and takes in datatype input available in pyspark.sql.types."
   ]
  },
  {
   "cell_type": "markdown",
   "id": "188a522b",
   "metadata": {
    "papermill": {
     "duration": 0.167592,
     "end_time": "2022-01-14T13:33:22.379990",
     "exception": false,
     "start_time": "2022-01-14T13:33:22.212398",
     "status": "completed"
    },
    "tags": []
   },
   "source": [
    "# Renaming Columns"
   ]
  },
  {
   "cell_type": "markdown",
   "id": "45fd3788",
   "metadata": {
    "papermill": {
     "duration": 0.1679,
     "end_time": "2022-01-14T13:33:22.714236",
     "exception": false,
     "start_time": "2022-01-14T13:33:22.546336",
     "status": "completed"
    },
    "tags": []
   },
   "source": [
    "The withColumnRenamed() method takes the old column name as the first argument and the new column name as the second argument in the call. It returns a new DataFrame with the updates."
   ]
  },
  {
   "cell_type": "code",
   "execution_count": 12,
   "id": "be808fb4",
   "metadata": {
    "execution": {
     "iopub.execute_input": "2022-01-14T13:33:23.055091Z",
     "iopub.status.busy": "2022-01-14T13:33:23.053989Z",
     "iopub.status.idle": "2022-01-14T13:33:23.068070Z",
     "shell.execute_reply": "2022-01-14T13:33:23.068819Z",
     "shell.execute_reply.started": "2022-01-14T13:15:40.056537Z"
    },
    "papermill": {
     "duration": 0.186966,
     "end_time": "2022-01-14T13:33:23.069081",
     "exception": false,
     "start_time": "2022-01-14T13:33:22.882115",
     "status": "completed"
    },
    "tags": []
   },
   "outputs": [
    {
     "data": {
      "text/plain": [
       "DataFrame[fixed acidity: double, volatile acidity: double, citric acid: double, residual sugar: double, chlorides: double, free sulfur dioxide: double, total sulfur dioxide: double, density_new_name: int, pH: double, sulphates: double, alcohol: double, quality: double]"
      ]
     },
     "execution_count": 12,
     "metadata": {},
     "output_type": "execute_result"
    }
   ],
   "source": [
    "df.withColumnRenamed('density','density_new_name')"
   ]
  },
  {
   "cell_type": "markdown",
   "id": "86ea7e97",
   "metadata": {
    "papermill": {
     "duration": 0.168936,
     "end_time": "2022-01-14T13:33:23.409009",
     "exception": false,
     "start_time": "2022-01-14T13:33:23.240073",
     "status": "completed"
    },
    "tags": []
   },
   "source": [
    "# Dropping a Column"
   ]
  },
  {
   "cell_type": "markdown",
   "id": "f16b0264",
   "metadata": {
    "papermill": {
     "duration": 0.16551,
     "end_time": "2022-01-14T13:33:23.740261",
     "exception": false,
     "start_time": "2022-01-14T13:33:23.574751",
     "status": "completed"
    },
    "tags": []
   },
   "source": [
    "This method returns a new DataFrame with the remaining columns."
   ]
  },
  {
   "cell_type": "code",
   "execution_count": 13,
   "id": "33dd0b2e",
   "metadata": {
    "execution": {
     "iopub.execute_input": "2022-01-14T13:33:24.074703Z",
     "iopub.status.busy": "2022-01-14T13:33:24.073746Z",
     "iopub.status.idle": "2022-01-14T13:33:24.084166Z",
     "shell.execute_reply": "2022-01-14T13:33:24.084627Z",
     "shell.execute_reply.started": "2022-01-14T13:15:40.197493Z"
    },
    "papermill": {
     "duration": 0.179721,
     "end_time": "2022-01-14T13:33:24.084785",
     "exception": false,
     "start_time": "2022-01-14T13:33:23.905064",
     "status": "completed"
    },
    "tags": []
   },
   "outputs": [
    {
     "data": {
      "text/plain": [
       "DataFrame[fixed acidity: double, volatile acidity: double, citric acid: double, residual sugar: double, chlorides: double, free sulfur dioxide: double, total sulfur dioxide: double, density: int, pH: double, sulphates: double, alcohol: double]"
      ]
     },
     "execution_count": 13,
     "metadata": {},
     "output_type": "execute_result"
    }
   ],
   "source": [
    "df.drop(\"quality\")"
   ]
  },
  {
   "cell_type": "markdown",
   "id": "bbf95b12",
   "metadata": {
    "papermill": {
     "duration": 0.165507,
     "end_time": "2022-01-14T13:33:24.415955",
     "exception": false,
     "start_time": "2022-01-14T13:33:24.250448",
     "status": "completed"
    },
    "tags": []
   },
   "source": [
    "# Data Manipulation Methods"
   ]
  },
  {
   "cell_type": "code",
   "execution_count": 14,
   "id": "575c1b4d",
   "metadata": {
    "execution": {
     "iopub.execute_input": "2022-01-14T13:33:24.754738Z",
     "iopub.status.busy": "2022-01-14T13:33:24.753702Z",
     "iopub.status.idle": "2022-01-14T13:33:24.794709Z",
     "shell.execute_reply": "2022-01-14T13:33:24.793695Z",
     "shell.execute_reply.started": "2022-01-14T13:15:40.213796Z"
    },
    "papermill": {
     "duration": 0.213478,
     "end_time": "2022-01-14T13:33:24.794876",
     "exception": false,
     "start_time": "2022-01-14T13:33:24.581398",
     "status": "completed"
    },
    "tags": []
   },
   "outputs": [],
   "source": [
    "# Adding a text column to run some text manipulation functions on.\n",
    "df1 = df.withColumn(\"text_col\", lit(\"    TEST TEXT   \"))"
   ]
  },
  {
   "cell_type": "markdown",
   "id": "b626f7b7",
   "metadata": {
    "execution": {
     "iopub.execute_input": "2022-01-08T09:39:38.132717Z",
     "iopub.status.busy": "2022-01-08T09:39:38.13169Z",
     "iopub.status.idle": "2022-01-08T09:39:38.139826Z",
     "shell.execute_reply": "2022-01-08T09:39:38.138615Z",
     "shell.execute_reply.started": "2022-01-08T09:39:38.132666Z"
    },
    "papermill": {
     "duration": 0.170429,
     "end_time": "2022-01-14T13:33:25.131375",
     "exception": false,
     "start_time": "2022-01-14T13:33:24.960946",
     "status": "completed"
    },
    "tags": []
   },
   "source": [
    "**Trim**\n",
    "\n",
    "The \"trim\" function removes leading and trailing white space from a cell."
   ]
  },
  {
   "cell_type": "code",
   "execution_count": 15,
   "id": "754c6b24",
   "metadata": {
    "execution": {
     "iopub.execute_input": "2022-01-14T13:33:25.471526Z",
     "iopub.status.busy": "2022-01-14T13:33:25.470499Z",
     "iopub.status.idle": "2022-01-14T13:33:25.708401Z",
     "shell.execute_reply": "2022-01-14T13:33:25.707453Z",
     "shell.execute_reply.started": "2022-01-14T13:15:40.272551Z"
    },
    "papermill": {
     "duration": 0.410483,
     "end_time": "2022-01-14T13:33:25.708607",
     "exception": false,
     "start_time": "2022-01-14T13:33:25.298124",
     "status": "completed"
    },
    "tags": []
   },
   "outputs": [
    {
     "name": "stdout",
     "output_type": "stream",
     "text": [
      "+----------------+\n",
      "|text_col        |\n",
      "+----------------+\n",
      "|    TEST TEXT   |\n",
      "|    TEST TEXT   |\n",
      "|    TEST TEXT   |\n",
      "|    TEST TEXT   |\n",
      "|    TEST TEXT   |\n",
      "+----------------+\n",
      "only showing top 5 rows\n",
      "\n"
     ]
    }
   ],
   "source": [
    "df1 = df.withColumn(\"text_col\", lit(\"    TEST TEXT   \"))\n",
    "df1.select(\"text_col\").show(5,False)"
   ]
  },
  {
   "cell_type": "code",
   "execution_count": 16,
   "id": "45e93887",
   "metadata": {
    "execution": {
     "iopub.execute_input": "2022-01-14T13:33:26.216746Z",
     "iopub.status.busy": "2022-01-14T13:33:26.216097Z",
     "iopub.status.idle": "2022-01-14T13:33:26.338478Z",
     "shell.execute_reply": "2022-01-14T13:33:26.337786Z",
     "shell.execute_reply.started": "2022-01-14T13:15:40.574406Z"
    },
    "papermill": {
     "duration": 0.412002,
     "end_time": "2022-01-14T13:33:26.338617",
     "exception": false,
     "start_time": "2022-01-14T13:33:25.926615",
     "status": "completed"
    },
    "tags": []
   },
   "outputs": [
    {
     "name": "stdout",
     "output_type": "stream",
     "text": [
      "+---------+\n",
      "|text_col |\n",
      "+---------+\n",
      "|TEST TEXT|\n",
      "|TEST TEXT|\n",
      "|TEST TEXT|\n",
      "|TEST TEXT|\n",
      "|TEST TEXT|\n",
      "+---------+\n",
      "only showing top 5 rows\n",
      "\n"
     ]
    }
   ],
   "source": [
    "df = df1.withColumn('text_col',trim(df1.text_col)) \n",
    "df.select(\"text_col\").show(5,False)"
   ]
  },
  {
   "cell_type": "markdown",
   "id": "293c4b3d",
   "metadata": {
    "papermill": {
     "duration": 0.168597,
     "end_time": "2022-01-14T13:33:26.680999",
     "exception": false,
     "start_time": "2022-01-14T13:33:26.512402",
     "status": "completed"
    },
    "tags": []
   },
   "source": [
    "**Lower**\n",
    "\n",
    " Lower casing all values in a string."
   ]
  },
  {
   "cell_type": "code",
   "execution_count": 17,
   "id": "7905c476",
   "metadata": {
    "execution": {
     "iopub.execute_input": "2022-01-14T13:33:27.024008Z",
     "iopub.status.busy": "2022-01-14T13:33:27.022950Z",
     "iopub.status.idle": "2022-01-14T13:33:27.147847Z",
     "shell.execute_reply": "2022-01-14T13:33:27.148511Z",
     "shell.execute_reply.started": "2022-01-14T13:15:40.734957Z"
    },
    "papermill": {
     "duration": 0.298291,
     "end_time": "2022-01-14T13:33:27.148753",
     "exception": false,
     "start_time": "2022-01-14T13:33:26.850462",
     "status": "completed"
    },
    "tags": []
   },
   "outputs": [
    {
     "name": "stdout",
     "output_type": "stream",
     "text": [
      "+---------+\n",
      "|text_col |\n",
      "+---------+\n",
      "|test text|\n",
      "|test text|\n",
      "|test text|\n",
      "|test text|\n",
      "|test text|\n",
      "+---------+\n",
      "only showing top 5 rows\n",
      "\n"
     ]
    }
   ],
   "source": [
    "df1 = df.withColumn('text_col',lower(df.text_col)) \n",
    "df1.select(\"text_col\").show(5,False)"
   ]
  },
  {
   "cell_type": "markdown",
   "id": "1000acae",
   "metadata": {
    "papermill": {
     "duration": 0.183809,
     "end_time": "2022-01-14T13:33:27.527009",
     "exception": false,
     "start_time": "2022-01-14T13:33:27.343200",
     "status": "completed"
    },
    "tags": []
   },
   "source": [
    "**Split a string around a pattern**"
   ]
  },
  {
   "cell_type": "code",
   "execution_count": 18,
   "id": "e964dd1d",
   "metadata": {
    "execution": {
     "iopub.execute_input": "2022-01-14T13:33:27.877196Z",
     "iopub.status.busy": "2022-01-14T13:33:27.876208Z",
     "iopub.status.idle": "2022-01-14T13:33:27.981552Z",
     "shell.execute_reply": "2022-01-14T13:33:27.980390Z",
     "shell.execute_reply.started": "2022-01-14T13:15:40.868728Z"
    },
    "papermill": {
     "duration": 0.28203,
     "end_time": "2022-01-14T13:33:27.981789",
     "exception": false,
     "start_time": "2022-01-14T13:33:27.699759",
     "status": "completed"
    },
    "tags": []
   },
   "outputs": [
    {
     "name": "stdout",
     "output_type": "stream",
     "text": [
      "+--------------+\n",
      "|split_text_col|\n",
      "+--------------+\n",
      "|[test, text]  |\n",
      "+--------------+\n",
      "only showing top 1 row\n",
      "\n"
     ]
    }
   ],
   "source": [
    "df1.select(split(df1.text_col, ' ').alias('split_text_col')).show(1,False)"
   ]
  },
  {
   "cell_type": "markdown",
   "id": "f938ab7f",
   "metadata": {
    "papermill": {
     "duration": 0.170325,
     "end_time": "2022-01-14T13:33:28.371444",
     "exception": false,
     "start_time": "2022-01-14T13:33:28.201119",
     "status": "completed"
    },
    "tags": []
   },
   "source": [
    "**Regex to replace text**\n"
   ]
  },
  {
   "cell_type": "code",
   "execution_count": 19,
   "id": "cb71d92f",
   "metadata": {
    "execution": {
     "iopub.execute_input": "2022-01-14T13:33:28.726191Z",
     "iopub.status.busy": "2022-01-14T13:33:28.725190Z",
     "iopub.status.idle": "2022-01-14T13:33:28.953707Z",
     "shell.execute_reply": "2022-01-14T13:33:28.952808Z",
     "shell.execute_reply.started": "2022-01-14T13:15:41.049334Z"
    },
    "papermill": {
     "duration": 0.402111,
     "end_time": "2022-01-14T13:33:28.953983",
     "exception": false,
     "start_time": "2022-01-14T13:33:28.551872",
     "status": "completed"
    },
    "tags": []
   },
   "outputs": [
    {
     "name": "stdout",
     "output_type": "stream",
     "text": [
      "+---------+-------------------+\n",
      "|text_col |regex_replaced_text|\n",
      "+---------+-------------------+\n",
      "|test text|replaced text      |\n",
      "+---------+-------------------+\n",
      "only showing top 1 row\n",
      "\n"
     ]
    }
   ],
   "source": [
    "df1.select('text_col',regexp_replace(df1.text_col, 'test', 'replaced').alias('regex_replaced_text')).show(1, False)"
   ]
  },
  {
   "cell_type": "markdown",
   "id": "b11e8e22",
   "metadata": {
    "papermill": {
     "duration": 0.170772,
     "end_time": "2022-01-14T13:33:29.370598",
     "exception": false,
     "start_time": "2022-01-14T13:33:29.199826",
     "status": "completed"
    },
    "tags": []
   },
   "source": [
    "# Condition Based Feature Creation"
   ]
  },
  {
   "cell_type": "code",
   "execution_count": 20,
   "id": "a828d362",
   "metadata": {
    "execution": {
     "iopub.execute_input": "2022-01-14T13:33:29.716794Z",
     "iopub.status.busy": "2022-01-14T13:33:29.716149Z",
     "iopub.status.idle": "2022-01-14T13:33:30.588674Z",
     "shell.execute_reply": "2022-01-14T13:33:30.587159Z",
     "shell.execute_reply.started": "2022-01-14T13:15:41.345479Z"
    },
    "papermill": {
     "duration": 1.048481,
     "end_time": "2022-01-14T13:33:30.588992",
     "exception": false,
     "start_time": "2022-01-14T13:33:29.540511",
     "status": "completed"
    },
    "tags": []
   },
   "outputs": [
    {
     "name": "stdout",
     "output_type": "stream",
     "text": [
      "Option#1: select or withColumn() using when-otherwise without Otherwise condition\n",
      "+---+----------------+\n",
      "| pH|Acidity Category|\n",
      "+---+----------------+\n",
      "|  0|              35|\n",
      "+---+----------------+\n",
      "\n"
     ]
    }
   ],
   "source": [
    "print(\"Option#1: select or withColumn() using when-otherwise without Otherwise condition\")\n",
    "from pyspark.sql.functions import when\n",
    "df_subset = df.select(\"pH\",(when(df.pH > 3, 'Good')).alias(\"Acidity Category\"))\n",
    "\n",
    "df_subset.select([count(when(col(c).contains('None') | \\\n",
    "                            col(c).contains('NULL') | \\\n",
    "                            (col(c) == '' ) | \\\n",
    "                            col(c).isNull() | \\\n",
    "                            isnan(c), c \n",
    "                           )).alias(c)\n",
    "                    for c in df_subset.columns]).show()"
   ]
  },
  {
   "cell_type": "code",
   "execution_count": 21,
   "id": "9617a951",
   "metadata": {
    "execution": {
     "iopub.execute_input": "2022-01-14T13:33:30.946723Z",
     "iopub.status.busy": "2022-01-14T13:33:30.945727Z",
     "iopub.status.idle": "2022-01-14T13:33:31.325238Z",
     "shell.execute_reply": "2022-01-14T13:33:31.326770Z",
     "shell.execute_reply.started": "2022-01-14T13:15:42.317954Z"
    },
    "papermill": {
     "duration": 0.560268,
     "end_time": "2022-01-14T13:33:31.327208",
     "exception": false,
     "start_time": "2022-01-14T13:33:30.766940",
     "status": "completed"
    },
    "tags": []
   },
   "outputs": [
    {
     "name": "stdout",
     "output_type": "stream",
     "text": [
      "Option#1: select or withColumn() using when-otherwise with Otherwise condition\n",
      "+---+----------------+\n",
      "| pH|Acidity Category|\n",
      "+---+----------------+\n",
      "|  0|               0|\n",
      "+---+----------------+\n",
      "\n"
     ]
    }
   ],
   "source": [
    "print(\"Option#1: select or withColumn() using when-otherwise with Otherwise condition\")\n",
    "\n",
    "df_subset_2 = df.select(\"pH\",(when(df.pH >= 3.0, 'Good').otherwise('Bad')).alias(\"Acidity Category\"))\n",
    "\n",
    "df_subset_2.select([count(when(col(c).contains('None') | \\\n",
    "                            col(c).contains('NULL') | \\\n",
    "                            (col(c) == '' ) | \\\n",
    "                            col(c).isNull() | \\\n",
    "                            isnan(c), c \n",
    "                           )).alias(c)\n",
    "                    for c in df_subset_2.columns]).show()"
   ]
  },
  {
   "cell_type": "code",
   "execution_count": 22,
   "id": "ca90300a",
   "metadata": {
    "execution": {
     "iopub.execute_input": "2022-01-14T13:33:31.702572Z",
     "iopub.status.busy": "2022-01-14T13:33:31.701849Z",
     "iopub.status.idle": "2022-01-14T13:33:31.971399Z",
     "shell.execute_reply": "2022-01-14T13:33:31.970356Z",
     "shell.execute_reply.started": "2022-01-14T13:15:42.726659Z"
    },
    "papermill": {
     "duration": 0.447127,
     "end_time": "2022-01-14T13:33:31.971626",
     "exception": false,
     "start_time": "2022-01-14T13:33:31.524499",
     "status": "completed"
    },
    "tags": []
   },
   "outputs": [
    {
     "name": "stdout",
     "output_type": "stream",
     "text": [
      "Option2: select or withColumn() using expr function\n",
      "+----+----------------+\n",
      "|  pH|Acidity Category|\n",
      "+----+----------------+\n",
      "|3.51|            Good|\n",
      "| 3.2|            Good|\n",
      "|3.26|            Good|\n",
      "+----+----------------+\n",
      "only showing top 3 rows\n",
      "\n"
     ]
    }
   ],
   "source": [
    "print(\"Option2: select or withColumn() using expr function\")\n",
    "from pyspark.sql.functions import expr \n",
    "df.select(\"pH\",expr(\"CASE WHEN pH >= 3.0 THEN 'Good' ELSE 'Bad' END\").alias('Acidity Category')).show(3)"
   ]
  },
  {
   "cell_type": "code",
   "execution_count": 23,
   "id": "65d86704",
   "metadata": {
    "execution": {
     "iopub.execute_input": "2022-01-14T13:33:32.471746Z",
     "iopub.status.busy": "2022-01-14T13:33:32.470893Z",
     "iopub.status.idle": "2022-01-14T13:33:32.609403Z",
     "shell.execute_reply": "2022-01-14T13:33:32.610536Z",
     "shell.execute_reply.started": "2022-01-14T13:15:43.052302Z"
    },
    "papermill": {
     "duration": 0.316709,
     "end_time": "2022-01-14T13:33:32.610835",
     "exception": false,
     "start_time": "2022-01-14T13:33:32.294126",
     "status": "completed"
    },
    "tags": []
   },
   "outputs": [
    {
     "name": "stdout",
     "output_type": "stream",
     "text": [
      "Option 3: selectExpr() using SQL equivalent CASE expression\n",
      "+----+----------------+\n",
      "|  pH|Acidity_Category|\n",
      "+----+----------------+\n",
      "|3.51|            Good|\n",
      "| 3.2|            Good|\n",
      "|3.26|            Good|\n",
      "+----+----------------+\n",
      "only showing top 3 rows\n",
      "\n"
     ]
    }
   ],
   "source": [
    "print(\"Option 3: selectExpr() using SQL equivalent CASE expression\")\n",
    "df.selectExpr(\"pH\",\"CASE WHEN pH >= 3.0 THEN  'Good' ELSE 'Bad' END AS Acidity_Category\").show(3)"
   ]
  },
  {
   "cell_type": "markdown",
   "id": "d9a586bd",
   "metadata": {
    "papermill": {
     "duration": 0.271141,
     "end_time": "2022-01-14T13:33:33.177916",
     "exception": false,
     "start_time": "2022-01-14T13:33:32.906775",
     "status": "completed"
    },
    "tags": []
   },
   "source": [
    "# PySpark DF Immutability"
   ]
  },
  {
   "cell_type": "markdown",
   "id": "dd47544f",
   "metadata": {
    "papermill": {
     "duration": 0.169959,
     "end_time": "2022-01-14T13:33:33.524664",
     "exception": false,
     "start_time": "2022-01-14T13:33:33.354705",
     "status": "completed"
    },
    "tags": []
   },
   "source": [
    "#### As per Spark Architecture DataFrame is built on top of RDDs which are immutable in nature therefore Data frames are immutable in nature."
   ]
  },
  {
   "cell_type": "markdown",
   "id": "15748cae",
   "metadata": {
    "papermill": {
     "duration": 0.169692,
     "end_time": "2022-01-14T13:33:33.867294",
     "exception": false,
     "start_time": "2022-01-14T13:33:33.697602",
     "status": "completed"
    },
    "tags": []
   },
   "source": [
    "#### Most operations of the Dataframe will generate another dataframe and assign it to reference variable in case you have the assignment statement.\n",
    "\n",
    "#### In order to verify the same, you can use id() method of rdd to get the unique identifier of your dataframe."
   ]
  },
  {
   "cell_type": "code",
   "execution_count": 24,
   "id": "f6b6ae96",
   "metadata": {
    "execution": {
     "iopub.execute_input": "2022-01-14T13:33:34.218579Z",
     "iopub.status.busy": "2022-01-14T13:33:34.217887Z",
     "iopub.status.idle": "2022-01-14T13:33:35.209492Z",
     "shell.execute_reply": "2022-01-14T13:33:35.208464Z",
     "shell.execute_reply.started": "2022-01-14T13:15:43.193145Z"
    },
    "papermill": {
     "duration": 1.172626,
     "end_time": "2022-01-14T13:33:35.209711",
     "exception": false,
     "start_time": "2022-01-14T13:33:34.037085",
     "status": "completed"
    },
    "tags": []
   },
   "outputs": [
    {
     "name": "stderr",
     "output_type": "stream",
     "text": [
      "                                                                                \r"
     ]
    },
    {
     "name": "stdout",
     "output_type": "stream",
     "text": [
      "+------------+----------+\n",
      "|Organisation|   Founder|\n",
      "+------------+----------+\n",
      "|       Apple|Steve Jobs|\n",
      "+------------+----------+\n",
      "\n",
      "None\n",
      "68\n"
     ]
    }
   ],
   "source": [
    "org_df = spark.createDataFrame([('Apple','Steve Jobs')], ['Organisation', 'Founder'])\n",
    "print(org_df.show())\n",
    "print(org_df.rdd.id())"
   ]
  },
  {
   "cell_type": "code",
   "execution_count": 25,
   "id": "2861246d",
   "metadata": {
    "execution": {
     "iopub.execute_input": "2022-01-14T13:33:35.608286Z",
     "iopub.status.busy": "2022-01-14T13:33:35.606298Z",
     "iopub.status.idle": "2022-01-14T13:33:35.624712Z",
     "shell.execute_reply": "2022-01-14T13:33:35.625519Z",
     "shell.execute_reply.started": "2022-01-14T13:15:44.203438Z"
    },
    "papermill": {
     "duration": 0.192144,
     "end_time": "2022-01-14T13:33:35.625790",
     "exception": false,
     "start_time": "2022-01-14T13:33:35.433646",
     "status": "completed"
    },
    "tags": []
   },
   "outputs": [],
   "source": [
    "org_df = org_df.select(org_df.Organisation,org_df.Founder,concat_ws('-', org_df.Organisation, org_df.Founder).alias('concat'))"
   ]
  },
  {
   "cell_type": "code",
   "execution_count": 26,
   "id": "eed1cf4b",
   "metadata": {
    "execution": {
     "iopub.execute_input": "2022-01-14T13:33:35.985649Z",
     "iopub.status.busy": "2022-01-14T13:33:35.985030Z",
     "iopub.status.idle": "2022-01-14T13:33:36.227302Z",
     "shell.execute_reply": "2022-01-14T13:33:36.225593Z",
     "shell.execute_reply.started": "2022-01-14T13:15:44.225085Z"
    },
    "papermill": {
     "duration": 0.423979,
     "end_time": "2022-01-14T13:33:36.227522",
     "exception": false,
     "start_time": "2022-01-14T13:33:35.803543",
     "status": "completed"
    },
    "tags": []
   },
   "outputs": [
    {
     "name": "stdout",
     "output_type": "stream",
     "text": [
      "+------------+----------+----------------+\n",
      "|Organisation|   Founder|          concat|\n",
      "+------------+----------+----------------+\n",
      "|       Apple|Steve Jobs|Apple-Steve Jobs|\n",
      "+------------+----------+----------------+\n",
      "\n",
      "None\n",
      "74\n"
     ]
    }
   ],
   "source": [
    "print(org_df.show())\n",
    "print(org_df.rdd.id())"
   ]
  },
  {
   "cell_type": "markdown",
   "id": "4f0ac201",
   "metadata": {
    "papermill": {
     "duration": 0.175543,
     "end_time": "2022-01-14T13:33:36.600688",
     "exception": false,
     "start_time": "2022-01-14T13:33:36.425145",
     "status": "completed"
    },
    "tags": []
   },
   "source": [
    "#### So even though the variable which holds the dataframe is same but the unique rdd id is different after the update. This is because the old dataframe is not being referenced to anymore."
   ]
  },
  {
   "cell_type": "markdown",
   "id": "21a92f9a",
   "metadata": {
    "papermill": {
     "duration": 0.171481,
     "end_time": "2022-01-14T13:33:36.947697",
     "exception": false,
     "start_time": "2022-01-14T13:33:36.776216",
     "status": "completed"
    },
    "tags": []
   },
   "source": [
    "\n",
    "Regarding the withColumn() or any other similar operations when applied, such operations will generate a new data frame instead of updating the existing data frame."
   ]
  },
  {
   "cell_type": "markdown",
   "id": "5671bf92",
   "metadata": {
    "papermill": {
     "duration": 0.17462,
     "end_time": "2022-01-14T13:33:37.296548",
     "exception": false,
     "start_time": "2022-01-14T13:33:37.121928",
     "status": "completed"
    },
    "tags": []
   },
   "source": [
    "Therefore calling withColumns() function too many times may cause the whole process to become expensive especially in terms of time.\n",
    "\n",
    "> This method introduces a projection internally. Therefore, calling it multiple times, for instance, via loops in order to add multiple columns can generate big plans which can cause performance issues and even StackOverflowException. To avoid this, use select() with the multiple columns at once.\n",
    "\n",
    "https://spark.apache.org/docs/latest/api/python/reference/api/pyspark.sql.DataFrame.withColumn.html"
   ]
  },
  {
   "cell_type": "markdown",
   "id": "ef6a89d9",
   "metadata": {
    "papermill": {
     "duration": 0.171137,
     "end_time": "2022-01-14T13:33:37.638939",
     "exception": false,
     "start_time": "2022-01-14T13:33:37.467802",
     "status": "completed"
    },
    "tags": []
   },
   "source": [
    "# Aggregating DataFrames in PySpark"
   ]
  },
  {
   "cell_type": "markdown",
   "id": "dfa168ae",
   "metadata": {
    "papermill": {
     "duration": 0.168908,
     "end_time": "2022-01-14T13:33:37.980591",
     "exception": false,
     "start_time": "2022-01-14T13:33:37.811683",
     "status": "completed"
    },
    "tags": []
   },
   "source": [
    "This is similar to value_counts() method in pandas which gives out a frequency table."
   ]
  },
  {
   "cell_type": "code",
   "execution_count": 27,
   "id": "3442c03d",
   "metadata": {
    "execution": {
     "iopub.execute_input": "2022-01-14T13:33:38.330068Z",
     "iopub.status.busy": "2022-01-14T13:33:38.329414Z",
     "iopub.status.idle": "2022-01-14T13:33:39.043397Z",
     "shell.execute_reply": "2022-01-14T13:33:39.042710Z",
     "shell.execute_reply.started": "2022-01-14T13:15:44.490897Z"
    },
    "papermill": {
     "duration": 0.892622,
     "end_time": "2022-01-14T13:33:39.043551",
     "exception": false,
     "start_time": "2022-01-14T13:33:38.150929",
     "status": "completed"
    },
    "tags": []
   },
   "outputs": [
    {
     "name": "stdout",
     "output_type": "stream",
     "text": [
      "+-------+-----+\n",
      "|quality|count|\n",
      "+-------+-----+\n",
      "|      6|  638|\n",
      "|      3|   10|\n",
      "|      5|  681|\n",
      "|      4|   53|\n",
      "|      8|   18|\n",
      "|      7|  199|\n",
      "+-------+-----+\n",
      "\n"
     ]
    }
   ],
   "source": [
    "wine_quality.groupBy(\"quality\").count().show()"
   ]
  },
  {
   "cell_type": "code",
   "execution_count": 28,
   "id": "4664cde8",
   "metadata": {
    "execution": {
     "iopub.execute_input": "2022-01-14T13:33:39.420643Z",
     "iopub.status.busy": "2022-01-14T13:33:39.419573Z",
     "iopub.status.idle": "2022-01-14T13:33:39.812937Z",
     "shell.execute_reply": "2022-01-14T13:33:39.812083Z",
     "shell.execute_reply.started": "2022-01-14T13:15:45.181732Z"
    },
    "papermill": {
     "duration": 0.593511,
     "end_time": "2022-01-14T13:33:39.813143",
     "exception": false,
     "start_time": "2022-01-14T13:33:39.219632",
     "status": "completed"
    },
    "tags": []
   },
   "outputs": [
    {
     "name": "stdout",
     "output_type": "stream",
     "text": [
      "+-------+------------------+\n",
      "|quality|      avg(density)|\n",
      "+-------+------------------+\n",
      "|      6|0.9966150626959255|\n",
      "|      3|0.9974640000000001|\n",
      "|      5|0.9971036270190888|\n",
      "|      4|0.9965424528301888|\n",
      "|      8|0.9952122222222223|\n",
      "|      7|0.9961042713567828|\n",
      "+-------+------------------+\n",
      "\n"
     ]
    }
   ],
   "source": [
    "wine_quality.groupBy(\"quality\").mean(\"density\").show()"
   ]
  },
  {
   "cell_type": "markdown",
   "id": "2e532fb7",
   "metadata": {
    "papermill": {
     "duration": 0.171117,
     "end_time": "2022-01-14T13:33:40.171550",
     "exception": false,
     "start_time": "2022-01-14T13:33:40.000433",
     "status": "completed"
    },
    "tags": []
   },
   "source": [
    "Distinct count method"
   ]
  },
  {
   "cell_type": "code",
   "execution_count": 29,
   "id": "ab9e1328",
   "metadata": {
    "execution": {
     "iopub.execute_input": "2022-01-14T13:33:40.521506Z",
     "iopub.status.busy": "2022-01-14T13:33:40.520507Z",
     "iopub.status.idle": "2022-01-14T13:33:40.840271Z",
     "shell.execute_reply": "2022-01-14T13:33:40.839015Z",
     "shell.execute_reply.started": "2022-01-14T13:15:45.578572Z"
    },
    "papermill": {
     "duration": 0.499394,
     "end_time": "2022-01-14T13:33:40.840476",
     "exception": false,
     "start_time": "2022-01-14T13:33:40.341082",
     "status": "completed"
    },
    "tags": []
   },
   "outputs": [
    {
     "name": "stdout",
     "output_type": "stream",
     "text": [
      "+---------------------+\n",
      "|CountDistinct_quality|\n",
      "+---------------------+\n",
      "|                    6|\n",
      "+---------------------+\n",
      "\n"
     ]
    }
   ],
   "source": [
    "wine_quality.select(countDistinct(\"quality\").alias('CountDistinct_quality')).show()"
   ]
  },
  {
   "cell_type": "markdown",
   "id": "3b51abbb",
   "metadata": {
    "papermill": {
     "duration": 0.171144,
     "end_time": "2022-01-14T13:33:41.262653",
     "exception": false,
     "start_time": "2022-01-14T13:33:41.091509",
     "status": "completed"
    },
    "tags": []
   },
   "source": [
    "# Multiple Aggregations"
   ]
  },
  {
   "cell_type": "markdown",
   "id": "a38c6799",
   "metadata": {
    "papermill": {
     "duration": 0.169135,
     "end_time": "2022-01-14T13:33:41.602640",
     "exception": false,
     "start_time": "2022-01-14T13:33:41.433505",
     "status": "completed"
    },
    "tags": []
   },
   "source": [
    "Multiple column aggregations in a single go"
   ]
  },
  {
   "cell_type": "code",
   "execution_count": 30,
   "id": "03390443",
   "metadata": {
    "execution": {
     "iopub.execute_input": "2022-01-14T13:33:41.946691Z",
     "iopub.status.busy": "2022-01-14T13:33:41.944619Z",
     "iopub.status.idle": "2022-01-14T13:33:42.286054Z",
     "shell.execute_reply": "2022-01-14T13:33:42.285125Z",
     "shell.execute_reply.started": "2022-01-14T13:15:45.941074Z"
    },
    "papermill": {
     "duration": 0.513749,
     "end_time": "2022-01-14T13:33:42.286252",
     "exception": false,
     "start_time": "2022-01-14T13:33:41.772503",
     "status": "completed"
    },
    "tags": []
   },
   "outputs": [
    {
     "name": "stdout",
     "output_type": "stream",
     "text": [
      "+-------+-------------+-------------+\n",
      "|quality|Min chlorides|Max chlorides|\n",
      "+-------+-------------+-------------+\n",
      "|      6|        0.034|        0.415|\n",
      "|      3|        0.061|        0.267|\n",
      "|      5|        0.039|        0.611|\n",
      "|      4|        0.045|         0.61|\n",
      "|      8|        0.044|        0.086|\n",
      "|      7|        0.012|        0.358|\n",
      "+-------+-------------+-------------+\n",
      "\n"
     ]
    }
   ],
   "source": [
    "wine_quality.groupBy(\"quality\").agg(round(min(wine_quality.chlorides),3).alias(\"Min chlorides\"),max(wine_quality.chlorides).alias(\"Max chlorides\")).show()"
   ]
  },
  {
   "cell_type": "markdown",
   "id": "8718f06a",
   "metadata": {
    "papermill": {
     "duration": 0.170146,
     "end_time": "2022-01-14T13:33:42.657956",
     "exception": false,
     "start_time": "2022-01-14T13:33:42.487810",
     "status": "completed"
    },
    "tags": []
   },
   "source": [
    "# Aggregation Without Groupby"
   ]
  },
  {
   "cell_type": "code",
   "execution_count": 31,
   "id": "dd7e5279",
   "metadata": {
    "execution": {
     "iopub.execute_input": "2022-01-14T13:33:43.003660Z",
     "iopub.status.busy": "2022-01-14T13:33:43.003026Z",
     "iopub.status.idle": "2022-01-14T13:33:43.215715Z",
     "shell.execute_reply": "2022-01-14T13:33:43.214894Z",
     "shell.execute_reply.started": "2022-01-14T13:15:46.313441Z"
    },
    "papermill": {
     "duration": 0.388679,
     "end_time": "2022-01-14T13:33:43.215931",
     "exception": false,
     "start_time": "2022-01-14T13:33:42.827252",
     "status": "completed"
    },
    "tags": []
   },
   "outputs": [
    {
     "name": "stdout",
     "output_type": "stream",
     "text": [
      "+------------------+-----------+\n",
      "|       Min density|Max density|\n",
      "+------------------+-----------+\n",
      "|0.9900700000000001|    1.00369|\n",
      "+------------------+-----------+\n",
      "\n"
     ]
    }
   ],
   "source": [
    "wine_quality.agg(min(wine_quality.density).alias(\"Min density\"),max(wine_quality.density).alias(\"Max density\")).show()"
   ]
  },
  {
   "cell_type": "markdown",
   "id": "08cf0f5e",
   "metadata": {
    "papermill": {
     "duration": 0.17008,
     "end_time": "2022-01-14T13:33:43.560226",
     "exception": false,
     "start_time": "2022-01-14T13:33:43.390146",
     "status": "completed"
    },
    "tags": []
   },
   "source": [
    "# Pivots"
   ]
  },
  {
   "cell_type": "code",
   "execution_count": 32,
   "id": "2f183e33",
   "metadata": {
    "execution": {
     "iopub.execute_input": "2022-01-14T13:33:43.907656Z",
     "iopub.status.busy": "2022-01-14T13:33:43.906670Z",
     "iopub.status.idle": "2022-01-14T13:33:44.165968Z",
     "shell.execute_reply": "2022-01-14T13:33:44.165188Z",
     "shell.execute_reply.started": "2022-01-14T13:15:46.614127Z"
    },
    "papermill": {
     "duration": 0.432985,
     "end_time": "2022-01-14T13:33:44.166182",
     "exception": false,
     "start_time": "2022-01-14T13:33:43.733197",
     "status": "completed"
    },
    "tags": []
   },
   "outputs": [
    {
     "data": {
      "text/html": [
       "<div>\n",
       "<style scoped>\n",
       "    .dataframe tbody tr th:only-of-type {\n",
       "        vertical-align: middle;\n",
       "    }\n",
       "\n",
       "    .dataframe tbody tr th {\n",
       "        vertical-align: top;\n",
       "    }\n",
       "\n",
       "    .dataframe thead th {\n",
       "        text-align: right;\n",
       "    }\n",
       "</style>\n",
       "<table border=\"1\" class=\"dataframe\">\n",
       "  <thead>\n",
       "    <tr style=\"text-align: right;\">\n",
       "      <th></th>\n",
       "      <th>fixed acidity</th>\n",
       "      <th>volatile acidity</th>\n",
       "      <th>citric acid</th>\n",
       "      <th>residual sugar</th>\n",
       "      <th>chlorides</th>\n",
       "      <th>free sulfur dioxide</th>\n",
       "      <th>total sulfur dioxide</th>\n",
       "      <th>density</th>\n",
       "      <th>pH</th>\n",
       "      <th>sulphates</th>\n",
       "      <th>alcohol</th>\n",
       "      <th>quality</th>\n",
       "    </tr>\n",
       "  </thead>\n",
       "  <tbody>\n",
       "    <tr>\n",
       "      <th>0</th>\n",
       "      <td>7.4</td>\n",
       "      <td>0.70</td>\n",
       "      <td>0.00</td>\n",
       "      <td>1.9</td>\n",
       "      <td>0.076</td>\n",
       "      <td>11.0</td>\n",
       "      <td>34.0</td>\n",
       "      <td>0.9978</td>\n",
       "      <td>3.51</td>\n",
       "      <td>0.56</td>\n",
       "      <td>9.4</td>\n",
       "      <td>5</td>\n",
       "    </tr>\n",
       "    <tr>\n",
       "      <th>1</th>\n",
       "      <td>7.8</td>\n",
       "      <td>0.88</td>\n",
       "      <td>0.00</td>\n",
       "      <td>2.6</td>\n",
       "      <td>0.098</td>\n",
       "      <td>25.0</td>\n",
       "      <td>67.0</td>\n",
       "      <td>0.9968</td>\n",
       "      <td>3.20</td>\n",
       "      <td>0.68</td>\n",
       "      <td>9.8</td>\n",
       "      <td>5</td>\n",
       "    </tr>\n",
       "    <tr>\n",
       "      <th>2</th>\n",
       "      <td>7.8</td>\n",
       "      <td>0.76</td>\n",
       "      <td>0.04</td>\n",
       "      <td>2.3</td>\n",
       "      <td>0.092</td>\n",
       "      <td>15.0</td>\n",
       "      <td>54.0</td>\n",
       "      <td>0.9970</td>\n",
       "      <td>3.26</td>\n",
       "      <td>0.65</td>\n",
       "      <td>9.8</td>\n",
       "      <td>5</td>\n",
       "    </tr>\n",
       "    <tr>\n",
       "      <th>3</th>\n",
       "      <td>11.2</td>\n",
       "      <td>0.28</td>\n",
       "      <td>0.56</td>\n",
       "      <td>1.9</td>\n",
       "      <td>0.075</td>\n",
       "      <td>17.0</td>\n",
       "      <td>60.0</td>\n",
       "      <td>0.9980</td>\n",
       "      <td>3.16</td>\n",
       "      <td>0.58</td>\n",
       "      <td>9.8</td>\n",
       "      <td>6</td>\n",
       "    </tr>\n",
       "    <tr>\n",
       "      <th>4</th>\n",
       "      <td>7.4</td>\n",
       "      <td>0.70</td>\n",
       "      <td>0.00</td>\n",
       "      <td>1.9</td>\n",
       "      <td>0.076</td>\n",
       "      <td>11.0</td>\n",
       "      <td>34.0</td>\n",
       "      <td>0.9978</td>\n",
       "      <td>3.51</td>\n",
       "      <td>0.56</td>\n",
       "      <td>9.4</td>\n",
       "      <td>5</td>\n",
       "    </tr>\n",
       "  </tbody>\n",
       "</table>\n",
       "</div>"
      ],
      "text/plain": [
       "   fixed acidity  volatile acidity  citric acid  residual sugar  chlorides  \\\n",
       "0            7.4              0.70         0.00             1.9      0.076   \n",
       "1            7.8              0.88         0.00             2.6      0.098   \n",
       "2            7.8              0.76         0.04             2.3      0.092   \n",
       "3           11.2              0.28         0.56             1.9      0.075   \n",
       "4            7.4              0.70         0.00             1.9      0.076   \n",
       "\n",
       "   free sulfur dioxide  total sulfur dioxide  density    pH  sulphates  \\\n",
       "0                 11.0                  34.0   0.9978  3.51       0.56   \n",
       "1                 25.0                  67.0   0.9968  3.20       0.68   \n",
       "2                 15.0                  54.0   0.9970  3.26       0.65   \n",
       "3                 17.0                  60.0   0.9980  3.16       0.58   \n",
       "4                 11.0                  34.0   0.9978  3.51       0.56   \n",
       "\n",
       "   alcohol  quality  \n",
       "0      9.4        5  \n",
       "1      9.8        5  \n",
       "2      9.8        5  \n",
       "3      9.8        6  \n",
       "4      9.4        5  "
      ]
     },
     "execution_count": 32,
     "metadata": {},
     "output_type": "execute_result"
    }
   ],
   "source": [
    "wine_quality.toPandas().head()"
   ]
  },
  {
   "cell_type": "code",
   "execution_count": 33,
   "id": "878211b2",
   "metadata": {
    "execution": {
     "iopub.execute_input": "2022-01-14T13:33:44.525784Z",
     "iopub.status.busy": "2022-01-14T13:33:44.524827Z",
     "iopub.status.idle": "2022-01-14T13:33:44.587801Z",
     "shell.execute_reply": "2022-01-14T13:33:44.586735Z",
     "shell.execute_reply.started": "2022-01-14T13:15:46.823233Z"
    },
    "papermill": {
     "duration": 0.2352,
     "end_time": "2022-01-14T13:33:44.587970",
     "exception": false,
     "start_time": "2022-01-14T13:33:44.352770",
     "status": "completed"
    },
    "tags": []
   },
   "outputs": [],
   "source": [
    "# creating a categorical to check effect of pH on quality\n",
    "wine_quality_v2 = wine_quality.select('*', (when(df.pH >= 3.0, 'pH>=3').otherwise('pH<3')).alias(\"ph_category\"))"
   ]
  },
  {
   "cell_type": "code",
   "execution_count": 34,
   "id": "79925a43",
   "metadata": {
    "execution": {
     "iopub.execute_input": "2022-01-14T13:33:44.935496Z",
     "iopub.status.busy": "2022-01-14T13:33:44.934772Z",
     "iopub.status.idle": "2022-01-14T13:33:45.990607Z",
     "shell.execute_reply": "2022-01-14T13:33:45.989407Z",
     "shell.execute_reply.started": "2022-01-14T13:15:46.880294Z"
    },
    "papermill": {
     "duration": 1.231979,
     "end_time": "2022-01-14T13:33:45.990907",
     "exception": false,
     "start_time": "2022-01-14T13:33:44.758928",
     "status": "completed"
    },
    "tags": []
   },
   "outputs": [
    {
     "name": "stdout",
     "output_type": "stream",
     "text": [
      "+-------+----+-----+\n",
      "|quality|pH<3|pH>=3|\n",
      "+-------+----+-----+\n",
      "|      6|  10|  628|\n",
      "|      3|null|   10|\n",
      "|      5|  13|  668|\n",
      "|      4|   1|   52|\n",
      "|      8|   2|   16|\n",
      "|      7|   3|  196|\n",
      "+-------+----+-----+\n",
      "\n"
     ]
    }
   ],
   "source": [
    "wine_quality_v2.groupBy(\"quality\").pivot(\"ph_category\").count().show(10)"
   ]
  },
  {
   "cell_type": "markdown",
   "id": "dd8510b3",
   "metadata": {
    "papermill": {
     "duration": 0.177857,
     "end_time": "2022-01-14T13:33:46.465134",
     "exception": false,
     "start_time": "2022-01-14T13:33:46.287277",
     "status": "completed"
    },
    "tags": []
   },
   "source": [
    "The pivot method will create cross-tab with all the distinct values that the column passed to it consists of."
   ]
  },
  {
   "cell_type": "code",
   "execution_count": 35,
   "id": "ec072518",
   "metadata": {
    "execution": {
     "iopub.execute_input": "2022-01-14T13:33:46.810312Z",
     "iopub.status.busy": "2022-01-14T13:33:46.809347Z",
     "iopub.status.idle": "2022-01-14T13:33:47.434090Z",
     "shell.execute_reply": "2022-01-14T13:33:47.433195Z",
     "shell.execute_reply.started": "2022-01-14T13:15:48.074039Z"
    },
    "papermill": {
     "duration": 0.798798,
     "end_time": "2022-01-14T13:33:47.434294",
     "exception": false,
     "start_time": "2022-01-14T13:33:46.635496",
     "status": "completed"
    },
    "tags": []
   },
   "outputs": [
    {
     "name": "stdout",
     "output_type": "stream",
     "text": [
      "+-------+----+----+----+----+----+----+\n",
      "|quality|   3|   4|   5|   6|   7|   8|\n",
      "+-------+----+----+----+----+----+----+\n",
      "|      6|null|null|null| 638|null|null|\n",
      "|      3|  10|null|null|null|null|null|\n",
      "|      5|null|null| 681|null|null|null|\n",
      "|      4|null|  53|null|null|null|null|\n",
      "|      8|null|null|null|null|null|  18|\n",
      "|      7|null|null|null|null| 199|null|\n",
      "+-------+----+----+----+----+----+----+\n",
      "\n"
     ]
    }
   ],
   "source": [
    "wine_quality.groupBy(\"quality\").pivot(\"quality\").count().show(10)"
   ]
  },
  {
   "cell_type": "markdown",
   "id": "7ae96adf",
   "metadata": {
    "papermill": {
     "duration": 0.169236,
     "end_time": "2022-01-14T13:33:47.835967",
     "exception": false,
     "start_time": "2022-01-14T13:33:47.666731",
     "status": "completed"
    },
    "tags": []
   },
   "source": [
    "To limit the pivot method to create cross-tab for only specific entries of the column passed to it, another argument can be provided to it which should be the list of all distinct values to use for the cross-tab."
   ]
  },
  {
   "cell_type": "code",
   "execution_count": 36,
   "id": "855401fa",
   "metadata": {
    "execution": {
     "iopub.execute_input": "2022-01-14T13:33:48.183633Z",
     "iopub.status.busy": "2022-01-14T13:33:48.182767Z",
     "iopub.status.idle": "2022-01-14T13:33:48.592139Z",
     "shell.execute_reply": "2022-01-14T13:33:48.593358Z",
     "shell.execute_reply.started": "2022-01-14T13:15:48.805750Z"
    },
    "papermill": {
     "duration": 0.586949,
     "end_time": "2022-01-14T13:33:48.593775",
     "exception": false,
     "start_time": "2022-01-14T13:33:48.006826",
     "status": "completed"
    },
    "tags": []
   },
   "outputs": [
    {
     "name": "stdout",
     "output_type": "stream",
     "text": [
      "+-------+----+----+\n",
      "|quality|  11|  25|\n",
      "+-------+----+----+\n",
      "|      6|  26|   8|\n",
      "|      3|null|null|\n",
      "|      5|  20|  14|\n",
      "|      4|   5|null|\n",
      "|      8|null|null|\n",
      "|      7|   8|   2|\n",
      "+-------+----+----+\n",
      "\n"
     ]
    }
   ],
   "source": [
    "wine_quality.groupBy(\"quality\").pivot(\"free sulfur dioxide\", [11,25]).count().show(10)"
   ]
  },
  {
   "cell_type": "markdown",
   "id": "e4054764",
   "metadata": {
    "papermill": {
     "duration": 0.172057,
     "end_time": "2022-01-14T13:33:49.000614",
     "exception": false,
     "start_time": "2022-01-14T13:33:48.828557",
     "status": "completed"
    },
    "tags": []
   },
   "source": [
    "# Aggregation + Pivot"
   ]
  },
  {
   "cell_type": "code",
   "execution_count": 37,
   "id": "58cc8d27",
   "metadata": {
    "execution": {
     "iopub.execute_input": "2022-01-14T13:33:49.345832Z",
     "iopub.status.busy": "2022-01-14T13:33:49.344904Z",
     "iopub.status.idle": "2022-01-14T13:33:50.110489Z",
     "shell.execute_reply": "2022-01-14T13:33:50.109744Z",
     "shell.execute_reply.started": "2022-01-14T13:15:49.361081Z"
    },
    "papermill": {
     "duration": 0.94094,
     "end_time": "2022-01-14T13:33:50.110690",
     "exception": false,
     "start_time": "2022-01-14T13:33:49.169750",
     "status": "completed"
    },
    "tags": []
   },
   "outputs": [
    {
     "data": {
      "text/html": [
       "<div>\n",
       "<style scoped>\n",
       "    .dataframe tbody tr th:only-of-type {\n",
       "        vertical-align: middle;\n",
       "    }\n",
       "\n",
       "    .dataframe tbody tr th {\n",
       "        vertical-align: top;\n",
       "    }\n",
       "\n",
       "    .dataframe thead th {\n",
       "        text-align: right;\n",
       "    }\n",
       "</style>\n",
       "<table border=\"1\" class=\"dataframe\">\n",
       "  <thead>\n",
       "    <tr style=\"text-align: right;\">\n",
       "      <th></th>\n",
       "      <th>quality</th>\n",
       "      <th>pH&lt;3_Mean Chlorides</th>\n",
       "      <th>pH&lt;3_Mean free sulfur dioxide</th>\n",
       "      <th>pH&gt;=3_Mean Chlorides</th>\n",
       "      <th>pH&gt;=3_Mean free sulfur dioxide</th>\n",
       "    </tr>\n",
       "  </thead>\n",
       "  <tbody>\n",
       "    <tr>\n",
       "      <th>0</th>\n",
       "      <td>6</td>\n",
       "      <td>0.120300</td>\n",
       "      <td>16.3</td>\n",
       "      <td>0.084393</td>\n",
       "      <td>15.702229</td>\n",
       "    </tr>\n",
       "    <tr>\n",
       "      <th>1</th>\n",
       "      <td>3</td>\n",
       "      <td>NaN</td>\n",
       "      <td>NaN</td>\n",
       "      <td>0.122500</td>\n",
       "      <td>11.000000</td>\n",
       "    </tr>\n",
       "    <tr>\n",
       "      <th>2</th>\n",
       "      <td>5</td>\n",
       "      <td>0.095000</td>\n",
       "      <td>12.0</td>\n",
       "      <td>0.092692</td>\n",
       "      <td>17.080838</td>\n",
       "    </tr>\n",
       "    <tr>\n",
       "      <th>3</th>\n",
       "      <td>4</td>\n",
       "      <td>0.610000</td>\n",
       "      <td>32.0</td>\n",
       "      <td>0.080692</td>\n",
       "      <td>11.884615</td>\n",
       "    </tr>\n",
       "    <tr>\n",
       "      <th>4</th>\n",
       "      <td>8</td>\n",
       "      <td>0.077500</td>\n",
       "      <td>24.0</td>\n",
       "      <td>0.067312</td>\n",
       "      <td>11.937500</td>\n",
       "    </tr>\n",
       "    <tr>\n",
       "      <th>5</th>\n",
       "      <td>7</td>\n",
       "      <td>0.082333</td>\n",
       "      <td>13.0</td>\n",
       "      <td>0.076500</td>\n",
       "      <td>14.061224</td>\n",
       "    </tr>\n",
       "  </tbody>\n",
       "</table>\n",
       "</div>"
      ],
      "text/plain": [
       "   quality  pH<3_Mean Chlorides  pH<3_Mean free sulfur dioxide  \\\n",
       "0        6             0.120300                           16.3   \n",
       "1        3                  NaN                            NaN   \n",
       "2        5             0.095000                           12.0   \n",
       "3        4             0.610000                           32.0   \n",
       "4        8             0.077500                           24.0   \n",
       "5        7             0.082333                           13.0   \n",
       "\n",
       "   pH>=3_Mean Chlorides  pH>=3_Mean free sulfur dioxide  \n",
       "0              0.084393                       15.702229  \n",
       "1              0.122500                       11.000000  \n",
       "2              0.092692                       17.080838  \n",
       "3              0.080692                       11.884615  \n",
       "4              0.067312                       11.937500  \n",
       "5              0.076500                       14.061224  "
      ]
     },
     "execution_count": 37,
     "metadata": {},
     "output_type": "execute_result"
    }
   ],
   "source": [
    "wine_quality_v2.groupBy(\"quality\").pivot(\"ph_category\").agg(mean(wine_quality_v2.chlorides).alias(\"Mean Chlorides\"),mean(wine_quality_v2[\"free sulfur dioxide\"]).alias(\"Mean free sulfur dioxide\")).toPandas()#.show()"
   ]
  },
  {
   "cell_type": "markdown",
   "id": "c381456a",
   "metadata": {
    "papermill": {
     "duration": 0.168975,
     "end_time": "2022-01-14T13:33:50.526339",
     "exception": false,
     "start_time": "2022-01-14T13:33:50.357364",
     "status": "completed"
    },
    "tags": []
   },
   "source": [
    "# Joins"
   ]
  },
  {
   "cell_type": "code",
   "execution_count": 38,
   "id": "5b440b41",
   "metadata": {
    "execution": {
     "iopub.execute_input": "2022-01-14T13:33:50.878870Z",
     "iopub.status.busy": "2022-01-14T13:33:50.878039Z",
     "iopub.status.idle": "2022-01-14T13:33:51.266196Z",
     "shell.execute_reply": "2022-01-14T13:33:51.265406Z",
     "shell.execute_reply.started": "2022-01-14T13:15:50.143851Z"
    },
    "papermill": {
     "duration": 0.566488,
     "end_time": "2022-01-14T13:33:51.266418",
     "exception": false,
     "start_time": "2022-01-14T13:33:50.699930",
     "status": "completed"
    },
    "tags": []
   },
   "outputs": [
    {
     "name": "stdout",
     "output_type": "stream",
     "text": [
      "Plant eaters (herbivores)\n",
      "+-----------+---+-----------+\n",
      "|       name| id|eats_plants|\n",
      "+-----------+---+-----------+\n",
      "|      koala|  1|        yes|\n",
      "|caterpillar|  2|        yes|\n",
      "|       deer|  3|        yes|\n",
      "|      human|  4|        yes|\n",
      "+-----------+---+-----------+\n",
      "\n",
      "None\n",
      "Meat eaters (carnivores)\n",
      "+-----+---+---------+\n",
      "| name| id|eats_meat|\n",
      "+-----+---+---------+\n",
      "|shark|  5|      yes|\n",
      "| lion|  6|      yes|\n",
      "|tiger|  7|      yes|\n",
      "|human|  4|      yes|\n",
      "+-----+---+---------+\n",
      "\n",
      "None\n"
     ]
    }
   ],
   "source": [
    "valuesP = [('koala',1,'yes'),('caterpillar',2,'yes'),('deer',3,'yes'),('human',4,'yes')]\n",
    "eats_plants = spark.createDataFrame(valuesP,['name','id','eats_plants'])\n",
    "\n",
    "valuesM = [('shark',5,'yes'),('lion',6,'yes'),('tiger',7,'yes'),('human',4,'yes')]\n",
    "eats_meat = spark.createDataFrame(valuesM,['name','id','eats_meat'])\n",
    "\n",
    "print(\"Plant eaters (herbivores)\")\n",
    "print(eats_plants.show())\n",
    "print(\"Meat eaters (carnivores)\")\n",
    "print(eats_meat.show())"
   ]
  },
  {
   "cell_type": "markdown",
   "id": "78c0ed5c",
   "metadata": {
    "papermill": {
     "duration": 0.173499,
     "end_time": "2022-01-14T13:33:51.645305",
     "exception": false,
     "start_time": "2022-01-14T13:33:51.471806",
     "status": "completed"
    },
    "tags": []
   },
   "source": [
    "# Inner Join\n",
    "\n",
    "Inner joins get us ONLY the values that appear in BOTH tables we are joining. "
   ]
  },
  {
   "cell_type": "code",
   "execution_count": 39,
   "id": "4195e743",
   "metadata": {
    "execution": {
     "iopub.execute_input": "2022-01-14T13:33:51.999367Z",
     "iopub.status.busy": "2022-01-14T13:33:51.998364Z",
     "iopub.status.idle": "2022-01-14T13:33:52.500695Z",
     "shell.execute_reply": "2022-01-14T13:33:52.499415Z",
     "shell.execute_reply.started": "2022-01-14T13:15:50.620031Z"
    },
    "papermill": {
     "duration": 0.680829,
     "end_time": "2022-01-14T13:33:52.500942",
     "exception": false,
     "start_time": "2022-01-14T13:33:51.820113",
     "status": "completed"
    },
    "tags": []
   },
   "outputs": [
    {
     "name": "stdout",
     "output_type": "stream",
     "text": [
      "Inner Join Example\n",
      "+-----+---+-----------+---------+\n",
      "| name| id|eats_plants|eats_meat|\n",
      "+-----+---+-----------+---------+\n",
      "|human|  4|        yes|      yes|\n",
      "+-----+---+-----------+---------+\n",
      "\n",
      "None\n"
     ]
    }
   ],
   "source": [
    "inner_join = eats_plants.join(eats_meat, [\"name\",\"id\"],\"inner\")\n",
    "print(\"Inner Join Example\")\n",
    "print(inner_join.show())"
   ]
  },
  {
   "cell_type": "markdown",
   "id": "507ed68b",
   "metadata": {
    "papermill": {
     "duration": 0.172976,
     "end_time": "2022-01-14T13:33:52.905799",
     "exception": false,
     "start_time": "2022-01-14T13:33:52.732823",
     "status": "completed"
    },
    "tags": []
   },
   "source": [
    "# Left Join\n",
    "\n",
    "Left joins gives the rows and columns that appear in the left table and only the rows from the right table which are successfully mapped to the table on the left along with the columns. A quick quality check we could do would be to make sure that the human column has the value \"yes\" for both eats_plants and eats_meat columns."
   ]
  },
  {
   "cell_type": "code",
   "execution_count": 40,
   "id": "14158b4f",
   "metadata": {
    "execution": {
     "iopub.execute_input": "2022-01-14T13:33:53.259492Z",
     "iopub.status.busy": "2022-01-14T13:33:53.258447Z",
     "iopub.status.idle": "2022-01-14T13:33:53.809017Z",
     "shell.execute_reply": "2022-01-14T13:33:53.808007Z",
     "shell.execute_reply.started": "2022-01-14T13:15:51.270483Z"
    },
    "papermill": {
     "duration": 0.727235,
     "end_time": "2022-01-14T13:33:53.809219",
     "exception": false,
     "start_time": "2022-01-14T13:33:53.081984",
     "status": "completed"
    },
    "tags": []
   },
   "outputs": [
    {
     "name": "stdout",
     "output_type": "stream",
     "text": [
      "Left Join Example\n",
      "+-----------+---+-----------+---------+\n",
      "|       name| id|eats_plants|eats_meat|\n",
      "+-----------+---+-----------+---------+\n",
      "|caterpillar|  2|        yes|     null|\n",
      "|       deer|  3|        yes|     null|\n",
      "|      human|  4|        yes|      yes|\n",
      "|      koala|  1|        yes|     null|\n",
      "+-----------+---+-----------+---------+\n",
      "\n",
      "None\n"
     ]
    }
   ],
   "source": [
    "left_join = eats_plants.join(eats_meat, [\"name\",\"id\"], how='left')\n",
    "print(\"Left Join Example\")\n",
    "print(left_join.show())"
   ]
  },
  {
   "cell_type": "markdown",
   "id": "910392e9",
   "metadata": {
    "papermill": {
     "duration": 0.240928,
     "end_time": "2022-01-14T13:33:54.376401",
     "exception": false,
     "start_time": "2022-01-14T13:33:54.135473",
     "status": "completed"
    },
    "tags": []
   },
   "source": [
    "# Right Join\n",
    "\n",
    "A right join gets the values that appear in the right table but not in the left. It also brings it's columns over. "
   ]
  },
  {
   "cell_type": "code",
   "execution_count": 41,
   "id": "c1f506a2",
   "metadata": {
    "execution": {
     "iopub.execute_input": "2022-01-14T13:33:54.754695Z",
     "iopub.status.busy": "2022-01-14T13:33:54.754057Z",
     "iopub.status.idle": "2022-01-14T13:33:55.059660Z",
     "shell.execute_reply": "2022-01-14T13:33:55.058780Z",
     "shell.execute_reply.started": "2022-01-14T13:15:51.611206Z"
    },
    "papermill": {
     "duration": 0.501565,
     "end_time": "2022-01-14T13:33:55.059868",
     "exception": false,
     "start_time": "2022-01-14T13:33:54.558303",
     "status": "completed"
    },
    "tags": []
   },
   "outputs": [
    {
     "name": "stdout",
     "output_type": "stream",
     "text": [
      "Right Join\n",
      "+-----+---+-----------+---------+\n",
      "| name| id|eats_plants|eats_meat|\n",
      "+-----+---+-----------+---------+\n",
      "|human|  4|        yes|      yes|\n",
      "| lion|  6|       null|      yes|\n",
      "|shark|  5|       null|      yes|\n",
      "|tiger|  7|       null|      yes|\n",
      "+-----+---+-----------+---------+\n",
      "\n",
      "None\n"
     ]
    }
   ],
   "source": [
    "right_join = eats_plants.join(eats_meat,  [\"name\",\"id\"],how='right')\n",
    "print(\"Right Join\")\n",
    "print(right_join.show())"
   ]
  },
  {
   "cell_type": "markdown",
   "id": "1b44a458",
   "metadata": {
    "papermill": {
     "duration": 0.173461,
     "end_time": "2022-01-14T13:33:55.414090",
     "exception": false,
     "start_time": "2022-01-14T13:33:55.240629",
     "status": "completed"
    },
    "tags": []
   },
   "source": [
    "## Full Outer Join\n",
    "\n",
    "Full outer joins will get all values from both tables and columns from both."
   ]
  },
  {
   "cell_type": "code",
   "execution_count": 42,
   "id": "441e7a46",
   "metadata": {
    "execution": {
     "iopub.execute_input": "2022-01-14T13:33:55.766606Z",
     "iopub.status.busy": "2022-01-14T13:33:55.765631Z",
     "iopub.status.idle": "2022-01-14T13:33:56.107964Z",
     "shell.execute_reply": "2022-01-14T13:33:56.108894Z",
     "shell.execute_reply.started": "2022-01-14T13:15:51.987832Z"
    },
    "papermill": {
     "duration": 0.522636,
     "end_time": "2022-01-14T13:33:56.109111",
     "exception": false,
     "start_time": "2022-01-14T13:33:55.586475",
     "status": "completed"
    },
    "tags": []
   },
   "outputs": [
    {
     "name": "stdout",
     "output_type": "stream",
     "text": [
      "Full Outer Join\n",
      "+-----------+---+-----------+---------+\n",
      "|       name| id|eats_plants|eats_meat|\n",
      "+-----------+---+-----------+---------+\n",
      "|caterpillar|  2|        yes|     null|\n",
      "|       deer|  3|        yes|     null|\n",
      "|      human|  4|        yes|      yes|\n",
      "|      koala|  1|        yes|     null|\n",
      "|       lion|  6|       null|      yes|\n",
      "|      shark|  5|       null|      yes|\n",
      "|      tiger|  7|       null|      yes|\n",
      "+-----------+---+-----------+---------+\n",
      "\n",
      "None\n"
     ]
    }
   ],
   "source": [
    "full_outer_join = eats_plants.join(eats_meat, [\"name\",\"id\"],how='full') # Could also use 'full_outer'\n",
    "print(\"Full Outer Join\")\n",
    "print(full_outer_join.show())"
   ]
  },
  {
   "cell_type": "markdown",
   "id": "32fd5920",
   "metadata": {
    "papermill": {
     "duration": 0.19518,
     "end_time": "2022-01-14T13:33:56.497216",
     "exception": false,
     "start_time": "2022-01-14T13:33:56.302036",
     "status": "completed"
    },
    "tags": []
   },
   "source": [
    "# Union"
   ]
  },
  {
   "cell_type": "code",
   "execution_count": 43,
   "id": "b50f9b1e",
   "metadata": {
    "execution": {
     "iopub.execute_input": "2022-01-14T13:33:56.882731Z",
     "iopub.status.busy": "2022-01-14T13:33:56.881972Z",
     "iopub.status.idle": "2022-01-14T13:33:57.845759Z",
     "shell.execute_reply": "2022-01-14T13:33:57.844777Z",
     "shell.execute_reply.started": "2022-01-14T13:15:53.095449Z"
    },
    "papermill": {
     "duration": 1.155872,
     "end_time": "2022-01-14T13:33:57.845967",
     "exception": false,
     "start_time": "2022-01-14T13:33:56.690095",
     "status": "completed"
    },
    "tags": []
   },
   "outputs": [
    {
     "name": "stdout",
     "output_type": "stream",
     "text": [
      "('eats_plants df Counts:', 4, 3)\n",
      "('df_concat Counts:', 8, 3)\n",
      "+-----------+---+-----------+\n",
      "|       name| id|eats_plants|\n",
      "+-----------+---+-----------+\n",
      "|      koala|  1|        yes|\n",
      "|caterpillar|  2|        yes|\n",
      "|       deer|  3|        yes|\n",
      "|      human|  4|        yes|\n",
      "+-----------+---+-----------+\n",
      "\n",
      "None\n",
      "+-----------+---+-----------+\n",
      "|       name| id|eats_plants|\n",
      "+-----------+---+-----------+\n",
      "|      koala|  1|        yes|\n",
      "|caterpillar|  2|        yes|\n",
      "|       deer|  3|        yes|\n",
      "|      human|  4|        yes|\n",
      "|      koala|  1|        yes|\n",
      "|caterpillar|  2|        yes|\n",
      "|       deer|  3|        yes|\n",
      "|      human|  4|        yes|\n",
      "+-----------+---+-----------+\n",
      "\n",
      "None\n"
     ]
    }
   ],
   "source": [
    "new_df = eats_plants\n",
    "\n",
    "df_concat = eats_plants.union(new_df)\n",
    "print((\"eats_plants df Counts:\", eats_plants.count(), len(eats_plants.columns)))\n",
    "print((\"df_concat Counts:\", df_concat.count(), len(df_concat.columns)))\n",
    "print(eats_plants.show())\n",
    "print(df_concat.show())"
   ]
  },
  {
   "cell_type": "markdown",
   "id": "b34e1764",
   "metadata": {
    "papermill": {
     "duration": 0.174581,
     "end_time": "2022-01-14T13:33:58.261657",
     "exception": false,
     "start_time": "2022-01-14T13:33:58.087076",
     "status": "completed"
    },
    "tags": []
   },
   "source": [
    "# Join with Different Column Names"
   ]
  },
  {
   "cell_type": "code",
   "execution_count": 44,
   "id": "682a1a9a",
   "metadata": {
    "execution": {
     "iopub.execute_input": "2022-01-14T13:33:58.642124Z",
     "iopub.status.busy": "2022-01-14T13:33:58.640022Z",
     "iopub.status.idle": "2022-01-14T13:33:58.990903Z",
     "shell.execute_reply": "2022-01-14T13:33:58.989901Z",
     "shell.execute_reply.started": "2022-01-14T13:24:30.222356Z"
    },
    "papermill": {
     "duration": 0.542742,
     "end_time": "2022-01-14T13:33:58.991123",
     "exception": false,
     "start_time": "2022-01-14T13:33:58.448381",
     "status": "completed"
    },
    "tags": []
   },
   "outputs": [
    {
     "name": "stdout",
     "output_type": "stream",
     "text": [
      "+-----------+----+-----------+-----+----+---------+\n",
      "|     name_1|  id|eats_plants| name|  id|eats_meat|\n",
      "+-----------+----+-----------+-----+----+---------+\n",
      "|caterpillar|   2|        yes| null|null|     null|\n",
      "|       deer|   3|        yes| null|null|     null|\n",
      "|      human|   4|        yes|human|   4|      yes|\n",
      "|      koala|   1|        yes| null|null|     null|\n",
      "|       null|null|       null| lion|   6|      yes|\n",
      "|       null|null|       null|shark|   5|      yes|\n",
      "|       null|null|       null|tiger|   7|      yes|\n",
      "+-----------+----+-----------+-----+----+---------+\n",
      "\n"
     ]
    }
   ],
   "source": [
    "import pyspark.sql.functions as F\n",
    "# creating different name for the same column\n",
    "eats_plants = eats_plants.withColumnRenamed(\"name\", \"name_1\")\n",
    "eats_plants.join(eats_meat, eats_plants['name_1'] == eats_meat['name'], how='outer')\\\n",
    "   .show()"
   ]
  },
  {
   "cell_type": "markdown",
   "id": "2da20752",
   "metadata": {
    "papermill": {
     "duration": 0.179232,
     "end_time": "2022-01-14T13:33:59.396158",
     "exception": false,
     "start_time": "2022-01-14T13:33:59.216926",
     "status": "completed"
    },
    "tags": []
   },
   "source": [
    "#### This works well but has some extra duplicate columns common between the two tables that can now be dropped after the mapping is complete."
   ]
  },
  {
   "cell_type": "markdown",
   "id": "fbf4f9a2",
   "metadata": {
    "papermill": {
     "duration": 0.176902,
     "end_time": "2022-01-14T13:33:59.752413",
     "exception": false,
     "start_time": "2022-01-14T13:33:59.575511",
     "status": "completed"
    },
    "tags": []
   },
   "source": [
    "# Coalesce"
   ]
  },
  {
   "cell_type": "markdown",
   "id": "a6dfebe6",
   "metadata": {
    "papermill": {
     "duration": 0.178926,
     "end_time": "2022-01-14T13:34:00.106308",
     "exception": false,
     "start_time": "2022-01-14T13:33:59.927382",
     "status": "completed"
    },
    "tags": []
   },
   "source": [
    "#### What does coalesce do?\n",
    "Returns the first column that is not null\n",
    "\n",
    "Reference: https://spark.apache.org/docs/latest/api/python/reference/api/pyspark.sql.functions.coalesce.html"
   ]
  },
  {
   "cell_type": "code",
   "execution_count": 45,
   "id": "20e77f6a",
   "metadata": {
    "execution": {
     "iopub.execute_input": "2022-01-14T13:34:00.483645Z",
     "iopub.status.busy": "2022-01-14T13:34:00.480789Z",
     "iopub.status.idle": "2022-01-14T13:34:00.627421Z",
     "shell.execute_reply": "2022-01-14T13:34:00.628409Z",
     "shell.execute_reply.started": "2022-01-14T13:29:31.384576Z"
    },
    "papermill": {
     "duration": 0.347137,
     "end_time": "2022-01-14T13:34:00.628671",
     "exception": false,
     "start_time": "2022-01-14T13:34:00.281534",
     "status": "completed"
    },
    "tags": []
   },
   "outputs": [
    {
     "name": "stdout",
     "output_type": "stream",
     "text": [
      "+----+----+\n",
      "|   a|   b|\n",
      "+----+----+\n",
      "|null|null|\n",
      "|   1|null|\n",
      "|null|   2|\n",
      "+----+----+\n",
      "\n"
     ]
    }
   ],
   "source": [
    "cDf = spark.createDataFrame([(None, None), (1, None), (None, 2)], (\"a\", \"b\"))\n",
    "cDf.show()"
   ]
  },
  {
   "cell_type": "code",
   "execution_count": 46,
   "id": "f491e73d",
   "metadata": {
    "execution": {
     "iopub.execute_input": "2022-01-14T13:34:00.995725Z",
     "iopub.status.busy": "2022-01-14T13:34:00.995038Z",
     "iopub.status.idle": "2022-01-14T13:34:01.111248Z",
     "shell.execute_reply": "2022-01-14T13:34:01.110558Z",
     "shell.execute_reply.started": "2022-01-14T13:29:35.053159Z"
    },
    "papermill": {
     "duration": 0.298909,
     "end_time": "2022-01-14T13:34:01.111402",
     "exception": false,
     "start_time": "2022-01-14T13:34:00.812493",
     "status": "completed"
    },
    "tags": []
   },
   "outputs": [
    {
     "name": "stdout",
     "output_type": "stream",
     "text": [
      "+--------------+\n",
      "|coalesce(a, b)|\n",
      "+--------------+\n",
      "|          null|\n",
      "|             1|\n",
      "|             2|\n",
      "+--------------+\n",
      "\n"
     ]
    }
   ],
   "source": [
    "cDf.select(coalesce(cDf[\"a\"], cDf[\"b\"])).show()"
   ]
  },
  {
   "cell_type": "markdown",
   "id": "ca4e106e",
   "metadata": {
    "papermill": {
     "duration": 0.175359,
     "end_time": "2022-01-14T13:34:01.463013",
     "exception": false,
     "start_time": "2022-01-14T13:34:01.287654",
     "status": "completed"
    },
    "tags": []
   },
   "source": [
    "# Coalesce in Joins"
   ]
  },
  {
   "cell_type": "code",
   "execution_count": 47,
   "id": "3d0d8413",
   "metadata": {
    "execution": {
     "iopub.execute_input": "2022-01-14T13:34:01.822002Z",
     "iopub.status.busy": "2022-01-14T13:34:01.821345Z",
     "iopub.status.idle": "2022-01-14T13:34:02.192703Z",
     "shell.execute_reply": "2022-01-14T13:34:02.193516Z",
     "shell.execute_reply.started": "2022-01-14T13:24:18.600363Z"
    },
    "papermill": {
     "duration": 0.553805,
     "end_time": "2022-01-14T13:34:02.193698",
     "exception": false,
     "start_time": "2022-01-14T13:34:01.639893",
     "status": "completed"
    },
    "tags": []
   },
   "outputs": [
    {
     "name": "stdout",
     "output_type": "stream",
     "text": [
      "+----+-----------+----+---------+--------------+\n",
      "|  id|eats_plants|  id|eats_meat|name_coalesced|\n",
      "+----+-----------+----+---------+--------------+\n",
      "|   2|        yes|null|     null|   caterpillar|\n",
      "|   3|        yes|null|     null|          deer|\n",
      "|   4|        yes|   4|      yes|         human|\n",
      "|   1|        yes|null|     null|         koala|\n",
      "|null|       null|   6|      yes|          lion|\n",
      "|null|       null|   5|      yes|         shark|\n",
      "|null|       null|   7|      yes|         tiger|\n",
      "+----+-----------+----+---------+--------------+\n",
      "\n"
     ]
    }
   ],
   "source": [
    "eats_plants.join(eats_meat, eats_plants['name_1'] == eats_meat['name'], how='outer')\\\n",
    "   .select('*', F.coalesce(F.col('name_1'), F.col('name')).alias('name_coalesced')) \\\n",
    "   .drop('name_1', 'name') \\\n",
    "   .show()"
   ]
  },
  {
   "cell_type": "markdown",
   "id": "2328d906",
   "metadata": {
    "papermill": {
     "duration": 0.17492,
     "end_time": "2022-01-14T13:34:02.545503",
     "exception": false,
     "start_time": "2022-01-14T13:34:02.370583",
     "status": "completed"
    },
    "tags": []
   },
   "source": [
    "We can see how this was able to get rid of extra columns in the data after the merge."
   ]
  },
  {
   "cell_type": "markdown",
   "id": "5c60eb80",
   "metadata": {
    "papermill": {
     "duration": 0.17437,
     "end_time": "2022-01-14T13:34:02.894939",
     "exception": false,
     "start_time": "2022-01-14T13:34:02.720569",
     "status": "completed"
    },
    "tags": []
   },
   "source": [
    "## Thanks and continue to follow for the next update in the same series!"
   ]
  },
  {
   "cell_type": "markdown",
   "id": "f4523c44",
   "metadata": {
    "papermill": {
     "duration": 0.176665,
     "end_time": "2022-01-14T13:34:03.247113",
     "exception": false,
     "start_time": "2022-01-14T13:34:03.070448",
     "status": "completed"
    },
    "tags": []
   },
   "source": [
    "## References"
   ]
  },
  {
   "cell_type": "markdown",
   "id": "6e8a2edc",
   "metadata": {
    "papermill": {
     "duration": 0.174892,
     "end_time": "2022-01-14T13:34:03.597008",
     "exception": false,
     "start_time": "2022-01-14T13:34:03.422116",
     "status": "completed"
    },
    "tags": []
   },
   "source": [
    "* https://www.educba.com/pyspark-withcolumn/\n",
    "* https://medium.com/@manuzhang/the-hidden-cost-of-spark-withcolumn-8ffea517c015\n",
    "* https://sparkbyexamples.com/pyspark/pyspark-withcolumn/\n",
    "* https://sparkbyexamples.com/pyspark/pyspark-find-count-of-null-none-nan-values/\n",
    "* https://stackoverflow.com/questions/53374140/if-dataframes-in-spark-are-immutable-why-are-we-able-to-modify-it-with-operatio"
   ]
  }
 ],
 "metadata": {
  "kernelspec": {
   "display_name": "Python 3",
   "language": "python",
   "name": "python3"
  },
  "language_info": {
   "codemirror_mode": {
    "name": "ipython",
    "version": 3
   },
   "file_extension": ".py",
   "mimetype": "text/x-python",
   "name": "python",
   "nbconvert_exporter": "python",
   "pygments_lexer": "ipython3",
   "version": "3.7.12"
  },
  "papermill": {
   "default_parameters": {},
   "duration": 123.681804,
   "end_time": "2022-01-14T13:34:04.383335",
   "environment_variables": {},
   "exception": null,
   "input_path": "__notebook__.ipynb",
   "output_path": "__notebook__.ipynb",
   "parameters": {},
   "start_time": "2022-01-14T13:32:00.701531",
   "version": "2.3.3"
  }
 },
 "nbformat": 4,
 "nbformat_minor": 5
}
