{
  "nbformat": 4,
  "nbformat_minor": 0,
  "metadata": {
    "colab": {
      "name": "Pyspark_My Learnings.ipynb",
      "provenance": [],
      "collapsed_sections": []
    },
    "kernelspec": {
      "name": "python3",
      "display_name": "Python 3"
    },
    "language_info": {
      "name": "python"
    }
  },
  "cells": [
    {
      "cell_type": "markdown",
      "source": [
        "# **EXHAUSTIVE DATA MANIPULATIONS IN PYSPARK:**\n"
      ],
      "metadata": {
        "id": "ot4B5dP15wbH"
      }
    },
    {
      "cell_type": "markdown",
      "source": [
        " ![0_V0GyOt3LoDVfY7y5.png](https://files.realpython.com/media/PySpark-Tutorial_Watermarked.305db668c8cb.jpg)"
      ],
      "metadata": {
        "id": "qXajfWvX53hE"
      }
    },
    {
      "cell_type": "code",
      "execution_count": 1,
      "metadata": {
        "id": "SiHqxaciymNq",
        "colab": {
          "base_uri": "https://localhost:8080/"
        },
        "outputId": "9226a663-ab36-4288-f008-74118b96ae0d"
      },
      "outputs": [
        {
          "output_type": "stream",
          "name": "stdout",
          "text": [
            "Looking in indexes: https://pypi.org/simple, https://us-python.pkg.dev/colab-wheels/public/simple/\n",
            "Collecting pyspark\n",
            "  Downloading pyspark-3.3.0.tar.gz (281.3 MB)\n",
            "\u001b[K     |████████████████████████████████| 281.3 MB 46 kB/s \n",
            "\u001b[?25hCollecting py4j==0.10.9.5\n",
            "  Downloading py4j-0.10.9.5-py2.py3-none-any.whl (199 kB)\n",
            "\u001b[K     |████████████████████████████████| 199 kB 51.2 MB/s \n",
            "\u001b[?25hBuilding wheels for collected packages: pyspark\n",
            "  Building wheel for pyspark (setup.py) ... \u001b[?25l\u001b[?25hdone\n",
            "  Created wheel for pyspark: filename=pyspark-3.3.0-py2.py3-none-any.whl size=281764026 sha256=06e5858a62a1c12a564eb23d47d1f0d86253f5c147b8ef2c374933ebf3e8cfad\n",
            "  Stored in directory: /root/.cache/pip/wheels/7a/8e/1b/f73a52650d2e5f337708d9f6a1750d451a7349a867f928b885\n",
            "Successfully built pyspark\n",
            "Installing collected packages: py4j, pyspark\n",
            "Successfully installed py4j-0.10.9.5 pyspark-3.3.0\n"
          ]
        }
      ],
      "source": [
        "pip install pyspark"
      ]
    },
    {
      "cell_type": "code",
      "source": [
        "#Importing Relevant Libraries\n",
        "import pandas as pd #Data Processing\n",
        "import numpy as np #Linear Algebra\n",
        "import os \n",
        "import pyspark\n",
        "from pyspark.sql import SparkSession\n",
        "from pyspark.sql.functions import *"
      ],
      "metadata": {
        "id": "2IQRCq0Yys7A"
      },
      "execution_count": 2,
      "outputs": []
    },
    {
      "cell_type": "code",
      "source": [
        "#Initializing\n",
        "spark = SparkSession.builder.appName(\"Pyspark\").getOrCreate()\n",
        "#cores = spark._jsc.sc().getExecuteMemoryStatus().keyset().size()\n",
        "#print('You are working with',cores,\"core(s)\")\n",
        "spark"
      ],
      "metadata": {
        "colab": {
          "base_uri": "https://localhost:8080/",
          "height": 222
        },
        "id": "-yaJAGoT1Hu7",
        "outputId": "886f1c15-4b6d-411a-cec2-4682b477650b"
      },
      "execution_count": 3,
      "outputs": [
        {
          "output_type": "execute_result",
          "data": {
            "text/plain": [
              "<pyspark.sql.session.SparkSession at 0x7fb0c06660d0>"
            ],
            "text/html": [
              "\n",
              "            <div>\n",
              "                <p><b>SparkSession - in-memory</b></p>\n",
              "                \n",
              "        <div>\n",
              "            <p><b>SparkContext</b></p>\n",
              "\n",
              "            <p><a href=\"http://71520f4bdb93:4040\">Spark UI</a></p>\n",
              "\n",
              "            <dl>\n",
              "              <dt>Version</dt>\n",
              "                <dd><code>v3.3.0</code></dd>\n",
              "              <dt>Master</dt>\n",
              "                <dd><code>local[*]</code></dd>\n",
              "              <dt>AppName</dt>\n",
              "                <dd><code>Pyspark</code></dd>\n",
              "            </dl>\n",
              "        </div>\n",
              "        \n",
              "            </div>\n",
              "        "
            ]
          },
          "metadata": {},
          "execution_count": 3
        }
      ]
    },
    {
      "cell_type": "code",
      "source": [
        "#Creating a Spark Dataframe Manually\n",
        "values = [('Maths','98'),('English','96'),('Hindi','94'),('Science','99'),('Social Science','100')]\n",
        "df = spark.createDataFrame(values,['Subjects','Marks'])\n",
        "df.show()"
      ],
      "metadata": {
        "colab": {
          "base_uri": "https://localhost:8080/"
        },
        "id": "WpUvOUi81kft",
        "outputId": "1b79f722-ea2c-4d7b-b91e-f5dda7211c09"
      },
      "execution_count": 4,
      "outputs": [
        {
          "output_type": "stream",
          "name": "stdout",
          "text": [
            "+--------------+-----+\n",
            "|      Subjects|Marks|\n",
            "+--------------+-----+\n",
            "|         Maths|   98|\n",
            "|       English|   96|\n",
            "|         Hindi|   94|\n",
            "|       Science|   99|\n",
            "|Social Science|  100|\n",
            "+--------------+-----+\n",
            "\n"
          ]
        }
      ]
    },
    {
      "cell_type": "code",
      "source": [
        "#Reading files into Spark Dataframe\n",
        "wine_quality = spark.read.csv(\"/content/sample_data/winequality-red.csv\", inferSchema = True, header = True)"
      ],
      "metadata": {
        "id": "qnwTHiXq2Y_r"
      },
      "execution_count": 5,
      "outputs": []
    },
    {
      "cell_type": "code",
      "source": [
        "wine_quality #This tells the column names and data types separated by colon"
      ],
      "metadata": {
        "colab": {
          "base_uri": "https://localhost:8080/"
        },
        "id": "jCQU4f8q-rr4",
        "outputId": "6f65956e-7b60-470d-fc0e-aa0019d1891f"
      },
      "execution_count": 6,
      "outputs": [
        {
          "output_type": "execute_result",
          "data": {
            "text/plain": [
              "DataFrame[fixed acidity: double, volatile acidity: double, citric acid: double, residual sugar: double, chlorides: double, free sulfur dioxide: double, total sulfur dioxide: double, density: double, pH: double, sulphates: double, alcohol: double, quality: int]"
            ]
          },
          "metadata": {},
          "execution_count": 6
        }
      ]
    },
    {
      "cell_type": "code",
      "source": [
        "wine_quality.show() #Shows top 20 rows only"
      ],
      "metadata": {
        "colab": {
          "base_uri": "https://localhost:8080/"
        },
        "id": "kBorzoYYd0ty",
        "outputId": "caf2a205-f6ca-43d4-8a0f-b36656f29bdd"
      },
      "execution_count": 7,
      "outputs": [
        {
          "output_type": "stream",
          "name": "stdout",
          "text": [
            "+-------------+----------------+-----------+--------------+-------------------+-------------------+--------------------+-------+----+---------+-------+-------+\n",
            "|fixed acidity|volatile acidity|citric acid|residual sugar|          chlorides|free sulfur dioxide|total sulfur dioxide|density|  pH|sulphates|alcohol|quality|\n",
            "+-------------+----------------+-----------+--------------+-------------------+-------------------+--------------------+-------+----+---------+-------+-------+\n",
            "|          7.4|             0.7|        0.0|           1.9|              0.076|               11.0|                34.0| 0.9978|3.51|     0.56|    9.4|      5|\n",
            "|          7.8|            0.88|        0.0|           2.6|              0.098|               25.0|                67.0| 0.9968| 3.2|     0.68|    9.8|      5|\n",
            "|          7.8|            0.76|       0.04|           2.3|              0.092|               15.0|                54.0|  0.997|3.26|     0.65|    9.8|      5|\n",
            "|         11.2|            0.28|       0.56|           1.9|              0.075|               17.0|                60.0|  0.998|3.16|     0.58|    9.8|      6|\n",
            "|          7.4|             0.7|        0.0|           1.9|              0.076|               11.0|                34.0| 0.9978|3.51|     0.56|    9.4|      5|\n",
            "|          7.4|            0.66|        0.0|           1.8|              0.075|               13.0|                40.0| 0.9978|3.51|     0.56|    9.4|      5|\n",
            "|          7.9|             0.6|       0.06|           1.6|              0.069|               15.0|                59.0| 0.9964| 3.3|     0.46|    9.4|      5|\n",
            "|          7.3|            0.65|        0.0|           1.2|              0.065|               15.0|                21.0| 0.9946|3.39|     0.47|   10.0|      7|\n",
            "|          7.8|            0.58|       0.02|           2.0|              0.073|                9.0|                18.0| 0.9968|3.36|     0.57|    9.5|      7|\n",
            "|          7.5|             0.5|       0.36|           6.1|              0.071|               17.0|               102.0| 0.9978|3.35|      0.8|   10.5|      5|\n",
            "|          6.7|            0.58|       0.08|           1.8|0.09699999999999999|               15.0|                65.0| 0.9959|3.28|     0.54|    9.2|      5|\n",
            "|          7.5|             0.5|       0.36|           6.1|              0.071|               17.0|               102.0| 0.9978|3.35|      0.8|   10.5|      5|\n",
            "|          5.6|           0.615|        0.0|           1.6|0.08900000000000001|               16.0|                59.0| 0.9943|3.58|     0.52|    9.9|      5|\n",
            "|          7.8|            0.61|       0.29|           1.6|              0.114|                9.0|                29.0| 0.9974|3.26|     1.56|    9.1|      5|\n",
            "|          8.9|            0.62|       0.18|           3.8|0.17600000000000002|               52.0|               145.0| 0.9986|3.16|     0.88|    9.2|      5|\n",
            "|          8.9|            0.62|       0.19|           3.9|               0.17|               51.0|               148.0| 0.9986|3.17|     0.93|    9.2|      5|\n",
            "|          8.5|            0.28|       0.56|           1.8|              0.092|               35.0|               103.0| 0.9969| 3.3|     0.75|   10.5|      7|\n",
            "|          8.1|            0.56|       0.28|           1.7|              0.368|               16.0|                56.0| 0.9968|3.11|     1.28|    9.3|      5|\n",
            "|          7.4|            0.59|       0.08|           4.4|              0.086|                6.0|                29.0| 0.9974|3.38|      0.5|    9.0|      4|\n",
            "|          7.9|            0.32|       0.51|           1.8|              0.341|               17.0|                56.0| 0.9969|3.04|     1.08|    9.2|      6|\n",
            "+-------------+----------------+-----------+--------------+-------------------+-------------------+--------------------+-------+----+---------+-------+-------+\n",
            "only showing top 20 rows\n",
            "\n"
          ]
        }
      ]
    },
    {
      "cell_type": "code",
      "source": [
        "#We can use limit method to specify the number of rows\n",
        "wine_quality.limit(15).show()"
      ],
      "metadata": {
        "colab": {
          "base_uri": "https://localhost:8080/"
        },
        "id": "Rvdaa-vFd_Is",
        "outputId": "060e02b5-2013-4bad-ea27-934786bb670d"
      },
      "execution_count": 8,
      "outputs": [
        {
          "output_type": "stream",
          "name": "stdout",
          "text": [
            "+-------------+----------------+-----------+--------------+-------------------+-------------------+--------------------+-------+----+---------+-------+-------+\n",
            "|fixed acidity|volatile acidity|citric acid|residual sugar|          chlorides|free sulfur dioxide|total sulfur dioxide|density|  pH|sulphates|alcohol|quality|\n",
            "+-------------+----------------+-----------+--------------+-------------------+-------------------+--------------------+-------+----+---------+-------+-------+\n",
            "|          7.4|             0.7|        0.0|           1.9|              0.076|               11.0|                34.0| 0.9978|3.51|     0.56|    9.4|      5|\n",
            "|          7.8|            0.88|        0.0|           2.6|              0.098|               25.0|                67.0| 0.9968| 3.2|     0.68|    9.8|      5|\n",
            "|          7.8|            0.76|       0.04|           2.3|              0.092|               15.0|                54.0|  0.997|3.26|     0.65|    9.8|      5|\n",
            "|         11.2|            0.28|       0.56|           1.9|              0.075|               17.0|                60.0|  0.998|3.16|     0.58|    9.8|      6|\n",
            "|          7.4|             0.7|        0.0|           1.9|              0.076|               11.0|                34.0| 0.9978|3.51|     0.56|    9.4|      5|\n",
            "|          7.4|            0.66|        0.0|           1.8|              0.075|               13.0|                40.0| 0.9978|3.51|     0.56|    9.4|      5|\n",
            "|          7.9|             0.6|       0.06|           1.6|              0.069|               15.0|                59.0| 0.9964| 3.3|     0.46|    9.4|      5|\n",
            "|          7.3|            0.65|        0.0|           1.2|              0.065|               15.0|                21.0| 0.9946|3.39|     0.47|   10.0|      7|\n",
            "|          7.8|            0.58|       0.02|           2.0|              0.073|                9.0|                18.0| 0.9968|3.36|     0.57|    9.5|      7|\n",
            "|          7.5|             0.5|       0.36|           6.1|              0.071|               17.0|               102.0| 0.9978|3.35|      0.8|   10.5|      5|\n",
            "|          6.7|            0.58|       0.08|           1.8|0.09699999999999999|               15.0|                65.0| 0.9959|3.28|     0.54|    9.2|      5|\n",
            "|          7.5|             0.5|       0.36|           6.1|              0.071|               17.0|               102.0| 0.9978|3.35|      0.8|   10.5|      5|\n",
            "|          5.6|           0.615|        0.0|           1.6|0.08900000000000001|               16.0|                59.0| 0.9943|3.58|     0.52|    9.9|      5|\n",
            "|          7.8|            0.61|       0.29|           1.6|              0.114|                9.0|                29.0| 0.9974|3.26|     1.56|    9.1|      5|\n",
            "|          8.9|            0.62|       0.18|           3.8|0.17600000000000002|               52.0|               145.0| 0.9986|3.16|     0.88|    9.2|      5|\n",
            "+-------------+----------------+-----------+--------------+-------------------+-------------------+--------------------+-------+----+---------+-------+-------+\n",
            "\n"
          ]
        }
      ]
    },
    {
      "cell_type": "code",
      "source": [
        "#For better view, we can convert into pandas\n",
        "#We need to understand that we should not use toPandas() when the content is too heavy since all the content is loaded into the memory\n",
        "#And if we use it with huge data, then it will end up crashing or executing at snail's pace\n",
        "wine_quality_pandas = wine_quality.limit(15).toPandas()"
      ],
      "metadata": {
        "id": "j8pt2RrEeiI5"
      },
      "execution_count": 9,
      "outputs": []
    },
    {
      "cell_type": "code",
      "source": [
        "#Lets check the type of dataframes\n",
        "print(type(wine_quality_pandas))\n",
        "print(type(wine_quality))"
      ],
      "metadata": {
        "colab": {
          "base_uri": "https://localhost:8080/"
        },
        "id": "M8hC05N6euES",
        "outputId": "3ea00455-1688-44c2-fe42-841186731f70"
      },
      "execution_count": 10,
      "outputs": [
        {
          "output_type": "stream",
          "name": "stdout",
          "text": [
            "<class 'pandas.core.frame.DataFrame'>\n",
            "<class 'pyspark.sql.dataframe.DataFrame'>\n"
          ]
        }
      ]
    },
    {
      "cell_type": "code",
      "source": [
        "#Checking the Schema of Dataframe\n",
        "wine_quality.printSchema()"
      ],
      "metadata": {
        "colab": {
          "base_uri": "https://localhost:8080/"
        },
        "id": "bkFdbxOUfVY8",
        "outputId": "85b4dcff-11ba-407f-cd9d-e84ef925a27e"
      },
      "execution_count": 11,
      "outputs": [
        {
          "output_type": "stream",
          "name": "stdout",
          "text": [
            "root\n",
            " |-- fixed acidity: double (nullable = true)\n",
            " |-- volatile acidity: double (nullable = true)\n",
            " |-- citric acid: double (nullable = true)\n",
            " |-- residual sugar: double (nullable = true)\n",
            " |-- chlorides: double (nullable = true)\n",
            " |-- free sulfur dioxide: double (nullable = true)\n",
            " |-- total sulfur dioxide: double (nullable = true)\n",
            " |-- density: double (nullable = true)\n",
            " |-- pH: double (nullable = true)\n",
            " |-- sulphates: double (nullable = true)\n",
            " |-- alcohol: double (nullable = true)\n",
            " |-- quality: integer (nullable = true)\n",
            "\n"
          ]
        }
      ]
    },
    {
      "cell_type": "code",
      "source": [
        "#Printing Columns of the Dataframe\n",
        "print(wine_quality.columns)"
      ],
      "metadata": {
        "colab": {
          "base_uri": "https://localhost:8080/"
        },
        "id": "QIpc7YKUhDqH",
        "outputId": "0024009e-0710-47c5-a222-cd7678693f30"
      },
      "execution_count": 12,
      "outputs": [
        {
          "output_type": "stream",
          "name": "stdout",
          "text": [
            "['fixed acidity', 'volatile acidity', 'citric acid', 'residual sugar', 'chlorides', 'free sulfur dioxide', 'total sulfur dioxide', 'density', 'pH', 'sulphates', 'alcohol', 'quality']\n"
          ]
        }
      ]
    },
    {
      "cell_type": "code",
      "source": [
        "#Checking Datatype of Specific Column\n",
        "wine_quality.schema['fixed acidity'].dataType"
      ],
      "metadata": {
        "colab": {
          "base_uri": "https://localhost:8080/"
        },
        "id": "oq_2eQsthMQ4",
        "outputId": "e49d8cd1-37c6-4dd0-a999-5a5c97555110"
      },
      "execution_count": 13,
      "outputs": [
        {
          "output_type": "execute_result",
          "data": {
            "text/plain": [
              "DoubleType()"
            ]
          },
          "metadata": {},
          "execution_count": 13
        }
      ]
    },
    {
      "cell_type": "code",
      "source": [
        "#Descriptive Statistics of Spark DataFrame \n",
        "wine_quality.describe().toPandas()"
      ],
      "metadata": {
        "colab": {
          "base_uri": "https://localhost:8080/",
          "height": 287
        },
        "id": "sBhpg4JwhWqY",
        "outputId": "bf837a78-54b6-4fbe-8dc6-3d1c0cbb47c4"
      },
      "execution_count": 14,
      "outputs": [
        {
          "output_type": "execute_result",
          "data": {
            "text/plain": [
              "  summary       fixed acidity     volatile acidity          citric acid  \\\n",
              "0   count                1599                 1599                 1599   \n",
              "1    mean   8.319637273295838   0.5278205128205131   0.2709756097560964   \n",
              "2  stddev  1.7410963181276948  0.17905970415353525  0.19480113740531824   \n",
              "3     min                 4.6                 0.12                  0.0   \n",
              "4     max                15.9                 1.58                  1.0   \n",
              "\n",
              "       residual sugar             chlorides free sulfur dioxide  \\\n",
              "0                1599                  1599                1599   \n",
              "1  2.5388055034396517   0.08746654158849257  15.874921826141339   \n",
              "2    1.40992805950728  0.047065302010090085   10.46015696980971   \n",
              "3                 0.9                 0.012                 1.0   \n",
              "4                15.5                 0.611                72.0   \n",
              "\n",
              "  total sulfur dioxide                density                   pH  \\\n",
              "0                 1599                   1599                 1599   \n",
              "1    46.46779237023139     0.9967466791744833    3.311113195747343   \n",
              "2    32.89532447829907  0.0018873339538427278  0.15438646490354271   \n",
              "3                  6.0     0.9900700000000001                 2.74   \n",
              "4                289.0                1.00369                 4.01   \n",
              "\n",
              "            sulphates             alcohol             quality  \n",
              "0                1599                1599                1599  \n",
              "1  0.6581488430268921  10.422983114446502  5.6360225140712945  \n",
              "2  0.1695069795901101  1.0656675818473935  0.8075694397347051  \n",
              "3                0.33                 8.4                   3  \n",
              "4                 2.0                14.9                   8  "
            ],
            "text/html": [
              "\n",
              "  <div id=\"df-20c19f9c-4aba-4e5c-be44-048417127e7b\">\n",
              "    <div class=\"colab-df-container\">\n",
              "      <div>\n",
              "<style scoped>\n",
              "    .dataframe tbody tr th:only-of-type {\n",
              "        vertical-align: middle;\n",
              "    }\n",
              "\n",
              "    .dataframe tbody tr th {\n",
              "        vertical-align: top;\n",
              "    }\n",
              "\n",
              "    .dataframe thead th {\n",
              "        text-align: right;\n",
              "    }\n",
              "</style>\n",
              "<table border=\"1\" class=\"dataframe\">\n",
              "  <thead>\n",
              "    <tr style=\"text-align: right;\">\n",
              "      <th></th>\n",
              "      <th>summary</th>\n",
              "      <th>fixed acidity</th>\n",
              "      <th>volatile acidity</th>\n",
              "      <th>citric acid</th>\n",
              "      <th>residual sugar</th>\n",
              "      <th>chlorides</th>\n",
              "      <th>free sulfur dioxide</th>\n",
              "      <th>total sulfur dioxide</th>\n",
              "      <th>density</th>\n",
              "      <th>pH</th>\n",
              "      <th>sulphates</th>\n",
              "      <th>alcohol</th>\n",
              "      <th>quality</th>\n",
              "    </tr>\n",
              "  </thead>\n",
              "  <tbody>\n",
              "    <tr>\n",
              "      <th>0</th>\n",
              "      <td>count</td>\n",
              "      <td>1599</td>\n",
              "      <td>1599</td>\n",
              "      <td>1599</td>\n",
              "      <td>1599</td>\n",
              "      <td>1599</td>\n",
              "      <td>1599</td>\n",
              "      <td>1599</td>\n",
              "      <td>1599</td>\n",
              "      <td>1599</td>\n",
              "      <td>1599</td>\n",
              "      <td>1599</td>\n",
              "      <td>1599</td>\n",
              "    </tr>\n",
              "    <tr>\n",
              "      <th>1</th>\n",
              "      <td>mean</td>\n",
              "      <td>8.319637273295838</td>\n",
              "      <td>0.5278205128205131</td>\n",
              "      <td>0.2709756097560964</td>\n",
              "      <td>2.5388055034396517</td>\n",
              "      <td>0.08746654158849257</td>\n",
              "      <td>15.874921826141339</td>\n",
              "      <td>46.46779237023139</td>\n",
              "      <td>0.9967466791744833</td>\n",
              "      <td>3.311113195747343</td>\n",
              "      <td>0.6581488430268921</td>\n",
              "      <td>10.422983114446502</td>\n",
              "      <td>5.6360225140712945</td>\n",
              "    </tr>\n",
              "    <tr>\n",
              "      <th>2</th>\n",
              "      <td>stddev</td>\n",
              "      <td>1.7410963181276948</td>\n",
              "      <td>0.17905970415353525</td>\n",
              "      <td>0.19480113740531824</td>\n",
              "      <td>1.40992805950728</td>\n",
              "      <td>0.047065302010090085</td>\n",
              "      <td>10.46015696980971</td>\n",
              "      <td>32.89532447829907</td>\n",
              "      <td>0.0018873339538427278</td>\n",
              "      <td>0.15438646490354271</td>\n",
              "      <td>0.1695069795901101</td>\n",
              "      <td>1.0656675818473935</td>\n",
              "      <td>0.8075694397347051</td>\n",
              "    </tr>\n",
              "    <tr>\n",
              "      <th>3</th>\n",
              "      <td>min</td>\n",
              "      <td>4.6</td>\n",
              "      <td>0.12</td>\n",
              "      <td>0.0</td>\n",
              "      <td>0.9</td>\n",
              "      <td>0.012</td>\n",
              "      <td>1.0</td>\n",
              "      <td>6.0</td>\n",
              "      <td>0.9900700000000001</td>\n",
              "      <td>2.74</td>\n",
              "      <td>0.33</td>\n",
              "      <td>8.4</td>\n",
              "      <td>3</td>\n",
              "    </tr>\n",
              "    <tr>\n",
              "      <th>4</th>\n",
              "      <td>max</td>\n",
              "      <td>15.9</td>\n",
              "      <td>1.58</td>\n",
              "      <td>1.0</td>\n",
              "      <td>15.5</td>\n",
              "      <td>0.611</td>\n",
              "      <td>72.0</td>\n",
              "      <td>289.0</td>\n",
              "      <td>1.00369</td>\n",
              "      <td>4.01</td>\n",
              "      <td>2.0</td>\n",
              "      <td>14.9</td>\n",
              "      <td>8</td>\n",
              "    </tr>\n",
              "  </tbody>\n",
              "</table>\n",
              "</div>\n",
              "      <button class=\"colab-df-convert\" onclick=\"convertToInteractive('df-20c19f9c-4aba-4e5c-be44-048417127e7b')\"\n",
              "              title=\"Convert this dataframe to an interactive table.\"\n",
              "              style=\"display:none;\">\n",
              "        \n",
              "  <svg xmlns=\"http://www.w3.org/2000/svg\" height=\"24px\"viewBox=\"0 0 24 24\"\n",
              "       width=\"24px\">\n",
              "    <path d=\"M0 0h24v24H0V0z\" fill=\"none\"/>\n",
              "    <path d=\"M18.56 5.44l.94 2.06.94-2.06 2.06-.94-2.06-.94-.94-2.06-.94 2.06-2.06.94zm-11 1L8.5 8.5l.94-2.06 2.06-.94-2.06-.94L8.5 2.5l-.94 2.06-2.06.94zm10 10l.94 2.06.94-2.06 2.06-.94-2.06-.94-.94-2.06-.94 2.06-2.06.94z\"/><path d=\"M17.41 7.96l-1.37-1.37c-.4-.4-.92-.59-1.43-.59-.52 0-1.04.2-1.43.59L10.3 9.45l-7.72 7.72c-.78.78-.78 2.05 0 2.83L4 21.41c.39.39.9.59 1.41.59.51 0 1.02-.2 1.41-.59l7.78-7.78 2.81-2.81c.8-.78.8-2.07 0-2.86zM5.41 20L4 18.59l7.72-7.72 1.47 1.35L5.41 20z\"/>\n",
              "  </svg>\n",
              "      </button>\n",
              "      \n",
              "  <style>\n",
              "    .colab-df-container {\n",
              "      display:flex;\n",
              "      flex-wrap:wrap;\n",
              "      gap: 12px;\n",
              "    }\n",
              "\n",
              "    .colab-df-convert {\n",
              "      background-color: #E8F0FE;\n",
              "      border: none;\n",
              "      border-radius: 50%;\n",
              "      cursor: pointer;\n",
              "      display: none;\n",
              "      fill: #1967D2;\n",
              "      height: 32px;\n",
              "      padding: 0 0 0 0;\n",
              "      width: 32px;\n",
              "    }\n",
              "\n",
              "    .colab-df-convert:hover {\n",
              "      background-color: #E2EBFA;\n",
              "      box-shadow: 0px 1px 2px rgba(60, 64, 67, 0.3), 0px 1px 3px 1px rgba(60, 64, 67, 0.15);\n",
              "      fill: #174EA6;\n",
              "    }\n",
              "\n",
              "    [theme=dark] .colab-df-convert {\n",
              "      background-color: #3B4455;\n",
              "      fill: #D2E3FC;\n",
              "    }\n",
              "\n",
              "    [theme=dark] .colab-df-convert:hover {\n",
              "      background-color: #434B5C;\n",
              "      box-shadow: 0px 1px 3px 1px rgba(0, 0, 0, 0.15);\n",
              "      filter: drop-shadow(0px 1px 2px rgba(0, 0, 0, 0.3));\n",
              "      fill: #FFFFFF;\n",
              "    }\n",
              "  </style>\n",
              "\n",
              "      <script>\n",
              "        const buttonEl =\n",
              "          document.querySelector('#df-20c19f9c-4aba-4e5c-be44-048417127e7b button.colab-df-convert');\n",
              "        buttonEl.style.display =\n",
              "          google.colab.kernel.accessAllowed ? 'block' : 'none';\n",
              "\n",
              "        async function convertToInteractive(key) {\n",
              "          const element = document.querySelector('#df-20c19f9c-4aba-4e5c-be44-048417127e7b');\n",
              "          const dataTable =\n",
              "            await google.colab.kernel.invokeFunction('convertToInteractive',\n",
              "                                                     [key], {});\n",
              "          if (!dataTable) return;\n",
              "\n",
              "          const docLinkHtml = 'Like what you see? Visit the ' +\n",
              "            '<a target=\"_blank\" href=https://colab.research.google.com/notebooks/data_table.ipynb>data table notebook</a>'\n",
              "            + ' to learn more about interactive tables.';\n",
              "          element.innerHTML = '';\n",
              "          dataTable['output_type'] = 'display_data';\n",
              "          await google.colab.output.renderOutput(dataTable, element);\n",
              "          const docLink = document.createElement('div');\n",
              "          docLink.innerHTML = docLinkHtml;\n",
              "          element.appendChild(docLink);\n",
              "        }\n",
              "      </script>\n",
              "    </div>\n",
              "  </div>\n",
              "  "
            ]
          },
          "metadata": {},
          "execution_count": 14
        }
      ]
    },
    {
      "cell_type": "code",
      "source": [
        "#Descriptive Statistics of Pandas Dataframe\n",
        "wine_quality_pandas.describe() #We can see in extra we have different quartiles also present but not in Spark Dataframe describe"
      ],
      "metadata": {
        "colab": {
          "base_uri": "https://localhost:8080/",
          "height": 362
        },
        "id": "q-JNUoU9iFgB",
        "outputId": "ec541e6e-45cb-4f3e-8cc1-e02a9b458bc7"
      },
      "execution_count": 15,
      "outputs": [
        {
          "output_type": "execute_result",
          "data": {
            "text/plain": [
              "       fixed acidity  volatile acidity  citric acid  residual sugar  \\\n",
              "count      15.000000         15.000000    15.000000       15.000000   \n",
              "mean        7.733333          0.615667     0.130000        2.546667   \n",
              "std         1.185427          0.133722     0.178846        1.559701   \n",
              "min         5.600000          0.280000     0.000000        1.200000   \n",
              "25%         7.400000          0.580000     0.000000        1.700000   \n",
              "50%         7.500000          0.615000     0.040000        1.900000   \n",
              "75%         7.800000          0.680000     0.235000        2.450000   \n",
              "max        11.200000          0.880000     0.560000        6.100000   \n",
              "\n",
              "       chlorides  free sulfur dioxide  total sulfur dioxide    density  \\\n",
              "count  15.000000            15.000000             15.000000  15.000000   \n",
              "mean    0.087800            17.133333             59.266667   0.996987   \n",
              "std     0.027949            10.425701             34.697605   0.001243   \n",
              "min     0.065000             9.000000             18.000000   0.994300   \n",
              "25%     0.072000            12.000000             34.000000   0.996600   \n",
              "50%     0.076000            15.000000             59.000000   0.997400   \n",
              "75%     0.094500            17.000000             66.000000   0.997800   \n",
              "max     0.176000            52.000000            145.000000   0.998600   \n",
              "\n",
              "              pH  sulphates    alcohol    quality  \n",
              "count  15.000000  15.000000  15.000000  15.000000  \n",
              "mean    3.345333   0.679333   9.660000   5.333333  \n",
              "std     0.133463   0.273482   0.437199   0.723747  \n",
              "min     3.160000   0.460000   9.100000   5.000000  \n",
              "25%     3.260000   0.550000   9.400000   5.000000  \n",
              "50%     3.350000   0.570000   9.500000   5.000000  \n",
              "75%     3.450000   0.740000   9.850000   5.000000  \n",
              "max     3.580000   1.560000  10.500000   7.000000  "
            ],
            "text/html": [
              "\n",
              "  <div id=\"df-a8a094fe-7d34-4767-b7b1-9d94a7c6ea39\">\n",
              "    <div class=\"colab-df-container\">\n",
              "      <div>\n",
              "<style scoped>\n",
              "    .dataframe tbody tr th:only-of-type {\n",
              "        vertical-align: middle;\n",
              "    }\n",
              "\n",
              "    .dataframe tbody tr th {\n",
              "        vertical-align: top;\n",
              "    }\n",
              "\n",
              "    .dataframe thead th {\n",
              "        text-align: right;\n",
              "    }\n",
              "</style>\n",
              "<table border=\"1\" class=\"dataframe\">\n",
              "  <thead>\n",
              "    <tr style=\"text-align: right;\">\n",
              "      <th></th>\n",
              "      <th>fixed acidity</th>\n",
              "      <th>volatile acidity</th>\n",
              "      <th>citric acid</th>\n",
              "      <th>residual sugar</th>\n",
              "      <th>chlorides</th>\n",
              "      <th>free sulfur dioxide</th>\n",
              "      <th>total sulfur dioxide</th>\n",
              "      <th>density</th>\n",
              "      <th>pH</th>\n",
              "      <th>sulphates</th>\n",
              "      <th>alcohol</th>\n",
              "      <th>quality</th>\n",
              "    </tr>\n",
              "  </thead>\n",
              "  <tbody>\n",
              "    <tr>\n",
              "      <th>count</th>\n",
              "      <td>15.000000</td>\n",
              "      <td>15.000000</td>\n",
              "      <td>15.000000</td>\n",
              "      <td>15.000000</td>\n",
              "      <td>15.000000</td>\n",
              "      <td>15.000000</td>\n",
              "      <td>15.000000</td>\n",
              "      <td>15.000000</td>\n",
              "      <td>15.000000</td>\n",
              "      <td>15.000000</td>\n",
              "      <td>15.000000</td>\n",
              "      <td>15.000000</td>\n",
              "    </tr>\n",
              "    <tr>\n",
              "      <th>mean</th>\n",
              "      <td>7.733333</td>\n",
              "      <td>0.615667</td>\n",
              "      <td>0.130000</td>\n",
              "      <td>2.546667</td>\n",
              "      <td>0.087800</td>\n",
              "      <td>17.133333</td>\n",
              "      <td>59.266667</td>\n",
              "      <td>0.996987</td>\n",
              "      <td>3.345333</td>\n",
              "      <td>0.679333</td>\n",
              "      <td>9.660000</td>\n",
              "      <td>5.333333</td>\n",
              "    </tr>\n",
              "    <tr>\n",
              "      <th>std</th>\n",
              "      <td>1.185427</td>\n",
              "      <td>0.133722</td>\n",
              "      <td>0.178846</td>\n",
              "      <td>1.559701</td>\n",
              "      <td>0.027949</td>\n",
              "      <td>10.425701</td>\n",
              "      <td>34.697605</td>\n",
              "      <td>0.001243</td>\n",
              "      <td>0.133463</td>\n",
              "      <td>0.273482</td>\n",
              "      <td>0.437199</td>\n",
              "      <td>0.723747</td>\n",
              "    </tr>\n",
              "    <tr>\n",
              "      <th>min</th>\n",
              "      <td>5.600000</td>\n",
              "      <td>0.280000</td>\n",
              "      <td>0.000000</td>\n",
              "      <td>1.200000</td>\n",
              "      <td>0.065000</td>\n",
              "      <td>9.000000</td>\n",
              "      <td>18.000000</td>\n",
              "      <td>0.994300</td>\n",
              "      <td>3.160000</td>\n",
              "      <td>0.460000</td>\n",
              "      <td>9.100000</td>\n",
              "      <td>5.000000</td>\n",
              "    </tr>\n",
              "    <tr>\n",
              "      <th>25%</th>\n",
              "      <td>7.400000</td>\n",
              "      <td>0.580000</td>\n",
              "      <td>0.000000</td>\n",
              "      <td>1.700000</td>\n",
              "      <td>0.072000</td>\n",
              "      <td>12.000000</td>\n",
              "      <td>34.000000</td>\n",
              "      <td>0.996600</td>\n",
              "      <td>3.260000</td>\n",
              "      <td>0.550000</td>\n",
              "      <td>9.400000</td>\n",
              "      <td>5.000000</td>\n",
              "    </tr>\n",
              "    <tr>\n",
              "      <th>50%</th>\n",
              "      <td>7.500000</td>\n",
              "      <td>0.615000</td>\n",
              "      <td>0.040000</td>\n",
              "      <td>1.900000</td>\n",
              "      <td>0.076000</td>\n",
              "      <td>15.000000</td>\n",
              "      <td>59.000000</td>\n",
              "      <td>0.997400</td>\n",
              "      <td>3.350000</td>\n",
              "      <td>0.570000</td>\n",
              "      <td>9.500000</td>\n",
              "      <td>5.000000</td>\n",
              "    </tr>\n",
              "    <tr>\n",
              "      <th>75%</th>\n",
              "      <td>7.800000</td>\n",
              "      <td>0.680000</td>\n",
              "      <td>0.235000</td>\n",
              "      <td>2.450000</td>\n",
              "      <td>0.094500</td>\n",
              "      <td>17.000000</td>\n",
              "      <td>66.000000</td>\n",
              "      <td>0.997800</td>\n",
              "      <td>3.450000</td>\n",
              "      <td>0.740000</td>\n",
              "      <td>9.850000</td>\n",
              "      <td>5.000000</td>\n",
              "    </tr>\n",
              "    <tr>\n",
              "      <th>max</th>\n",
              "      <td>11.200000</td>\n",
              "      <td>0.880000</td>\n",
              "      <td>0.560000</td>\n",
              "      <td>6.100000</td>\n",
              "      <td>0.176000</td>\n",
              "      <td>52.000000</td>\n",
              "      <td>145.000000</td>\n",
              "      <td>0.998600</td>\n",
              "      <td>3.580000</td>\n",
              "      <td>1.560000</td>\n",
              "      <td>10.500000</td>\n",
              "      <td>7.000000</td>\n",
              "    </tr>\n",
              "  </tbody>\n",
              "</table>\n",
              "</div>\n",
              "      <button class=\"colab-df-convert\" onclick=\"convertToInteractive('df-a8a094fe-7d34-4767-b7b1-9d94a7c6ea39')\"\n",
              "              title=\"Convert this dataframe to an interactive table.\"\n",
              "              style=\"display:none;\">\n",
              "        \n",
              "  <svg xmlns=\"http://www.w3.org/2000/svg\" height=\"24px\"viewBox=\"0 0 24 24\"\n",
              "       width=\"24px\">\n",
              "    <path d=\"M0 0h24v24H0V0z\" fill=\"none\"/>\n",
              "    <path d=\"M18.56 5.44l.94 2.06.94-2.06 2.06-.94-2.06-.94-.94-2.06-.94 2.06-2.06.94zm-11 1L8.5 8.5l.94-2.06 2.06-.94-2.06-.94L8.5 2.5l-.94 2.06-2.06.94zm10 10l.94 2.06.94-2.06 2.06-.94-2.06-.94-.94-2.06-.94 2.06-2.06.94z\"/><path d=\"M17.41 7.96l-1.37-1.37c-.4-.4-.92-.59-1.43-.59-.52 0-1.04.2-1.43.59L10.3 9.45l-7.72 7.72c-.78.78-.78 2.05 0 2.83L4 21.41c.39.39.9.59 1.41.59.51 0 1.02-.2 1.41-.59l7.78-7.78 2.81-2.81c.8-.78.8-2.07 0-2.86zM5.41 20L4 18.59l7.72-7.72 1.47 1.35L5.41 20z\"/>\n",
              "  </svg>\n",
              "      </button>\n",
              "      \n",
              "  <style>\n",
              "    .colab-df-container {\n",
              "      display:flex;\n",
              "      flex-wrap:wrap;\n",
              "      gap: 12px;\n",
              "    }\n",
              "\n",
              "    .colab-df-convert {\n",
              "      background-color: #E8F0FE;\n",
              "      border: none;\n",
              "      border-radius: 50%;\n",
              "      cursor: pointer;\n",
              "      display: none;\n",
              "      fill: #1967D2;\n",
              "      height: 32px;\n",
              "      padding: 0 0 0 0;\n",
              "      width: 32px;\n",
              "    }\n",
              "\n",
              "    .colab-df-convert:hover {\n",
              "      background-color: #E2EBFA;\n",
              "      box-shadow: 0px 1px 2px rgba(60, 64, 67, 0.3), 0px 1px 3px 1px rgba(60, 64, 67, 0.15);\n",
              "      fill: #174EA6;\n",
              "    }\n",
              "\n",
              "    [theme=dark] .colab-df-convert {\n",
              "      background-color: #3B4455;\n",
              "      fill: #D2E3FC;\n",
              "    }\n",
              "\n",
              "    [theme=dark] .colab-df-convert:hover {\n",
              "      background-color: #434B5C;\n",
              "      box-shadow: 0px 1px 3px 1px rgba(0, 0, 0, 0.15);\n",
              "      filter: drop-shadow(0px 1px 2px rgba(0, 0, 0, 0.3));\n",
              "      fill: #FFFFFF;\n",
              "    }\n",
              "  </style>\n",
              "\n",
              "      <script>\n",
              "        const buttonEl =\n",
              "          document.querySelector('#df-a8a094fe-7d34-4767-b7b1-9d94a7c6ea39 button.colab-df-convert');\n",
              "        buttonEl.style.display =\n",
              "          google.colab.kernel.accessAllowed ? 'block' : 'none';\n",
              "\n",
              "        async function convertToInteractive(key) {\n",
              "          const element = document.querySelector('#df-a8a094fe-7d34-4767-b7b1-9d94a7c6ea39');\n",
              "          const dataTable =\n",
              "            await google.colab.kernel.invokeFunction('convertToInteractive',\n",
              "                                                     [key], {});\n",
              "          if (!dataTable) return;\n",
              "\n",
              "          const docLinkHtml = 'Like what you see? Visit the ' +\n",
              "            '<a target=\"_blank\" href=https://colab.research.google.com/notebooks/data_table.ipynb>data table notebook</a>'\n",
              "            + ' to learn more about interactive tables.';\n",
              "          element.innerHTML = '';\n",
              "          dataTable['output_type'] = 'display_data';\n",
              "          await google.colab.output.renderOutput(dataTable, element);\n",
              "          const docLink = document.createElement('div');\n",
              "          docLink.innerHTML = docLinkHtml;\n",
              "          element.appendChild(docLink);\n",
              "        }\n",
              "      </script>\n",
              "    </div>\n",
              "  </div>\n",
              "  "
            ]
          },
          "metadata": {},
          "execution_count": 15
        }
      ]
    },
    {
      "cell_type": "code",
      "source": [
        "#We can do the above for Spark using Summary Function\n",
        "wine_quality.summary().toPandas()"
      ],
      "metadata": {
        "colab": {
          "base_uri": "https://localhost:8080/",
          "height": 382
        },
        "id": "-nB0wSeZiZzY",
        "outputId": "37ab03fb-4099-4976-96cc-25aae6d77549"
      },
      "execution_count": 16,
      "outputs": [
        {
          "output_type": "execute_result",
          "data": {
            "text/plain": [
              "  summary       fixed acidity     volatile acidity          citric acid  \\\n",
              "0   count                1599                 1599                 1599   \n",
              "1    mean   8.319637273295838   0.5278205128205131   0.2709756097560964   \n",
              "2  stddev  1.7410963181276948  0.17905970415353525  0.19480113740531824   \n",
              "3     min                 4.6                 0.12                  0.0   \n",
              "4     25%                 7.1                 0.39                 0.09   \n",
              "5     50%                 7.9                 0.52                 0.26   \n",
              "6     75%                 9.2                 0.64                 0.42   \n",
              "7     max                15.9                 1.58                  1.0   \n",
              "\n",
              "       residual sugar             chlorides free sulfur dioxide  \\\n",
              "0                1599                  1599                1599   \n",
              "1  2.5388055034396517   0.08746654158849257  15.874921826141339   \n",
              "2    1.40992805950728  0.047065302010090085   10.46015696980971   \n",
              "3                 0.9                 0.012                 1.0   \n",
              "4                 1.9                  0.07                 7.0   \n",
              "5                 2.2                 0.079                14.0   \n",
              "6                 2.6                  0.09                21.0   \n",
              "7                15.5                 0.611                72.0   \n",
              "\n",
              "  total sulfur dioxide                density                   pH  \\\n",
              "0                 1599                   1599                 1599   \n",
              "1    46.46779237023139     0.9967466791744833    3.311113195747343   \n",
              "2    32.89532447829907  0.0018873339538427278  0.15438646490354271   \n",
              "3                  6.0     0.9900700000000001                 2.74   \n",
              "4                 22.0                 0.9956                 3.21   \n",
              "5                 38.0                0.99675                 3.31   \n",
              "6                 62.0                0.99784                  3.4   \n",
              "7                289.0                1.00369                 4.01   \n",
              "\n",
              "            sulphates             alcohol             quality  \n",
              "0                1599                1599                1599  \n",
              "1  0.6581488430268921  10.422983114446502  5.6360225140712945  \n",
              "2  0.1695069795901101  1.0656675818473935  0.8075694397347051  \n",
              "3                0.33                 8.4                   3  \n",
              "4                0.55                 9.5                   5  \n",
              "5                0.62                10.2                   6  \n",
              "6                0.73                11.1                   6  \n",
              "7                 2.0                14.9                   8  "
            ],
            "text/html": [
              "\n",
              "  <div id=\"df-77db17f9-fb14-403a-83b8-ff448e3747b9\">\n",
              "    <div class=\"colab-df-container\">\n",
              "      <div>\n",
              "<style scoped>\n",
              "    .dataframe tbody tr th:only-of-type {\n",
              "        vertical-align: middle;\n",
              "    }\n",
              "\n",
              "    .dataframe tbody tr th {\n",
              "        vertical-align: top;\n",
              "    }\n",
              "\n",
              "    .dataframe thead th {\n",
              "        text-align: right;\n",
              "    }\n",
              "</style>\n",
              "<table border=\"1\" class=\"dataframe\">\n",
              "  <thead>\n",
              "    <tr style=\"text-align: right;\">\n",
              "      <th></th>\n",
              "      <th>summary</th>\n",
              "      <th>fixed acidity</th>\n",
              "      <th>volatile acidity</th>\n",
              "      <th>citric acid</th>\n",
              "      <th>residual sugar</th>\n",
              "      <th>chlorides</th>\n",
              "      <th>free sulfur dioxide</th>\n",
              "      <th>total sulfur dioxide</th>\n",
              "      <th>density</th>\n",
              "      <th>pH</th>\n",
              "      <th>sulphates</th>\n",
              "      <th>alcohol</th>\n",
              "      <th>quality</th>\n",
              "    </tr>\n",
              "  </thead>\n",
              "  <tbody>\n",
              "    <tr>\n",
              "      <th>0</th>\n",
              "      <td>count</td>\n",
              "      <td>1599</td>\n",
              "      <td>1599</td>\n",
              "      <td>1599</td>\n",
              "      <td>1599</td>\n",
              "      <td>1599</td>\n",
              "      <td>1599</td>\n",
              "      <td>1599</td>\n",
              "      <td>1599</td>\n",
              "      <td>1599</td>\n",
              "      <td>1599</td>\n",
              "      <td>1599</td>\n",
              "      <td>1599</td>\n",
              "    </tr>\n",
              "    <tr>\n",
              "      <th>1</th>\n",
              "      <td>mean</td>\n",
              "      <td>8.319637273295838</td>\n",
              "      <td>0.5278205128205131</td>\n",
              "      <td>0.2709756097560964</td>\n",
              "      <td>2.5388055034396517</td>\n",
              "      <td>0.08746654158849257</td>\n",
              "      <td>15.874921826141339</td>\n",
              "      <td>46.46779237023139</td>\n",
              "      <td>0.9967466791744833</td>\n",
              "      <td>3.311113195747343</td>\n",
              "      <td>0.6581488430268921</td>\n",
              "      <td>10.422983114446502</td>\n",
              "      <td>5.6360225140712945</td>\n",
              "    </tr>\n",
              "    <tr>\n",
              "      <th>2</th>\n",
              "      <td>stddev</td>\n",
              "      <td>1.7410963181276948</td>\n",
              "      <td>0.17905970415353525</td>\n",
              "      <td>0.19480113740531824</td>\n",
              "      <td>1.40992805950728</td>\n",
              "      <td>0.047065302010090085</td>\n",
              "      <td>10.46015696980971</td>\n",
              "      <td>32.89532447829907</td>\n",
              "      <td>0.0018873339538427278</td>\n",
              "      <td>0.15438646490354271</td>\n",
              "      <td>0.1695069795901101</td>\n",
              "      <td>1.0656675818473935</td>\n",
              "      <td>0.8075694397347051</td>\n",
              "    </tr>\n",
              "    <tr>\n",
              "      <th>3</th>\n",
              "      <td>min</td>\n",
              "      <td>4.6</td>\n",
              "      <td>0.12</td>\n",
              "      <td>0.0</td>\n",
              "      <td>0.9</td>\n",
              "      <td>0.012</td>\n",
              "      <td>1.0</td>\n",
              "      <td>6.0</td>\n",
              "      <td>0.9900700000000001</td>\n",
              "      <td>2.74</td>\n",
              "      <td>0.33</td>\n",
              "      <td>8.4</td>\n",
              "      <td>3</td>\n",
              "    </tr>\n",
              "    <tr>\n",
              "      <th>4</th>\n",
              "      <td>25%</td>\n",
              "      <td>7.1</td>\n",
              "      <td>0.39</td>\n",
              "      <td>0.09</td>\n",
              "      <td>1.9</td>\n",
              "      <td>0.07</td>\n",
              "      <td>7.0</td>\n",
              "      <td>22.0</td>\n",
              "      <td>0.9956</td>\n",
              "      <td>3.21</td>\n",
              "      <td>0.55</td>\n",
              "      <td>9.5</td>\n",
              "      <td>5</td>\n",
              "    </tr>\n",
              "    <tr>\n",
              "      <th>5</th>\n",
              "      <td>50%</td>\n",
              "      <td>7.9</td>\n",
              "      <td>0.52</td>\n",
              "      <td>0.26</td>\n",
              "      <td>2.2</td>\n",
              "      <td>0.079</td>\n",
              "      <td>14.0</td>\n",
              "      <td>38.0</td>\n",
              "      <td>0.99675</td>\n",
              "      <td>3.31</td>\n",
              "      <td>0.62</td>\n",
              "      <td>10.2</td>\n",
              "      <td>6</td>\n",
              "    </tr>\n",
              "    <tr>\n",
              "      <th>6</th>\n",
              "      <td>75%</td>\n",
              "      <td>9.2</td>\n",
              "      <td>0.64</td>\n",
              "      <td>0.42</td>\n",
              "      <td>2.6</td>\n",
              "      <td>0.09</td>\n",
              "      <td>21.0</td>\n",
              "      <td>62.0</td>\n",
              "      <td>0.99784</td>\n",
              "      <td>3.4</td>\n",
              "      <td>0.73</td>\n",
              "      <td>11.1</td>\n",
              "      <td>6</td>\n",
              "    </tr>\n",
              "    <tr>\n",
              "      <th>7</th>\n",
              "      <td>max</td>\n",
              "      <td>15.9</td>\n",
              "      <td>1.58</td>\n",
              "      <td>1.0</td>\n",
              "      <td>15.5</td>\n",
              "      <td>0.611</td>\n",
              "      <td>72.0</td>\n",
              "      <td>289.0</td>\n",
              "      <td>1.00369</td>\n",
              "      <td>4.01</td>\n",
              "      <td>2.0</td>\n",
              "      <td>14.9</td>\n",
              "      <td>8</td>\n",
              "    </tr>\n",
              "  </tbody>\n",
              "</table>\n",
              "</div>\n",
              "      <button class=\"colab-df-convert\" onclick=\"convertToInteractive('df-77db17f9-fb14-403a-83b8-ff448e3747b9')\"\n",
              "              title=\"Convert this dataframe to an interactive table.\"\n",
              "              style=\"display:none;\">\n",
              "        \n",
              "  <svg xmlns=\"http://www.w3.org/2000/svg\" height=\"24px\"viewBox=\"0 0 24 24\"\n",
              "       width=\"24px\">\n",
              "    <path d=\"M0 0h24v24H0V0z\" fill=\"none\"/>\n",
              "    <path d=\"M18.56 5.44l.94 2.06.94-2.06 2.06-.94-2.06-.94-.94-2.06-.94 2.06-2.06.94zm-11 1L8.5 8.5l.94-2.06 2.06-.94-2.06-.94L8.5 2.5l-.94 2.06-2.06.94zm10 10l.94 2.06.94-2.06 2.06-.94-2.06-.94-.94-2.06-.94 2.06-2.06.94z\"/><path d=\"M17.41 7.96l-1.37-1.37c-.4-.4-.92-.59-1.43-.59-.52 0-1.04.2-1.43.59L10.3 9.45l-7.72 7.72c-.78.78-.78 2.05 0 2.83L4 21.41c.39.39.9.59 1.41.59.51 0 1.02-.2 1.41-.59l7.78-7.78 2.81-2.81c.8-.78.8-2.07 0-2.86zM5.41 20L4 18.59l7.72-7.72 1.47 1.35L5.41 20z\"/>\n",
              "  </svg>\n",
              "      </button>\n",
              "      \n",
              "  <style>\n",
              "    .colab-df-container {\n",
              "      display:flex;\n",
              "      flex-wrap:wrap;\n",
              "      gap: 12px;\n",
              "    }\n",
              "\n",
              "    .colab-df-convert {\n",
              "      background-color: #E8F0FE;\n",
              "      border: none;\n",
              "      border-radius: 50%;\n",
              "      cursor: pointer;\n",
              "      display: none;\n",
              "      fill: #1967D2;\n",
              "      height: 32px;\n",
              "      padding: 0 0 0 0;\n",
              "      width: 32px;\n",
              "    }\n",
              "\n",
              "    .colab-df-convert:hover {\n",
              "      background-color: #E2EBFA;\n",
              "      box-shadow: 0px 1px 2px rgba(60, 64, 67, 0.3), 0px 1px 3px 1px rgba(60, 64, 67, 0.15);\n",
              "      fill: #174EA6;\n",
              "    }\n",
              "\n",
              "    [theme=dark] .colab-df-convert {\n",
              "      background-color: #3B4455;\n",
              "      fill: #D2E3FC;\n",
              "    }\n",
              "\n",
              "    [theme=dark] .colab-df-convert:hover {\n",
              "      background-color: #434B5C;\n",
              "      box-shadow: 0px 1px 3px 1px rgba(0, 0, 0, 0.15);\n",
              "      filter: drop-shadow(0px 1px 2px rgba(0, 0, 0, 0.3));\n",
              "      fill: #FFFFFF;\n",
              "    }\n",
              "  </style>\n",
              "\n",
              "      <script>\n",
              "        const buttonEl =\n",
              "          document.querySelector('#df-77db17f9-fb14-403a-83b8-ff448e3747b9 button.colab-df-convert');\n",
              "        buttonEl.style.display =\n",
              "          google.colab.kernel.accessAllowed ? 'block' : 'none';\n",
              "\n",
              "        async function convertToInteractive(key) {\n",
              "          const element = document.querySelector('#df-77db17f9-fb14-403a-83b8-ff448e3747b9');\n",
              "          const dataTable =\n",
              "            await google.colab.kernel.invokeFunction('convertToInteractive',\n",
              "                                                     [key], {});\n",
              "          if (!dataTable) return;\n",
              "\n",
              "          const docLinkHtml = 'Like what you see? Visit the ' +\n",
              "            '<a target=\"_blank\" href=https://colab.research.google.com/notebooks/data_table.ipynb>data table notebook</a>'\n",
              "            + ' to learn more about interactive tables.';\n",
              "          element.innerHTML = '';\n",
              "          dataTable['output_type'] = 'display_data';\n",
              "          await google.colab.output.renderOutput(dataTable, element);\n",
              "          const docLink = document.createElement('div');\n",
              "          docLink.innerHTML = docLinkHtml;\n",
              "          element.appendChild(docLink);\n",
              "        }\n",
              "      </script>\n",
              "    </div>\n",
              "  </div>\n",
              "  "
            ]
          },
          "metadata": {},
          "execution_count": 16
        }
      ]
    },
    {
      "cell_type": "code",
      "source": [
        "#Standard Stats for a single Spark Dataframe Column\n",
        "wine_quality.describe(['fixed acidity']).toPandas()"
      ],
      "metadata": {
        "colab": {
          "base_uri": "https://localhost:8080/",
          "height": 206
        },
        "id": "EultI6sbiskY",
        "outputId": "3fdb49dc-ecca-4368-f4cd-96f311060e0f"
      },
      "execution_count": 17,
      "outputs": [
        {
          "output_type": "execute_result",
          "data": {
            "text/plain": [
              "  summary       fixed acidity\n",
              "0   count                1599\n",
              "1    mean   8.319637273295838\n",
              "2  stddev  1.7410963181276948\n",
              "3     min                 4.6\n",
              "4     max                15.9"
            ],
            "text/html": [
              "\n",
              "  <div id=\"df-93e9c1bd-b5c4-4c65-b2aa-17376c7ce2b3\">\n",
              "    <div class=\"colab-df-container\">\n",
              "      <div>\n",
              "<style scoped>\n",
              "    .dataframe tbody tr th:only-of-type {\n",
              "        vertical-align: middle;\n",
              "    }\n",
              "\n",
              "    .dataframe tbody tr th {\n",
              "        vertical-align: top;\n",
              "    }\n",
              "\n",
              "    .dataframe thead th {\n",
              "        text-align: right;\n",
              "    }\n",
              "</style>\n",
              "<table border=\"1\" class=\"dataframe\">\n",
              "  <thead>\n",
              "    <tr style=\"text-align: right;\">\n",
              "      <th></th>\n",
              "      <th>summary</th>\n",
              "      <th>fixed acidity</th>\n",
              "    </tr>\n",
              "  </thead>\n",
              "  <tbody>\n",
              "    <tr>\n",
              "      <th>0</th>\n",
              "      <td>count</td>\n",
              "      <td>1599</td>\n",
              "    </tr>\n",
              "    <tr>\n",
              "      <th>1</th>\n",
              "      <td>mean</td>\n",
              "      <td>8.319637273295838</td>\n",
              "    </tr>\n",
              "    <tr>\n",
              "      <th>2</th>\n",
              "      <td>stddev</td>\n",
              "      <td>1.7410963181276948</td>\n",
              "    </tr>\n",
              "    <tr>\n",
              "      <th>3</th>\n",
              "      <td>min</td>\n",
              "      <td>4.6</td>\n",
              "    </tr>\n",
              "    <tr>\n",
              "      <th>4</th>\n",
              "      <td>max</td>\n",
              "      <td>15.9</td>\n",
              "    </tr>\n",
              "  </tbody>\n",
              "</table>\n",
              "</div>\n",
              "      <button class=\"colab-df-convert\" onclick=\"convertToInteractive('df-93e9c1bd-b5c4-4c65-b2aa-17376c7ce2b3')\"\n",
              "              title=\"Convert this dataframe to an interactive table.\"\n",
              "              style=\"display:none;\">\n",
              "        \n",
              "  <svg xmlns=\"http://www.w3.org/2000/svg\" height=\"24px\"viewBox=\"0 0 24 24\"\n",
              "       width=\"24px\">\n",
              "    <path d=\"M0 0h24v24H0V0z\" fill=\"none\"/>\n",
              "    <path d=\"M18.56 5.44l.94 2.06.94-2.06 2.06-.94-2.06-.94-.94-2.06-.94 2.06-2.06.94zm-11 1L8.5 8.5l.94-2.06 2.06-.94-2.06-.94L8.5 2.5l-.94 2.06-2.06.94zm10 10l.94 2.06.94-2.06 2.06-.94-2.06-.94-.94-2.06-.94 2.06-2.06.94z\"/><path d=\"M17.41 7.96l-1.37-1.37c-.4-.4-.92-.59-1.43-.59-.52 0-1.04.2-1.43.59L10.3 9.45l-7.72 7.72c-.78.78-.78 2.05 0 2.83L4 21.41c.39.39.9.59 1.41.59.51 0 1.02-.2 1.41-.59l7.78-7.78 2.81-2.81c.8-.78.8-2.07 0-2.86zM5.41 20L4 18.59l7.72-7.72 1.47 1.35L5.41 20z\"/>\n",
              "  </svg>\n",
              "      </button>\n",
              "      \n",
              "  <style>\n",
              "    .colab-df-container {\n",
              "      display:flex;\n",
              "      flex-wrap:wrap;\n",
              "      gap: 12px;\n",
              "    }\n",
              "\n",
              "    .colab-df-convert {\n",
              "      background-color: #E8F0FE;\n",
              "      border: none;\n",
              "      border-radius: 50%;\n",
              "      cursor: pointer;\n",
              "      display: none;\n",
              "      fill: #1967D2;\n",
              "      height: 32px;\n",
              "      padding: 0 0 0 0;\n",
              "      width: 32px;\n",
              "    }\n",
              "\n",
              "    .colab-df-convert:hover {\n",
              "      background-color: #E2EBFA;\n",
              "      box-shadow: 0px 1px 2px rgba(60, 64, 67, 0.3), 0px 1px 3px 1px rgba(60, 64, 67, 0.15);\n",
              "      fill: #174EA6;\n",
              "    }\n",
              "\n",
              "    [theme=dark] .colab-df-convert {\n",
              "      background-color: #3B4455;\n",
              "      fill: #D2E3FC;\n",
              "    }\n",
              "\n",
              "    [theme=dark] .colab-df-convert:hover {\n",
              "      background-color: #434B5C;\n",
              "      box-shadow: 0px 1px 3px 1px rgba(0, 0, 0, 0.15);\n",
              "      filter: drop-shadow(0px 1px 2px rgba(0, 0, 0, 0.3));\n",
              "      fill: #FFFFFF;\n",
              "    }\n",
              "  </style>\n",
              "\n",
              "      <script>\n",
              "        const buttonEl =\n",
              "          document.querySelector('#df-93e9c1bd-b5c4-4c65-b2aa-17376c7ce2b3 button.colab-df-convert');\n",
              "        buttonEl.style.display =\n",
              "          google.colab.kernel.accessAllowed ? 'block' : 'none';\n",
              "\n",
              "        async function convertToInteractive(key) {\n",
              "          const element = document.querySelector('#df-93e9c1bd-b5c4-4c65-b2aa-17376c7ce2b3');\n",
              "          const dataTable =\n",
              "            await google.colab.kernel.invokeFunction('convertToInteractive',\n",
              "                                                     [key], {});\n",
              "          if (!dataTable) return;\n",
              "\n",
              "          const docLinkHtml = 'Like what you see? Visit the ' +\n",
              "            '<a target=\"_blank\" href=https://colab.research.google.com/notebooks/data_table.ipynb>data table notebook</a>'\n",
              "            + ' to learn more about interactive tables.';\n",
              "          element.innerHTML = '';\n",
              "          dataTable['output_type'] = 'display_data';\n",
              "          await google.colab.output.renderOutput(dataTable, element);\n",
              "          const docLink = document.createElement('div');\n",
              "          docLink.innerHTML = docLinkHtml;\n",
              "          element.appendChild(docLink);\n",
              "        }\n",
              "      </script>\n",
              "    </div>\n",
              "  </div>\n",
              "  "
            ]
          },
          "metadata": {},
          "execution_count": 17
        }
      ]
    },
    {
      "cell_type": "code",
      "source": [
        "#Same thing above can be written as:\n",
        "wine_quality.select(\"fixed acidity\").summary().toPandas()"
      ],
      "metadata": {
        "colab": {
          "base_uri": "https://localhost:8080/",
          "height": 300
        },
        "id": "bkX7FIHIi0Jf",
        "outputId": "5401c46f-6d52-4aeb-a210-a46a529e3285"
      },
      "execution_count": 18,
      "outputs": [
        {
          "output_type": "execute_result",
          "data": {
            "text/plain": [
              "  summary       fixed acidity\n",
              "0   count                1599\n",
              "1    mean   8.319637273295838\n",
              "2  stddev  1.7410963181276948\n",
              "3     min                 4.6\n",
              "4     25%                 7.1\n",
              "5     50%                 7.9\n",
              "6     75%                 9.2\n",
              "7     max                15.9"
            ],
            "text/html": [
              "\n",
              "  <div id=\"df-1e7c301c-3a70-4edd-b89d-d2a46ac05b6b\">\n",
              "    <div class=\"colab-df-container\">\n",
              "      <div>\n",
              "<style scoped>\n",
              "    .dataframe tbody tr th:only-of-type {\n",
              "        vertical-align: middle;\n",
              "    }\n",
              "\n",
              "    .dataframe tbody tr th {\n",
              "        vertical-align: top;\n",
              "    }\n",
              "\n",
              "    .dataframe thead th {\n",
              "        text-align: right;\n",
              "    }\n",
              "</style>\n",
              "<table border=\"1\" class=\"dataframe\">\n",
              "  <thead>\n",
              "    <tr style=\"text-align: right;\">\n",
              "      <th></th>\n",
              "      <th>summary</th>\n",
              "      <th>fixed acidity</th>\n",
              "    </tr>\n",
              "  </thead>\n",
              "  <tbody>\n",
              "    <tr>\n",
              "      <th>0</th>\n",
              "      <td>count</td>\n",
              "      <td>1599</td>\n",
              "    </tr>\n",
              "    <tr>\n",
              "      <th>1</th>\n",
              "      <td>mean</td>\n",
              "      <td>8.319637273295838</td>\n",
              "    </tr>\n",
              "    <tr>\n",
              "      <th>2</th>\n",
              "      <td>stddev</td>\n",
              "      <td>1.7410963181276948</td>\n",
              "    </tr>\n",
              "    <tr>\n",
              "      <th>3</th>\n",
              "      <td>min</td>\n",
              "      <td>4.6</td>\n",
              "    </tr>\n",
              "    <tr>\n",
              "      <th>4</th>\n",
              "      <td>25%</td>\n",
              "      <td>7.1</td>\n",
              "    </tr>\n",
              "    <tr>\n",
              "      <th>5</th>\n",
              "      <td>50%</td>\n",
              "      <td>7.9</td>\n",
              "    </tr>\n",
              "    <tr>\n",
              "      <th>6</th>\n",
              "      <td>75%</td>\n",
              "      <td>9.2</td>\n",
              "    </tr>\n",
              "    <tr>\n",
              "      <th>7</th>\n",
              "      <td>max</td>\n",
              "      <td>15.9</td>\n",
              "    </tr>\n",
              "  </tbody>\n",
              "</table>\n",
              "</div>\n",
              "      <button class=\"colab-df-convert\" onclick=\"convertToInteractive('df-1e7c301c-3a70-4edd-b89d-d2a46ac05b6b')\"\n",
              "              title=\"Convert this dataframe to an interactive table.\"\n",
              "              style=\"display:none;\">\n",
              "        \n",
              "  <svg xmlns=\"http://www.w3.org/2000/svg\" height=\"24px\"viewBox=\"0 0 24 24\"\n",
              "       width=\"24px\">\n",
              "    <path d=\"M0 0h24v24H0V0z\" fill=\"none\"/>\n",
              "    <path d=\"M18.56 5.44l.94 2.06.94-2.06 2.06-.94-2.06-.94-.94-2.06-.94 2.06-2.06.94zm-11 1L8.5 8.5l.94-2.06 2.06-.94-2.06-.94L8.5 2.5l-.94 2.06-2.06.94zm10 10l.94 2.06.94-2.06 2.06-.94-2.06-.94-.94-2.06-.94 2.06-2.06.94z\"/><path d=\"M17.41 7.96l-1.37-1.37c-.4-.4-.92-.59-1.43-.59-.52 0-1.04.2-1.43.59L10.3 9.45l-7.72 7.72c-.78.78-.78 2.05 0 2.83L4 21.41c.39.39.9.59 1.41.59.51 0 1.02-.2 1.41-.59l7.78-7.78 2.81-2.81c.8-.78.8-2.07 0-2.86zM5.41 20L4 18.59l7.72-7.72 1.47 1.35L5.41 20z\"/>\n",
              "  </svg>\n",
              "      </button>\n",
              "      \n",
              "  <style>\n",
              "    .colab-df-container {\n",
              "      display:flex;\n",
              "      flex-wrap:wrap;\n",
              "      gap: 12px;\n",
              "    }\n",
              "\n",
              "    .colab-df-convert {\n",
              "      background-color: #E8F0FE;\n",
              "      border: none;\n",
              "      border-radius: 50%;\n",
              "      cursor: pointer;\n",
              "      display: none;\n",
              "      fill: #1967D2;\n",
              "      height: 32px;\n",
              "      padding: 0 0 0 0;\n",
              "      width: 32px;\n",
              "    }\n",
              "\n",
              "    .colab-df-convert:hover {\n",
              "      background-color: #E2EBFA;\n",
              "      box-shadow: 0px 1px 2px rgba(60, 64, 67, 0.3), 0px 1px 3px 1px rgba(60, 64, 67, 0.15);\n",
              "      fill: #174EA6;\n",
              "    }\n",
              "\n",
              "    [theme=dark] .colab-df-convert {\n",
              "      background-color: #3B4455;\n",
              "      fill: #D2E3FC;\n",
              "    }\n",
              "\n",
              "    [theme=dark] .colab-df-convert:hover {\n",
              "      background-color: #434B5C;\n",
              "      box-shadow: 0px 1px 3px 1px rgba(0, 0, 0, 0.15);\n",
              "      filter: drop-shadow(0px 1px 2px rgba(0, 0, 0, 0.3));\n",
              "      fill: #FFFFFF;\n",
              "    }\n",
              "  </style>\n",
              "\n",
              "      <script>\n",
              "        const buttonEl =\n",
              "          document.querySelector('#df-1e7c301c-3a70-4edd-b89d-d2a46ac05b6b button.colab-df-convert');\n",
              "        buttonEl.style.display =\n",
              "          google.colab.kernel.accessAllowed ? 'block' : 'none';\n",
              "\n",
              "        async function convertToInteractive(key) {\n",
              "          const element = document.querySelector('#df-1e7c301c-3a70-4edd-b89d-d2a46ac05b6b');\n",
              "          const dataTable =\n",
              "            await google.colab.kernel.invokeFunction('convertToInteractive',\n",
              "                                                     [key], {});\n",
              "          if (!dataTable) return;\n",
              "\n",
              "          const docLinkHtml = 'Like what you see? Visit the ' +\n",
              "            '<a target=\"_blank\" href=https://colab.research.google.com/notebooks/data_table.ipynb>data table notebook</a>'\n",
              "            + ' to learn more about interactive tables.';\n",
              "          element.innerHTML = '';\n",
              "          dataTable['output_type'] = 'display_data';\n",
              "          await google.colab.output.renderOutput(dataTable, element);\n",
              "          const docLink = document.createElement('div');\n",
              "          docLink.innerHTML = docLinkHtml;\n",
              "          element.appendChild(docLink);\n",
              "        }\n",
              "      </script>\n",
              "    </div>\n",
              "  </div>\n",
              "  "
            ]
          },
          "metadata": {},
          "execution_count": 18
        }
      ]
    },
    {
      "cell_type": "code",
      "source": [
        "#For Multiple Columns \n",
        "wine_quality.select(\"fixed acidity\",\"chlorides\").summary().toPandas()"
      ],
      "metadata": {
        "colab": {
          "base_uri": "https://localhost:8080/",
          "height": 300
        },
        "id": "ogipVuASjeGE",
        "outputId": "cd0d0430-d4b0-4254-ebcc-9b856769c658"
      },
      "execution_count": 19,
      "outputs": [
        {
          "output_type": "execute_result",
          "data": {
            "text/plain": [
              "  summary       fixed acidity             chlorides\n",
              "0   count                1599                  1599\n",
              "1    mean   8.319637273295838   0.08746654158849257\n",
              "2  stddev  1.7410963181276948  0.047065302010090085\n",
              "3     min                 4.6                 0.012\n",
              "4     25%                 7.1                  0.07\n",
              "5     50%                 7.9                 0.079\n",
              "6     75%                 9.2                  0.09\n",
              "7     max                15.9                 0.611"
            ],
            "text/html": [
              "\n",
              "  <div id=\"df-1b6f72e7-9cf6-4704-9507-37aaa1f56468\">\n",
              "    <div class=\"colab-df-container\">\n",
              "      <div>\n",
              "<style scoped>\n",
              "    .dataframe tbody tr th:only-of-type {\n",
              "        vertical-align: middle;\n",
              "    }\n",
              "\n",
              "    .dataframe tbody tr th {\n",
              "        vertical-align: top;\n",
              "    }\n",
              "\n",
              "    .dataframe thead th {\n",
              "        text-align: right;\n",
              "    }\n",
              "</style>\n",
              "<table border=\"1\" class=\"dataframe\">\n",
              "  <thead>\n",
              "    <tr style=\"text-align: right;\">\n",
              "      <th></th>\n",
              "      <th>summary</th>\n",
              "      <th>fixed acidity</th>\n",
              "      <th>chlorides</th>\n",
              "    </tr>\n",
              "  </thead>\n",
              "  <tbody>\n",
              "    <tr>\n",
              "      <th>0</th>\n",
              "      <td>count</td>\n",
              "      <td>1599</td>\n",
              "      <td>1599</td>\n",
              "    </tr>\n",
              "    <tr>\n",
              "      <th>1</th>\n",
              "      <td>mean</td>\n",
              "      <td>8.319637273295838</td>\n",
              "      <td>0.08746654158849257</td>\n",
              "    </tr>\n",
              "    <tr>\n",
              "      <th>2</th>\n",
              "      <td>stddev</td>\n",
              "      <td>1.7410963181276948</td>\n",
              "      <td>0.047065302010090085</td>\n",
              "    </tr>\n",
              "    <tr>\n",
              "      <th>3</th>\n",
              "      <td>min</td>\n",
              "      <td>4.6</td>\n",
              "      <td>0.012</td>\n",
              "    </tr>\n",
              "    <tr>\n",
              "      <th>4</th>\n",
              "      <td>25%</td>\n",
              "      <td>7.1</td>\n",
              "      <td>0.07</td>\n",
              "    </tr>\n",
              "    <tr>\n",
              "      <th>5</th>\n",
              "      <td>50%</td>\n",
              "      <td>7.9</td>\n",
              "      <td>0.079</td>\n",
              "    </tr>\n",
              "    <tr>\n",
              "      <th>6</th>\n",
              "      <td>75%</td>\n",
              "      <td>9.2</td>\n",
              "      <td>0.09</td>\n",
              "    </tr>\n",
              "    <tr>\n",
              "      <th>7</th>\n",
              "      <td>max</td>\n",
              "      <td>15.9</td>\n",
              "      <td>0.611</td>\n",
              "    </tr>\n",
              "  </tbody>\n",
              "</table>\n",
              "</div>\n",
              "      <button class=\"colab-df-convert\" onclick=\"convertToInteractive('df-1b6f72e7-9cf6-4704-9507-37aaa1f56468')\"\n",
              "              title=\"Convert this dataframe to an interactive table.\"\n",
              "              style=\"display:none;\">\n",
              "        \n",
              "  <svg xmlns=\"http://www.w3.org/2000/svg\" height=\"24px\"viewBox=\"0 0 24 24\"\n",
              "       width=\"24px\">\n",
              "    <path d=\"M0 0h24v24H0V0z\" fill=\"none\"/>\n",
              "    <path d=\"M18.56 5.44l.94 2.06.94-2.06 2.06-.94-2.06-.94-.94-2.06-.94 2.06-2.06.94zm-11 1L8.5 8.5l.94-2.06 2.06-.94-2.06-.94L8.5 2.5l-.94 2.06-2.06.94zm10 10l.94 2.06.94-2.06 2.06-.94-2.06-.94-.94-2.06-.94 2.06-2.06.94z\"/><path d=\"M17.41 7.96l-1.37-1.37c-.4-.4-.92-.59-1.43-.59-.52 0-1.04.2-1.43.59L10.3 9.45l-7.72 7.72c-.78.78-.78 2.05 0 2.83L4 21.41c.39.39.9.59 1.41.59.51 0 1.02-.2 1.41-.59l7.78-7.78 2.81-2.81c.8-.78.8-2.07 0-2.86zM5.41 20L4 18.59l7.72-7.72 1.47 1.35L5.41 20z\"/>\n",
              "  </svg>\n",
              "      </button>\n",
              "      \n",
              "  <style>\n",
              "    .colab-df-container {\n",
              "      display:flex;\n",
              "      flex-wrap:wrap;\n",
              "      gap: 12px;\n",
              "    }\n",
              "\n",
              "    .colab-df-convert {\n",
              "      background-color: #E8F0FE;\n",
              "      border: none;\n",
              "      border-radius: 50%;\n",
              "      cursor: pointer;\n",
              "      display: none;\n",
              "      fill: #1967D2;\n",
              "      height: 32px;\n",
              "      padding: 0 0 0 0;\n",
              "      width: 32px;\n",
              "    }\n",
              "\n",
              "    .colab-df-convert:hover {\n",
              "      background-color: #E2EBFA;\n",
              "      box-shadow: 0px 1px 2px rgba(60, 64, 67, 0.3), 0px 1px 3px 1px rgba(60, 64, 67, 0.15);\n",
              "      fill: #174EA6;\n",
              "    }\n",
              "\n",
              "    [theme=dark] .colab-df-convert {\n",
              "      background-color: #3B4455;\n",
              "      fill: #D2E3FC;\n",
              "    }\n",
              "\n",
              "    [theme=dark] .colab-df-convert:hover {\n",
              "      background-color: #434B5C;\n",
              "      box-shadow: 0px 1px 3px 1px rgba(0, 0, 0, 0.15);\n",
              "      filter: drop-shadow(0px 1px 2px rgba(0, 0, 0, 0.3));\n",
              "      fill: #FFFFFF;\n",
              "    }\n",
              "  </style>\n",
              "\n",
              "      <script>\n",
              "        const buttonEl =\n",
              "          document.querySelector('#df-1b6f72e7-9cf6-4704-9507-37aaa1f56468 button.colab-df-convert');\n",
              "        buttonEl.style.display =\n",
              "          google.colab.kernel.accessAllowed ? 'block' : 'none';\n",
              "\n",
              "        async function convertToInteractive(key) {\n",
              "          const element = document.querySelector('#df-1b6f72e7-9cf6-4704-9507-37aaa1f56468');\n",
              "          const dataTable =\n",
              "            await google.colab.kernel.invokeFunction('convertToInteractive',\n",
              "                                                     [key], {});\n",
              "          if (!dataTable) return;\n",
              "\n",
              "          const docLinkHtml = 'Like what you see? Visit the ' +\n",
              "            '<a target=\"_blank\" href=https://colab.research.google.com/notebooks/data_table.ipynb>data table notebook</a>'\n",
              "            + ' to learn more about interactive tables.';\n",
              "          element.innerHTML = '';\n",
              "          dataTable['output_type'] = 'display_data';\n",
              "          await google.colab.output.renderOutput(dataTable, element);\n",
              "          const docLink = document.createElement('div');\n",
              "          docLink.innerHTML = docLinkHtml;\n",
              "          element.appendChild(docLink);\n",
              "        }\n",
              "      </script>\n",
              "    </div>\n",
              "  </div>\n",
              "  "
            ]
          },
          "metadata": {},
          "execution_count": 19
        }
      ]
    },
    {
      "cell_type": "code",
      "source": [
        "#Schema Modifications: Suppose we want to change datatype of certain columns, we can perform this using below codes when reading the file itself\n",
        "\n",
        "from pyspark.sql.types import StructField,StringType,IntegerType,StructType,DateType, DoubleType\n",
        "data_schema = [StructField(\"fixed acidity\", DoubleType(), True),\n",
        "               StructField(\"citric acid\", DoubleType(), True),\n",
        "               StructField(\"chlorides\", DoubleType(), True),\n",
        "               StructField(\"pH\", DoubleType(), True),\n",
        "               StructField(\"sulphates\", DoubleType(), True),\n",
        "               StructField(\"density\", DoubleType(), True)]\n",
        "\n",
        "final_struc = StructType(fields=data_schema)\n",
        "\n",
        "wine_quality_new = spark.read.csv(\"/content/sample_data/winequality-red.csv\", schema = final_struc)\n",
        "wine_quality_new.printSchema()\n"
      ],
      "metadata": {
        "colab": {
          "base_uri": "https://localhost:8080/"
        },
        "id": "8qRk6EM0jmSp",
        "outputId": "43c74a0d-0202-42cb-9944-79ae8e5221b8"
      },
      "execution_count": 20,
      "outputs": [
        {
          "output_type": "stream",
          "name": "stdout",
          "text": [
            "root\n",
            " |-- fixed acidity: double (nullable = true)\n",
            " |-- citric acid: double (nullable = true)\n",
            " |-- chlorides: double (nullable = true)\n",
            " |-- pH: double (nullable = true)\n",
            " |-- sulphates: double (nullable = true)\n",
            " |-- density: double (nullable = true)\n",
            "\n"
          ]
        }
      ]
    },
    {
      "cell_type": "code",
      "source": [
        "#Exporting File into csv\n",
        "wine_quality.write.csv(\"/tmp/spark_output/datacsv\")"
      ],
      "metadata": {
        "id": "1bq_BiVkkjJc"
      },
      "execution_count": 21,
      "outputs": []
    },
    {
      "cell_type": "code",
      "source": [
        "#Saving File in Partitions by Categorical Column\n",
        "#Suppose there are 6 unique values of quality. Then 6 files will be created for each but quality column will not be present there and even header is not there\n",
        "wine_quality.write.mode(\"overwrite\").partitionBy(\"quality\").csv(\"partitioned_by_quality_csv/\")"
      ],
      "metadata": {
        "id": "x6YJtYf8lSzM"
      },
      "execution_count": 22,
      "outputs": []
    },
    {
      "cell_type": "markdown",
      "source": [
        "USE OF SELECT IN SPARK DATAFRAME"
      ],
      "metadata": {
        "id": "uyCMXTCEnkcv"
      }
    },
    {
      "cell_type": "code",
      "source": [
        "#Select Functions in DatasFrame\n",
        "wine_quality.select(['fixed acidity','sulphates','pH']).show()"
      ],
      "metadata": {
        "colab": {
          "base_uri": "https://localhost:8080/"
        },
        "id": "-C5muidUlhAI",
        "outputId": "2ddc41ad-0a0f-4575-cc1e-1ce2fd44afd3"
      },
      "execution_count": 23,
      "outputs": [
        {
          "output_type": "stream",
          "name": "stdout",
          "text": [
            "+-------------+---------+----+\n",
            "|fixed acidity|sulphates|  pH|\n",
            "+-------------+---------+----+\n",
            "|          7.4|     0.56|3.51|\n",
            "|          7.8|     0.68| 3.2|\n",
            "|          7.8|     0.65|3.26|\n",
            "|         11.2|     0.58|3.16|\n",
            "|          7.4|     0.56|3.51|\n",
            "|          7.4|     0.56|3.51|\n",
            "|          7.9|     0.46| 3.3|\n",
            "|          7.3|     0.47|3.39|\n",
            "|          7.8|     0.57|3.36|\n",
            "|          7.5|      0.8|3.35|\n",
            "|          6.7|     0.54|3.28|\n",
            "|          7.5|      0.8|3.35|\n",
            "|          5.6|     0.52|3.58|\n",
            "|          7.8|     1.56|3.26|\n",
            "|          8.9|     0.88|3.16|\n",
            "|          8.9|     0.93|3.17|\n",
            "|          8.5|     0.75| 3.3|\n",
            "|          8.1|     1.28|3.11|\n",
            "|          7.4|      0.5|3.38|\n",
            "|          7.9|     1.08|3.04|\n",
            "+-------------+---------+----+\n",
            "only showing top 20 rows\n",
            "\n"
          ]
        }
      ]
    },
    {
      "cell_type": "code",
      "source": [
        "#Implementing Order by\n",
        "wine_quality.select(['fixed acidity','sulphates','pH', 'quality']).orderBy(\"quality\").show(3) #Ascending Order"
      ],
      "metadata": {
        "colab": {
          "base_uri": "https://localhost:8080/"
        },
        "id": "4ODOgJRtmu82",
        "outputId": "860a4060-6436-4a6e-8b12-a4f3ffba7b79"
      },
      "execution_count": 24,
      "outputs": [
        {
          "output_type": "stream",
          "name": "stdout",
          "text": [
            "+-------------+---------+----+-------+\n",
            "|fixed acidity|sulphates|  pH|quality|\n",
            "+-------------+---------+----+-------+\n",
            "|         11.6|     0.57|3.25|      3|\n",
            "|         10.4|     0.86|3.38|      3|\n",
            "|         10.4|     0.63|3.16|      3|\n",
            "+-------------+---------+----+-------+\n",
            "only showing top 3 rows\n",
            "\n"
          ]
        }
      ]
    },
    {
      "cell_type": "code",
      "source": [
        "#Implementing Order by\n",
        "wine_quality.select(['fixed acidity','sulphates','pH', 'quality']).orderBy(wine_quality[\"quality\"].desc()).show(3) #Descending Order"
      ],
      "metadata": {
        "colab": {
          "base_uri": "https://localhost:8080/"
        },
        "id": "cd64heQ8n5vC",
        "outputId": "e6116562-8b12-4c07-f789-b78bffa67f0d"
      },
      "execution_count": 25,
      "outputs": [
        {
          "output_type": "stream",
          "name": "stdout",
          "text": [
            "+-------------+---------+----+-------+\n",
            "|fixed acidity|sulphates|  pH|quality|\n",
            "+-------------+---------+----+-------+\n",
            "|          7.9|     0.86|3.35|      8|\n",
            "|         12.6|     0.82|2.88|      8|\n",
            "|         10.3|     0.82|3.23|      8|\n",
            "+-------------+---------+----+-------+\n",
            "only showing top 3 rows\n",
            "\n"
          ]
        }
      ]
    },
    {
      "cell_type": "code",
      "source": [
        "#isin Command: In Pyspark, the isin() function doesn't require a list but the values directly as arguments\n",
        "print(wine_quality[wine_quality.quality.isin(5, 6)].limit(4).show())\n",
        "print(wine_quality[wine_quality.quality.isin(5, 6)].limit(4).toPandas()) #For better viewing\n"
      ],
      "metadata": {
        "colab": {
          "base_uri": "https://localhost:8080/"
        },
        "id": "_fDSq2ZtoLd-",
        "outputId": "00d92329-ff37-47e0-8409-66c8ad0ee86d"
      },
      "execution_count": 26,
      "outputs": [
        {
          "output_type": "stream",
          "name": "stdout",
          "text": [
            "+-------------+----------------+-----------+--------------+---------+-------------------+--------------------+-------+----+---------+-------+-------+\n",
            "|fixed acidity|volatile acidity|citric acid|residual sugar|chlorides|free sulfur dioxide|total sulfur dioxide|density|  pH|sulphates|alcohol|quality|\n",
            "+-------------+----------------+-----------+--------------+---------+-------------------+--------------------+-------+----+---------+-------+-------+\n",
            "|          7.4|             0.7|        0.0|           1.9|    0.076|               11.0|                34.0| 0.9978|3.51|     0.56|    9.4|      5|\n",
            "|          7.8|            0.88|        0.0|           2.6|    0.098|               25.0|                67.0| 0.9968| 3.2|     0.68|    9.8|      5|\n",
            "|          7.8|            0.76|       0.04|           2.3|    0.092|               15.0|                54.0|  0.997|3.26|     0.65|    9.8|      5|\n",
            "|         11.2|            0.28|       0.56|           1.9|    0.075|               17.0|                60.0|  0.998|3.16|     0.58|    9.8|      6|\n",
            "+-------------+----------------+-----------+--------------+---------+-------------------+--------------------+-------+----+---------+-------+-------+\n",
            "\n",
            "None\n",
            "   fixed acidity  volatile acidity  citric acid  residual sugar  chlorides  \\\n",
            "0            7.4              0.70         0.00             1.9      0.076   \n",
            "1            7.8              0.88         0.00             2.6      0.098   \n",
            "2            7.8              0.76         0.04             2.3      0.092   \n",
            "3           11.2              0.28         0.56             1.9      0.075   \n",
            "\n",
            "   free sulfur dioxide  total sulfur dioxide  density    pH  sulphates  \\\n",
            "0                 11.0                  34.0   0.9978  3.51       0.56   \n",
            "1                 25.0                  67.0   0.9968  3.20       0.68   \n",
            "2                 15.0                  54.0   0.9970  3.26       0.65   \n",
            "3                 17.0                  60.0   0.9980  3.16       0.58   \n",
            "\n",
            "   alcohol  quality  \n",
            "0      9.4        5  \n",
            "1      9.8        5  \n",
            "2      9.8        5  \n",
            "3      9.8        6  \n"
          ]
        }
      ]
    },
    {
      "cell_type": "markdown",
      "source": [
        "**SLICING DATAFRAME**"
      ],
      "metadata": {
        "id": "B5Ck5QB8pYwP"
      }
    },
    {
      "cell_type": "code",
      "source": [
        "#Row Count\n",
        "print(wine_quality.count()) #1599\n",
        "#Columns Count\n",
        "print(len(wine_quality.columns)) #12\n",
        "#Sliced Rows\n",
        "df_sliced = wine_quality.limit(100)\n",
        "print(df_sliced.show())\n",
        "print(df_sliced.count()) #100\n",
        "#Sliced Columns\n",
        "cols_list = wine_quality.columns[0:3]\n",
        "df_sliced_cols = wine_quality.select(cols_list)\n",
        "print(df_sliced_cols.show())\n",
        "print(df_sliced_cols.count()) #1599"
      ],
      "metadata": {
        "colab": {
          "base_uri": "https://localhost:8080/"
        },
        "id": "mg7RAIKRob59",
        "outputId": "8fa24f36-4be6-4cf0-c5fb-6e1e57789757"
      },
      "execution_count": 27,
      "outputs": [
        {
          "output_type": "stream",
          "name": "stdout",
          "text": [
            "1599\n",
            "12\n",
            "+-------------+----------------+-----------+--------------+-------------------+-------------------+--------------------+-------+----+---------+-------+-------+\n",
            "|fixed acidity|volatile acidity|citric acid|residual sugar|          chlorides|free sulfur dioxide|total sulfur dioxide|density|  pH|sulphates|alcohol|quality|\n",
            "+-------------+----------------+-----------+--------------+-------------------+-------------------+--------------------+-------+----+---------+-------+-------+\n",
            "|          7.4|             0.7|        0.0|           1.9|              0.076|               11.0|                34.0| 0.9978|3.51|     0.56|    9.4|      5|\n",
            "|          7.8|            0.88|        0.0|           2.6|              0.098|               25.0|                67.0| 0.9968| 3.2|     0.68|    9.8|      5|\n",
            "|          7.8|            0.76|       0.04|           2.3|              0.092|               15.0|                54.0|  0.997|3.26|     0.65|    9.8|      5|\n",
            "|         11.2|            0.28|       0.56|           1.9|              0.075|               17.0|                60.0|  0.998|3.16|     0.58|    9.8|      6|\n",
            "|          7.4|             0.7|        0.0|           1.9|              0.076|               11.0|                34.0| 0.9978|3.51|     0.56|    9.4|      5|\n",
            "|          7.4|            0.66|        0.0|           1.8|              0.075|               13.0|                40.0| 0.9978|3.51|     0.56|    9.4|      5|\n",
            "|          7.9|             0.6|       0.06|           1.6|              0.069|               15.0|                59.0| 0.9964| 3.3|     0.46|    9.4|      5|\n",
            "|          7.3|            0.65|        0.0|           1.2|              0.065|               15.0|                21.0| 0.9946|3.39|     0.47|   10.0|      7|\n",
            "|          7.8|            0.58|       0.02|           2.0|              0.073|                9.0|                18.0| 0.9968|3.36|     0.57|    9.5|      7|\n",
            "|          7.5|             0.5|       0.36|           6.1|              0.071|               17.0|               102.0| 0.9978|3.35|      0.8|   10.5|      5|\n",
            "|          6.7|            0.58|       0.08|           1.8|0.09699999999999999|               15.0|                65.0| 0.9959|3.28|     0.54|    9.2|      5|\n",
            "|          7.5|             0.5|       0.36|           6.1|              0.071|               17.0|               102.0| 0.9978|3.35|      0.8|   10.5|      5|\n",
            "|          5.6|           0.615|        0.0|           1.6|0.08900000000000001|               16.0|                59.0| 0.9943|3.58|     0.52|    9.9|      5|\n",
            "|          7.8|            0.61|       0.29|           1.6|              0.114|                9.0|                29.0| 0.9974|3.26|     1.56|    9.1|      5|\n",
            "|          8.9|            0.62|       0.18|           3.8|0.17600000000000002|               52.0|               145.0| 0.9986|3.16|     0.88|    9.2|      5|\n",
            "|          8.9|            0.62|       0.19|           3.9|               0.17|               51.0|               148.0| 0.9986|3.17|     0.93|    9.2|      5|\n",
            "|          8.5|            0.28|       0.56|           1.8|              0.092|               35.0|               103.0| 0.9969| 3.3|     0.75|   10.5|      7|\n",
            "|          8.1|            0.56|       0.28|           1.7|              0.368|               16.0|                56.0| 0.9968|3.11|     1.28|    9.3|      5|\n",
            "|          7.4|            0.59|       0.08|           4.4|              0.086|                6.0|                29.0| 0.9974|3.38|      0.5|    9.0|      4|\n",
            "|          7.9|            0.32|       0.51|           1.8|              0.341|               17.0|                56.0| 0.9969|3.04|     1.08|    9.2|      6|\n",
            "+-------------+----------------+-----------+--------------+-------------------+-------------------+--------------------+-------+----+---------+-------+-------+\n",
            "only showing top 20 rows\n",
            "\n",
            "None\n",
            "100\n",
            "+-------------+----------------+-----------+\n",
            "|fixed acidity|volatile acidity|citric acid|\n",
            "+-------------+----------------+-----------+\n",
            "|          7.4|             0.7|        0.0|\n",
            "|          7.8|            0.88|        0.0|\n",
            "|          7.8|            0.76|       0.04|\n",
            "|         11.2|            0.28|       0.56|\n",
            "|          7.4|             0.7|        0.0|\n",
            "|          7.4|            0.66|        0.0|\n",
            "|          7.9|             0.6|       0.06|\n",
            "|          7.3|            0.65|        0.0|\n",
            "|          7.8|            0.58|       0.02|\n",
            "|          7.5|             0.5|       0.36|\n",
            "|          6.7|            0.58|       0.08|\n",
            "|          7.5|             0.5|       0.36|\n",
            "|          5.6|           0.615|        0.0|\n",
            "|          7.8|            0.61|       0.29|\n",
            "|          8.9|            0.62|       0.18|\n",
            "|          8.9|            0.62|       0.19|\n",
            "|          8.5|            0.28|       0.56|\n",
            "|          8.1|            0.56|       0.28|\n",
            "|          7.4|            0.59|       0.08|\n",
            "|          7.9|            0.32|       0.51|\n",
            "+-------------+----------------+-----------+\n",
            "only showing top 20 rows\n",
            "\n",
            "None\n",
            "1599\n"
          ]
        }
      ]
    },
    {
      "cell_type": "markdown",
      "source": [
        "FILTERING DATAFRAME"
      ],
      "metadata": {
        "id": "-yb4MPreMkN2"
      }
    },
    {
      "cell_type": "code",
      "source": [
        "#Using Where Construct\n",
        "wine_quality.select(\"pH\",\"quality\").where(wine_quality.pH.startswith(\"3\")) \\\n",
        "                                  .where(wine_quality.pH.endswith(\"1\")).limit(4).show()"
      ],
      "metadata": {
        "colab": {
          "base_uri": "https://localhost:8080/"
        },
        "id": "FZbaZkEKq1dy",
        "outputId": "a632411d-7c08-4325-b057-72750cf4a8bb"
      },
      "execution_count": 28,
      "outputs": [
        {
          "output_type": "stream",
          "name": "stdout",
          "text": [
            "+----+-------+\n",
            "|  pH|quality|\n",
            "+----+-------+\n",
            "|3.51|      5|\n",
            "|3.51|      5|\n",
            "|3.51|      5|\n",
            "|3.11|      5|\n",
            "+----+-------+\n",
            "\n"
          ]
        }
      ]
    },
    {
      "cell_type": "code",
      "source": [
        "#Filtering a Dataframe with SQL 'Like' Operation\n",
        "wine_quality.select('fixed acidity','sulphates','pH', 'quality').where(wine_quality.pH.like(\"%5\")).show(50,False) "
      ],
      "metadata": {
        "colab": {
          "base_uri": "https://localhost:8080/"
        },
        "id": "PImuBomwNY0w",
        "outputId": "48c6cd56-b872-4ad6-aa02-409b1bb08690"
      },
      "execution_count": 29,
      "outputs": [
        {
          "output_type": "stream",
          "name": "stdout",
          "text": [
            "+-------------+---------+----+-------+\n",
            "|fixed acidity|sulphates|pH  |quality|\n",
            "+-------------+---------+----+-------+\n",
            "|7.5          |0.8      |3.35|5      |\n",
            "|7.5          |0.8      |3.35|5      |\n",
            "|6.7          |0.54     |3.35|5      |\n",
            "|6.9          |0.52     |3.45|6      |\n",
            "|5.7          |0.48     |3.5 |4      |\n",
            "|7.7          |0.73     |3.25|5      |\n",
            "|8.7          |0.58     |3.25|5      |\n",
            "|8.8          |0.74     |3.15|5      |\n",
            "|5.0          |0.48     |3.75|4      |\n",
            "|4.7          |0.6      |3.85|6      |\n",
            "|6.8          |0.56     |3.45|5      |\n",
            "|7.0          |0.63     |3.25|5      |\n",
            "|8.4          |0.66     |3.15|5      |\n",
            "|8.4          |0.66     |3.15|5      |\n",
            "|7.5          |0.54     |3.35|5      |\n",
            "|7.5          |0.54     |3.35|5      |\n",
            "|6.9          |0.78     |3.35|5      |\n",
            "|7.8          |0.54     |3.25|5      |\n",
            "|8.0          |0.56     |3.35|6      |\n",
            "|7.4          |0.57     |3.15|5      |\n",
            "|7.7          |0.48     |3.35|6      |\n",
            "|7.0          |0.6      |3.35|4      |\n",
            "|7.9          |0.86     |3.35|8      |\n",
            "|7.7          |1.08     |3.25|7      |\n",
            "|13.3         |0.81     |3.05|6      |\n",
            "|10.8         |0.64     |3.05|5      |\n",
            "|11.6         |0.74     |3.05|7      |\n",
            "|8.9          |0.7      |3.35|6      |\n",
            "|9.1          |0.83     |3.35|6      |\n",
            "|6.1          |0.59     |3.25|6      |\n",
            "|6.7          |0.61     |3.55|6      |\n",
            "|11.9         |0.85     |3.15|7      |\n",
            "|11.9         |0.56     |3.05|5      |\n",
            "|7.4          |0.63     |3.05|5      |\n",
            "|11.4         |0.63     |3.15|6      |\n",
            "|12.5         |0.57     |3.05|4      |\n",
            "|10.5         |0.9      |3.15|7      |\n",
            "|10.5         |0.9      |3.15|7      |\n",
            "|7.8          |0.56     |3.25|5      |\n",
            "|10.4         |0.89     |3.15|6      |\n",
            "|10.4         |0.89     |3.15|6      |\n",
            "|15.6         |0.68     |2.95|7      |\n",
            "|7.0          |0.63     |3.5 |5      |\n",
            "|11.6         |0.57     |3.25|3      |\n",
            "|9.2          |0.61     |3.35|6      |\n",
            "|13.0         |0.61     |3.05|5      |\n",
            "|12.5         |0.82     |3.15|6      |\n",
            "|9.4          |0.92     |3.15|8      |\n",
            "|10.7         |0.65     |3.15|8      |\n",
            "|10.7         |0.65     |3.15|8      |\n",
            "+-------------+---------+----+-------+\n",
            "only showing top 50 rows\n",
            "\n"
          ]
        }
      ]
    },
    {
      "cell_type": "code",
      "source": [
        "#Using Filter Construct\n",
        "wine_quality.filter(\"pH>3 and sulphates>0.6\").limit(10).show()\n",
        "#For Better viewing\n",
        "#wine_quality.filter(\"pH>3 and sulphates>0.6\").limit(10).toPandas()"
      ],
      "metadata": {
        "colab": {
          "base_uri": "https://localhost:8080/"
        },
        "id": "IXnuHbKeOIHQ",
        "outputId": "88c87896-04fc-41bc-9c1e-13b8687be51d"
      },
      "execution_count": 30,
      "outputs": [
        {
          "output_type": "stream",
          "name": "stdout",
          "text": [
            "+-------------+----------------+-----------+--------------+-------------------+-------------------+--------------------+-------+----+---------+-------+-------+\n",
            "|fixed acidity|volatile acidity|citric acid|residual sugar|          chlorides|free sulfur dioxide|total sulfur dioxide|density|  pH|sulphates|alcohol|quality|\n",
            "+-------------+----------------+-----------+--------------+-------------------+-------------------+--------------------+-------+----+---------+-------+-------+\n",
            "|          7.8|            0.88|        0.0|           2.6|              0.098|               25.0|                67.0| 0.9968| 3.2|     0.68|    9.8|      5|\n",
            "|          7.8|            0.76|       0.04|           2.3|              0.092|               15.0|                54.0|  0.997|3.26|     0.65|    9.8|      5|\n",
            "|          7.5|             0.5|       0.36|           6.1|              0.071|               17.0|               102.0| 0.9978|3.35|      0.8|   10.5|      5|\n",
            "|          7.5|             0.5|       0.36|           6.1|              0.071|               17.0|               102.0| 0.9978|3.35|      0.8|   10.5|      5|\n",
            "|          7.8|            0.61|       0.29|           1.6|              0.114|                9.0|                29.0| 0.9974|3.26|     1.56|    9.1|      5|\n",
            "|          8.9|            0.62|       0.18|           3.8|0.17600000000000002|               52.0|               145.0| 0.9986|3.16|     0.88|    9.2|      5|\n",
            "|          8.9|            0.62|       0.19|           3.9|               0.17|               51.0|               148.0| 0.9986|3.17|     0.93|    9.2|      5|\n",
            "|          8.5|            0.28|       0.56|           1.8|              0.092|               35.0|               103.0| 0.9969| 3.3|     0.75|   10.5|      7|\n",
            "|          8.1|            0.56|       0.28|           1.7|              0.368|               16.0|                56.0| 0.9968|3.11|     1.28|    9.3|      5|\n",
            "|          7.9|            0.32|       0.51|           1.8|              0.341|               17.0|                56.0| 0.9969|3.04|     1.08|    9.2|      6|\n",
            "+-------------+----------------+-----------+--------------+-------------------+-------------------+--------------------+-------+----+---------+-------+-------+\n",
            "\n"
          ]
        }
      ]
    },
    {
      "cell_type": "code",
      "source": [
        "#Example of Multiple Filters\n",
        "wine_quality.filter(\"pH>3 and sulphates<0.6 and density like '%0.997%'\").limit(4).show()"
      ],
      "metadata": {
        "colab": {
          "base_uri": "https://localhost:8080/"
        },
        "id": "j8UQRccNSNEB",
        "outputId": "0061fcc9-44ea-4707-b880-e39985172a1f"
      },
      "execution_count": 31,
      "outputs": [
        {
          "output_type": "stream",
          "name": "stdout",
          "text": [
            "+-------------+----------------+-----------+--------------+---------+-------------------+--------------------+-------+----+---------+-------+-------+\n",
            "|fixed acidity|volatile acidity|citric acid|residual sugar|chlorides|free sulfur dioxide|total sulfur dioxide|density|  pH|sulphates|alcohol|quality|\n",
            "+-------------+----------------+-----------+--------------+---------+-------------------+--------------------+-------+----+---------+-------+-------+\n",
            "|          7.4|             0.7|        0.0|           1.9|    0.076|               11.0|                34.0| 0.9978|3.51|     0.56|    9.4|      5|\n",
            "|          7.4|             0.7|        0.0|           1.9|    0.076|               11.0|                34.0| 0.9978|3.51|     0.56|    9.4|      5|\n",
            "|          7.4|            0.66|        0.0|           1.8|    0.075|               13.0|                40.0| 0.9978|3.51|     0.56|    9.4|      5|\n",
            "|          7.4|            0.59|       0.08|           4.4|    0.086|                6.0|                29.0| 0.9974|3.38|      0.5|    9.0|      4|\n",
            "+-------------+----------------+-----------+--------------+---------+-------------------+--------------------+-------+----+---------+-------+-------+\n",
            "\n"
          ]
        }
      ]
    },
    {
      "cell_type": "code",
      "source": [
        "#Another Example\n",
        "wine_quality.filter(\"pH>3 and sulphates<0.6 and density not like '%0.997%'\").limit(4).show()"
      ],
      "metadata": {
        "colab": {
          "base_uri": "https://localhost:8080/"
        },
        "id": "zXmAETzHSh_8",
        "outputId": "80bd6543-04b4-4248-a5d1-6cadb7636abb"
      },
      "execution_count": 32,
      "outputs": [
        {
          "output_type": "stream",
          "name": "stdout",
          "text": [
            "+-------------+----------------+-----------+--------------+---------+-------------------+--------------------+-------+----+---------+-------+-------+\n",
            "|fixed acidity|volatile acidity|citric acid|residual sugar|chlorides|free sulfur dioxide|total sulfur dioxide|density|  pH|sulphates|alcohol|quality|\n",
            "+-------------+----------------+-----------+--------------+---------+-------------------+--------------------+-------+----+---------+-------+-------+\n",
            "|         11.2|            0.28|       0.56|           1.9|    0.075|               17.0|                60.0|  0.998|3.16|     0.58|    9.8|      6|\n",
            "|          7.9|             0.6|       0.06|           1.6|    0.069|               15.0|                59.0| 0.9964| 3.3|     0.46|    9.4|      5|\n",
            "|          7.3|            0.65|        0.0|           1.2|    0.065|               15.0|                21.0| 0.9946|3.39|     0.47|   10.0|      7|\n",
            "|          7.8|            0.58|       0.02|           2.0|    0.073|                9.0|                18.0| 0.9968|3.36|     0.57|    9.5|      7|\n",
            "+-------------+----------------+-----------+--------------+---------+-------------------+--------------------+-------+----+---------+-------+-------+\n",
            "\n"
          ]
        }
      ]
    },
    {
      "cell_type": "code",
      "source": [
        "#Using DataFrame Style Filters (I like this)\n",
        "## or condition\n",
        "wine_quality.filter( (wine_quality.pH  == 3.0) | (wine_quality.quality  == 5) ).limit(5).show()\n"
      ],
      "metadata": {
        "colab": {
          "base_uri": "https://localhost:8080/"
        },
        "id": "a-Ym8E2bSqQd",
        "outputId": "4c66ec8f-adcc-4595-8e43-dff0039de3d8"
      },
      "execution_count": 33,
      "outputs": [
        {
          "output_type": "stream",
          "name": "stdout",
          "text": [
            "+-------------+----------------+-----------+--------------+---------+-------------------+--------------------+-------+----+---------+-------+-------+\n",
            "|fixed acidity|volatile acidity|citric acid|residual sugar|chlorides|free sulfur dioxide|total sulfur dioxide|density|  pH|sulphates|alcohol|quality|\n",
            "+-------------+----------------+-----------+--------------+---------+-------------------+--------------------+-------+----+---------+-------+-------+\n",
            "|          7.4|             0.7|        0.0|           1.9|    0.076|               11.0|                34.0| 0.9978|3.51|     0.56|    9.4|      5|\n",
            "|          7.8|            0.88|        0.0|           2.6|    0.098|               25.0|                67.0| 0.9968| 3.2|     0.68|    9.8|      5|\n",
            "|          7.8|            0.76|       0.04|           2.3|    0.092|               15.0|                54.0|  0.997|3.26|     0.65|    9.8|      5|\n",
            "|          7.4|             0.7|        0.0|           1.9|    0.076|               11.0|                34.0| 0.9978|3.51|     0.56|    9.4|      5|\n",
            "|          7.4|            0.66|        0.0|           1.8|    0.075|               13.0|                40.0| 0.9978|3.51|     0.56|    9.4|      5|\n",
            "+-------------+----------------+-----------+--------------+---------+-------------------+--------------------+-------+----+---------+-------+-------+\n",
            "\n"
          ]
        }
      ]
    },
    {
      "cell_type": "code",
      "source": [
        "## and condition\n",
        "wine_quality.filter( (wine_quality.pH  == 3.0) & (wine_quality.quality  == 5) ).limit(5).show()"
      ],
      "metadata": {
        "colab": {
          "base_uri": "https://localhost:8080/"
        },
        "id": "QNzkDljiTRXR",
        "outputId": "0d1bd0e4-b535-43f6-a99c-6dc9b8d03c46"
      },
      "execution_count": 34,
      "outputs": [
        {
          "output_type": "stream",
          "name": "stdout",
          "text": [
            "+-------------+----------------+-----------+--------------+---------+-------------------+--------------------+-------+---+---------+-------+-------+\n",
            "|fixed acidity|volatile acidity|citric acid|residual sugar|chlorides|free sulfur dioxide|total sulfur dioxide|density| pH|sulphates|alcohol|quality|\n",
            "+-------------+----------------+-----------+--------------+---------+-------------------+--------------------+-------+---+---------+-------+-------+\n",
            "|          7.5|           0.705|       0.24|           1.8|     0.36|               15.0|                63.0| 0.9964|3.0|     1.59|    9.5|      5|\n",
            "|          8.9|           0.635|       0.37|           1.7|    0.263|                5.0|                62.0| 0.9971|3.0|     1.09|    9.3|      5|\n",
            "|          8.7|            0.78|       0.51|           1.7|    0.415|               12.0|                66.0|0.99623|3.0|     1.17|    9.2|      5|\n",
            "|          8.7|            0.78|       0.51|           1.7|    0.415|               12.0|                66.0|0.99623|3.0|     1.17|    9.2|      5|\n",
            "+-------------+----------------+-----------+--------------+---------+-------------------+--------------------+-------+---+---------+-------+-------+\n",
            "\n"
          ]
        }
      ]
    },
    {
      "cell_type": "code",
      "source": [
        "## and and not equal to\n",
        "wine_quality.filter( (wine_quality.pH  == 3.0) & (wine_quality.quality  != 5) ).limit(5).show()"
      ],
      "metadata": {
        "colab": {
          "base_uri": "https://localhost:8080/"
        },
        "id": "Qax-TEPiTXAw",
        "outputId": "1fc95731-6a78-4b8b-d8d3-5a19bb73b39b"
      },
      "execution_count": 35,
      "outputs": [
        {
          "output_type": "stream",
          "name": "stdout",
          "text": [
            "+-------------+----------------+-----------+--------------+-------------------+-------------------+--------------------+-------+---+---------+-------+-------+\n",
            "|fixed acidity|volatile acidity|citric acid|residual sugar|          chlorides|free sulfur dioxide|total sulfur dioxide|density| pH|sulphates|alcohol|quality|\n",
            "+-------------+----------------+-----------+--------------+-------------------+-------------------+--------------------+-------+---+---------+-------+-------+\n",
            "|         11.9|            0.37|       0.69|           2.3|              0.078|               12.0|                24.0| 0.9958|3.0|     0.65|   12.8|      6|\n",
            "|         12.7|            0.59|       0.45|           2.3|0.08199999999999999|               11.0|                22.0|    1.0|3.0|      0.7|    9.3|      6|\n",
            "+-------------+----------------+-----------+--------------+-------------------+-------------------+--------------------+-------+---+---------+-------+-------+\n",
            "\n"
          ]
        }
      ]
    },
    {
      "cell_type": "markdown",
      "source": [
        "**STRING BASED FILTER**"
      ],
      "metadata": {
        "id": "hm9sktg8TsW5"
      }
    },
    {
      "cell_type": "code",
      "source": [
        "#Starts with\n",
        "wine_quality.filter(wine_quality.pH.startswith(\"2\")).limit(5).show()"
      ],
      "metadata": {
        "colab": {
          "base_uri": "https://localhost:8080/"
        },
        "id": "06MhqaROTc7c",
        "outputId": "997ef7dc-5be4-4e92-a3e4-6a00672f8e63"
      },
      "execution_count": 36,
      "outputs": [
        {
          "output_type": "stream",
          "name": "stdout",
          "text": [
            "+-------------+----------------+-----------+--------------+---------+-------------------+--------------------+-------+----+---------+-------+-------+\n",
            "|fixed acidity|volatile acidity|citric acid|residual sugar|chlorides|free sulfur dioxide|total sulfur dioxide|density|  pH|sulphates|alcohol|quality|\n",
            "+-------------+----------------+-----------+--------------+---------+-------------------+--------------------+-------+----+---------+-------+-------+\n",
            "|          8.6|            0.49|       0.28|           1.9|     0.11|               20.0|               136.0| 0.9972|2.93|     1.95|    9.9|      6|\n",
            "|          8.6|            0.49|       0.28|           1.9|     0.11|               20.0|               136.0| 0.9972|2.93|     1.95|    9.9|      6|\n",
            "|          8.6|            0.49|       0.29|           2.0|     0.11|               19.0|               133.0| 0.9972|2.93|     1.98|    9.8|      5|\n",
            "|          9.2|            0.52|        1.0|           3.4|     0.61|               32.0|                69.0| 0.9996|2.74|      2.0|    9.4|      4|\n",
            "|         12.5|            0.46|       0.63|           2.0|    0.071|                6.0|                15.0| 0.9988|2.99|     0.87|   10.2|      5|\n",
            "+-------------+----------------+-----------+--------------+---------+-------------------+--------------------+-------+----+---------+-------+-------+\n",
            "\n"
          ]
        }
      ]
    },
    {
      "cell_type": "code",
      "source": [
        "#Ends with\n",
        "wine_quality.filter(wine_quality.pH.endswith(\"9\")).limit(5).show()"
      ],
      "metadata": {
        "colab": {
          "base_uri": "https://localhost:8080/"
        },
        "id": "VPyaQpdrT1DO",
        "outputId": "ccb46bbb-7c11-4dd9-93c8-eadb82c13a1e"
      },
      "execution_count": 37,
      "outputs": [
        {
          "output_type": "stream",
          "name": "stdout",
          "text": [
            "+-------------+----------------+-----------+--------------+--------------------+-------------------+--------------------+-------+----+---------+-------+-------+\n",
            "|fixed acidity|volatile acidity|citric acid|residual sugar|           chlorides|free sulfur dioxide|total sulfur dioxide|density|  pH|sulphates|alcohol|quality|\n",
            "+-------------+----------------+-----------+--------------+--------------------+-------------------+--------------------+-------+----+---------+-------+-------+\n",
            "|          7.3|            0.65|        0.0|           1.2|               0.065|               15.0|                21.0| 0.9946|3.39|     0.47|   10.0|      7|\n",
            "|          8.9|            0.22|       0.48|           1.8|               0.077|               29.0|                60.0| 0.9968|3.39|     0.53|    9.4|      6|\n",
            "|          4.6|            0.52|       0.15|           2.1|0.054000000000000006|                8.0|                65.0| 0.9934| 3.9|     0.56|   13.1|      4|\n",
            "|          6.6|             0.5|       0.04|           2.1|               0.068|                6.0|                14.0| 0.9955|3.39|     0.64|    9.4|      6|\n",
            "|          7.0|           0.735|       0.05|           2.0|               0.081|               13.0|                54.0| 0.9966|3.39|     0.57|    9.8|      5|\n",
            "+-------------+----------------+-----------+--------------+--------------------+-------------------+--------------------+-------+----+---------+-------+-------+\n",
            "\n"
          ]
        }
      ]
    },
    {
      "cell_type": "code",
      "source": [
        "#Contains\n",
        "wine_quality.filter(wine_quality.pH.contains(\"4\")).limit(5).show()"
      ],
      "metadata": {
        "colab": {
          "base_uri": "https://localhost:8080/"
        },
        "id": "njIdPfEnT5Za",
        "outputId": "ddfd49bb-d4a2-4608-850e-c432a280d136"
      },
      "execution_count": 38,
      "outputs": [
        {
          "output_type": "stream",
          "name": "stdout",
          "text": [
            "+-------------+----------------+-----------+--------------+---------+-------------------+--------------------+-------+----+---------+-------+-------+\n",
            "|fixed acidity|volatile acidity|citric acid|residual sugar|chlorides|free sulfur dioxide|total sulfur dioxide|density|  pH|sulphates|alcohol|quality|\n",
            "+-------------+----------------+-----------+--------------+---------+-------------------+--------------------+-------+----+---------+-------+-------+\n",
            "|          7.9|            0.32|       0.51|           1.8|    0.341|               17.0|                56.0| 0.9969|3.04|     1.08|    9.2|      6|\n",
            "|          6.9|             0.4|       0.14|           2.4|    0.085|               21.0|                40.0| 0.9968|3.43|     0.63|    9.7|      6|\n",
            "|          6.3|            0.39|       0.16|           1.4|     0.08|               11.0|                23.0| 0.9955|3.34|     0.56|    9.3|      5|\n",
            "|          7.1|            0.71|        0.0|           1.9|     0.08|               14.0|                35.0| 0.9972|3.47|     0.55|    9.4|      5|\n",
            "|          6.9|           0.685|        0.0|           2.5|    0.105|               22.0|                37.0| 0.9966|3.46|     0.57|   10.6|      6|\n",
            "+-------------+----------------+-----------+--------------+---------+-------------------+--------------------+-------+----+---------+-------+-------+\n",
            "\n"
          ]
        }
      ]
    },
    {
      "cell_type": "markdown",
      "source": [
        "NULL FILTERS"
      ],
      "metadata": {
        "id": "13Jvxyb9UJ3c"
      }
    },
    {
      "cell_type": "code",
      "source": [
        "## null check\n",
        "wine_quality.filter(wine_quality['fixed acidity'].isNull() | wine_quality.alcohol.isNull()).limit(4).show()"
      ],
      "metadata": {
        "colab": {
          "base_uri": "https://localhost:8080/"
        },
        "id": "h_EV9W-xUAzU",
        "outputId": "ea90f7cc-0a6e-4878-cbaa-ecbb0f616cd0"
      },
      "execution_count": 39,
      "outputs": [
        {
          "output_type": "stream",
          "name": "stdout",
          "text": [
            "+-------------+----------------+-----------+--------------+---------+-------------------+--------------------+-------+---+---------+-------+-------+\n",
            "|fixed acidity|volatile acidity|citric acid|residual sugar|chlorides|free sulfur dioxide|total sulfur dioxide|density| pH|sulphates|alcohol|quality|\n",
            "+-------------+----------------+-----------+--------------+---------+-------------------+--------------------+-------+---+---------+-------+-------+\n",
            "+-------------+----------------+-----------+--------------+---------+-------------------+--------------------+-------+---+---------+-------+-------+\n",
            "\n"
          ]
        }
      ]
    },
    {
      "cell_type": "code",
      "source": [
        "## Not null check\n",
        "wine_quality.filter(wine_quality['fixed acidity'].isNotNull() | wine_quality.alcohol.isNotNull()).limit(4).show()"
      ],
      "metadata": {
        "colab": {
          "base_uri": "https://localhost:8080/"
        },
        "id": "2u6x9M3eUb7Z",
        "outputId": "3336936c-d1b2-4ecf-d710-4ef1e1a5b900"
      },
      "execution_count": 40,
      "outputs": [
        {
          "output_type": "stream",
          "name": "stdout",
          "text": [
            "+-------------+----------------+-----------+--------------+---------+-------------------+--------------------+-------+----+---------+-------+-------+\n",
            "|fixed acidity|volatile acidity|citric acid|residual sugar|chlorides|free sulfur dioxide|total sulfur dioxide|density|  pH|sulphates|alcohol|quality|\n",
            "+-------------+----------------+-----------+--------------+---------+-------------------+--------------------+-------+----+---------+-------+-------+\n",
            "|          7.4|             0.7|        0.0|           1.9|    0.076|               11.0|                34.0| 0.9978|3.51|     0.56|    9.4|      5|\n",
            "|          7.8|            0.88|        0.0|           2.6|    0.098|               25.0|                67.0| 0.9968| 3.2|     0.68|    9.8|      5|\n",
            "|          7.8|            0.76|       0.04|           2.3|    0.092|               15.0|                54.0|  0.997|3.26|     0.65|    9.8|      5|\n",
            "|         11.2|            0.28|       0.56|           1.9|    0.075|               17.0|                60.0|  0.998|3.16|     0.58|    9.8|      6|\n",
            "+-------------+----------------+-----------+--------------+---------+-------------------+--------------------+-------+----+---------+-------+-------+\n",
            "\n"
          ]
        }
      ]
    },
    {
      "cell_type": "code",
      "source": [
        "#Another Way of Writing Null check (SQL Based)\n",
        "wine_quality.filter(\"'fixed acidity' is NULL\").limit(4).show()"
      ],
      "metadata": {
        "colab": {
          "base_uri": "https://localhost:8080/"
        },
        "id": "rVLcKyBoUfdq",
        "outputId": "f5b17136-ca75-4d3a-f251-423c857510a1"
      },
      "execution_count": 41,
      "outputs": [
        {
          "output_type": "stream",
          "name": "stdout",
          "text": [
            "+-------------+----------------+-----------+--------------+---------+-------------------+--------------------+-------+---+---------+-------+-------+\n",
            "|fixed acidity|volatile acidity|citric acid|residual sugar|chlorides|free sulfur dioxide|total sulfur dioxide|density| pH|sulphates|alcohol|quality|\n",
            "+-------------+----------------+-----------+--------------+---------+-------------------+--------------------+-------+---+---------+-------+-------+\n",
            "+-------------+----------------+-----------+--------------+---------+-------------------+--------------------+-------+---+---------+-------+-------+\n",
            "\n"
          ]
        }
      ]
    },
    {
      "cell_type": "code",
      "source": [
        "#Alternate way of Non-null Check (SQL Based)\n",
        "wine_quality.filter(\"'fixed acidity' is not NULL\").limit(4).show()"
      ],
      "metadata": {
        "colab": {
          "base_uri": "https://localhost:8080/"
        },
        "id": "TqlVW0zyUrY6",
        "outputId": "e603fecb-9bfe-43b6-917e-515b8d011720"
      },
      "execution_count": 42,
      "outputs": [
        {
          "output_type": "stream",
          "name": "stdout",
          "text": [
            "+-------------+----------------+-----------+--------------+---------+-------------------+--------------------+-------+----+---------+-------+-------+\n",
            "|fixed acidity|volatile acidity|citric acid|residual sugar|chlorides|free sulfur dioxide|total sulfur dioxide|density|  pH|sulphates|alcohol|quality|\n",
            "+-------------+----------------+-----------+--------------+---------+-------------------+--------------------+-------+----+---------+-------+-------+\n",
            "|          7.4|             0.7|        0.0|           1.9|    0.076|               11.0|                34.0| 0.9978|3.51|     0.56|    9.4|      5|\n",
            "|          7.8|            0.88|        0.0|           2.6|    0.098|               25.0|                67.0| 0.9968| 3.2|     0.68|    9.8|      5|\n",
            "|          7.8|            0.76|       0.04|           2.3|    0.092|               15.0|                54.0|  0.997|3.26|     0.65|    9.8|      5|\n",
            "|         11.2|            0.28|       0.56|           1.9|    0.075|               17.0|                60.0|  0.998|3.16|     0.58|    9.8|      6|\n",
            "+-------------+----------------+-----------+--------------+---------+-------------------+--------------------+-------+----+---------+-------+-------+\n",
            "\n"
          ]
        }
      ]
    },
    {
      "cell_type": "markdown",
      "source": [
        "**FILTER AND SELECT COMBINATION**"
      ],
      "metadata": {
        "id": "m8f75_4aVDqQ"
      }
    },
    {
      "cell_type": "code",
      "source": [
        "wine_quality.filter(\"pH>4\").select(['fixed acidity','sulphates','pH', 'quality']).limit(4).show()"
      ],
      "metadata": {
        "colab": {
          "base_uri": "https://localhost:8080/"
        },
        "id": "9N_cI9fVUx6P",
        "outputId": "41506752-2d78-411d-8a8b-fea535c4b21c"
      },
      "execution_count": 43,
      "outputs": [
        {
          "output_type": "stream",
          "name": "stdout",
          "text": [
            "+-------------+---------+----+-------+\n",
            "|fixed acidity|sulphates|  pH|quality|\n",
            "+-------------+---------+----+-------+\n",
            "|          5.4|     0.59|4.01|      6|\n",
            "|          5.0|     0.59|4.01|      6|\n",
            "+-------------+---------+----+-------+\n",
            "\n"
          ]
        }
      ]
    },
    {
      "cell_type": "code",
      "source": [
        "#Filter, Select and Order By combination\n",
        "wine_quality.select(['fixed acidity','sulphates','pH', 'quality']).filter(\"pH>3\").orderBy(wine_quality[\"quality\"].desc()).limit(4).show()"
      ],
      "metadata": {
        "colab": {
          "base_uri": "https://localhost:8080/"
        },
        "id": "QkB7bOq7VKzT",
        "outputId": "30c1f1a4-f38f-4773-d579-a8484b3b2aab"
      },
      "execution_count": 44,
      "outputs": [
        {
          "output_type": "stream",
          "name": "stdout",
          "text": [
            "+-------------+---------+----+-------+\n",
            "|fixed acidity|sulphates|  pH|quality|\n",
            "+-------------+---------+----+-------+\n",
            "|          7.9|     0.86|3.35|      8|\n",
            "|         11.3|     0.69|3.22|      8|\n",
            "|         10.3|     0.82|3.23|      8|\n",
            "|          5.6|     0.82|3.56|      8|\n",
            "+-------------+---------+----+-------+\n",
            "\n"
          ]
        }
      ]
    },
    {
      "cell_type": "markdown",
      "source": [
        "\n",
        "# **Collecting Results as Objects**\n",
        "\n",
        "The collect() function on DataFrame returns an array/list of Rows which is a flattened version of the DataFrame. It shows the metadata of the DataFrame.\n",
        "\n",
        "A row in DataFrame. The fields in it can be accessed:\n",
        "\n",
        "  like attributes (row.key)\n",
        "  like dictionary values (row[key])\n",
        "\n",
        "key in row will search through row keys.\n",
        "\n",
        "Row can be used to create a row object by using named arguments. It is not allowed to omit a named argument to represent that the value is None or missing. This should be explicitly set to None in this case.\n",
        "\n",
        "Row also can be used to create another Row like class, then it could be used to create Row objects, such as\n"
      ],
      "metadata": {
        "id": "4veVzosZVsB9"
      }
    },
    {
      "cell_type": "code",
      "source": [
        "from pyspark.sql import Row\n",
        "\n",
        "Person = Row(\"name\", \"age\")\n",
        "Person"
      ],
      "metadata": {
        "colab": {
          "base_uri": "https://localhost:8080/"
        },
        "id": "KxivRBFNVRGl",
        "outputId": "08cf75bc-326a-4bf0-f17b-4db74e311033"
      },
      "execution_count": 45,
      "outputs": [
        {
          "output_type": "execute_result",
          "data": {
            "text/plain": [
              "<Row('name', 'age')>"
            ]
          },
          "metadata": {},
          "execution_count": 45
        }
      ]
    },
    {
      "cell_type": "code",
      "source": [
        "'name' in Person"
      ],
      "metadata": {
        "colab": {
          "base_uri": "https://localhost:8080/"
        },
        "id": "1PqRKKMWVyh9",
        "outputId": "1204366f-5f5b-45d0-d08b-a8b84bc367b6"
      },
      "execution_count": 46,
      "outputs": [
        {
          "output_type": "execute_result",
          "data": {
            "text/plain": [
              "True"
            ]
          },
          "metadata": {},
          "execution_count": 46
        }
      ]
    },
    {
      "cell_type": "code",
      "source": [
        "Person(\"Alice\", 11)"
      ],
      "metadata": {
        "colab": {
          "base_uri": "https://localhost:8080/"
        },
        "id": "j0zgUd77V0Ix",
        "outputId": "024edabe-75ef-4282-a54d-c88dd0b01a3c"
      },
      "execution_count": 47,
      "outputs": [
        {
          "output_type": "execute_result",
          "data": {
            "text/plain": [
              "Row(name='Alice', age=11)"
            ]
          },
          "metadata": {},
          "execution_count": 47
        }
      ]
    },
    {
      "cell_type": "code",
      "source": [
        "result = wine_quality.select(['fixed acidity','sulphates','pH', 'quality']).filter(\"pH>3\").orderBy(wine_quality[\"pH\"].desc()).collect()\n",
        "result[:5]"
      ],
      "metadata": {
        "colab": {
          "base_uri": "https://localhost:8080/"
        },
        "id": "irs9i6RdV14J",
        "outputId": "f77db3d8-7183-4f54-a0ec-70a65299f14c"
      },
      "execution_count": 48,
      "outputs": [
        {
          "output_type": "execute_result",
          "data": {
            "text/plain": [
              "[Row(fixed acidity=5.4, sulphates=0.59, pH=4.01, quality=6),\n",
              " Row(fixed acidity=5.0, sulphates=0.59, pH=4.01, quality=6),\n",
              " Row(fixed acidity=4.6, sulphates=0.56, pH=3.9, quality=4),\n",
              " Row(fixed acidity=5.1, sulphates=0.62, pH=3.9, quality=6),\n",
              " Row(fixed acidity=4.7, sulphates=0.6, pH=3.85, quality=6)]"
            ]
          },
          "metadata": {},
          "execution_count": 48
        }
      ]
    },
    {
      "cell_type": "code",
      "source": [
        "type(result[0])"
      ],
      "metadata": {
        "colab": {
          "base_uri": "https://localhost:8080/"
        },
        "id": "9-3T2uYgV823",
        "outputId": "f6a0d12d-939a-4545-90e1-931700ee6c60"
      },
      "execution_count": 49,
      "outputs": [
        {
          "output_type": "execute_result",
          "data": {
            "text/plain": [
              "pyspark.sql.types.Row"
            ]
          },
          "metadata": {},
          "execution_count": 49
        }
      ]
    },
    {
      "cell_type": "code",
      "source": [
        "#Accessing row as Dictionary\n",
        "result[0].asDict()"
      ],
      "metadata": {
        "colab": {
          "base_uri": "https://localhost:8080/"
        },
        "id": "o4O81NK5WAfa",
        "outputId": "845ecc03-0b63-43c5-d72b-b8876ece7982"
      },
      "execution_count": 50,
      "outputs": [
        {
          "output_type": "execute_result",
          "data": {
            "text/plain": [
              "{'fixed acidity': 5.4, 'pH': 4.01, 'quality': 6, 'sulphates': 0.59}"
            ]
          },
          "metadata": {},
          "execution_count": 50
        }
      ]
    },
    {
      "cell_type": "code",
      "source": [
        "for item in result[0]:\n",
        "    print(item)"
      ],
      "metadata": {
        "colab": {
          "base_uri": "https://localhost:8080/"
        },
        "id": "-DeFzye6WEwj",
        "outputId": "f493bfb9-0430-4797-8145-1a7832128e04"
      },
      "execution_count": 51,
      "outputs": [
        {
          "output_type": "stream",
          "name": "stdout",
          "text": [
            "5.4\n",
            "0.59\n",
            "4.01\n",
            "6\n"
          ]
        }
      ]
    },
    {
      "cell_type": "code",
      "source": [
        "#Converting List of Rows back to Spark DataFrame\n",
        "backto_df = spark.createDataFrame(result)\n",
        "backto_df.limit(5).show()"
      ],
      "metadata": {
        "colab": {
          "base_uri": "https://localhost:8080/"
        },
        "id": "6D0IhlMkWLkY",
        "outputId": "a899bc39-c337-4b83-e207-2a4749c36bb7"
      },
      "execution_count": 52,
      "outputs": [
        {
          "output_type": "stream",
          "name": "stdout",
          "text": [
            "+-------------+---------+----+-------+\n",
            "|fixed acidity|sulphates|  pH|quality|\n",
            "+-------------+---------+----+-------+\n",
            "|          5.4|     0.59|4.01|      6|\n",
            "|          5.0|     0.59|4.01|      6|\n",
            "|          4.6|     0.56| 3.9|      4|\n",
            "|          5.1|     0.62| 3.9|      6|\n",
            "|          4.7|      0.6|3.85|      6|\n",
            "+-------------+---------+----+-------+\n",
            "\n"
          ]
        }
      ]
    },
    {
      "cell_type": "markdown",
      "source": [
        "# **COMPLEX DATA OPERATIONS**"
      ],
      "metadata": {
        "id": "M4JpwBpbWqtr"
      }
    },
    {
      "cell_type": "markdown",
      "source": [
        "CREATING NEW COLUMNS AND FEATURES"
      ],
      "metadata": {
        "id": "T1bsT4vUwIbV"
      }
    },
    {
      "cell_type": "code",
      "source": [
        "#Suppose we want to have a feature that is the square of the chlorides feature by the name 'sq_chlorides'. \n",
        "#This can be accomplished with the withColumn() method of PySpark DataFrame.\n",
        "#With the withColumn() function the first value we pass in is the name of the new column \n",
        "#the second calls on the existing dataframe column name we want to use or any other expression that returns valid value for the new column being generated.\n",
        "wine_quality_v1 = wine_quality.withColumn(\"sq_chlorides\", wine_quality[\"chlorides\"]**2)\n",
        "wine_quality_v1.show()"
      ],
      "metadata": {
        "colab": {
          "base_uri": "https://localhost:8080/"
        },
        "id": "kV1XOBouWUq1",
        "outputId": "eac6d0b7-0484-42e8-f6b1-09fc3fd2683d"
      },
      "execution_count": 54,
      "outputs": [
        {
          "output_type": "stream",
          "name": "stdout",
          "text": [
            "+-------------+----------------+-----------+--------------+-------------------+-------------------+--------------------+-------+----+---------+-------+-------+--------------------+\n",
            "|fixed acidity|volatile acidity|citric acid|residual sugar|          chlorides|free sulfur dioxide|total sulfur dioxide|density|  pH|sulphates|alcohol|quality|        sq_chlorides|\n",
            "+-------------+----------------+-----------+--------------+-------------------+-------------------+--------------------+-------+----+---------+-------+-------+--------------------+\n",
            "|          7.4|             0.7|        0.0|           1.9|              0.076|               11.0|                34.0| 0.9978|3.51|     0.56|    9.4|      5|            0.005776|\n",
            "|          7.8|            0.88|        0.0|           2.6|              0.098|               25.0|                67.0| 0.9968| 3.2|     0.68|    9.8|      5|0.009604000000000001|\n",
            "|          7.8|            0.76|       0.04|           2.3|              0.092|               15.0|                54.0|  0.997|3.26|     0.65|    9.8|      5|            0.008464|\n",
            "|         11.2|            0.28|       0.56|           1.9|              0.075|               17.0|                60.0|  0.998|3.16|     0.58|    9.8|      6|            0.005625|\n",
            "|          7.4|             0.7|        0.0|           1.9|              0.076|               11.0|                34.0| 0.9978|3.51|     0.56|    9.4|      5|            0.005776|\n",
            "|          7.4|            0.66|        0.0|           1.8|              0.075|               13.0|                40.0| 0.9978|3.51|     0.56|    9.4|      5|            0.005625|\n",
            "|          7.9|             0.6|       0.06|           1.6|              0.069|               15.0|                59.0| 0.9964| 3.3|     0.46|    9.4|      5|0.004761000000000...|\n",
            "|          7.3|            0.65|        0.0|           1.2|              0.065|               15.0|                21.0| 0.9946|3.39|     0.47|   10.0|      7|0.004225000000000...|\n",
            "|          7.8|            0.58|       0.02|           2.0|              0.073|                9.0|                18.0| 0.9968|3.36|     0.57|    9.5|      7|0.005328999999999...|\n",
            "|          7.5|             0.5|       0.36|           6.1|              0.071|               17.0|               102.0| 0.9978|3.35|      0.8|   10.5|      5|0.005040999999999...|\n",
            "|          6.7|            0.58|       0.08|           1.8|0.09699999999999999|               15.0|                65.0| 0.9959|3.28|     0.54|    9.2|      5|0.009408999999999997|\n",
            "|          7.5|             0.5|       0.36|           6.1|              0.071|               17.0|               102.0| 0.9978|3.35|      0.8|   10.5|      5|0.005040999999999...|\n",
            "|          5.6|           0.615|        0.0|           1.6|0.08900000000000001|               16.0|                59.0| 0.9943|3.58|     0.52|    9.9|      5|0.007921000000000001|\n",
            "|          7.8|            0.61|       0.29|           1.6|              0.114|                9.0|                29.0| 0.9974|3.26|     1.56|    9.1|      5|            0.012996|\n",
            "|          8.9|            0.62|       0.18|           3.8|0.17600000000000002|               52.0|               145.0| 0.9986|3.16|     0.88|    9.2|      5|0.030976000000000007|\n",
            "|          8.9|            0.62|       0.19|           3.9|               0.17|               51.0|               148.0| 0.9986|3.17|     0.93|    9.2|      5|0.028900000000000006|\n",
            "|          8.5|            0.28|       0.56|           1.8|              0.092|               35.0|               103.0| 0.9969| 3.3|     0.75|   10.5|      7|            0.008464|\n",
            "|          8.1|            0.56|       0.28|           1.7|              0.368|               16.0|                56.0| 0.9968|3.11|     1.28|    9.3|      5|            0.135424|\n",
            "|          7.4|            0.59|       0.08|           4.4|              0.086|                6.0|                29.0| 0.9974|3.38|      0.5|    9.0|      4|0.007395999999999999|\n",
            "|          7.9|            0.32|       0.51|           1.8|              0.341|               17.0|                56.0| 0.9969|3.04|     1.08|    9.2|      6| 0.11628100000000002|\n",
            "+-------------+----------------+-----------+--------------+-------------------+-------------------+--------------------+-------+----+---------+-------+-------+--------------------+\n",
            "only showing top 20 rows\n",
            "\n"
          ]
        }
      ]
    },
    {
      "cell_type": "code",
      "source": [
        "#Measuring time for above code\n",
        "%%timeit\n",
        "wine_quality_v1 = wine_quality.withColumn(\"sq_chlorides\", wine_quality.chlorides**2)"
      ],
      "metadata": {
        "colab": {
          "base_uri": "https://localhost:8080/"
        },
        "id": "z5BhDofgwW6Y",
        "outputId": "d499ce6e-e583-434f-c677-31b1ec313ef8"
      },
      "execution_count": 55,
      "outputs": [
        {
          "output_type": "stream",
          "name": "stdout",
          "text": [
            "100 loops, best of 5: 8.97 ms per loop\n"
          ]
        }
      ]
    },
    {
      "cell_type": "code",
      "source": [
        "#Concept of User Defined Function in PySpark\n",
        "#Spark get its great advantage from the idea of operating on distributed workers/executors that \n",
        "#execute a subset of the bigger task and the final results are combined to form the final outcome.\n",
        "#When working on operations in DataFrames on PySpark if we define a function in the traditional Pythonic manner the function would still \n",
        "#execute and the output would be the same. However the time taken for the execution of the operation would \n",
        "#be much more than what we would expect from a map and reduce framework based engine.\n",
        "#Therefore to still be able to leverage the fast execution offered by Spark we need to create what are called User Defined Functions in PySpark.\n",
        "\n",
        "#Normal Function Declaration\n",
        "def square(x):\n",
        "  return int(x**2)\n",
        "\n",
        "#UDF in Pyspark\n",
        "from pyspark.sql.functions import udf\n",
        "from pyspark.sql.types import IntegerType\n",
        "square_udf = udf(lambda z: square(z), IntegerType())\n"
      ],
      "metadata": {
        "id": "6mtfeyTBwW3g"
      },
      "execution_count": 57,
      "outputs": []
    },
    {
      "cell_type": "code",
      "source": [
        "#Comparing time with normal pythonic function and User Defined Function\n",
        "%%timeit\n",
        "wine_quality.withColumn(\"fast_sq_chlorides\", square_udf(wine_quality.chlorides)) #Spark UDF much faster\n",
        "\n"
      ],
      "metadata": {
        "colab": {
          "base_uri": "https://localhost:8080/"
        },
        "id": "6Rs0g0G8wW1X",
        "outputId": "7e040ea2-4507-4c83-8184-713fcd1c72eb"
      },
      "execution_count": 58,
      "outputs": [
        {
          "output_type": "stream",
          "name": "stdout",
          "text": [
            "The slowest run took 7.13 times longer than the fastest. This could mean that an intermediate result is being cached.\n",
            "100 loops, best of 5: 4.79 ms per loop\n"
          ]
        }
      ]
    },
    {
      "cell_type": "markdown",
      "source": [
        "CHANGING DATATYPES AFTER READING DATA\n",
        "\n",
        "Available Data Types:\n",
        "- DataType\n",
        "- NullType\n",
        "- StringType\n",
        "- BinaryType\n",
        "- BooleanType\n",
        "- DateType\n",
        "- TimestampType\n",
        "- DecimalType\n",
        "- DoubleType\n",
        "- FloatType\n",
        "- ByteType\n",
        "- IntegerType\n",
        "- LongType\n",
        "- ShortType\n",
        "- ArrayType\n",
        "- MapType\n",
        "- StructField\n",
        "- StructType"
      ],
      "metadata": {
        "id": "F8VD5t3vy90K"
      }
    },
    {
      "cell_type": "code",
      "source": [
        "#We can see the schema of the DataFrame called df contains datatypes that we have defined by casting for the two columns. \n",
        "#The important method to focus on here is the cast() method which can be called on a column of the dataframe and \n",
        "#takes in datatype input available in pyspark.sql.types.\n",
        "from pyspark.sql.functions import * \n",
        "from pyspark.sql.types import * # IntegerType\n",
        "\n",
        "df = wine_quality.withColumn(\"quality\", wine_quality[\"quality\"].cast(DoubleType())) \\\n",
        "        .withColumn(\"density\", wine_quality[\"density\"].cast(IntegerType())) \n",
        "        \n",
        "print(df.printSchema())"
      ],
      "metadata": {
        "colab": {
          "base_uri": "https://localhost:8080/"
        },
        "id": "bXMphOBcwWyw",
        "outputId": "32646d3d-3dfd-478a-b1f8-ca086b12e56b"
      },
      "execution_count": 59,
      "outputs": [
        {
          "output_type": "stream",
          "name": "stdout",
          "text": [
            "root\n",
            " |-- fixed acidity: double (nullable = true)\n",
            " |-- volatile acidity: double (nullable = true)\n",
            " |-- citric acid: double (nullable = true)\n",
            " |-- residual sugar: double (nullable = true)\n",
            " |-- chlorides: double (nullable = true)\n",
            " |-- free sulfur dioxide: double (nullable = true)\n",
            " |-- total sulfur dioxide: double (nullable = true)\n",
            " |-- density: integer (nullable = true)\n",
            " |-- pH: double (nullable = true)\n",
            " |-- sulphates: double (nullable = true)\n",
            " |-- alcohol: double (nullable = true)\n",
            " |-- quality: double (nullable = true)\n",
            "\n",
            "None\n"
          ]
        }
      ]
    },
    {
      "cell_type": "code",
      "source": [
        "#Renaming Columns\n",
        "df.withColumnRenamed('density','density_new_name')"
      ],
      "metadata": {
        "colab": {
          "base_uri": "https://localhost:8080/"
        },
        "id": "KTeWtCLcwWw1",
        "outputId": "94c2d177-dcb2-4171-c0b5-6eb50196d7ec"
      },
      "execution_count": 60,
      "outputs": [
        {
          "output_type": "execute_result",
          "data": {
            "text/plain": [
              "DataFrame[fixed acidity: double, volatile acidity: double, citric acid: double, residual sugar: double, chlorides: double, free sulfur dioxide: double, total sulfur dioxide: double, density_new_name: int, pH: double, sulphates: double, alcohol: double, quality: double]"
            ]
          },
          "metadata": {},
          "execution_count": 60
        }
      ]
    },
    {
      "cell_type": "code",
      "source": [
        "#Dropping Columns\n",
        "df.drop(\"quality\")"
      ],
      "metadata": {
        "colab": {
          "base_uri": "https://localhost:8080/"
        },
        "id": "aR391yiZwWtw",
        "outputId": "34822697-c766-40f1-87b9-5a0c91fb24a1"
      },
      "execution_count": 61,
      "outputs": [
        {
          "output_type": "execute_result",
          "data": {
            "text/plain": [
              "DataFrame[fixed acidity: double, volatile acidity: double, citric acid: double, residual sugar: double, chlorides: double, free sulfur dioxide: double, total sulfur dioxide: double, density: int, pH: double, sulphates: double, alcohol: double]"
            ]
          },
          "metadata": {},
          "execution_count": 61
        }
      ]
    },
    {
      "cell_type": "markdown",
      "source": [
        "DATA MANIPULATION METHODS:"
      ],
      "metadata": {
        "id": "YC1O2KcczonT"
      }
    },
    {
      "cell_type": "code",
      "source": [
        "# Adding a text column to run some text manipulation functions on.\n",
        "df1 = df.withColumn(\"text_col\", lit(\"    TEST TEXT   \"))\n",
        "df1.select(\"text_col\").show(5,False)"
      ],
      "metadata": {
        "colab": {
          "base_uri": "https://localhost:8080/"
        },
        "id": "u0xb2JiFwWrC",
        "outputId": "aa056e23-a5c6-4a26-f149-c40c75b659b2"
      },
      "execution_count": 64,
      "outputs": [
        {
          "output_type": "stream",
          "name": "stdout",
          "text": [
            "+----------------+\n",
            "|text_col        |\n",
            "+----------------+\n",
            "|    TEST TEXT   |\n",
            "|    TEST TEXT   |\n",
            "|    TEST TEXT   |\n",
            "|    TEST TEXT   |\n",
            "|    TEST TEXT   |\n",
            "+----------------+\n",
            "only showing top 5 rows\n",
            "\n"
          ]
        }
      ]
    },
    {
      "cell_type": "code",
      "source": [
        "#Trim Function removes leading and trailing spaces\n",
        "df = df1.withColumn('text_col',trim(df1.text_col)) \n",
        "df.select(\"text_col\").show(5,False)"
      ],
      "metadata": {
        "colab": {
          "base_uri": "https://localhost:8080/"
        },
        "id": "LDFa7RLiwWoY",
        "outputId": "93a7f79c-159d-44ab-a5b8-61ffd4c5b49b"
      },
      "execution_count": 65,
      "outputs": [
        {
          "output_type": "stream",
          "name": "stdout",
          "text": [
            "+---------+\n",
            "|text_col |\n",
            "+---------+\n",
            "|TEST TEXT|\n",
            "|TEST TEXT|\n",
            "|TEST TEXT|\n",
            "|TEST TEXT|\n",
            "|TEST TEXT|\n",
            "+---------+\n",
            "only showing top 5 rows\n",
            "\n"
          ]
        }
      ]
    },
    {
      "cell_type": "code",
      "source": [
        "#Lower Casing\n",
        "df1 = df.withColumn('text_col',lower(df.text_col)) \n",
        "df1.select(\"text_col\").show(5,False)"
      ],
      "metadata": {
        "colab": {
          "base_uri": "https://localhost:8080/"
        },
        "id": "4ETvaHZDz2Ei",
        "outputId": "3e4a9bee-8916-4d31-b4df-40bc7f22a600"
      },
      "execution_count": 66,
      "outputs": [
        {
          "output_type": "stream",
          "name": "stdout",
          "text": [
            "+---------+\n",
            "|text_col |\n",
            "+---------+\n",
            "|test text|\n",
            "|test text|\n",
            "|test text|\n",
            "|test text|\n",
            "|test text|\n",
            "+---------+\n",
            "only showing top 5 rows\n",
            "\n"
          ]
        }
      ]
    },
    {
      "cell_type": "code",
      "source": [
        "#Splitting String basis pattern\n",
        "df1.select(split(df1.text_col, ' ').alias('split_text_col')).show(5,False)"
      ],
      "metadata": {
        "colab": {
          "base_uri": "https://localhost:8080/"
        },
        "id": "R_DWej1Z0F9L",
        "outputId": "454baa1a-92c9-4660-da3c-a272270fbede"
      },
      "execution_count": 67,
      "outputs": [
        {
          "output_type": "stream",
          "name": "stdout",
          "text": [
            "+--------------+\n",
            "|split_text_col|\n",
            "+--------------+\n",
            "|[test, text]  |\n",
            "|[test, text]  |\n",
            "|[test, text]  |\n",
            "|[test, text]  |\n",
            "|[test, text]  |\n",
            "+--------------+\n",
            "only showing top 5 rows\n",
            "\n"
          ]
        }
      ]
    },
    {
      "cell_type": "code",
      "source": [
        "#Regular Expression to replace Text\n",
        "df1.select('text_col',regexp_replace(df1.text_col, 'test', 'replaced').alias('regex_replaced_text')).show(5, False)"
      ],
      "metadata": {
        "colab": {
          "base_uri": "https://localhost:8080/"
        },
        "id": "A9x_Y2c_0UOI",
        "outputId": "63bfdc73-3eca-4ea4-e179-79dfb2625a2a"
      },
      "execution_count": 68,
      "outputs": [
        {
          "output_type": "stream",
          "name": "stdout",
          "text": [
            "+---------+-------------------+\n",
            "|text_col |regex_replaced_text|\n",
            "+---------+-------------------+\n",
            "|test text|replaced text      |\n",
            "|test text|replaced text      |\n",
            "|test text|replaced text      |\n",
            "|test text|replaced text      |\n",
            "|test text|replaced text      |\n",
            "+---------+-------------------+\n",
            "only showing top 5 rows\n",
            "\n"
          ]
        }
      ]
    },
    {
      "cell_type": "markdown",
      "source": [
        "CONDITION BASED FEATURE CREATIONS:\n",
        "\n",
        "- Option1: select or withColumn() using when-otherwise with Otherwise condition\n",
        "- Option2: select or withColumn() using expr function\n",
        "- Option 3: selectExpr() using SQL equivalent CASE expression (Very Intuitive for me)"
      ],
      "metadata": {
        "id": "XKUmZ2UF27bf"
      }
    },
    {
      "cell_type": "code",
      "source": [
        "#Option 1: select or withColumn() using when-otherwise with Otherwise condition\n",
        "print(\"Option#1: select or withColumn() using when-otherwise with Otherwise condition\")\n",
        "df_subset_2 = df.select(\"pH\",(when(df.pH >= 3.0, 'Good').otherwise('Bad')).alias(\"Acidity Category\"))\n",
        "df_subset_2.show(10)"
      ],
      "metadata": {
        "colab": {
          "base_uri": "https://localhost:8080/"
        },
        "id": "RIralSv80akd",
        "outputId": "611ebcad-8baa-4aef-d175-21674aee10d6"
      },
      "execution_count": 75,
      "outputs": [
        {
          "output_type": "stream",
          "name": "stdout",
          "text": [
            "Option#1: select or withColumn() using when-otherwise with Otherwise condition\n",
            "+----+----------------+\n",
            "|  pH|Acidity Category|\n",
            "+----+----------------+\n",
            "|3.51|            Good|\n",
            "| 3.2|            Good|\n",
            "|3.26|            Good|\n",
            "|3.16|            Good|\n",
            "|3.51|            Good|\n",
            "|3.51|            Good|\n",
            "| 3.3|            Good|\n",
            "|3.39|            Good|\n",
            "|3.36|            Good|\n",
            "|3.35|            Good|\n",
            "+----+----------------+\n",
            "only showing top 10 rows\n",
            "\n"
          ]
        }
      ]
    },
    {
      "cell_type": "code",
      "source": [
        "#Option 2: select or withColumn() using expr function\n",
        "from pyspark.sql.functions import expr \n",
        "print(\"Option2: select or withColumn() using expr function\")\n",
        "df.select(\"pH\",expr(\"CASE WHEN pH >= 3.0 THEN 'Good' ELSE 'Bad' END\").alias('Acidity Category')).show(10)"
      ],
      "metadata": {
        "colab": {
          "base_uri": "https://localhost:8080/"
        },
        "id": "M4t3cUP24h85",
        "outputId": "03a76b7d-21b3-48a3-a9e0-bc7d98431db6"
      },
      "execution_count": 73,
      "outputs": [
        {
          "output_type": "stream",
          "name": "stdout",
          "text": [
            "Option2: select or withColumn() using expr function\n",
            "+----+----------------+\n",
            "|  pH|Acidity Category|\n",
            "+----+----------------+\n",
            "|3.51|            Good|\n",
            "| 3.2|            Good|\n",
            "|3.26|            Good|\n",
            "|3.16|            Good|\n",
            "|3.51|            Good|\n",
            "|3.51|            Good|\n",
            "| 3.3|            Good|\n",
            "|3.39|            Good|\n",
            "|3.36|            Good|\n",
            "|3.35|            Good|\n",
            "+----+----------------+\n",
            "only showing top 10 rows\n",
            "\n"
          ]
        }
      ]
    },
    {
      "cell_type": "code",
      "source": [
        "#Option 3: selectExpr() using SQL equivalent CASE expression (Very Intuitive for me)\n",
        "print(\"Option 3: selectExpr() using SQL equivalent CASE expression\")\n",
        "df.selectExpr(\"pH\",\"CASE WHEN pH >= 3.0 THEN  'Good' ELSE 'Bad' END AS Acidity_Category\").show(10)"
      ],
      "metadata": {
        "colab": {
          "base_uri": "https://localhost:8080/"
        },
        "id": "mu0NyLBR5AJw",
        "outputId": "2c6bdc38-6251-4ad5-807d-884ff6e03bec"
      },
      "execution_count": 72,
      "outputs": [
        {
          "output_type": "stream",
          "name": "stdout",
          "text": [
            "Option 3: selectExpr() using SQL equivalent CASE expression\n",
            "+----+----------------+\n",
            "|  pH|Acidity_Category|\n",
            "+----+----------------+\n",
            "|3.51|            Good|\n",
            "| 3.2|            Good|\n",
            "|3.26|            Good|\n",
            "|3.16|            Good|\n",
            "|3.51|            Good|\n",
            "|3.51|            Good|\n",
            "| 3.3|            Good|\n",
            "|3.39|            Good|\n",
            "|3.36|            Good|\n",
            "|3.35|            Good|\n",
            "+----+----------------+\n",
            "only showing top 10 rows\n",
            "\n"
          ]
        }
      ]
    },
    {
      "cell_type": "markdown",
      "source": [
        "PYSPARK DF IMMUTABILITY: \n",
        "\n",
        "- As per Spark Architecture DataFrame is built on top of RDDs which are immutable in nature therefore Data frames are immutable in nature.\n",
        "- Most operations of the Dataframe will generate another dataframe and assign it to reference variable in case you have the assignment statement.\n",
        "- In order to verify the same, you can use id() method of rdd to get the unique identifier of your dataframe."
      ],
      "metadata": {
        "id": "CbGj5rvd6bvg"
      }
    },
    {
      "cell_type": "code",
      "source": [
        "org_df = spark.createDataFrame([('Apple','Steve Jobs')], ['Organisation', 'Founder'])\n",
        "print(org_df.show())\n",
        "print(org_df.rdd.id()) #317 ID"
      ],
      "metadata": {
        "colab": {
          "base_uri": "https://localhost:8080/"
        },
        "id": "C_7h68GJ5Oq8",
        "outputId": "e07a033c-7996-435d-ad9f-fff1e5b40743"
      },
      "execution_count": 76,
      "outputs": [
        {
          "output_type": "stream",
          "name": "stdout",
          "text": [
            "+------------+----------+\n",
            "|Organisation|   Founder|\n",
            "+------------+----------+\n",
            "|       Apple|Steve Jobs|\n",
            "+------------+----------+\n",
            "\n",
            "None\n",
            "317\n"
          ]
        }
      ]
    },
    {
      "cell_type": "code",
      "source": [
        "#Performing Concat Operation\n",
        "org_df = org_df.select(org_df.Organisation,org_df.Founder,concat_ws('-', org_df.Organisation, org_df.Founder).alias('concat'))\n",
        "print(org_df.show())\n",
        "print(org_df.rdd.id()) #Id Changed to 323\n",
        "#So even though the variable which holds the dataframe is same but the unique rdd id is different after the update. This is because the old dataframe is not being referenced to anymore.\n",
        "#Regarding the withColumn() or any other similar operations when applied, such operations will generate a new data frame instead of updating the existing data frame.\n",
        "#Therefore calling withColumns() function too many times may cause the whole process to become expensive especially in terms of time.\n",
        "#This method introduces a projection internally. Therefore, calling it multiple times, for instance, via loops in order to add multiple columns can generate big plans which can cause performance issues and even StackOverflowException. To avoid this, use select() with the multiple columns at once.\n"
      ],
      "metadata": {
        "colab": {
          "base_uri": "https://localhost:8080/"
        },
        "id": "ZY2bWrlu6lkD",
        "outputId": "d62252c8-2b09-4b8f-a358-551e61efb2a9"
      },
      "execution_count": 77,
      "outputs": [
        {
          "output_type": "stream",
          "name": "stdout",
          "text": [
            "+------------+----------+----------------+\n",
            "|Organisation|   Founder|          concat|\n",
            "+------------+----------+----------------+\n",
            "|       Apple|Steve Jobs|Apple-Steve Jobs|\n",
            "+------------+----------+----------------+\n",
            "\n",
            "None\n",
            "323\n"
          ]
        }
      ]
    },
    {
      "cell_type": "markdown",
      "source": [
        "AGGREGATING DATAFRAMES IN PYSPARK"
      ],
      "metadata": {
        "id": "5iiC-kuF7Plr"
      }
    },
    {
      "cell_type": "code",
      "source": [
        "#Similar to value_counts() method in pandas which gives out frequency table\n",
        "wine_quality.groupBy(\"quality\").count().show()"
      ],
      "metadata": {
        "colab": {
          "base_uri": "https://localhost:8080/"
        },
        "id": "eLzf-V_J7DeL",
        "outputId": "9d12f15b-e88f-464f-c2cf-27d1cd66a565"
      },
      "execution_count": 78,
      "outputs": [
        {
          "output_type": "stream",
          "name": "stdout",
          "text": [
            "+-------+-----+\n",
            "|quality|count|\n",
            "+-------+-----+\n",
            "|      6|  638|\n",
            "|      3|   10|\n",
            "|      5|  681|\n",
            "|      4|   53|\n",
            "|      8|   18|\n",
            "|      7|  199|\n",
            "+-------+-----+\n",
            "\n"
          ]
        }
      ]
    },
    {
      "cell_type": "code",
      "source": [
        "wine_quality.groupBy(\"quality\").mean(\"density\").show()"
      ],
      "metadata": {
        "colab": {
          "base_uri": "https://localhost:8080/"
        },
        "id": "tOleDduI7eX6",
        "outputId": "f31d8a06-1f68-498a-bcf1-542067b1f89e"
      },
      "execution_count": 79,
      "outputs": [
        {
          "output_type": "stream",
          "name": "stdout",
          "text": [
            "+-------+------------------+\n",
            "|quality|      avg(density)|\n",
            "+-------+------------------+\n",
            "|      6|0.9966150626959255|\n",
            "|      3|0.9974640000000001|\n",
            "|      5|0.9971036270190888|\n",
            "|      4|0.9965424528301888|\n",
            "|      8|0.9952122222222223|\n",
            "|      7|0.9961042713567828|\n",
            "+-------+------------------+\n",
            "\n"
          ]
        }
      ]
    },
    {
      "cell_type": "code",
      "source": [
        "wine_quality.select(countDistinct(\"quality\").alias('CountDistinct_quality')).show()"
      ],
      "metadata": {
        "colab": {
          "base_uri": "https://localhost:8080/"
        },
        "id": "mxm79I6P7lbI",
        "outputId": "97821590-d8e8-43e8-f5af-b10ff3f21f07"
      },
      "execution_count": 80,
      "outputs": [
        {
          "output_type": "stream",
          "name": "stdout",
          "text": [
            "+---------------------+\n",
            "|CountDistinct_quality|\n",
            "+---------------------+\n",
            "|                    6|\n",
            "+---------------------+\n",
            "\n"
          ]
        }
      ]
    },
    {
      "cell_type": "code",
      "source": [
        "#Multiple Column Aggregation at once\n",
        "wine_quality.groupBy(\"quality\").agg(round(min(wine_quality.chlorides),3).alias(\"Min chlorides\"),max(wine_quality.chlorides).alias(\"Max chlorides\")).show()"
      ],
      "metadata": {
        "colab": {
          "base_uri": "https://localhost:8080/"
        },
        "id": "NSXwoqC47pPX",
        "outputId": "21db20b6-2eef-43fe-a1f5-204e62705769"
      },
      "execution_count": 88,
      "outputs": [
        {
          "output_type": "stream",
          "name": "stdout",
          "text": [
            "+-------+-------------+-------------+\n",
            "|quality|Min chlorides|Max chlorides|\n",
            "+-------+-------------+-------------+\n",
            "|      6|        0.034|        0.415|\n",
            "|      3|        0.061|        0.267|\n",
            "|      5|        0.039|        0.611|\n",
            "|      4|        0.045|         0.61|\n",
            "|      8|        0.044|        0.086|\n",
            "|      7|        0.012|        0.358|\n",
            "+-------+-------------+-------------+\n",
            "\n"
          ]
        }
      ]
    },
    {
      "cell_type": "code",
      "source": [
        "#Aggregations without groupby\n",
        "wine_quality.agg(min(wine_quality.density).alias(\"Min density\"),max(wine_quality.density).alias(\"Max density\")).show()"
      ],
      "metadata": {
        "colab": {
          "base_uri": "https://localhost:8080/"
        },
        "id": "c4oyZUnx8o8Z",
        "outputId": "a59ca1e2-58ef-4c57-ac6a-c67001b2d925"
      },
      "execution_count": 89,
      "outputs": [
        {
          "output_type": "stream",
          "name": "stdout",
          "text": [
            "+------------------+-----------+\n",
            "|       Min density|Max density|\n",
            "+------------------+-----------+\n",
            "|0.9900700000000001|    1.00369|\n",
            "+------------------+-----------+\n",
            "\n"
          ]
        }
      ]
    },
    {
      "cell_type": "code",
      "source": [
        "#Pivots\n",
        "wine_quality.show(10)"
      ],
      "metadata": {
        "colab": {
          "base_uri": "https://localhost:8080/"
        },
        "id": "4pF-1gjK-R_M",
        "outputId": "ecd12d3f-1dde-4ce4-edb2-52069fc6f6d1"
      },
      "execution_count": 91,
      "outputs": [
        {
          "output_type": "stream",
          "name": "stdout",
          "text": [
            "+-------------+----------------+-----------+--------------+---------+-------------------+--------------------+-------+----+---------+-------+-------+\n",
            "|fixed acidity|volatile acidity|citric acid|residual sugar|chlorides|free sulfur dioxide|total sulfur dioxide|density|  pH|sulphates|alcohol|quality|\n",
            "+-------------+----------------+-----------+--------------+---------+-------------------+--------------------+-------+----+---------+-------+-------+\n",
            "|          7.4|             0.7|        0.0|           1.9|    0.076|               11.0|                34.0| 0.9978|3.51|     0.56|    9.4|      5|\n",
            "|          7.8|            0.88|        0.0|           2.6|    0.098|               25.0|                67.0| 0.9968| 3.2|     0.68|    9.8|      5|\n",
            "|          7.8|            0.76|       0.04|           2.3|    0.092|               15.0|                54.0|  0.997|3.26|     0.65|    9.8|      5|\n",
            "|         11.2|            0.28|       0.56|           1.9|    0.075|               17.0|                60.0|  0.998|3.16|     0.58|    9.8|      6|\n",
            "|          7.4|             0.7|        0.0|           1.9|    0.076|               11.0|                34.0| 0.9978|3.51|     0.56|    9.4|      5|\n",
            "|          7.4|            0.66|        0.0|           1.8|    0.075|               13.0|                40.0| 0.9978|3.51|     0.56|    9.4|      5|\n",
            "|          7.9|             0.6|       0.06|           1.6|    0.069|               15.0|                59.0| 0.9964| 3.3|     0.46|    9.4|      5|\n",
            "|          7.3|            0.65|        0.0|           1.2|    0.065|               15.0|                21.0| 0.9946|3.39|     0.47|   10.0|      7|\n",
            "|          7.8|            0.58|       0.02|           2.0|    0.073|                9.0|                18.0| 0.9968|3.36|     0.57|    9.5|      7|\n",
            "|          7.5|             0.5|       0.36|           6.1|    0.071|               17.0|               102.0| 0.9978|3.35|      0.8|   10.5|      5|\n",
            "+-------------+----------------+-----------+--------------+---------+-------------------+--------------------+-------+----+---------+-------+-------+\n",
            "only showing top 10 rows\n",
            "\n"
          ]
        }
      ]
    },
    {
      "cell_type": "code",
      "source": [
        "#Creating a categorical column to check effect of pH on Quality\n",
        "wine_quality_v2 = wine_quality.select('*', (when(df.pH >= 3.0, 'pH>=3').otherwise('pH<3')).alias(\"ph_category\"))\n",
        "wine_quality_v2.show()"
      ],
      "metadata": {
        "colab": {
          "base_uri": "https://localhost:8080/"
        },
        "id": "ZI91oMxE-lzQ",
        "outputId": "3da665b1-6161-4243-8fbc-a20d566ced6d"
      },
      "execution_count": 92,
      "outputs": [
        {
          "output_type": "stream",
          "name": "stdout",
          "text": [
            "+-------------+----------------+-----------+--------------+-------------------+-------------------+--------------------+-------+----+---------+-------+-------+-----------+\n",
            "|fixed acidity|volatile acidity|citric acid|residual sugar|          chlorides|free sulfur dioxide|total sulfur dioxide|density|  pH|sulphates|alcohol|quality|ph_category|\n",
            "+-------------+----------------+-----------+--------------+-------------------+-------------------+--------------------+-------+----+---------+-------+-------+-----------+\n",
            "|          7.4|             0.7|        0.0|           1.9|              0.076|               11.0|                34.0| 0.9978|3.51|     0.56|    9.4|      5|      pH>=3|\n",
            "|          7.8|            0.88|        0.0|           2.6|              0.098|               25.0|                67.0| 0.9968| 3.2|     0.68|    9.8|      5|      pH>=3|\n",
            "|          7.8|            0.76|       0.04|           2.3|              0.092|               15.0|                54.0|  0.997|3.26|     0.65|    9.8|      5|      pH>=3|\n",
            "|         11.2|            0.28|       0.56|           1.9|              0.075|               17.0|                60.0|  0.998|3.16|     0.58|    9.8|      6|      pH>=3|\n",
            "|          7.4|             0.7|        0.0|           1.9|              0.076|               11.0|                34.0| 0.9978|3.51|     0.56|    9.4|      5|      pH>=3|\n",
            "|          7.4|            0.66|        0.0|           1.8|              0.075|               13.0|                40.0| 0.9978|3.51|     0.56|    9.4|      5|      pH>=3|\n",
            "|          7.9|             0.6|       0.06|           1.6|              0.069|               15.0|                59.0| 0.9964| 3.3|     0.46|    9.4|      5|      pH>=3|\n",
            "|          7.3|            0.65|        0.0|           1.2|              0.065|               15.0|                21.0| 0.9946|3.39|     0.47|   10.0|      7|      pH>=3|\n",
            "|          7.8|            0.58|       0.02|           2.0|              0.073|                9.0|                18.0| 0.9968|3.36|     0.57|    9.5|      7|      pH>=3|\n",
            "|          7.5|             0.5|       0.36|           6.1|              0.071|               17.0|               102.0| 0.9978|3.35|      0.8|   10.5|      5|      pH>=3|\n",
            "|          6.7|            0.58|       0.08|           1.8|0.09699999999999999|               15.0|                65.0| 0.9959|3.28|     0.54|    9.2|      5|      pH>=3|\n",
            "|          7.5|             0.5|       0.36|           6.1|              0.071|               17.0|               102.0| 0.9978|3.35|      0.8|   10.5|      5|      pH>=3|\n",
            "|          5.6|           0.615|        0.0|           1.6|0.08900000000000001|               16.0|                59.0| 0.9943|3.58|     0.52|    9.9|      5|      pH>=3|\n",
            "|          7.8|            0.61|       0.29|           1.6|              0.114|                9.0|                29.0| 0.9974|3.26|     1.56|    9.1|      5|      pH>=3|\n",
            "|          8.9|            0.62|       0.18|           3.8|0.17600000000000002|               52.0|               145.0| 0.9986|3.16|     0.88|    9.2|      5|      pH>=3|\n",
            "|          8.9|            0.62|       0.19|           3.9|               0.17|               51.0|               148.0| 0.9986|3.17|     0.93|    9.2|      5|      pH>=3|\n",
            "|          8.5|            0.28|       0.56|           1.8|              0.092|               35.0|               103.0| 0.9969| 3.3|     0.75|   10.5|      7|      pH>=3|\n",
            "|          8.1|            0.56|       0.28|           1.7|              0.368|               16.0|                56.0| 0.9968|3.11|     1.28|    9.3|      5|      pH>=3|\n",
            "|          7.4|            0.59|       0.08|           4.4|              0.086|                6.0|                29.0| 0.9974|3.38|      0.5|    9.0|      4|      pH>=3|\n",
            "|          7.9|            0.32|       0.51|           1.8|              0.341|               17.0|                56.0| 0.9969|3.04|     1.08|    9.2|      6|      pH>=3|\n",
            "+-------------+----------------+-----------+--------------+-------------------+-------------------+--------------------+-------+----+---------+-------+-------+-----------+\n",
            "only showing top 20 rows\n",
            "\n"
          ]
        }
      ]
    },
    {
      "cell_type": "code",
      "source": [
        "wine_quality_v2.groupBy(\"quality\").pivot(\"ph_category\").count().show(10)"
      ],
      "metadata": {
        "colab": {
          "base_uri": "https://localhost:8080/"
        },
        "id": "TMt3SIM5-8ie",
        "outputId": "5a0b3cf0-7cf3-4df6-9df5-2b9abe5fd88b"
      },
      "execution_count": 93,
      "outputs": [
        {
          "output_type": "stream",
          "name": "stdout",
          "text": [
            "+-------+----+-----+\n",
            "|quality|pH<3|pH>=3|\n",
            "+-------+----+-----+\n",
            "|      6|  10|  628|\n",
            "|      3|null|   10|\n",
            "|      5|  13|  668|\n",
            "|      4|   1|   52|\n",
            "|      8|   2|   16|\n",
            "|      7|   3|  196|\n",
            "+-------+----+-----+\n",
            "\n"
          ]
        }
      ]
    },
    {
      "cell_type": "code",
      "source": [
        "#The pivot method will create cross-tab with all the distinct values that the column passed to it consists of.\n",
        "wine_quality.groupBy(\"quality\").pivot(\"quality\").count().show(10)"
      ],
      "metadata": {
        "colab": {
          "base_uri": "https://localhost:8080/"
        },
        "id": "ueZGMtGQ_HVo",
        "outputId": "f1c7d346-4137-45e1-aefd-d7ecaf34ceac"
      },
      "execution_count": 94,
      "outputs": [
        {
          "output_type": "stream",
          "name": "stdout",
          "text": [
            "+-------+----+----+----+----+----+----+\n",
            "|quality|   3|   4|   5|   6|   7|   8|\n",
            "+-------+----+----+----+----+----+----+\n",
            "|      6|null|null|null| 638|null|null|\n",
            "|      3|  10|null|null|null|null|null|\n",
            "|      5|null|null| 681|null|null|null|\n",
            "|      4|null|  53|null|null|null|null|\n",
            "|      8|null|null|null|null|null|  18|\n",
            "|      7|null|null|null|null| 199|null|\n",
            "+-------+----+----+----+----+----+----+\n",
            "\n"
          ]
        }
      ]
    },
    {
      "cell_type": "code",
      "source": [
        "#To limit the pivot method to create cross-tab for only specific entries of the column passed to it, another argument can be provided to it which should be the list of all distinct values to use for the cross-tab.\n",
        "wine_quality.groupBy(\"quality\").pivot(\"free sulfur dioxide\", [11,25]).count().show(10)"
      ],
      "metadata": {
        "colab": {
          "base_uri": "https://localhost:8080/"
        },
        "id": "oebfIYk9_aBu",
        "outputId": "a5e1f293-eeff-4ea8-f718-bc947b401436"
      },
      "execution_count": 95,
      "outputs": [
        {
          "output_type": "stream",
          "name": "stdout",
          "text": [
            "+-------+----+----+\n",
            "|quality|  11|  25|\n",
            "+-------+----+----+\n",
            "|      6|  26|   8|\n",
            "|      3|null|null|\n",
            "|      5|  20|  14|\n",
            "|      4|   5|null|\n",
            "|      8|null|null|\n",
            "|      7|   8|   2|\n",
            "+-------+----+----+\n",
            "\n"
          ]
        }
      ]
    },
    {
      "cell_type": "code",
      "source": [
        "#Aggregation + Pivot \n",
        "wine_quality_v2.groupBy(\"quality\").pivot(\"ph_category\").agg(mean(wine_quality_v2.chlorides).alias(\"Mean Chlorides\"),mean(wine_quality_v2[\"free sulfur dioxide\"]).alias(\"Mean free sulfur dioxide\")).show()"
      ],
      "metadata": {
        "colab": {
          "base_uri": "https://localhost:8080/"
        },
        "id": "EF-kHCgJ_h4Q",
        "outputId": "19d9de4d-f4d4-4df2-8c75-7d4775826075"
      },
      "execution_count": 97,
      "outputs": [
        {
          "output_type": "stream",
          "name": "stdout",
          "text": [
            "+-------+-------------------+-----------------------------+--------------------+------------------------------+\n",
            "|quality|pH<3_Mean Chlorides|pH<3_Mean free sulfur dioxide|pH>=3_Mean Chlorides|pH>=3_Mean free sulfur dioxide|\n",
            "+-------+-------------------+-----------------------------+--------------------+------------------------------+\n",
            "|      6|             0.1203|                         16.3| 0.08439331210191084|            15.702229299363058|\n",
            "|      3|               null|                         null| 0.12250000000000001|                          11.0|\n",
            "|      5|              0.095|                         12.0| 0.09269161676646706|            17.080838323353294|\n",
            "|      4|               0.61|                         32.0|  0.0806923076923077|            11.884615384615385|\n",
            "|      8|0.07750000000000001|                         24.0|           0.0673125|                       11.9375|\n",
            "|      7|0.08233333333333333|                         13.0| 0.07649999999999997|            14.061224489795919|\n",
            "+-------+-------------------+-----------------------------+--------------------+------------------------------+\n",
            "\n"
          ]
        }
      ]
    },
    {
      "cell_type": "markdown",
      "source": [
        "JOINS"
      ],
      "metadata": {
        "id": "I0Bmf6V4AHzG"
      }
    },
    {
      "cell_type": "code",
      "source": [
        "valuesP = [('koala',1,'yes'),('caterpillar',2,'yes'),('deer',3,'yes'),('human',4,'yes')]\n",
        "eats_plants = spark.createDataFrame(valuesP,['name','id','eats_plants'])\n",
        "\n",
        "valuesM = [('shark',5,'yes'),('lion',6,'yes'),('tiger',7,'yes'),('human',4,'yes')]\n",
        "eats_meat = spark.createDataFrame(valuesM,['name','id','eats_meat'])\n",
        "\n",
        "print(\"Plant eaters (herbivores)\")\n",
        "print(eats_plants.show())\n",
        "print(\"Meat eaters (carnivores)\")\n",
        "print(eats_meat.show())"
      ],
      "metadata": {
        "colab": {
          "base_uri": "https://localhost:8080/"
        },
        "id": "rA6JiRifADC3",
        "outputId": "df677f37-5e36-460a-c962-99002db5cfef"
      },
      "execution_count": 98,
      "outputs": [
        {
          "output_type": "stream",
          "name": "stdout",
          "text": [
            "Plant eaters (herbivores)\n",
            "+-----------+---+-----------+\n",
            "|       name| id|eats_plants|\n",
            "+-----------+---+-----------+\n",
            "|      koala|  1|        yes|\n",
            "|caterpillar|  2|        yes|\n",
            "|       deer|  3|        yes|\n",
            "|      human|  4|        yes|\n",
            "+-----------+---+-----------+\n",
            "\n",
            "None\n",
            "Meat eaters (carnivores)\n",
            "+-----+---+---------+\n",
            "| name| id|eats_meat|\n",
            "+-----+---+---------+\n",
            "|shark|  5|      yes|\n",
            "| lion|  6|      yes|\n",
            "|tiger|  7|      yes|\n",
            "|human|  4|      yes|\n",
            "+-----+---+---------+\n",
            "\n",
            "None\n"
          ]
        }
      ]
    },
    {
      "cell_type": "code",
      "source": [
        "#Inner Join: ONLY the values that appear in BOTH tables we are joining.\n",
        "inner_join = eats_plants.join(eats_meat, [\"name\",\"id\"],\"inner\")\n",
        "print(\"Inner Join Example\")\n",
        "print(inner_join.show())"
      ],
      "metadata": {
        "colab": {
          "base_uri": "https://localhost:8080/"
        },
        "id": "nuixk5yKAN3x",
        "outputId": "4f6da230-1432-4ef9-986c-bed00a5f12f9"
      },
      "execution_count": 99,
      "outputs": [
        {
          "output_type": "stream",
          "name": "stdout",
          "text": [
            "Inner Join Example\n",
            "+-----+---+-----------+---------+\n",
            "| name| id|eats_plants|eats_meat|\n",
            "+-----+---+-----------+---------+\n",
            "|human|  4|        yes|      yes|\n",
            "+-----+---+-----------+---------+\n",
            "\n",
            "None\n"
          ]
        }
      ]
    },
    {
      "cell_type": "code",
      "source": [
        "#Left Join: Left joins gives the rows and columns that appear in the left table and only the rows from the right table which are successfully mapped to the table on the left along with the columns. A quick quality check we could do would be to make sure that the human column has the value \"yes\" for both eats_plants and eats_meat columns.\n",
        "left_join = eats_plants.join(eats_meat, [\"name\",\"id\"], how='left')\n",
        "print(\"Left Join Example\")\n",
        "print(left_join.show())"
      ],
      "metadata": {
        "colab": {
          "base_uri": "https://localhost:8080/"
        },
        "id": "rfTjq8UKAbbg",
        "outputId": "1ba2b97d-a37d-4968-ce9c-44880865b94f"
      },
      "execution_count": 100,
      "outputs": [
        {
          "output_type": "stream",
          "name": "stdout",
          "text": [
            "Left Join Example\n",
            "+-----------+---+-----------+---------+\n",
            "|       name| id|eats_plants|eats_meat|\n",
            "+-----------+---+-----------+---------+\n",
            "|      koala|  1|        yes|     null|\n",
            "|caterpillar|  2|        yes|     null|\n",
            "|       deer|  3|        yes|     null|\n",
            "|      human|  4|        yes|      yes|\n",
            "+-----------+---+-----------+---------+\n",
            "\n",
            "None\n"
          ]
        }
      ]
    },
    {
      "cell_type": "code",
      "source": [
        "#Right Join: Gets the values that appear in the right table but not in the left. It also brings it's columns over.\n",
        "right_join = eats_plants.join(eats_meat,  [\"name\",\"id\"],how='right')\n",
        "print(\"Right Join\")\n",
        "print(right_join.show())"
      ],
      "metadata": {
        "colab": {
          "base_uri": "https://localhost:8080/"
        },
        "id": "FZyM-9I7AjLW",
        "outputId": "b4add5b7-4e5b-490f-e957-0ebc37323862"
      },
      "execution_count": 101,
      "outputs": [
        {
          "output_type": "stream",
          "name": "stdout",
          "text": [
            "Right Join\n",
            "+-----+---+-----------+---------+\n",
            "| name| id|eats_plants|eats_meat|\n",
            "+-----+---+-----------+---------+\n",
            "|shark|  5|       null|      yes|\n",
            "| lion|  6|       null|      yes|\n",
            "|human|  4|        yes|      yes|\n",
            "|tiger|  7|       null|      yes|\n",
            "+-----+---+-----------+---------+\n",
            "\n",
            "None\n"
          ]
        }
      ]
    },
    {
      "cell_type": "code",
      "source": [
        "#Full Outer Join: Will get all values from both tables and columns from both.\n",
        "full_outer_join = eats_plants.join(eats_meat, [\"name\",\"id\"],how='full') # Could also use 'full_outer'\n",
        "print(\"Full Outer Join\")\n",
        "print(full_outer_join.show())\n",
        "\n"
      ],
      "metadata": {
        "colab": {
          "base_uri": "https://localhost:8080/"
        },
        "id": "4WTgs5VQAp5o",
        "outputId": "dbbf7f0b-8745-48ef-ae6b-1e7ab043c39a"
      },
      "execution_count": 102,
      "outputs": [
        {
          "output_type": "stream",
          "name": "stdout",
          "text": [
            "Full Outer Join\n",
            "+-----------+---+-----------+---------+\n",
            "|       name| id|eats_plants|eats_meat|\n",
            "+-----------+---+-----------+---------+\n",
            "|caterpillar|  2|        yes|     null|\n",
            "|       deer|  3|        yes|     null|\n",
            "|      human|  4|        yes|      yes|\n",
            "|      koala|  1|        yes|     null|\n",
            "|       lion|  6|       null|      yes|\n",
            "|      shark|  5|       null|      yes|\n",
            "|      tiger|  7|       null|      yes|\n",
            "+-----------+---+-----------+---------+\n",
            "\n",
            "None\n"
          ]
        }
      ]
    },
    {
      "cell_type": "code",
      "source": [
        "#Union\n",
        "new_df = eats_plants\n",
        "\n",
        "df_concat = eats_plants.union(new_df)\n",
        "print((\"eats_plants df Counts:\", eats_plants.count(), len(eats_plants.columns)))\n",
        "print((\"df_concat Counts:\", df_concat.count(), len(df_concat.columns)))\n",
        "print(eats_plants.show())\n",
        "print(df_concat.show())\n",
        "\n"
      ],
      "metadata": {
        "colab": {
          "base_uri": "https://localhost:8080/"
        },
        "id": "1vwyv7IPAxWm",
        "outputId": "9df08fc8-6d74-4fdc-cda3-c4b931ec8ef1"
      },
      "execution_count": 103,
      "outputs": [
        {
          "output_type": "stream",
          "name": "stdout",
          "text": [
            "('eats_plants df Counts:', 4, 3)\n",
            "('df_concat Counts:', 8, 3)\n",
            "+-----------+---+-----------+\n",
            "|       name| id|eats_plants|\n",
            "+-----------+---+-----------+\n",
            "|      koala|  1|        yes|\n",
            "|caterpillar|  2|        yes|\n",
            "|       deer|  3|        yes|\n",
            "|      human|  4|        yes|\n",
            "+-----------+---+-----------+\n",
            "\n",
            "None\n",
            "+-----------+---+-----------+\n",
            "|       name| id|eats_plants|\n",
            "+-----------+---+-----------+\n",
            "|      koala|  1|        yes|\n",
            "|caterpillar|  2|        yes|\n",
            "|       deer|  3|        yes|\n",
            "|      human|  4|        yes|\n",
            "|      koala|  1|        yes|\n",
            "|caterpillar|  2|        yes|\n",
            "|       deer|  3|        yes|\n",
            "|      human|  4|        yes|\n",
            "+-----------+---+-----------+\n",
            "\n",
            "None\n"
          ]
        }
      ]
    },
    {
      "cell_type": "code",
      "source": [
        "#Join with different column names\n",
        "import pyspark.sql.functions as F\n",
        "# creating different name for the same column\n",
        "eats_plants = eats_plants.withColumnRenamed(\"name\", \"name_1\")\n",
        "eats_plants.join(eats_meat, eats_plants['name_1'] == eats_meat['name'], how='outer')\\\n",
        "   .show()\n",
        "\n",
        "#This works well but has some extra duplicate columns common between the two tables that can now be dropped after the mapping is complete."
      ],
      "metadata": {
        "colab": {
          "base_uri": "https://localhost:8080/"
        },
        "id": "rMhhRE_IA1gM",
        "outputId": "cf148c5c-7d95-4c9c-915c-2deb9cb76308"
      },
      "execution_count": 104,
      "outputs": [
        {
          "output_type": "stream",
          "name": "stdout",
          "text": [
            "+-----------+----+-----------+-----+----+---------+\n",
            "|     name_1|  id|eats_plants| name|  id|eats_meat|\n",
            "+-----------+----+-----------+-----+----+---------+\n",
            "|caterpillar|   2|        yes| null|null|     null|\n",
            "|       deer|   3|        yes| null|null|     null|\n",
            "|      human|   4|        yes|human|   4|      yes|\n",
            "|      koala|   1|        yes| null|null|     null|\n",
            "|       null|null|       null| lion|   6|      yes|\n",
            "|       null|null|       null|shark|   5|      yes|\n",
            "|       null|null|       null|tiger|   7|      yes|\n",
            "+-----------+----+-----------+-----+----+---------+\n",
            "\n"
          ]
        }
      ]
    },
    {
      "cell_type": "code",
      "source": [
        "#Coalesce: Returns the first column that is not null\n",
        "cDf = spark.createDataFrame([(None, None), (1, None), (None, 2)], (\"a\", \"b\"))\n",
        "print(cDf.show())\n",
        "cDf.select(coalesce(cDf[\"a\"], cDf[\"b\"])).show()"
      ],
      "metadata": {
        "colab": {
          "base_uri": "https://localhost:8080/"
        },
        "id": "QkWHjSFtA78W",
        "outputId": "caa54d54-f960-4745-8528-04a6dc603dfd"
      },
      "execution_count": 105,
      "outputs": [
        {
          "output_type": "stream",
          "name": "stdout",
          "text": [
            "+----+----+\n",
            "|   a|   b|\n",
            "+----+----+\n",
            "|null|null|\n",
            "|   1|null|\n",
            "|null|   2|\n",
            "+----+----+\n",
            "\n",
            "None\n",
            "+--------------+\n",
            "|coalesce(a, b)|\n",
            "+--------------+\n",
            "|          null|\n",
            "|             1|\n",
            "|             2|\n",
            "+--------------+\n",
            "\n"
          ]
        }
      ]
    },
    {
      "cell_type": "code",
      "source": [
        "#Coalesce in Joins #Extra columns after merge will not come \n",
        "eats_plants.join(eats_meat, eats_plants['name_1'] == eats_meat['name'], how='outer')\\\n",
        "   .select('*', F.coalesce(F.col('name_1'), F.col('name')).alias('name_coalesced')) \\\n",
        "   .drop('name_1', 'name') \\\n",
        "   .show()"
      ],
      "metadata": {
        "colab": {
          "base_uri": "https://localhost:8080/"
        },
        "id": "KRLVU617BTAr",
        "outputId": "f8f847c1-89a4-4057-83ae-0bd130427598"
      },
      "execution_count": 106,
      "outputs": [
        {
          "output_type": "stream",
          "name": "stdout",
          "text": [
            "+----+-----------+----+---------+--------------+\n",
            "|  id|eats_plants|  id|eats_meat|name_coalesced|\n",
            "+----+-----------+----+---------+--------------+\n",
            "|   2|        yes|null|     null|   caterpillar|\n",
            "|   3|        yes|null|     null|          deer|\n",
            "|   4|        yes|   4|      yes|         human|\n",
            "|   1|        yes|null|     null|         koala|\n",
            "|null|       null|   6|      yes|          lion|\n",
            "|null|       null|   5|      yes|         shark|\n",
            "|null|       null|   7|      yes|         tiger|\n",
            "+----+-----------+----+---------+--------------+\n",
            "\n"
          ]
        }
      ]
    }
  ]
}