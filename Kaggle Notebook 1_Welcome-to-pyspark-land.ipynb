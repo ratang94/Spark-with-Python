{
 "cells": [
  {
   "cell_type": "markdown",
   "id": "6ffdf90a",
   "metadata": {
    "papermill": {
     "duration": 0.077948,
     "end_time": "2022-01-08T12:36:03.479858",
     "exception": false,
     "start_time": "2022-01-08T12:36:03.401910",
     "status": "completed"
    },
    "tags": []
   },
   "source": [
    "# A brief Walkthrough of the Technologies\n",
    "\n",
    "Apache Spark is one of the hottest new trends in the technology domain. It is the framework with probably the highest potential to realize the fruit of the marriage between Big Data and Machine Learning.\n",
    "\n",
    "Spark is implemented on Hadoop/HDFS and written mostly in Scala, a functional programming language, similar to Java. \n",
    "In fact, Scala needs the latest Java installation on your system and runs on JVM. However, for most beginners, Scala is not a language that they learn first to venture into the world of data science. \n",
    "\n",
    "Fortunately, Spark provides a wonderful Python integration, called PySpark, which lets Python programmers to interface with the Spark framework and learn how to manipulate data at scale and work with objects and algorithms over a distributed file system.\n",
    "\n",
    "\n",
    "\n",
    "# The Power of Spark\n",
    "\n",
    "\n",
    "One thing to remember is that Spark is not a programming language like Python or Java. It is a general-purpose distributed data processing engine, suitable for use in a wide range of circumstances. It is particularly useful for big data processing both at scale and with high speed.\n",
    "\n",
    "Application developers and data scientists generally incorporate Spark into their applications to rapidly query, analyze, and transform data at scale. \n",
    "\n",
    "Some of the tasks that are most frequently associated with Spark, include, – ETL and SQL batch jobs across large data sets (often of terabytes of size), – processing of streaming data from IoT devices and nodes, data from various sensors, financial and transactional systems of all kinds, and – machine learning tasks for e-commerce or IT applications.\n",
    "\n",
    "At its core, Spark builds on top of the Hadoop/HDFS framework for handling distributed files. It is mostly implemented with Scala, a functional language variant of Java. \n",
    "\n",
    "There is a core Spark data processing engine, but on top of that, there are many libraries developed for SQL-type query analysis, distributed machine learning, large-scale graph computation, and streaming data processing. \n",
    "\n",
    "Multiple programming languages are supported by Spark in the form of easy interface libraries: Java, Python, Scala, and R.\n",
    "\n",
    "\n",
    "# How Spark Works\n",
    "\n",
    "The basic idea of distributed processing is to divide the data chunks into small manageable pieces (including some filtering and sorting), bring the computation close to the data i.e. use small nodes of a large cluster for specific jobs and then re-combine them back. \n",
    "\n",
    "The dividing portion is called the ‘Map’ action and the recombination is called the ‘Reduce’ action. Together, they make the famous ‘MapReduce’ paradigm, which was introduced by Google around 2004.\n",
    "\n",
    "For example, if a file has 100 records to be processed, 100 mappers can run together to process one record each. Or maybe 50 mappers can run together to process two records each. After all the mappers complete processing, the framework shuffles and sorts the results before passing them on to the reducers. A reducer cannot start while a mapper is still in progress. \n",
    "\n",
    "All the map output values that have the same key are assigned to a single reducer, which then aggregates the values for that key.\n",
    "\n"
   ]
  },
  {
   "cell_type": "markdown",
   "id": "19f3693c",
   "metadata": {
    "papermill": {
     "duration": 0.072682,
     "end_time": "2022-01-08T12:36:03.626680",
     "exception": false,
     "start_time": "2022-01-08T12:36:03.553998",
     "status": "completed"
    },
    "tags": []
   },
   "source": [
    "Reference: https://www.kdnuggets.com/2020/04/benefits-apache-spark-pyspark.html"
   ]
  },
  {
   "cell_type": "markdown",
   "id": "24a6f5ef",
   "metadata": {
    "papermill": {
     "duration": 0.074341,
     "end_time": "2022-01-08T12:36:03.773951",
     "exception": false,
     "start_time": "2022-01-08T12:36:03.699610",
     "status": "completed"
    },
    "tags": []
   },
   "source": [
    "# What are we planning to do?"
   ]
  },
  {
   "cell_type": "markdown",
   "id": "baf400da",
   "metadata": {
    "execution": {
     "iopub.execute_input": "2021-12-10T16:14:16.349149Z",
     "iopub.status.busy": "2021-12-10T16:14:16.348689Z",
     "iopub.status.idle": "2021-12-10T16:14:16.354623Z",
     "shell.execute_reply": "2021-12-10T16:14:16.353462Z",
     "shell.execute_reply.started": "2021-12-10T16:14:16.349112Z"
    },
    "papermill": {
     "duration": 0.072375,
     "end_time": "2022-01-08T12:36:03.919363",
     "exception": false,
     "start_time": "2022-01-08T12:36:03.846988",
     "status": "completed"
    },
    "tags": []
   },
   "source": [
    "1. Creating a DataFrame manually\n",
    "2. Read DataFrame\n",
    "3. Write DataFrame\n",
    "4. Validate DataFrame\n",
    "5. Search DataFrame\n",
    "6. Select functionality on a DataFrame\n",
    "7. Filter DataFrame\n",
    "8. Slicing a DataFrame\n",
    "9. Introducing SQL in PySpark"
   ]
  },
  {
   "cell_type": "code",
   "execution_count": 1,
   "id": "abd808b6",
   "metadata": {
    "_kg_hide-output": true,
    "execution": {
     "iopub.execute_input": "2022-01-08T12:36:04.073002Z",
     "iopub.status.busy": "2022-01-08T12:36:04.071852Z",
     "iopub.status.idle": "2022-01-08T12:36:56.836621Z",
     "shell.execute_reply": "2022-01-08T12:36:56.837260Z",
     "shell.execute_reply.started": "2021-12-26T09:38:16.086322Z"
    },
    "papermill": {
     "duration": 52.844573,
     "end_time": "2022-01-08T12:36:56.837982",
     "exception": false,
     "start_time": "2022-01-08T12:36:03.993409",
     "status": "completed"
    },
    "tags": []
   },
   "outputs": [
    {
     "name": "stdout",
     "output_type": "stream",
     "text": [
      "Collecting pyspark\r\n",
      "  Downloading pyspark-3.2.0.tar.gz (281.3 MB)\r\n",
      "     |████████████████████████████████| 281.3 MB 35 kB/s              \r\n",
      "\u001b[?25h  Preparing metadata (setup.py) ... \u001b[?25l-\b \b\\\b \bdone\r\n",
      "\u001b[?25hCollecting py4j==0.10.9.2\r\n",
      "  Downloading py4j-0.10.9.2-py2.py3-none-any.whl (198 kB)\r\n",
      "     |████████████████████████████████| 198 kB 38.0 MB/s            \r\n",
      "\u001b[?25hBuilding wheels for collected packages: pyspark\r\n",
      "  Building wheel for pyspark (setup.py) ... \u001b[?25l-\b \b\\\b \b|\b \b/\b \b-\b \b\\\b \b|\b \b/\b \b-\b \b\\\b \b|\b \b/\b \b-\b \b\\\b \b|\b \b/\b \b-\b \b\\\b \b|\b \b/\b \b-\b \b\\\b \b|\b \b/\b \b-\b \b\\\b \b|\b \b/\b \b-\b \b\\\b \b|\b \b/\b \b-\b \b\\\b \b|\b \b/\b \b-\b \b\\\b \b|\b \b/\b \b-\b \b\\\b \b|\b \b/\b \b-\b \b\\\b \b|\b \b/\b \b-\b \b\\\b \b|\b \b/\b \b-\b \b\\\b \b|\b \b/\b \b-\b \b\\\b \b|\b \b/\b \b-\b \b\\\b \b|\b \b/\b \b-\b \b\\\b \b|\b \b/\b \b-\b \b\\\b \b|\b \b/\b \b-\b \b\\\b \bdone\r\n",
      "\u001b[?25h  Created wheel for pyspark: filename=pyspark-3.2.0-py2.py3-none-any.whl size=281805912 sha256=aeb5caf5693deff21e6aaebd39764d45b471aec4e53a8ead08e80838ae253133\r\n",
      "  Stored in directory: /root/.cache/pip/wheels/0b/de/d2/9be5d59d7331c6c2a7c1b6d1a4f463ce107332b1ecd4e80718\r\n",
      "Successfully built pyspark\r\n",
      "Installing collected packages: py4j, pyspark\r\n",
      "  Attempting uninstall: py4j\r\n",
      "    Found existing installation: py4j 0.10.9.3\r\n",
      "    Uninstalling py4j-0.10.9.3:\r\n",
      "      Successfully uninstalled py4j-0.10.9.3\r\n",
      "Successfully installed py4j-0.10.9.2 pyspark-3.2.0\r\n",
      "\u001b[33mWARNING: Running pip as the 'root' user can result in broken permissions and conflicting behaviour with the system package manager. It is recommended to use a virtual environment instead: https://pip.pypa.io/warnings/venv\u001b[0m\r\n"
     ]
    }
   ],
   "source": [
    "!pip install pyspark"
   ]
  },
  {
   "cell_type": "code",
   "execution_count": 2,
   "id": "6cb6d512",
   "metadata": {
    "execution": {
     "iopub.execute_input": "2022-01-08T12:36:57.280960Z",
     "iopub.status.busy": "2022-01-08T12:36:57.279843Z",
     "iopub.status.idle": "2022-01-08T12:37:04.275587Z",
     "shell.execute_reply": "2022-01-08T12:37:04.274398Z",
     "shell.execute_reply.started": "2021-12-26T09:38:24.600424Z"
    },
    "papermill": {
     "duration": 7.221012,
     "end_time": "2022-01-08T12:37:04.275800",
     "exception": false,
     "start_time": "2022-01-08T12:36:57.054788",
     "status": "completed"
    },
    "tags": []
   },
   "outputs": [
    {
     "name": "stderr",
     "output_type": "stream",
     "text": [
      "WARNING: An illegal reflective access operation has occurred\n",
      "WARNING: Illegal reflective access by org.apache.spark.unsafe.Platform (file:/opt/conda/lib/python3.7/site-packages/pyspark/jars/spark-unsafe_2.12-3.2.0.jar) to constructor java.nio.DirectByteBuffer(long,int)\n",
      "WARNING: Please consider reporting this to the maintainers of org.apache.spark.unsafe.Platform\n",
      "WARNING: Use --illegal-access=warn to enable warnings of further illegal reflective access operations\n",
      "WARNING: All illegal access operations will be denied in a future release\n",
      "Using Spark's default log4j profile: org/apache/spark/log4j-defaults.properties\n",
      "Setting default log level to \"WARN\".\n",
      "To adjust logging level use sc.setLogLevel(newLevel). For SparkR, use setLogLevel(newLevel).\n",
      "22/01/08 12:37:00 WARN NativeCodeLoader: Unable to load native-hadoop library for your platform... using builtin-java classes where applicable\n"
     ]
    },
    {
     "name": "stdout",
     "output_type": "stream",
     "text": [
      "You are working with 1 core(s)\n"
     ]
    },
    {
     "data": {
      "text/html": [
       "\n",
       "            <div>\n",
       "                <p><b>SparkSession - in-memory</b></p>\n",
       "                \n",
       "        <div>\n",
       "            <p><b>SparkContext</b></p>\n",
       "\n",
       "            <p><a href=\"http://28bf497a9c57:4040\">Spark UI</a></p>\n",
       "\n",
       "            <dl>\n",
       "              <dt>Version</dt>\n",
       "                <dd><code>v3.2.0</code></dd>\n",
       "              <dt>Master</dt>\n",
       "                <dd><code>local[*]</code></dd>\n",
       "              <dt>AppName</dt>\n",
       "                <dd><code>Pyspark_1</code></dd>\n",
       "            </dl>\n",
       "        </div>\n",
       "        \n",
       "            </div>\n",
       "        "
      ],
      "text/plain": [
       "<pyspark.sql.session.SparkSession at 0x7f7bfa2caa50>"
      ]
     },
     "execution_count": 2,
     "metadata": {},
     "output_type": "execute_result"
    }
   ],
   "source": [
    "import numpy as np # linear algebra\n",
    "import pandas as pd # data processing, CSV file I/O (e.g. pd.read_csv)\n",
    "\n",
    "import os\n",
    "import pyspark # only run after findspark.init()\n",
    "from pyspark.sql import SparkSession\n",
    "# May take awhile locally\n",
    "spark = SparkSession.builder.appName(\"Pyspark_1\").getOrCreate()\n",
    "\n",
    "cores = spark._jsc.sc().getExecutorMemoryStatus().keySet().size()\n",
    "print(\"You are working with\", cores, \"core(s)\")\n",
    "spark"
   ]
  },
  {
   "cell_type": "markdown",
   "id": "4c387d6c",
   "metadata": {
    "papermill": {
     "duration": 0.210584,
     "end_time": "2022-01-08T12:37:04.740570",
     "exception": false,
     "start_time": "2022-01-08T12:37:04.529986",
     "status": "completed"
    },
    "tags": []
   },
   "source": [
    "# Creating a DataFrame manually"
   ]
  },
  {
   "cell_type": "code",
   "execution_count": 3,
   "id": "272deed3",
   "metadata": {
    "execution": {
     "iopub.execute_input": "2022-01-08T12:37:05.174826Z",
     "iopub.status.busy": "2022-01-08T12:37:05.174154Z",
     "iopub.status.idle": "2022-01-08T12:37:10.712199Z",
     "shell.execute_reply": "2022-01-08T12:37:10.713112Z",
     "shell.execute_reply.started": "2021-12-26T09:38:24.616862Z"
    },
    "papermill": {
     "duration": 5.763951,
     "end_time": "2022-01-08T12:37:10.713400",
     "exception": false,
     "start_time": "2022-01-08T12:37:04.949449",
     "status": "completed"
    },
    "tags": []
   },
   "outputs": [
    {
     "name": "stderr",
     "output_type": "stream",
     "text": [
      "                                                                                \r"
     ]
    },
    {
     "name": "stdout",
     "output_type": "stream",
     "text": [
      "+-------+---------------+\n",
      "|   food|my_hunger_index|\n",
      "+-------+---------------+\n",
      "|  Pasta|            100|\n",
      "|  Pizza|            200|\n",
      "|Noodles|             50|\n",
      "| Burger|            199|\n",
      "|   Dosa|          10000|\n",
      "|  Bread|              1|\n",
      "+-------+---------------+\n",
      "\n"
     ]
    }
   ],
   "source": [
    "values = [('Pasta',100),('Pizza',200),('Noodles',50),('Burger',199),('Dosa',10000),('Bread',1)]\n",
    "df = spark.createDataFrame(values,['food','my_hunger_index'])\n",
    "df.show()"
   ]
  },
  {
   "cell_type": "markdown",
   "id": "bd01c216",
   "metadata": {
    "papermill": {
     "duration": 0.229982,
     "end_time": "2022-01-08T12:37:11.184975",
     "exception": false,
     "start_time": "2022-01-08T12:37:10.954993",
     "status": "completed"
    },
    "tags": []
   },
   "source": [
    "# Reading a DataFrame"
   ]
  },
  {
   "cell_type": "code",
   "execution_count": 4,
   "id": "9c945031",
   "metadata": {
    "execution": {
     "iopub.execute_input": "2022-01-08T12:37:11.645019Z",
     "iopub.status.busy": "2022-01-08T12:37:11.644353Z",
     "iopub.status.idle": "2022-01-08T12:37:13.140929Z",
     "shell.execute_reply": "2022-01-08T12:37:13.139902Z",
     "shell.execute_reply.started": "2021-12-26T09:38:24.767259Z"
    },
    "papermill": {
     "duration": 1.727833,
     "end_time": "2022-01-08T12:37:13.141087",
     "exception": false,
     "start_time": "2022-01-08T12:37:11.413254",
     "status": "completed"
    },
    "tags": []
   },
   "outputs": [],
   "source": [
    "path =\"\"\n",
    "\n",
    "# Some csv data\n",
    "wine_quality = spark.read.csv(path+'/kaggle/input/red-wine-quality-cortez-et-al-2009/winequality-red.csv',\n",
    "                          inferSchema=True,header=True)"
   ]
  },
  {
   "cell_type": "code",
   "execution_count": 5,
   "id": "c48508e1",
   "metadata": {
    "execution": {
     "iopub.execute_input": "2022-01-08T12:37:13.566001Z",
     "iopub.status.busy": "2022-01-08T12:37:13.565033Z",
     "iopub.status.idle": "2022-01-08T12:37:13.583698Z",
     "shell.execute_reply": "2022-01-08T12:37:13.583003Z",
     "shell.execute_reply.started": "2021-12-26T09:38:25.006823Z"
    },
    "papermill": {
     "duration": 0.231944,
     "end_time": "2022-01-08T12:37:13.583865",
     "exception": false,
     "start_time": "2022-01-08T12:37:13.351921",
     "status": "completed"
    },
    "tags": []
   },
   "outputs": [
    {
     "data": {
      "text/plain": [
       "DataFrame[fixed acidity: double, volatile acidity: double, citric acid: double, residual sugar: double, chlorides: double, free sulfur dioxide: double, total sulfur dioxide: double, density: double, pH: double, sulphates: double, alcohol: double, quality: int]"
      ]
     },
     "execution_count": 5,
     "metadata": {},
     "output_type": "execute_result"
    }
   ],
   "source": [
    "wine_quality"
   ]
  },
  {
   "cell_type": "markdown",
   "id": "baa46e51",
   "metadata": {
    "papermill": {
     "duration": 0.2077,
     "end_time": "2022-01-08T12:37:14.000981",
     "exception": false,
     "start_time": "2022-01-08T12:37:13.793281",
     "status": "completed"
    },
    "tags": []
   },
   "source": [
    "#### If the object is printed out it tells about the column names and data types of those columns separated by colon."
   ]
  },
  {
   "cell_type": "code",
   "execution_count": 6,
   "id": "ba17d4e1",
   "metadata": {
    "execution": {
     "iopub.execute_input": "2022-01-08T12:37:14.428226Z",
     "iopub.status.busy": "2022-01-08T12:37:14.427356Z",
     "iopub.status.idle": "2022-01-08T12:37:14.831831Z",
     "shell.execute_reply": "2022-01-08T12:37:14.832658Z",
     "shell.execute_reply.started": "2021-12-26T09:38:25.077681Z"
    },
    "papermill": {
     "duration": 0.620002,
     "end_time": "2022-01-08T12:37:14.832925",
     "exception": false,
     "start_time": "2022-01-08T12:37:14.212923",
     "status": "completed"
    },
    "tags": []
   },
   "outputs": [
    {
     "name": "stdout",
     "output_type": "stream",
     "text": [
      "+-------------+----------------+-----------+--------------+-------------------+-------------------+--------------------+-------+----+---------+-------+-------+\n",
      "|fixed acidity|volatile acidity|citric acid|residual sugar|          chlorides|free sulfur dioxide|total sulfur dioxide|density|  pH|sulphates|alcohol|quality|\n",
      "+-------------+----------------+-----------+--------------+-------------------+-------------------+--------------------+-------+----+---------+-------+-------+\n",
      "|          7.4|             0.7|        0.0|           1.9|              0.076|               11.0|                34.0| 0.9978|3.51|     0.56|    9.4|      5|\n",
      "|          7.8|            0.88|        0.0|           2.6|              0.098|               25.0|                67.0| 0.9968| 3.2|     0.68|    9.8|      5|\n",
      "|          7.8|            0.76|       0.04|           2.3|              0.092|               15.0|                54.0|  0.997|3.26|     0.65|    9.8|      5|\n",
      "|         11.2|            0.28|       0.56|           1.9|              0.075|               17.0|                60.0|  0.998|3.16|     0.58|    9.8|      6|\n",
      "|          7.4|             0.7|        0.0|           1.9|              0.076|               11.0|                34.0| 0.9978|3.51|     0.56|    9.4|      5|\n",
      "|          7.4|            0.66|        0.0|           1.8|              0.075|               13.0|                40.0| 0.9978|3.51|     0.56|    9.4|      5|\n",
      "|          7.9|             0.6|       0.06|           1.6|              0.069|               15.0|                59.0| 0.9964| 3.3|     0.46|    9.4|      5|\n",
      "|          7.3|            0.65|        0.0|           1.2|              0.065|               15.0|                21.0| 0.9946|3.39|     0.47|   10.0|      7|\n",
      "|          7.8|            0.58|       0.02|           2.0|              0.073|                9.0|                18.0| 0.9968|3.36|     0.57|    9.5|      7|\n",
      "|          7.5|             0.5|       0.36|           6.1|              0.071|               17.0|               102.0| 0.9978|3.35|      0.8|   10.5|      5|\n",
      "|          6.7|            0.58|       0.08|           1.8|0.09699999999999999|               15.0|                65.0| 0.9959|3.28|     0.54|    9.2|      5|\n",
      "|          7.5|             0.5|       0.36|           6.1|              0.071|               17.0|               102.0| 0.9978|3.35|      0.8|   10.5|      5|\n",
      "|          5.6|           0.615|        0.0|           1.6|0.08900000000000001|               16.0|                59.0| 0.9943|3.58|     0.52|    9.9|      5|\n",
      "|          7.8|            0.61|       0.29|           1.6|              0.114|                9.0|                29.0| 0.9974|3.26|     1.56|    9.1|      5|\n",
      "|          8.9|            0.62|       0.18|           3.8|0.17600000000000002|               52.0|               145.0| 0.9986|3.16|     0.88|    9.2|      5|\n",
      "|          8.9|            0.62|       0.19|           3.9|               0.17|               51.0|               148.0| 0.9986|3.17|     0.93|    9.2|      5|\n",
      "|          8.5|            0.28|       0.56|           1.8|              0.092|               35.0|               103.0| 0.9969| 3.3|     0.75|   10.5|      7|\n",
      "|          8.1|            0.56|       0.28|           1.7|              0.368|               16.0|                56.0| 0.9968|3.11|     1.28|    9.3|      5|\n",
      "|          7.4|            0.59|       0.08|           4.4|              0.086|                6.0|                29.0| 0.9974|3.38|      0.5|    9.0|      4|\n",
      "|          7.9|            0.32|       0.51|           1.8|              0.341|               17.0|                56.0| 0.9969|3.04|     1.08|    9.2|      6|\n",
      "+-------------+----------------+-----------+--------------+-------------------+-------------------+--------------------+-------+----+---------+-------+-------+\n",
      "only showing top 20 rows\n",
      "\n"
     ]
    }
   ],
   "source": [
    "wine_quality.show()"
   ]
  },
  {
   "cell_type": "markdown",
   "id": "5629b542",
   "metadata": {
    "papermill": {
     "duration": 0.231473,
     "end_time": "2022-01-08T12:37:15.348630",
     "exception": false,
     "start_time": "2022-01-08T12:37:15.117157",
     "status": "completed"
    },
    "tags": []
   },
   "source": [
    "#### way too many rows, lets use the limit method."
   ]
  },
  {
   "cell_type": "code",
   "execution_count": 7,
   "id": "606cd8ea",
   "metadata": {
    "execution": {
     "iopub.execute_input": "2022-01-08T12:37:15.781466Z",
     "iopub.status.busy": "2022-01-08T12:37:15.780555Z",
     "iopub.status.idle": "2022-01-08T12:37:16.392792Z",
     "shell.execute_reply": "2022-01-08T12:37:16.391239Z",
     "shell.execute_reply.started": "2021-12-26T09:38:25.193876Z"
    },
    "papermill": {
     "duration": 0.831593,
     "end_time": "2022-01-08T12:37:16.393109",
     "exception": false,
     "start_time": "2022-01-08T12:37:15.561516",
     "status": "completed"
    },
    "tags": []
   },
   "outputs": [
    {
     "name": "stdout",
     "output_type": "stream",
     "text": [
      "+-------------+----------------+-----------+--------------+---------+-------------------+--------------------+-------+----+---------+-------+-------+\n",
      "|fixed acidity|volatile acidity|citric acid|residual sugar|chlorides|free sulfur dioxide|total sulfur dioxide|density|  pH|sulphates|alcohol|quality|\n",
      "+-------------+----------------+-----------+--------------+---------+-------------------+--------------------+-------+----+---------+-------+-------+\n",
      "|          7.4|             0.7|        0.0|           1.9|    0.076|               11.0|                34.0| 0.9978|3.51|     0.56|    9.4|      5|\n",
      "|          7.8|            0.88|        0.0|           2.6|    0.098|               25.0|                67.0| 0.9968| 3.2|     0.68|    9.8|      5|\n",
      "|          7.8|            0.76|       0.04|           2.3|    0.092|               15.0|                54.0|  0.997|3.26|     0.65|    9.8|      5|\n",
      "|         11.2|            0.28|       0.56|           1.9|    0.075|               17.0|                60.0|  0.998|3.16|     0.58|    9.8|      6|\n",
      "|          7.4|             0.7|        0.0|           1.9|    0.076|               11.0|                34.0| 0.9978|3.51|     0.56|    9.4|      5|\n",
      "+-------------+----------------+-----------+--------------+---------+-------------------+--------------------+-------+----+---------+-------+-------+\n",
      "\n"
     ]
    }
   ],
   "source": [
    "wine_quality.limit(5).show()"
   ]
  },
  {
   "cell_type": "markdown",
   "id": "301b40fb",
   "metadata": {
    "execution": {
     "iopub.execute_input": "2021-12-10T16:51:00.441241Z",
     "iopub.status.busy": "2021-12-10T16:51:00.44096Z",
     "iopub.status.idle": "2021-12-10T16:51:00.447251Z",
     "shell.execute_reply": "2021-12-10T16:51:00.446111Z",
     "shell.execute_reply.started": "2021-12-10T16:51:00.441212Z"
    },
    "papermill": {
     "duration": 0.227466,
     "end_time": "2022-01-08T12:37:16.867215",
     "exception": false,
     "start_time": "2022-01-08T12:37:16.639749",
     "status": "completed"
    },
    "tags": []
   },
   "source": [
    "#### Better but not eye pleasing though."
   ]
  },
  {
   "cell_type": "code",
   "execution_count": 8,
   "id": "f79563f7",
   "metadata": {
    "execution": {
     "iopub.execute_input": "2022-01-08T12:37:17.308824Z",
     "iopub.status.busy": "2022-01-08T12:37:17.307738Z",
     "iopub.status.idle": "2022-01-08T12:37:17.606567Z",
     "shell.execute_reply": "2022-01-08T12:37:17.607300Z",
     "shell.execute_reply.started": "2021-12-26T09:38:25.416962Z"
    },
    "papermill": {
     "duration": 0.521666,
     "end_time": "2022-01-08T12:37:17.607584",
     "exception": false,
     "start_time": "2022-01-08T12:37:17.085918",
     "status": "completed"
    },
    "tags": []
   },
   "outputs": [
    {
     "data": {
      "text/html": [
       "<div>\n",
       "<style scoped>\n",
       "    .dataframe tbody tr th:only-of-type {\n",
       "        vertical-align: middle;\n",
       "    }\n",
       "\n",
       "    .dataframe tbody tr th {\n",
       "        vertical-align: top;\n",
       "    }\n",
       "\n",
       "    .dataframe thead th {\n",
       "        text-align: right;\n",
       "    }\n",
       "</style>\n",
       "<table border=\"1\" class=\"dataframe\">\n",
       "  <thead>\n",
       "    <tr style=\"text-align: right;\">\n",
       "      <th></th>\n",
       "      <th>fixed acidity</th>\n",
       "      <th>volatile acidity</th>\n",
       "      <th>citric acid</th>\n",
       "      <th>residual sugar</th>\n",
       "      <th>chlorides</th>\n",
       "      <th>free sulfur dioxide</th>\n",
       "      <th>total sulfur dioxide</th>\n",
       "      <th>density</th>\n",
       "      <th>pH</th>\n",
       "      <th>sulphates</th>\n",
       "      <th>alcohol</th>\n",
       "      <th>quality</th>\n",
       "    </tr>\n",
       "  </thead>\n",
       "  <tbody>\n",
       "    <tr>\n",
       "      <th>0</th>\n",
       "      <td>7.4</td>\n",
       "      <td>0.70</td>\n",
       "      <td>0.00</td>\n",
       "      <td>1.9</td>\n",
       "      <td>0.076</td>\n",
       "      <td>11.0</td>\n",
       "      <td>34.0</td>\n",
       "      <td>0.9978</td>\n",
       "      <td>3.51</td>\n",
       "      <td>0.56</td>\n",
       "      <td>9.4</td>\n",
       "      <td>5</td>\n",
       "    </tr>\n",
       "    <tr>\n",
       "      <th>1</th>\n",
       "      <td>7.8</td>\n",
       "      <td>0.88</td>\n",
       "      <td>0.00</td>\n",
       "      <td>2.6</td>\n",
       "      <td>0.098</td>\n",
       "      <td>25.0</td>\n",
       "      <td>67.0</td>\n",
       "      <td>0.9968</td>\n",
       "      <td>3.20</td>\n",
       "      <td>0.68</td>\n",
       "      <td>9.8</td>\n",
       "      <td>5</td>\n",
       "    </tr>\n",
       "    <tr>\n",
       "      <th>2</th>\n",
       "      <td>7.8</td>\n",
       "      <td>0.76</td>\n",
       "      <td>0.04</td>\n",
       "      <td>2.3</td>\n",
       "      <td>0.092</td>\n",
       "      <td>15.0</td>\n",
       "      <td>54.0</td>\n",
       "      <td>0.9970</td>\n",
       "      <td>3.26</td>\n",
       "      <td>0.65</td>\n",
       "      <td>9.8</td>\n",
       "      <td>5</td>\n",
       "    </tr>\n",
       "    <tr>\n",
       "      <th>3</th>\n",
       "      <td>11.2</td>\n",
       "      <td>0.28</td>\n",
       "      <td>0.56</td>\n",
       "      <td>1.9</td>\n",
       "      <td>0.075</td>\n",
       "      <td>17.0</td>\n",
       "      <td>60.0</td>\n",
       "      <td>0.9980</td>\n",
       "      <td>3.16</td>\n",
       "      <td>0.58</td>\n",
       "      <td>9.8</td>\n",
       "      <td>6</td>\n",
       "    </tr>\n",
       "    <tr>\n",
       "      <th>4</th>\n",
       "      <td>7.4</td>\n",
       "      <td>0.70</td>\n",
       "      <td>0.00</td>\n",
       "      <td>1.9</td>\n",
       "      <td>0.076</td>\n",
       "      <td>11.0</td>\n",
       "      <td>34.0</td>\n",
       "      <td>0.9978</td>\n",
       "      <td>3.51</td>\n",
       "      <td>0.56</td>\n",
       "      <td>9.4</td>\n",
       "      <td>5</td>\n",
       "    </tr>\n",
       "  </tbody>\n",
       "</table>\n",
       "</div>"
      ],
      "text/plain": [
       "   fixed acidity  volatile acidity  citric acid  residual sugar  chlorides  \\\n",
       "0            7.4              0.70         0.00             1.9      0.076   \n",
       "1            7.8              0.88         0.00             2.6      0.098   \n",
       "2            7.8              0.76         0.04             2.3      0.092   \n",
       "3           11.2              0.28         0.56             1.9      0.075   \n",
       "4            7.4              0.70         0.00             1.9      0.076   \n",
       "\n",
       "   free sulfur dioxide  total sulfur dioxide  density    pH  sulphates  \\\n",
       "0                 11.0                  34.0   0.9978  3.51       0.56   \n",
       "1                 25.0                  67.0   0.9968  3.20       0.68   \n",
       "2                 15.0                  54.0   0.9970  3.26       0.65   \n",
       "3                 17.0                  60.0   0.9980  3.16       0.58   \n",
       "4                 11.0                  34.0   0.9978  3.51       0.56   \n",
       "\n",
       "   alcohol  quality  \n",
       "0      9.4        5  \n",
       "1      9.8        5  \n",
       "2      9.8        5  \n",
       "3      9.8        6  \n",
       "4      9.4        5  "
      ]
     },
     "execution_count": 8,
     "metadata": {},
     "output_type": "execute_result"
    }
   ],
   "source": [
    "wine_quality.limit(5).toPandas()"
   ]
  },
  {
   "cell_type": "markdown",
   "id": "dd9dd3ef",
   "metadata": {
    "papermill": {
     "duration": 0.217658,
     "end_time": "2022-01-08T12:37:18.064852",
     "exception": false,
     "start_time": "2022-01-08T12:37:17.847194",
     "status": "completed"
    },
    "tags": []
   },
   "source": [
    "#### This is pretty smooth on the eyes but what is happening inside the toPandas() function call?\n",
    "* First of all this method is only going to work if Pandas library is installed and available in the Python execution environment. Yes you guessed it right, this function returns a Pandas DF.\n",
    "* Second, do not use this method of displaying content when the content is too heavy because all the content is loaded into memory and it would be similar to using Pandas without Spark's ability to deal with large data. \n",
    "* In case the data is heavy beyond a manageable limit then the processes would most probability end up either crashing or executing at snail's pace."
   ]
  },
  {
   "cell_type": "markdown",
   "id": "b3414834",
   "metadata": {
    "papermill": {
     "duration": 0.213689,
     "end_time": "2022-01-08T12:37:18.490469",
     "exception": false,
     "start_time": "2022-01-08T12:37:18.276780",
     "status": "completed"
    },
    "tags": []
   },
   "source": [
    "#### Note the types here:"
   ]
  },
  {
   "cell_type": "code",
   "execution_count": 9,
   "id": "f795e2cf",
   "metadata": {
    "execution": {
     "iopub.execute_input": "2022-01-08T12:37:18.926116Z",
     "iopub.status.busy": "2022-01-08T12:37:18.925089Z",
     "iopub.status.idle": "2022-01-08T12:37:19.158731Z",
     "shell.execute_reply": "2022-01-08T12:37:19.159354Z",
     "shell.execute_reply.started": "2021-12-26T09:38:25.539424Z"
    },
    "papermill": {
     "duration": 0.454394,
     "end_time": "2022-01-08T12:37:19.159572",
     "exception": false,
     "start_time": "2022-01-08T12:37:18.705178",
     "status": "completed"
    },
    "tags": []
   },
   "outputs": [
    {
     "name": "stdout",
     "output_type": "stream",
     "text": [
      "<class 'pyspark.sql.dataframe.DataFrame'>\n",
      "<class 'pandas.core.frame.DataFrame'>\n"
     ]
    }
   ],
   "source": [
    "print(type(wine_quality))\n",
    "\n",
    "wine_quality_pandas_df = wine_quality.toPandas()\n",
    "print(type(wine_quality_pandas_df))"
   ]
  },
  {
   "cell_type": "markdown",
   "id": "3c842cea",
   "metadata": {
    "papermill": {
     "duration": 0.213999,
     "end_time": "2022-01-08T12:37:19.613909",
     "exception": false,
     "start_time": "2022-01-08T12:37:19.399910",
     "status": "completed"
    },
    "tags": []
   },
   "source": [
    "# Data Summary"
   ]
  },
  {
   "cell_type": "markdown",
   "id": "61616b02",
   "metadata": {
    "execution": {
     "iopub.execute_input": "2021-12-10T17:20:34.463748Z",
     "iopub.status.busy": "2021-12-10T17:20:34.463359Z",
     "iopub.status.idle": "2021-12-10T17:20:34.469977Z",
     "shell.execute_reply": "2021-12-10T17:20:34.468733Z",
     "shell.execute_reply.started": "2021-12-10T17:20:34.463713Z"
    },
    "papermill": {
     "duration": 0.213305,
     "end_time": "2022-01-08T12:37:20.043882",
     "exception": false,
     "start_time": "2022-01-08T12:37:19.830577",
     "status": "completed"
    },
    "tags": []
   },
   "source": [
    "#### We have seen the functions show(), limit() and toPandas() already in action for data printing."
   ]
  },
  {
   "cell_type": "markdown",
   "id": "c07f5ddd",
   "metadata": {
    "papermill": {
     "duration": 0.230878,
     "end_time": "2022-01-08T12:37:20.486090",
     "exception": false,
     "start_time": "2022-01-08T12:37:20.255212",
     "status": "completed"
    },
    "tags": []
   },
   "source": [
    "#### We have also seen how the schema of a DataFrame can be structured by printing the DataFrame object like below"
   ]
  },
  {
   "cell_type": "code",
   "execution_count": 10,
   "id": "c1c53ecf",
   "metadata": {
    "execution": {
     "iopub.execute_input": "2022-01-08T12:37:20.953814Z",
     "iopub.status.busy": "2022-01-08T12:37:20.952983Z",
     "iopub.status.idle": "2022-01-08T12:37:20.957337Z",
     "shell.execute_reply": "2022-01-08T12:37:20.958134Z",
     "shell.execute_reply.started": "2021-12-26T09:38:25.69565Z"
    },
    "papermill": {
     "duration": 0.251045,
     "end_time": "2022-01-08T12:37:20.958363",
     "exception": false,
     "start_time": "2022-01-08T12:37:20.707318",
     "status": "completed"
    },
    "tags": []
   },
   "outputs": [
    {
     "data": {
      "text/plain": [
       "DataFrame[fixed acidity: double, volatile acidity: double, citric acid: double, residual sugar: double, chlorides: double, free sulfur dioxide: double, total sulfur dioxide: double, density: double, pH: double, sulphates: double, alcohol: double, quality: int]"
      ]
     },
     "execution_count": 10,
     "metadata": {},
     "output_type": "execute_result"
    }
   ],
   "source": [
    "wine_quality"
   ]
  },
  {
   "cell_type": "markdown",
   "id": "40bcd5c6",
   "metadata": {
    "papermill": {
     "duration": 0.215025,
     "end_time": "2022-01-08T12:37:21.420499",
     "exception": false,
     "start_time": "2022-01-08T12:37:21.205474",
     "status": "completed"
    },
    "tags": []
   },
   "source": [
    "#### It can be made much better though with the help of a new function."
   ]
  },
  {
   "cell_type": "code",
   "execution_count": 11,
   "id": "96f08485",
   "metadata": {
    "execution": {
     "iopub.execute_input": "2022-01-08T12:37:21.879311Z",
     "iopub.status.busy": "2022-01-08T12:37:21.877440Z",
     "iopub.status.idle": "2022-01-08T12:37:21.885589Z",
     "shell.execute_reply": "2022-01-08T12:37:21.886301Z",
     "shell.execute_reply.started": "2021-12-26T09:38:25.70763Z"
    },
    "papermill": {
     "duration": 0.249772,
     "end_time": "2022-01-08T12:37:21.886552",
     "exception": false,
     "start_time": "2022-01-08T12:37:21.636780",
     "status": "completed"
    },
    "tags": []
   },
   "outputs": [
    {
     "name": "stdout",
     "output_type": "stream",
     "text": [
      "root\n",
      " |-- fixed acidity: double (nullable = true)\n",
      " |-- volatile acidity: double (nullable = true)\n",
      " |-- citric acid: double (nullable = true)\n",
      " |-- residual sugar: double (nullable = true)\n",
      " |-- chlorides: double (nullable = true)\n",
      " |-- free sulfur dioxide: double (nullable = true)\n",
      " |-- total sulfur dioxide: double (nullable = true)\n",
      " |-- density: double (nullable = true)\n",
      " |-- pH: double (nullable = true)\n",
      " |-- sulphates: double (nullable = true)\n",
      " |-- alcohol: double (nullable = true)\n",
      " |-- quality: integer (nullable = true)\n",
      "\n"
     ]
    }
   ],
   "source": [
    "wine_quality.printSchema()\n"
   ]
  },
  {
   "cell_type": "markdown",
   "id": "066fcd53",
   "metadata": {
    "papermill": {
     "duration": 0.2145,
     "end_time": "2022-01-08T12:37:22.330467",
     "exception": false,
     "start_time": "2022-01-08T12:37:22.115967",
     "status": "completed"
    },
    "tags": []
   },
   "source": [
    "#### Pretty slick!\n",
    "\n",
    "#### Now printing just the columns as a list of strings."
   ]
  },
  {
   "cell_type": "code",
   "execution_count": 12,
   "id": "fde50f42",
   "metadata": {
    "execution": {
     "iopub.execute_input": "2022-01-08T12:37:22.789118Z",
     "iopub.status.busy": "2022-01-08T12:37:22.788448Z",
     "iopub.status.idle": "2022-01-08T12:37:22.793829Z",
     "shell.execute_reply": "2022-01-08T12:37:22.793267Z",
     "shell.execute_reply.started": "2021-12-26T09:38:25.724963Z"
    },
    "papermill": {
     "duration": 0.235546,
     "end_time": "2022-01-08T12:37:22.793970",
     "exception": false,
     "start_time": "2022-01-08T12:37:22.558424",
     "status": "completed"
    },
    "tags": []
   },
   "outputs": [
    {
     "name": "stdout",
     "output_type": "stream",
     "text": [
      "['fixed acidity', 'volatile acidity', 'citric acid', 'residual sugar', 'chlorides', 'free sulfur dioxide', 'total sulfur dioxide', 'density', 'pH', 'sulphates', 'alcohol', 'quality']\n"
     ]
    }
   ],
   "source": [
    "print(wine_quality.columns)"
   ]
  },
  {
   "cell_type": "markdown",
   "id": "4d8665bb",
   "metadata": {
    "papermill": {
     "duration": 0.227247,
     "end_time": "2022-01-08T12:37:23.250708",
     "exception": false,
     "start_time": "2022-01-08T12:37:23.023461",
     "status": "completed"
    },
    "tags": []
   },
   "source": [
    "#### When one needs to know the data type of a single column "
   ]
  },
  {
   "cell_type": "code",
   "execution_count": 13,
   "id": "f01ec222",
   "metadata": {
    "execution": {
     "iopub.execute_input": "2022-01-08T12:37:23.701808Z",
     "iopub.status.busy": "2022-01-08T12:37:23.701033Z",
     "iopub.status.idle": "2022-01-08T12:37:23.707291Z",
     "shell.execute_reply": "2022-01-08T12:37:23.707924Z",
     "shell.execute_reply.started": "2021-12-26T09:38:25.734248Z"
    },
    "papermill": {
     "duration": 0.237906,
     "end_time": "2022-01-08T12:37:23.708100",
     "exception": false,
     "start_time": "2022-01-08T12:37:23.470194",
     "status": "completed"
    },
    "tags": []
   },
   "outputs": [
    {
     "data": {
      "text/plain": [
       "DoubleType"
      ]
     },
     "execution_count": 13,
     "metadata": {},
     "output_type": "execute_result"
    }
   ],
   "source": [
    "wine_quality.schema['fixed acidity'].dataType"
   ]
  },
  {
   "cell_type": "markdown",
   "id": "03282ab1",
   "metadata": {
    "papermill": {
     "duration": 0.212351,
     "end_time": "2022-01-08T12:37:24.145960",
     "exception": false,
     "start_time": "2022-01-08T12:37:23.933609",
     "status": "completed"
    },
    "tags": []
   },
   "source": [
    "#### Let's try getting some standard stats of the data we have"
   ]
  },
  {
   "cell_type": "code",
   "execution_count": 14,
   "id": "4974439b",
   "metadata": {
    "execution": {
     "iopub.execute_input": "2022-01-08T12:37:24.573866Z",
     "iopub.status.busy": "2022-01-08T12:37:24.573178Z",
     "iopub.status.idle": "2022-01-08T12:37:26.010498Z",
     "shell.execute_reply": "2022-01-08T12:37:26.009062Z",
     "shell.execute_reply.started": "2021-12-26T09:38:26.02619Z"
    },
    "papermill": {
     "duration": 1.652419,
     "end_time": "2022-01-08T12:37:26.010736",
     "exception": false,
     "start_time": "2022-01-08T12:37:24.358317",
     "status": "completed"
    },
    "tags": []
   },
   "outputs": [
    {
     "data": {
      "text/html": [
       "<div>\n",
       "<style scoped>\n",
       "    .dataframe tbody tr th:only-of-type {\n",
       "        vertical-align: middle;\n",
       "    }\n",
       "\n",
       "    .dataframe tbody tr th {\n",
       "        vertical-align: top;\n",
       "    }\n",
       "\n",
       "    .dataframe thead th {\n",
       "        text-align: right;\n",
       "    }\n",
       "</style>\n",
       "<table border=\"1\" class=\"dataframe\">\n",
       "  <thead>\n",
       "    <tr style=\"text-align: right;\">\n",
       "      <th></th>\n",
       "      <th>summary</th>\n",
       "      <th>fixed acidity</th>\n",
       "      <th>volatile acidity</th>\n",
       "      <th>citric acid</th>\n",
       "      <th>residual sugar</th>\n",
       "      <th>chlorides</th>\n",
       "      <th>free sulfur dioxide</th>\n",
       "      <th>total sulfur dioxide</th>\n",
       "      <th>density</th>\n",
       "      <th>pH</th>\n",
       "      <th>sulphates</th>\n",
       "      <th>alcohol</th>\n",
       "      <th>quality</th>\n",
       "    </tr>\n",
       "  </thead>\n",
       "  <tbody>\n",
       "    <tr>\n",
       "      <th>0</th>\n",
       "      <td>count</td>\n",
       "      <td>1599</td>\n",
       "      <td>1599</td>\n",
       "      <td>1599</td>\n",
       "      <td>1599</td>\n",
       "      <td>1599</td>\n",
       "      <td>1599</td>\n",
       "      <td>1599</td>\n",
       "      <td>1599</td>\n",
       "      <td>1599</td>\n",
       "      <td>1599</td>\n",
       "      <td>1599</td>\n",
       "      <td>1599</td>\n",
       "    </tr>\n",
       "    <tr>\n",
       "      <th>1</th>\n",
       "      <td>mean</td>\n",
       "      <td>8.319637273295838</td>\n",
       "      <td>0.5278205128205131</td>\n",
       "      <td>0.2709756097560964</td>\n",
       "      <td>2.5388055034396517</td>\n",
       "      <td>0.08746654158849257</td>\n",
       "      <td>15.874921826141339</td>\n",
       "      <td>46.46779237023139</td>\n",
       "      <td>0.9967466791744833</td>\n",
       "      <td>3.311113195747343</td>\n",
       "      <td>0.6581488430268921</td>\n",
       "      <td>10.422983114446502</td>\n",
       "      <td>5.6360225140712945</td>\n",
       "    </tr>\n",
       "    <tr>\n",
       "      <th>2</th>\n",
       "      <td>stddev</td>\n",
       "      <td>1.7410963181276948</td>\n",
       "      <td>0.17905970415353525</td>\n",
       "      <td>0.19480113740531824</td>\n",
       "      <td>1.40992805950728</td>\n",
       "      <td>0.047065302010090085</td>\n",
       "      <td>10.46015696980971</td>\n",
       "      <td>32.89532447829907</td>\n",
       "      <td>0.0018873339538427278</td>\n",
       "      <td>0.15438646490354271</td>\n",
       "      <td>0.1695069795901101</td>\n",
       "      <td>1.0656675818473935</td>\n",
       "      <td>0.8075694397347051</td>\n",
       "    </tr>\n",
       "    <tr>\n",
       "      <th>3</th>\n",
       "      <td>min</td>\n",
       "      <td>4.6</td>\n",
       "      <td>0.12</td>\n",
       "      <td>0.0</td>\n",
       "      <td>0.9</td>\n",
       "      <td>0.012</td>\n",
       "      <td>1.0</td>\n",
       "      <td>6.0</td>\n",
       "      <td>0.9900700000000001</td>\n",
       "      <td>2.74</td>\n",
       "      <td>0.33</td>\n",
       "      <td>8.4</td>\n",
       "      <td>3</td>\n",
       "    </tr>\n",
       "    <tr>\n",
       "      <th>4</th>\n",
       "      <td>max</td>\n",
       "      <td>15.9</td>\n",
       "      <td>1.58</td>\n",
       "      <td>1.0</td>\n",
       "      <td>15.5</td>\n",
       "      <td>0.611</td>\n",
       "      <td>72.0</td>\n",
       "      <td>289.0</td>\n",
       "      <td>1.00369</td>\n",
       "      <td>4.01</td>\n",
       "      <td>2.0</td>\n",
       "      <td>14.9</td>\n",
       "      <td>8</td>\n",
       "    </tr>\n",
       "  </tbody>\n",
       "</table>\n",
       "</div>"
      ],
      "text/plain": [
       "  summary       fixed acidity     volatile acidity          citric acid  \\\n",
       "0   count                1599                 1599                 1599   \n",
       "1    mean   8.319637273295838   0.5278205128205131   0.2709756097560964   \n",
       "2  stddev  1.7410963181276948  0.17905970415353525  0.19480113740531824   \n",
       "3     min                 4.6                 0.12                  0.0   \n",
       "4     max                15.9                 1.58                  1.0   \n",
       "\n",
       "       residual sugar             chlorides free sulfur dioxide  \\\n",
       "0                1599                  1599                1599   \n",
       "1  2.5388055034396517   0.08746654158849257  15.874921826141339   \n",
       "2    1.40992805950728  0.047065302010090085   10.46015696980971   \n",
       "3                 0.9                 0.012                 1.0   \n",
       "4                15.5                 0.611                72.0   \n",
       "\n",
       "  total sulfur dioxide                density                   pH  \\\n",
       "0                 1599                   1599                 1599   \n",
       "1    46.46779237023139     0.9967466791744833    3.311113195747343   \n",
       "2    32.89532447829907  0.0018873339538427278  0.15438646490354271   \n",
       "3                  6.0     0.9900700000000001                 2.74   \n",
       "4                289.0                1.00369                 4.01   \n",
       "\n",
       "            sulphates             alcohol             quality  \n",
       "0                1599                1599                1599  \n",
       "1  0.6581488430268921  10.422983114446502  5.6360225140712945  \n",
       "2  0.1695069795901101  1.0656675818473935  0.8075694397347051  \n",
       "3                0.33                 8.4                   3  \n",
       "4                 2.0                14.9                   8  "
      ]
     },
     "execution_count": 14,
     "metadata": {},
     "output_type": "execute_result"
    }
   ],
   "source": [
    "wine_quality.describe().toPandas()"
   ]
  },
  {
   "cell_type": "markdown",
   "id": "e19880b7",
   "metadata": {
    "papermill": {
     "duration": 0.304563,
     "end_time": "2022-01-08T12:37:26.673821",
     "exception": false,
     "start_time": "2022-01-08T12:37:26.369258",
     "status": "completed"
    },
    "tags": []
   },
   "source": [
    "### PySpark describe() VS Pandas describe()"
   ]
  },
  {
   "cell_type": "code",
   "execution_count": 15,
   "id": "71c7f61b",
   "metadata": {
    "execution": {
     "iopub.execute_input": "2022-01-08T12:37:27.120744Z",
     "iopub.status.busy": "2022-01-08T12:37:27.120064Z",
     "iopub.status.idle": "2022-01-08T12:37:27.169751Z",
     "shell.execute_reply": "2022-01-08T12:37:27.170265Z",
     "shell.execute_reply.started": "2021-12-26T09:38:26.271853Z"
    },
    "papermill": {
     "duration": 0.272272,
     "end_time": "2022-01-08T12:37:27.170459",
     "exception": false,
     "start_time": "2022-01-08T12:37:26.898187",
     "status": "completed"
    },
    "tags": []
   },
   "outputs": [
    {
     "data": {
      "text/html": [
       "<div>\n",
       "<style scoped>\n",
       "    .dataframe tbody tr th:only-of-type {\n",
       "        vertical-align: middle;\n",
       "    }\n",
       "\n",
       "    .dataframe tbody tr th {\n",
       "        vertical-align: top;\n",
       "    }\n",
       "\n",
       "    .dataframe thead th {\n",
       "        text-align: right;\n",
       "    }\n",
       "</style>\n",
       "<table border=\"1\" class=\"dataframe\">\n",
       "  <thead>\n",
       "    <tr style=\"text-align: right;\">\n",
       "      <th></th>\n",
       "      <th>fixed acidity</th>\n",
       "      <th>volatile acidity</th>\n",
       "      <th>citric acid</th>\n",
       "      <th>residual sugar</th>\n",
       "      <th>chlorides</th>\n",
       "      <th>free sulfur dioxide</th>\n",
       "      <th>total sulfur dioxide</th>\n",
       "      <th>density</th>\n",
       "      <th>pH</th>\n",
       "      <th>sulphates</th>\n",
       "      <th>alcohol</th>\n",
       "      <th>quality</th>\n",
       "    </tr>\n",
       "  </thead>\n",
       "  <tbody>\n",
       "    <tr>\n",
       "      <th>count</th>\n",
       "      <td>1599.000000</td>\n",
       "      <td>1599.000000</td>\n",
       "      <td>1599.000000</td>\n",
       "      <td>1599.000000</td>\n",
       "      <td>1599.000000</td>\n",
       "      <td>1599.000000</td>\n",
       "      <td>1599.000000</td>\n",
       "      <td>1599.000000</td>\n",
       "      <td>1599.000000</td>\n",
       "      <td>1599.000000</td>\n",
       "      <td>1599.000000</td>\n",
       "      <td>1599.000000</td>\n",
       "    </tr>\n",
       "    <tr>\n",
       "      <th>mean</th>\n",
       "      <td>8.319637</td>\n",
       "      <td>0.527821</td>\n",
       "      <td>0.270976</td>\n",
       "      <td>2.538806</td>\n",
       "      <td>0.087467</td>\n",
       "      <td>15.874922</td>\n",
       "      <td>46.467792</td>\n",
       "      <td>0.996747</td>\n",
       "      <td>3.311113</td>\n",
       "      <td>0.658149</td>\n",
       "      <td>10.422983</td>\n",
       "      <td>5.636023</td>\n",
       "    </tr>\n",
       "    <tr>\n",
       "      <th>std</th>\n",
       "      <td>1.741096</td>\n",
       "      <td>0.179060</td>\n",
       "      <td>0.194801</td>\n",
       "      <td>1.409928</td>\n",
       "      <td>0.047065</td>\n",
       "      <td>10.460157</td>\n",
       "      <td>32.895324</td>\n",
       "      <td>0.001887</td>\n",
       "      <td>0.154386</td>\n",
       "      <td>0.169507</td>\n",
       "      <td>1.065668</td>\n",
       "      <td>0.807569</td>\n",
       "    </tr>\n",
       "    <tr>\n",
       "      <th>min</th>\n",
       "      <td>4.600000</td>\n",
       "      <td>0.120000</td>\n",
       "      <td>0.000000</td>\n",
       "      <td>0.900000</td>\n",
       "      <td>0.012000</td>\n",
       "      <td>1.000000</td>\n",
       "      <td>6.000000</td>\n",
       "      <td>0.990070</td>\n",
       "      <td>2.740000</td>\n",
       "      <td>0.330000</td>\n",
       "      <td>8.400000</td>\n",
       "      <td>3.000000</td>\n",
       "    </tr>\n",
       "    <tr>\n",
       "      <th>25%</th>\n",
       "      <td>7.100000</td>\n",
       "      <td>0.390000</td>\n",
       "      <td>0.090000</td>\n",
       "      <td>1.900000</td>\n",
       "      <td>0.070000</td>\n",
       "      <td>7.000000</td>\n",
       "      <td>22.000000</td>\n",
       "      <td>0.995600</td>\n",
       "      <td>3.210000</td>\n",
       "      <td>0.550000</td>\n",
       "      <td>9.500000</td>\n",
       "      <td>5.000000</td>\n",
       "    </tr>\n",
       "    <tr>\n",
       "      <th>50%</th>\n",
       "      <td>7.900000</td>\n",
       "      <td>0.520000</td>\n",
       "      <td>0.260000</td>\n",
       "      <td>2.200000</td>\n",
       "      <td>0.079000</td>\n",
       "      <td>14.000000</td>\n",
       "      <td>38.000000</td>\n",
       "      <td>0.996750</td>\n",
       "      <td>3.310000</td>\n",
       "      <td>0.620000</td>\n",
       "      <td>10.200000</td>\n",
       "      <td>6.000000</td>\n",
       "    </tr>\n",
       "    <tr>\n",
       "      <th>75%</th>\n",
       "      <td>9.200000</td>\n",
       "      <td>0.640000</td>\n",
       "      <td>0.420000</td>\n",
       "      <td>2.600000</td>\n",
       "      <td>0.090000</td>\n",
       "      <td>21.000000</td>\n",
       "      <td>62.000000</td>\n",
       "      <td>0.997835</td>\n",
       "      <td>3.400000</td>\n",
       "      <td>0.730000</td>\n",
       "      <td>11.100000</td>\n",
       "      <td>6.000000</td>\n",
       "    </tr>\n",
       "    <tr>\n",
       "      <th>max</th>\n",
       "      <td>15.900000</td>\n",
       "      <td>1.580000</td>\n",
       "      <td>1.000000</td>\n",
       "      <td>15.500000</td>\n",
       "      <td>0.611000</td>\n",
       "      <td>72.000000</td>\n",
       "      <td>289.000000</td>\n",
       "      <td>1.003690</td>\n",
       "      <td>4.010000</td>\n",
       "      <td>2.000000</td>\n",
       "      <td>14.900000</td>\n",
       "      <td>8.000000</td>\n",
       "    </tr>\n",
       "  </tbody>\n",
       "</table>\n",
       "</div>"
      ],
      "text/plain": [
       "       fixed acidity  volatile acidity  citric acid  residual sugar  \\\n",
       "count    1599.000000       1599.000000  1599.000000     1599.000000   \n",
       "mean        8.319637          0.527821     0.270976        2.538806   \n",
       "std         1.741096          0.179060     0.194801        1.409928   \n",
       "min         4.600000          0.120000     0.000000        0.900000   \n",
       "25%         7.100000          0.390000     0.090000        1.900000   \n",
       "50%         7.900000          0.520000     0.260000        2.200000   \n",
       "75%         9.200000          0.640000     0.420000        2.600000   \n",
       "max        15.900000          1.580000     1.000000       15.500000   \n",
       "\n",
       "         chlorides  free sulfur dioxide  total sulfur dioxide      density  \\\n",
       "count  1599.000000          1599.000000           1599.000000  1599.000000   \n",
       "mean      0.087467            15.874922             46.467792     0.996747   \n",
       "std       0.047065            10.460157             32.895324     0.001887   \n",
       "min       0.012000             1.000000              6.000000     0.990070   \n",
       "25%       0.070000             7.000000             22.000000     0.995600   \n",
       "50%       0.079000            14.000000             38.000000     0.996750   \n",
       "75%       0.090000            21.000000             62.000000     0.997835   \n",
       "max       0.611000            72.000000            289.000000     1.003690   \n",
       "\n",
       "                pH    sulphates      alcohol      quality  \n",
       "count  1599.000000  1599.000000  1599.000000  1599.000000  \n",
       "mean      3.311113     0.658149    10.422983     5.636023  \n",
       "std       0.154386     0.169507     1.065668     0.807569  \n",
       "min       2.740000     0.330000     8.400000     3.000000  \n",
       "25%       3.210000     0.550000     9.500000     5.000000  \n",
       "50%       3.310000     0.620000    10.200000     6.000000  \n",
       "75%       3.400000     0.730000    11.100000     6.000000  \n",
       "max       4.010000     2.000000    14.900000     8.000000  "
      ]
     },
     "execution_count": 15,
     "metadata": {},
     "output_type": "execute_result"
    }
   ],
   "source": [
    "wine_quality_pandas_df.describe()"
   ]
  },
  {
   "cell_type": "markdown",
   "id": "da301ae1",
   "metadata": {
    "papermill": {
     "duration": 0.212645,
     "end_time": "2022-01-08T12:37:27.605671",
     "exception": false,
     "start_time": "2022-01-08T12:37:27.393026",
     "status": "completed"
    },
    "tags": []
   },
   "source": [
    "#### The quartiles are additional in Pandas describe() function"
   ]
  },
  {
   "cell_type": "markdown",
   "id": "3ee6a1e0",
   "metadata": {
    "papermill": {
     "duration": 0.214652,
     "end_time": "2022-01-08T12:37:28.035746",
     "exception": false,
     "start_time": "2022-01-08T12:37:27.821094",
     "status": "completed"
    },
    "tags": []
   },
   "source": [
    "#### and now welcome on stage the summary() function in PySpark."
   ]
  },
  {
   "cell_type": "code",
   "execution_count": 16,
   "id": "3103840b",
   "metadata": {
    "execution": {
     "iopub.execute_input": "2022-01-08T12:37:28.465341Z",
     "iopub.status.busy": "2022-01-08T12:37:28.464333Z",
     "iopub.status.idle": "2022-01-08T12:37:30.341075Z",
     "shell.execute_reply": "2022-01-08T12:37:30.341874Z",
     "shell.execute_reply.started": "2021-12-26T09:38:26.318317Z"
    },
    "papermill": {
     "duration": 2.093039,
     "end_time": "2022-01-08T12:37:30.342120",
     "exception": false,
     "start_time": "2022-01-08T12:37:28.249081",
     "status": "completed"
    },
    "tags": []
   },
   "outputs": [
    {
     "name": "stderr",
     "output_type": "stream",
     "text": [
      "                                                                                \r"
     ]
    },
    {
     "data": {
      "text/html": [
       "<div>\n",
       "<style scoped>\n",
       "    .dataframe tbody tr th:only-of-type {\n",
       "        vertical-align: middle;\n",
       "    }\n",
       "\n",
       "    .dataframe tbody tr th {\n",
       "        vertical-align: top;\n",
       "    }\n",
       "\n",
       "    .dataframe thead th {\n",
       "        text-align: right;\n",
       "    }\n",
       "</style>\n",
       "<table border=\"1\" class=\"dataframe\">\n",
       "  <thead>\n",
       "    <tr style=\"text-align: right;\">\n",
       "      <th></th>\n",
       "      <th>summary</th>\n",
       "      <th>fixed acidity</th>\n",
       "      <th>volatile acidity</th>\n",
       "      <th>citric acid</th>\n",
       "      <th>residual sugar</th>\n",
       "      <th>chlorides</th>\n",
       "      <th>free sulfur dioxide</th>\n",
       "      <th>total sulfur dioxide</th>\n",
       "      <th>density</th>\n",
       "      <th>pH</th>\n",
       "      <th>sulphates</th>\n",
       "      <th>alcohol</th>\n",
       "      <th>quality</th>\n",
       "    </tr>\n",
       "  </thead>\n",
       "  <tbody>\n",
       "    <tr>\n",
       "      <th>0</th>\n",
       "      <td>count</td>\n",
       "      <td>1599</td>\n",
       "      <td>1599</td>\n",
       "      <td>1599</td>\n",
       "      <td>1599</td>\n",
       "      <td>1599</td>\n",
       "      <td>1599</td>\n",
       "      <td>1599</td>\n",
       "      <td>1599</td>\n",
       "      <td>1599</td>\n",
       "      <td>1599</td>\n",
       "      <td>1599</td>\n",
       "      <td>1599</td>\n",
       "    </tr>\n",
       "    <tr>\n",
       "      <th>1</th>\n",
       "      <td>mean</td>\n",
       "      <td>8.319637273295838</td>\n",
       "      <td>0.5278205128205131</td>\n",
       "      <td>0.2709756097560964</td>\n",
       "      <td>2.5388055034396517</td>\n",
       "      <td>0.08746654158849257</td>\n",
       "      <td>15.874921826141339</td>\n",
       "      <td>46.46779237023139</td>\n",
       "      <td>0.9967466791744833</td>\n",
       "      <td>3.311113195747343</td>\n",
       "      <td>0.6581488430268921</td>\n",
       "      <td>10.422983114446502</td>\n",
       "      <td>5.6360225140712945</td>\n",
       "    </tr>\n",
       "    <tr>\n",
       "      <th>2</th>\n",
       "      <td>stddev</td>\n",
       "      <td>1.7410963181276948</td>\n",
       "      <td>0.17905970415353525</td>\n",
       "      <td>0.19480113740531824</td>\n",
       "      <td>1.40992805950728</td>\n",
       "      <td>0.047065302010090085</td>\n",
       "      <td>10.46015696980971</td>\n",
       "      <td>32.89532447829907</td>\n",
       "      <td>0.0018873339538427278</td>\n",
       "      <td>0.15438646490354271</td>\n",
       "      <td>0.1695069795901101</td>\n",
       "      <td>1.0656675818473935</td>\n",
       "      <td>0.8075694397347051</td>\n",
       "    </tr>\n",
       "    <tr>\n",
       "      <th>3</th>\n",
       "      <td>min</td>\n",
       "      <td>4.6</td>\n",
       "      <td>0.12</td>\n",
       "      <td>0.0</td>\n",
       "      <td>0.9</td>\n",
       "      <td>0.012</td>\n",
       "      <td>1.0</td>\n",
       "      <td>6.0</td>\n",
       "      <td>0.9900700000000001</td>\n",
       "      <td>2.74</td>\n",
       "      <td>0.33</td>\n",
       "      <td>8.4</td>\n",
       "      <td>3</td>\n",
       "    </tr>\n",
       "    <tr>\n",
       "      <th>4</th>\n",
       "      <td>25%</td>\n",
       "      <td>7.1</td>\n",
       "      <td>0.39</td>\n",
       "      <td>0.09</td>\n",
       "      <td>1.9</td>\n",
       "      <td>0.07</td>\n",
       "      <td>7.0</td>\n",
       "      <td>22.0</td>\n",
       "      <td>0.9956</td>\n",
       "      <td>3.21</td>\n",
       "      <td>0.55</td>\n",
       "      <td>9.5</td>\n",
       "      <td>5</td>\n",
       "    </tr>\n",
       "    <tr>\n",
       "      <th>5</th>\n",
       "      <td>50%</td>\n",
       "      <td>7.9</td>\n",
       "      <td>0.52</td>\n",
       "      <td>0.26</td>\n",
       "      <td>2.2</td>\n",
       "      <td>0.079</td>\n",
       "      <td>14.0</td>\n",
       "      <td>38.0</td>\n",
       "      <td>0.99675</td>\n",
       "      <td>3.31</td>\n",
       "      <td>0.62</td>\n",
       "      <td>10.2</td>\n",
       "      <td>6</td>\n",
       "    </tr>\n",
       "    <tr>\n",
       "      <th>6</th>\n",
       "      <td>75%</td>\n",
       "      <td>9.2</td>\n",
       "      <td>0.64</td>\n",
       "      <td>0.42</td>\n",
       "      <td>2.6</td>\n",
       "      <td>0.09</td>\n",
       "      <td>21.0</td>\n",
       "      <td>62.0</td>\n",
       "      <td>0.99784</td>\n",
       "      <td>3.4</td>\n",
       "      <td>0.73</td>\n",
       "      <td>11.1</td>\n",
       "      <td>6</td>\n",
       "    </tr>\n",
       "    <tr>\n",
       "      <th>7</th>\n",
       "      <td>max</td>\n",
       "      <td>15.9</td>\n",
       "      <td>1.58</td>\n",
       "      <td>1.0</td>\n",
       "      <td>15.5</td>\n",
       "      <td>0.611</td>\n",
       "      <td>72.0</td>\n",
       "      <td>289.0</td>\n",
       "      <td>1.00369</td>\n",
       "      <td>4.01</td>\n",
       "      <td>2.0</td>\n",
       "      <td>14.9</td>\n",
       "      <td>8</td>\n",
       "    </tr>\n",
       "  </tbody>\n",
       "</table>\n",
       "</div>"
      ],
      "text/plain": [
       "  summary       fixed acidity     volatile acidity          citric acid  \\\n",
       "0   count                1599                 1599                 1599   \n",
       "1    mean   8.319637273295838   0.5278205128205131   0.2709756097560964   \n",
       "2  stddev  1.7410963181276948  0.17905970415353525  0.19480113740531824   \n",
       "3     min                 4.6                 0.12                  0.0   \n",
       "4     25%                 7.1                 0.39                 0.09   \n",
       "5     50%                 7.9                 0.52                 0.26   \n",
       "6     75%                 9.2                 0.64                 0.42   \n",
       "7     max                15.9                 1.58                  1.0   \n",
       "\n",
       "       residual sugar             chlorides free sulfur dioxide  \\\n",
       "0                1599                  1599                1599   \n",
       "1  2.5388055034396517   0.08746654158849257  15.874921826141339   \n",
       "2    1.40992805950728  0.047065302010090085   10.46015696980971   \n",
       "3                 0.9                 0.012                 1.0   \n",
       "4                 1.9                  0.07                 7.0   \n",
       "5                 2.2                 0.079                14.0   \n",
       "6                 2.6                  0.09                21.0   \n",
       "7                15.5                 0.611                72.0   \n",
       "\n",
       "  total sulfur dioxide                density                   pH  \\\n",
       "0                 1599                   1599                 1599   \n",
       "1    46.46779237023139     0.9967466791744833    3.311113195747343   \n",
       "2    32.89532447829907  0.0018873339538427278  0.15438646490354271   \n",
       "3                  6.0     0.9900700000000001                 2.74   \n",
       "4                 22.0                 0.9956                 3.21   \n",
       "5                 38.0                0.99675                 3.31   \n",
       "6                 62.0                0.99784                  3.4   \n",
       "7                289.0                1.00369                 4.01   \n",
       "\n",
       "            sulphates             alcohol             quality  \n",
       "0                1599                1599                1599  \n",
       "1  0.6581488430268921  10.422983114446502  5.6360225140712945  \n",
       "2  0.1695069795901101  1.0656675818473935  0.8075694397347051  \n",
       "3                0.33                 8.4                   3  \n",
       "4                0.55                 9.5                   5  \n",
       "5                0.62                10.2                   6  \n",
       "6                0.73                11.1                   6  \n",
       "7                 2.0                14.9                   8  "
      ]
     },
     "execution_count": 16,
     "metadata": {},
     "output_type": "execute_result"
    }
   ],
   "source": [
    "wine_quality.summary().toPandas()"
   ]
  },
  {
   "cell_type": "markdown",
   "id": "bd20a71e",
   "metadata": {
    "papermill": {
     "duration": 0.223546,
     "end_time": "2022-01-08T12:37:30.903956",
     "exception": false,
     "start_time": "2022-01-08T12:37:30.680410",
     "status": "completed"
    },
    "tags": []
   },
   "source": [
    "#### As good as the Pandas describe(), notice the index of the two DataFrames."
   ]
  },
  {
   "cell_type": "markdown",
   "id": "dcef374f",
   "metadata": {
    "papermill": {
     "duration": 0.217936,
     "end_time": "2022-01-08T12:37:31.338216",
     "exception": false,
     "start_time": "2022-01-08T12:37:31.120280",
     "status": "completed"
    },
    "tags": []
   },
   "source": [
    "#### In case one needs to get the standard stats of a single column"
   ]
  },
  {
   "cell_type": "code",
   "execution_count": 17,
   "id": "d11e0dd1",
   "metadata": {
    "execution": {
     "iopub.execute_input": "2022-01-08T12:37:31.776978Z",
     "iopub.status.busy": "2022-01-08T12:37:31.776285Z",
     "iopub.status.idle": "2022-01-08T12:37:32.110305Z",
     "shell.execute_reply": "2022-01-08T12:37:32.111273Z",
     "shell.execute_reply.started": "2021-12-26T09:38:27.171211Z"
    },
    "papermill": {
     "duration": 0.556779,
     "end_time": "2022-01-08T12:37:32.111547",
     "exception": false,
     "start_time": "2022-01-08T12:37:31.554768",
     "status": "completed"
    },
    "tags": []
   },
   "outputs": [
    {
     "data": {
      "text/html": [
       "<div>\n",
       "<style scoped>\n",
       "    .dataframe tbody tr th:only-of-type {\n",
       "        vertical-align: middle;\n",
       "    }\n",
       "\n",
       "    .dataframe tbody tr th {\n",
       "        vertical-align: top;\n",
       "    }\n",
       "\n",
       "    .dataframe thead th {\n",
       "        text-align: right;\n",
       "    }\n",
       "</style>\n",
       "<table border=\"1\" class=\"dataframe\">\n",
       "  <thead>\n",
       "    <tr style=\"text-align: right;\">\n",
       "      <th></th>\n",
       "      <th>summary</th>\n",
       "      <th>fixed acidity</th>\n",
       "    </tr>\n",
       "  </thead>\n",
       "  <tbody>\n",
       "    <tr>\n",
       "      <th>0</th>\n",
       "      <td>count</td>\n",
       "      <td>1599</td>\n",
       "    </tr>\n",
       "    <tr>\n",
       "      <th>1</th>\n",
       "      <td>mean</td>\n",
       "      <td>8.319637273295838</td>\n",
       "    </tr>\n",
       "    <tr>\n",
       "      <th>2</th>\n",
       "      <td>stddev</td>\n",
       "      <td>1.7410963181276948</td>\n",
       "    </tr>\n",
       "    <tr>\n",
       "      <th>3</th>\n",
       "      <td>min</td>\n",
       "      <td>4.6</td>\n",
       "    </tr>\n",
       "    <tr>\n",
       "      <th>4</th>\n",
       "      <td>max</td>\n",
       "      <td>15.9</td>\n",
       "    </tr>\n",
       "  </tbody>\n",
       "</table>\n",
       "</div>"
      ],
      "text/plain": [
       "  summary       fixed acidity\n",
       "0   count                1599\n",
       "1    mean   8.319637273295838\n",
       "2  stddev  1.7410963181276948\n",
       "3     min                 4.6\n",
       "4     max                15.9"
      ]
     },
     "execution_count": 17,
     "metadata": {},
     "output_type": "execute_result"
    }
   ],
   "source": [
    "wine_quality.describe(['fixed acidity']).toPandas()"
   ]
  },
  {
   "cell_type": "markdown",
   "id": "1ce75028",
   "metadata": {
    "papermill": {
     "duration": 0.237222,
     "end_time": "2022-01-08T12:37:32.712109",
     "exception": false,
     "start_time": "2022-01-08T12:37:32.474887",
     "status": "completed"
    },
    "tags": []
   },
   "source": [
    "#### The same using summary() function. It is done using select() function which we'll cover right in this notebook in just a while."
   ]
  },
  {
   "cell_type": "code",
   "execution_count": 18,
   "id": "c71c04b3",
   "metadata": {
    "execution": {
     "iopub.execute_input": "2022-01-08T12:37:33.161810Z",
     "iopub.status.busy": "2022-01-08T12:37:33.161113Z",
     "iopub.status.idle": "2022-01-08T12:37:33.606024Z",
     "shell.execute_reply": "2022-01-08T12:37:33.606573Z",
     "shell.execute_reply.started": "2021-12-26T09:38:27.364872Z"
    },
    "papermill": {
     "duration": 0.673993,
     "end_time": "2022-01-08T12:37:33.606792",
     "exception": false,
     "start_time": "2022-01-08T12:37:32.932799",
     "status": "completed"
    },
    "tags": []
   },
   "outputs": [
    {
     "data": {
      "text/html": [
       "<div>\n",
       "<style scoped>\n",
       "    .dataframe tbody tr th:only-of-type {\n",
       "        vertical-align: middle;\n",
       "    }\n",
       "\n",
       "    .dataframe tbody tr th {\n",
       "        vertical-align: top;\n",
       "    }\n",
       "\n",
       "    .dataframe thead th {\n",
       "        text-align: right;\n",
       "    }\n",
       "</style>\n",
       "<table border=\"1\" class=\"dataframe\">\n",
       "  <thead>\n",
       "    <tr style=\"text-align: right;\">\n",
       "      <th></th>\n",
       "      <th>summary</th>\n",
       "      <th>fixed acidity</th>\n",
       "    </tr>\n",
       "  </thead>\n",
       "  <tbody>\n",
       "    <tr>\n",
       "      <th>0</th>\n",
       "      <td>count</td>\n",
       "      <td>1599</td>\n",
       "    </tr>\n",
       "    <tr>\n",
       "      <th>1</th>\n",
       "      <td>mean</td>\n",
       "      <td>8.319637273295838</td>\n",
       "    </tr>\n",
       "    <tr>\n",
       "      <th>2</th>\n",
       "      <td>stddev</td>\n",
       "      <td>1.7410963181276948</td>\n",
       "    </tr>\n",
       "    <tr>\n",
       "      <th>3</th>\n",
       "      <td>min</td>\n",
       "      <td>4.6</td>\n",
       "    </tr>\n",
       "    <tr>\n",
       "      <th>4</th>\n",
       "      <td>25%</td>\n",
       "      <td>7.1</td>\n",
       "    </tr>\n",
       "    <tr>\n",
       "      <th>5</th>\n",
       "      <td>50%</td>\n",
       "      <td>7.9</td>\n",
       "    </tr>\n",
       "    <tr>\n",
       "      <th>6</th>\n",
       "      <td>75%</td>\n",
       "      <td>9.2</td>\n",
       "    </tr>\n",
       "    <tr>\n",
       "      <th>7</th>\n",
       "      <td>max</td>\n",
       "      <td>15.9</td>\n",
       "    </tr>\n",
       "  </tbody>\n",
       "</table>\n",
       "</div>"
      ],
      "text/plain": [
       "  summary       fixed acidity\n",
       "0   count                1599\n",
       "1    mean   8.319637273295838\n",
       "2  stddev  1.7410963181276948\n",
       "3     min                 4.6\n",
       "4     25%                 7.1\n",
       "5     50%                 7.9\n",
       "6     75%                 9.2\n",
       "7     max                15.9"
      ]
     },
     "execution_count": 18,
     "metadata": {},
     "output_type": "execute_result"
    }
   ],
   "source": [
    "wine_quality.select(\"fixed acidity\").summary().toPandas()"
   ]
  },
  {
   "cell_type": "markdown",
   "id": "ba991dcc",
   "metadata": {
    "papermill": {
     "duration": 0.229945,
     "end_time": "2022-01-08T12:37:34.075403",
     "exception": false,
     "start_time": "2022-01-08T12:37:33.845458",
     "status": "completed"
    },
    "tags": []
   },
   "source": [
    "#### The same for multiple columns"
   ]
  },
  {
   "cell_type": "code",
   "execution_count": 19,
   "id": "f978b795",
   "metadata": {
    "execution": {
     "iopub.execute_input": "2022-01-08T12:37:34.517788Z",
     "iopub.status.busy": "2022-01-08T12:37:34.517069Z",
     "iopub.status.idle": "2022-01-08T12:37:35.211239Z",
     "shell.execute_reply": "2022-01-08T12:37:35.211980Z",
     "shell.execute_reply.started": "2021-12-26T09:38:27.615435Z"
    },
    "papermill": {
     "duration": 0.915907,
     "end_time": "2022-01-08T12:37:35.212250",
     "exception": false,
     "start_time": "2022-01-08T12:37:34.296343",
     "status": "completed"
    },
    "tags": []
   },
   "outputs": [
    {
     "data": {
      "text/html": [
       "<div>\n",
       "<style scoped>\n",
       "    .dataframe tbody tr th:only-of-type {\n",
       "        vertical-align: middle;\n",
       "    }\n",
       "\n",
       "    .dataframe tbody tr th {\n",
       "        vertical-align: top;\n",
       "    }\n",
       "\n",
       "    .dataframe thead th {\n",
       "        text-align: right;\n",
       "    }\n",
       "</style>\n",
       "<table border=\"1\" class=\"dataframe\">\n",
       "  <thead>\n",
       "    <tr style=\"text-align: right;\">\n",
       "      <th></th>\n",
       "      <th>summary</th>\n",
       "      <th>fixed acidity</th>\n",
       "      <th>chlorides</th>\n",
       "    </tr>\n",
       "  </thead>\n",
       "  <tbody>\n",
       "    <tr>\n",
       "      <th>0</th>\n",
       "      <td>count</td>\n",
       "      <td>1599</td>\n",
       "      <td>1599</td>\n",
       "    </tr>\n",
       "    <tr>\n",
       "      <th>1</th>\n",
       "      <td>mean</td>\n",
       "      <td>8.319637273295838</td>\n",
       "      <td>0.08746654158849257</td>\n",
       "    </tr>\n",
       "    <tr>\n",
       "      <th>2</th>\n",
       "      <td>stddev</td>\n",
       "      <td>1.7410963181276948</td>\n",
       "      <td>0.047065302010090085</td>\n",
       "    </tr>\n",
       "    <tr>\n",
       "      <th>3</th>\n",
       "      <td>min</td>\n",
       "      <td>4.6</td>\n",
       "      <td>0.012</td>\n",
       "    </tr>\n",
       "    <tr>\n",
       "      <th>4</th>\n",
       "      <td>25%</td>\n",
       "      <td>7.1</td>\n",
       "      <td>0.07</td>\n",
       "    </tr>\n",
       "    <tr>\n",
       "      <th>5</th>\n",
       "      <td>50%</td>\n",
       "      <td>7.9</td>\n",
       "      <td>0.079</td>\n",
       "    </tr>\n",
       "    <tr>\n",
       "      <th>6</th>\n",
       "      <td>75%</td>\n",
       "      <td>9.2</td>\n",
       "      <td>0.09</td>\n",
       "    </tr>\n",
       "    <tr>\n",
       "      <th>7</th>\n",
       "      <td>max</td>\n",
       "      <td>15.9</td>\n",
       "      <td>0.611</td>\n",
       "    </tr>\n",
       "  </tbody>\n",
       "</table>\n",
       "</div>"
      ],
      "text/plain": [
       "  summary       fixed acidity             chlorides\n",
       "0   count                1599                  1599\n",
       "1    mean   8.319637273295838   0.08746654158849257\n",
       "2  stddev  1.7410963181276948  0.047065302010090085\n",
       "3     min                 4.6                 0.012\n",
       "4     25%                 7.1                  0.07\n",
       "5     50%                 7.9                 0.079\n",
       "6     75%                 9.2                  0.09\n",
       "7     max                15.9                 0.611"
      ]
     },
     "execution_count": 19,
     "metadata": {},
     "output_type": "execute_result"
    }
   ],
   "source": [
    "wine_quality.select(\"fixed acidity\",\"chlorides\").summary().toPandas()"
   ]
  },
  {
   "cell_type": "markdown",
   "id": "ab9f742a",
   "metadata": {
    "papermill": {
     "duration": 0.215406,
     "end_time": "2022-01-08T12:37:35.737952",
     "exception": false,
     "start_time": "2022-01-08T12:37:35.522546",
     "status": "completed"
    },
    "tags": []
   },
   "source": [
    "### Schema Modifications \n",
    "\n",
    "It can be possible that PySpark is not reading the columns in the very specific data type that you'd like the columns to be read in.\n",
    "\n",
    "In that case data type can be assigned when reading the file."
   ]
  },
  {
   "cell_type": "code",
   "execution_count": 20,
   "id": "941c01e4",
   "metadata": {
    "execution": {
     "iopub.execute_input": "2022-01-08T12:37:36.179429Z",
     "iopub.status.busy": "2022-01-08T12:37:36.178422Z",
     "iopub.status.idle": "2022-01-08T12:37:36.182501Z",
     "shell.execute_reply": "2022-01-08T12:37:36.183008Z",
     "shell.execute_reply.started": "2021-12-26T09:38:27.92766Z"
    },
    "papermill": {
     "duration": 0.228276,
     "end_time": "2022-01-08T12:37:36.183189",
     "exception": false,
     "start_time": "2022-01-08T12:37:35.954913",
     "status": "completed"
    },
    "tags": []
   },
   "outputs": [],
   "source": [
    "from pyspark.sql.types import StructField,StringType,IntegerType,StructType,DateType, DoubleType"
   ]
  },
  {
   "cell_type": "code",
   "execution_count": 21,
   "id": "91dbe992",
   "metadata": {
    "execution": {
     "iopub.execute_input": "2022-01-08T12:37:36.622820Z",
     "iopub.status.busy": "2022-01-08T12:37:36.622115Z",
     "iopub.status.idle": "2022-01-08T12:37:36.625140Z",
     "shell.execute_reply": "2022-01-08T12:37:36.624606Z",
     "shell.execute_reply.started": "2021-12-26T09:38:27.934335Z"
    },
    "papermill": {
     "duration": 0.224367,
     "end_time": "2022-01-08T12:37:36.625277",
     "exception": false,
     "start_time": "2022-01-08T12:37:36.400910",
     "status": "completed"
    },
    "tags": []
   },
   "outputs": [],
   "source": [
    "data_schema = [StructField(\"fixed acidity\", DoubleType(), True),\n",
    "               StructField(\"citric acid\", DoubleType(), True),\n",
    "               StructField(\"chlorides\", DoubleType(), True),\n",
    "               StructField(\"pH\", DoubleType(), True),\n",
    "               StructField(\"sulphates\", DoubleType(), True),\n",
    "               StructField(\"density\", DoubleType(), True)]"
   ]
  },
  {
   "cell_type": "code",
   "execution_count": 22,
   "id": "7e4945c9",
   "metadata": {
    "execution": {
     "iopub.execute_input": "2022-01-08T12:37:37.068513Z",
     "iopub.status.busy": "2022-01-08T12:37:37.066778Z",
     "iopub.status.idle": "2022-01-08T12:37:37.071630Z",
     "shell.execute_reply": "2022-01-08T12:37:37.070926Z",
     "shell.execute_reply.started": "2021-12-26T09:38:27.967568Z"
    },
    "papermill": {
     "duration": 0.228564,
     "end_time": "2022-01-08T12:37:37.071773",
     "exception": false,
     "start_time": "2022-01-08T12:37:36.843209",
     "status": "completed"
    },
    "tags": []
   },
   "outputs": [],
   "source": [
    "final_struc = StructType(fields=data_schema)"
   ]
  },
  {
   "cell_type": "code",
   "execution_count": 23,
   "id": "77b1bfdf",
   "metadata": {
    "execution": {
     "iopub.execute_input": "2022-01-08T12:37:37.507989Z",
     "iopub.status.busy": "2022-01-08T12:37:37.507315Z",
     "iopub.status.idle": "2022-01-08T12:37:37.540984Z",
     "shell.execute_reply": "2022-01-08T12:37:37.540326Z",
     "shell.execute_reply.started": "2021-12-26T09:38:27.972914Z"
    },
    "papermill": {
     "duration": 0.253584,
     "end_time": "2022-01-08T12:37:37.541148",
     "exception": false,
     "start_time": "2022-01-08T12:37:37.287564",
     "status": "completed"
    },
    "tags": []
   },
   "outputs": [],
   "source": [
    "wine_quality_partial = spark.read.csv(path+'/kaggle/input/red-wine-quality-cortez-et-al-2009/winequality-red.csv',\n",
    "                              schema=final_struc)"
   ]
  },
  {
   "cell_type": "code",
   "execution_count": 24,
   "id": "0b16d8dc",
   "metadata": {
    "execution": {
     "iopub.execute_input": "2022-01-08T12:37:37.986095Z",
     "iopub.status.busy": "2022-01-08T12:37:37.985331Z",
     "iopub.status.idle": "2022-01-08T12:37:37.991304Z",
     "shell.execute_reply": "2022-01-08T12:37:37.990423Z",
     "shell.execute_reply.started": "2021-12-26T09:38:28.008696Z"
    },
    "papermill": {
     "duration": 0.232428,
     "end_time": "2022-01-08T12:37:37.991494",
     "exception": false,
     "start_time": "2022-01-08T12:37:37.759066",
     "status": "completed"
    },
    "tags": []
   },
   "outputs": [
    {
     "name": "stdout",
     "output_type": "stream",
     "text": [
      "root\n",
      " |-- fixed acidity: double (nullable = true)\n",
      " |-- citric acid: double (nullable = true)\n",
      " |-- chlorides: double (nullable = true)\n",
      " |-- pH: double (nullable = true)\n",
      " |-- sulphates: double (nullable = true)\n",
      " |-- density: double (nullable = true)\n",
      "\n"
     ]
    }
   ],
   "source": [
    "wine_quality_partial.printSchema()"
   ]
  },
  {
   "cell_type": "markdown",
   "id": "2381796b",
   "metadata": {
    "papermill": {
     "duration": 0.215851,
     "end_time": "2022-01-08T12:37:38.424026",
     "exception": false,
     "start_time": "2022-01-08T12:37:38.208175",
     "status": "completed"
    },
    "tags": []
   },
   "source": [
    "#### Note how only the columns we defined the schema for have been read."
   ]
  },
  {
   "cell_type": "markdown",
   "id": "1eb7a455",
   "metadata": {
    "execution": {
     "iopub.execute_input": "2021-12-12T03:10:59.190244Z",
     "iopub.status.busy": "2021-12-12T03:10:59.18973Z",
     "iopub.status.idle": "2021-12-12T03:10:59.213581Z",
     "shell.execute_reply": "2021-12-12T03:10:59.212875Z",
     "shell.execute_reply.started": "2021-12-12T03:10:59.19012Z"
    },
    "papermill": {
     "duration": 0.214691,
     "end_time": "2022-01-08T12:37:38.853852",
     "exception": false,
     "start_time": "2022-01-08T12:37:38.639161",
     "status": "completed"
    },
    "tags": []
   },
   "source": [
    "# Writing a DataFrame"
   ]
  },
  {
   "cell_type": "code",
   "execution_count": 25,
   "id": "ac05a432",
   "metadata": {
    "execution": {
     "iopub.execute_input": "2022-01-08T12:37:39.286999Z",
     "iopub.status.busy": "2022-01-08T12:37:39.286297Z",
     "iopub.status.idle": "2022-01-08T12:37:39.809983Z",
     "shell.execute_reply": "2022-01-08T12:37:39.808981Z",
     "shell.execute_reply.started": "2021-12-26T09:38:28.017726Z"
    },
    "papermill": {
     "duration": 0.741918,
     "end_time": "2022-01-08T12:37:39.810221",
     "exception": false,
     "start_time": "2022-01-08T12:37:39.068303",
     "status": "completed"
    },
    "tags": []
   },
   "outputs": [],
   "source": [
    "wine_quality.write.mode(\"overwrite\").csv('wine_quality.csv')"
   ]
  },
  {
   "cell_type": "markdown",
   "id": "fcdc62c4",
   "metadata": {
    "papermill": {
     "duration": 0.240606,
     "end_time": "2022-01-08T12:37:40.305026",
     "exception": false,
     "start_time": "2022-01-08T12:37:40.064420",
     "status": "completed"
    },
    "tags": []
   },
   "source": [
    "##### The name of the file in the output seems to make less sense. The folder name is indicative but not the file name. \n"
   ]
  },
  {
   "cell_type": "code",
   "execution_count": 26,
   "id": "a39c32ae",
   "metadata": {
    "execution": {
     "iopub.execute_input": "2022-01-08T12:37:40.746035Z",
     "iopub.status.busy": "2022-01-08T12:37:40.745348Z",
     "iopub.status.idle": "2022-01-08T12:37:40.909850Z",
     "shell.execute_reply": "2022-01-08T12:37:40.910787Z",
     "shell.execute_reply.started": "2021-12-26T09:38:28.181698Z"
    },
    "papermill": {
     "duration": 0.385504,
     "end_time": "2022-01-08T12:37:40.911045",
     "exception": false,
     "start_time": "2022-01-08T12:37:40.525541",
     "status": "completed"
    },
    "tags": []
   },
   "outputs": [],
   "source": [
    "wine_quality.toPandas().to_csv('wine_quality_pandas.csv')"
   ]
  },
  {
   "cell_type": "markdown",
   "id": "6fcd69a8",
   "metadata": {
    "papermill": {
     "duration": 0.24819,
     "end_time": "2022-01-08T12:37:41.399068",
     "exception": false,
     "start_time": "2022-01-08T12:37:41.150878",
     "status": "completed"
    },
    "tags": []
   },
   "source": [
    "### Saving file in Partitions by Categorical Column"
   ]
  },
  {
   "cell_type": "code",
   "execution_count": 27,
   "id": "3a0da870",
   "metadata": {
    "execution": {
     "iopub.execute_input": "2022-01-08T12:37:41.841389Z",
     "iopub.status.busy": "2022-01-08T12:37:41.840720Z",
     "iopub.status.idle": "2022-01-08T12:37:42.534303Z",
     "shell.execute_reply": "2022-01-08T12:37:42.532913Z",
     "shell.execute_reply.started": "2021-12-26T09:38:28.274097Z"
    },
    "papermill": {
     "duration": 0.91544,
     "end_time": "2022-01-08T12:37:42.534517",
     "exception": false,
     "start_time": "2022-01-08T12:37:41.619077",
     "status": "completed"
    },
    "tags": []
   },
   "outputs": [],
   "source": [
    "wine_quality.write.mode(\"overwrite\").partitionBy(\"quality\").csv('partitioned_by_quality_csv/')"
   ]
  },
  {
   "cell_type": "markdown",
   "id": "5c4b68ad",
   "metadata": {
    "papermill": {
     "duration": 0.218869,
     "end_time": "2022-01-08T12:37:42.984934",
     "exception": false,
     "start_time": "2022-01-08T12:37:42.766065",
     "status": "completed"
    },
    "tags": []
   },
   "source": [
    "# Select functionality on a DataFrame"
   ]
  },
  {
   "cell_type": "code",
   "execution_count": 28,
   "id": "95a6fe08",
   "metadata": {
    "execution": {
     "iopub.execute_input": "2022-01-08T12:37:43.424698Z",
     "iopub.status.busy": "2022-01-08T12:37:43.423954Z",
     "iopub.status.idle": "2022-01-08T12:37:43.428465Z",
     "shell.execute_reply": "2022-01-08T12:37:43.429008Z",
     "shell.execute_reply.started": "2021-12-26T09:38:28.641291Z"
    },
    "papermill": {
     "duration": 0.227152,
     "end_time": "2022-01-08T12:37:43.429184",
     "exception": false,
     "start_time": "2022-01-08T12:37:43.202032",
     "status": "completed"
    },
    "tags": []
   },
   "outputs": [],
   "source": [
    "from pyspark.sql.functions import *"
   ]
  },
  {
   "cell_type": "code",
   "execution_count": 29,
   "id": "70f6fc4f",
   "metadata": {
    "execution": {
     "iopub.execute_input": "2022-01-08T12:37:43.867925Z",
     "iopub.status.busy": "2022-01-08T12:37:43.867294Z",
     "iopub.status.idle": "2022-01-08T12:37:44.031499Z",
     "shell.execute_reply": "2022-01-08T12:37:44.030652Z",
     "shell.execute_reply.started": "2021-12-26T09:38:28.647901Z"
    },
    "papermill": {
     "duration": 0.386076,
     "end_time": "2022-01-08T12:37:44.031762",
     "exception": false,
     "start_time": "2022-01-08T12:37:43.645686",
     "status": "completed"
    },
    "tags": []
   },
   "outputs": [
    {
     "name": "stdout",
     "output_type": "stream",
     "text": [
      "+-------------+---------+----+\n",
      "|fixed acidity|sulphates|  pH|\n",
      "+-------------+---------+----+\n",
      "|          7.4|     0.56|3.51|\n",
      "|          7.8|     0.68| 3.2|\n",
      "|          7.8|     0.65|3.26|\n",
      "|         11.2|     0.58|3.16|\n",
      "|          7.4|     0.56|3.51|\n",
      "+-------------+---------+----+\n",
      "only showing top 5 rows\n",
      "\n"
     ]
    }
   ],
   "source": [
    "wine_quality.select(['fixed acidity','sulphates','pH']).show(5)"
   ]
  },
  {
   "cell_type": "markdown",
   "id": "da69e736",
   "metadata": {
    "papermill": {
     "duration": 0.216015,
     "end_time": "2022-01-08T12:37:44.550166",
     "exception": false,
     "start_time": "2022-01-08T12:37:44.334151",
     "status": "completed"
    },
    "tags": []
   },
   "source": [
    "### OrderBy"
   ]
  },
  {
   "cell_type": "code",
   "execution_count": 30,
   "id": "7cef259c",
   "metadata": {
    "execution": {
     "iopub.execute_input": "2022-01-08T12:37:44.987110Z",
     "iopub.status.busy": "2022-01-08T12:37:44.986354Z",
     "iopub.status.idle": "2022-01-08T12:37:45.190471Z",
     "shell.execute_reply": "2022-01-08T12:37:45.191257Z",
     "shell.execute_reply.started": "2021-12-26T09:38:28.779205Z"
    },
    "papermill": {
     "duration": 0.425997,
     "end_time": "2022-01-08T12:37:45.191549",
     "exception": false,
     "start_time": "2022-01-08T12:37:44.765552",
     "status": "completed"
    },
    "tags": []
   },
   "outputs": [
    {
     "name": "stdout",
     "output_type": "stream",
     "text": [
      "+-------------+---------+----+-------+\n",
      "|fixed acidity|sulphates|  pH|quality|\n",
      "+-------------+---------+----+-------+\n",
      "|         11.6|     0.57|3.25|      3|\n",
      "|          7.6|      0.4| 3.5|      3|\n",
      "|         10.4|     0.63|3.16|      3|\n",
      "|          7.4|     0.54|3.63|      3|\n",
      "|         10.4|     0.86|3.38|      3|\n",
      "+-------------+---------+----+-------+\n",
      "only showing top 5 rows\n",
      "\n"
     ]
    }
   ],
   "source": [
    "wine_quality.select(['fixed acidity','sulphates','pH', 'quality']).orderBy(\"quality\").show(5)"
   ]
  },
  {
   "cell_type": "markdown",
   "id": "99e0325c",
   "metadata": {
    "papermill": {
     "duration": 0.217741,
     "end_time": "2022-01-08T12:37:45.687237",
     "exception": false,
     "start_time": "2022-01-08T12:37:45.469496",
     "status": "completed"
    },
    "tags": []
   },
   "source": [
    "### Descending Order"
   ]
  },
  {
   "cell_type": "code",
   "execution_count": 31,
   "id": "5e3cda8e",
   "metadata": {
    "execution": {
     "iopub.execute_input": "2022-01-08T12:37:46.124050Z",
     "iopub.status.busy": "2022-01-08T12:37:46.123317Z",
     "iopub.status.idle": "2022-01-08T12:37:46.260148Z",
     "shell.execute_reply": "2022-01-08T12:37:46.259109Z",
     "shell.execute_reply.started": "2021-12-26T09:38:28.97523Z"
    },
    "papermill": {
     "duration": 0.358082,
     "end_time": "2022-01-08T12:37:46.260395",
     "exception": false,
     "start_time": "2022-01-08T12:37:45.902313",
     "status": "completed"
    },
    "tags": []
   },
   "outputs": [
    {
     "name": "stdout",
     "output_type": "stream",
     "text": [
      "+-------------+---------+----+-------+\n",
      "|fixed acidity|sulphates|  pH|quality|\n",
      "+-------------+---------+----+-------+\n",
      "|          7.9|     0.86|3.35|      8|\n",
      "|          9.4|     0.92|3.15|      8|\n",
      "|         10.3|     0.82|3.23|      8|\n",
      "|          5.6|     0.82|3.56|      8|\n",
      "|         12.6|     0.82|2.88|      8|\n",
      "+-------------+---------+----+-------+\n",
      "only showing top 5 rows\n",
      "\n"
     ]
    }
   ],
   "source": [
    "wine_quality.select(['fixed acidity','sulphates','pH', 'quality']).orderBy(wine_quality[\"quality\"].desc()).show(5)"
   ]
  },
  {
   "cell_type": "code",
   "execution_count": 32,
   "id": "83c320b5",
   "metadata": {
    "execution": {
     "iopub.execute_input": "2022-01-08T12:37:46.738789Z",
     "iopub.status.busy": "2022-01-08T12:37:46.738104Z",
     "iopub.status.idle": "2022-01-08T12:37:46.975865Z",
     "shell.execute_reply": "2022-01-08T12:37:46.976809Z",
     "shell.execute_reply.started": "2021-12-26T09:38:29.115901Z"
    },
    "papermill": {
     "duration": 0.459579,
     "end_time": "2022-01-08T12:37:46.977065",
     "exception": false,
     "start_time": "2022-01-08T12:37:46.517486",
     "status": "completed"
    },
    "tags": []
   },
   "outputs": [
    {
     "data": {
      "text/html": [
       "<div>\n",
       "<style scoped>\n",
       "    .dataframe tbody tr th:only-of-type {\n",
       "        vertical-align: middle;\n",
       "    }\n",
       "\n",
       "    .dataframe tbody tr th {\n",
       "        vertical-align: top;\n",
       "    }\n",
       "\n",
       "    .dataframe thead th {\n",
       "        text-align: right;\n",
       "    }\n",
       "</style>\n",
       "<table border=\"1\" class=\"dataframe\">\n",
       "  <thead>\n",
       "    <tr style=\"text-align: right;\">\n",
       "      <th></th>\n",
       "      <th>fixed acidity</th>\n",
       "      <th>volatile acidity</th>\n",
       "      <th>citric acid</th>\n",
       "      <th>residual sugar</th>\n",
       "      <th>chlorides</th>\n",
       "      <th>free sulfur dioxide</th>\n",
       "      <th>total sulfur dioxide</th>\n",
       "      <th>density</th>\n",
       "      <th>pH</th>\n",
       "      <th>sulphates</th>\n",
       "      <th>alcohol</th>\n",
       "      <th>quality</th>\n",
       "    </tr>\n",
       "  </thead>\n",
       "  <tbody>\n",
       "    <tr>\n",
       "      <th>0</th>\n",
       "      <td>7.4</td>\n",
       "      <td>0.70</td>\n",
       "      <td>0.00</td>\n",
       "      <td>1.9</td>\n",
       "      <td>0.076</td>\n",
       "      <td>11.0</td>\n",
       "      <td>34.0</td>\n",
       "      <td>0.9978</td>\n",
       "      <td>3.51</td>\n",
       "      <td>0.56</td>\n",
       "      <td>9.4</td>\n",
       "      <td>5</td>\n",
       "    </tr>\n",
       "    <tr>\n",
       "      <th>1</th>\n",
       "      <td>7.8</td>\n",
       "      <td>0.88</td>\n",
       "      <td>0.00</td>\n",
       "      <td>2.6</td>\n",
       "      <td>0.098</td>\n",
       "      <td>25.0</td>\n",
       "      <td>67.0</td>\n",
       "      <td>0.9968</td>\n",
       "      <td>3.20</td>\n",
       "      <td>0.68</td>\n",
       "      <td>9.8</td>\n",
       "      <td>5</td>\n",
       "    </tr>\n",
       "    <tr>\n",
       "      <th>2</th>\n",
       "      <td>7.8</td>\n",
       "      <td>0.76</td>\n",
       "      <td>0.04</td>\n",
       "      <td>2.3</td>\n",
       "      <td>0.092</td>\n",
       "      <td>15.0</td>\n",
       "      <td>54.0</td>\n",
       "      <td>0.9970</td>\n",
       "      <td>3.26</td>\n",
       "      <td>0.65</td>\n",
       "      <td>9.8</td>\n",
       "      <td>5</td>\n",
       "    </tr>\n",
       "    <tr>\n",
       "      <th>3</th>\n",
       "      <td>11.2</td>\n",
       "      <td>0.28</td>\n",
       "      <td>0.56</td>\n",
       "      <td>1.9</td>\n",
       "      <td>0.075</td>\n",
       "      <td>17.0</td>\n",
       "      <td>60.0</td>\n",
       "      <td>0.9980</td>\n",
       "      <td>3.16</td>\n",
       "      <td>0.58</td>\n",
       "      <td>9.8</td>\n",
       "      <td>6</td>\n",
       "    </tr>\n",
       "  </tbody>\n",
       "</table>\n",
       "</div>"
      ],
      "text/plain": [
       "   fixed acidity  volatile acidity  citric acid  residual sugar  chlorides  \\\n",
       "0            7.4              0.70         0.00             1.9      0.076   \n",
       "1            7.8              0.88         0.00             2.6      0.098   \n",
       "2            7.8              0.76         0.04             2.3      0.092   \n",
       "3           11.2              0.28         0.56             1.9      0.075   \n",
       "\n",
       "   free sulfur dioxide  total sulfur dioxide  density    pH  sulphates  \\\n",
       "0                 11.0                  34.0   0.9978  3.51       0.56   \n",
       "1                 25.0                  67.0   0.9968  3.20       0.68   \n",
       "2                 15.0                  54.0   0.9970  3.26       0.65   \n",
       "3                 17.0                  60.0   0.9980  3.16       0.58   \n",
       "\n",
       "   alcohol  quality  \n",
       "0      9.4        5  \n",
       "1      9.8        5  \n",
       "2      9.8        5  \n",
       "3      9.8        6  "
      ]
     },
     "execution_count": 32,
     "metadata": {},
     "output_type": "execute_result"
    }
   ],
   "source": [
    "#isin\n",
    "wine_quality[wine_quality.quality.isin(5, 6)].limit(4).toPandas()"
   ]
  },
  {
   "cell_type": "markdown",
   "id": "338c05f4",
   "metadata": {
    "papermill": {
     "duration": 0.216413,
     "end_time": "2022-01-08T12:37:47.434387",
     "exception": false,
     "start_time": "2022-01-08T12:37:47.217974",
     "status": "completed"
    },
    "tags": []
   },
   "source": [
    "#### Notice how in Pyspark the isin() function doesn't require a list but the values directly as arguments"
   ]
  },
  {
   "cell_type": "markdown",
   "id": "8bbf1898",
   "metadata": {
    "papermill": {
     "duration": 0.214995,
     "end_time": "2022-01-08T12:37:47.865098",
     "exception": false,
     "start_time": "2022-01-08T12:37:47.650103",
     "status": "completed"
    },
    "tags": []
   },
   "source": [
    "# Slicing a DataFrame"
   ]
  },
  {
   "cell_type": "code",
   "execution_count": 33,
   "id": "39977b8c",
   "metadata": {
    "execution": {
     "iopub.execute_input": "2022-01-08T12:37:48.304294Z",
     "iopub.status.busy": "2022-01-08T12:37:48.303611Z",
     "iopub.status.idle": "2022-01-08T12:37:48.770180Z",
     "shell.execute_reply": "2022-01-08T12:37:48.769349Z",
     "shell.execute_reply.started": "2021-12-26T09:38:29.372824Z"
    },
    "papermill": {
     "duration": 0.686085,
     "end_time": "2022-01-08T12:37:48.770383",
     "exception": false,
     "start_time": "2022-01-08T12:37:48.084298",
     "status": "completed"
    },
    "tags": []
   },
   "outputs": [
    {
     "name": "stdout",
     "output_type": "stream",
     "text": [
      "Starting row count: 1599\n",
      "Starting column count: 12\n",
      "Sliced row count: 100\n",
      "Sliced column count: 3\n"
     ]
    }
   ],
   "source": [
    "\n",
    "# Starting\n",
    "print('Starting row count:',wine_quality.count())\n",
    "print('Starting column count:',len(wine_quality.columns))\n",
    "\n",
    "# Slice rows\n",
    "df2 = wine_quality.limit(100)\n",
    "print('Sliced row count:',df2.count())\n",
    "\n",
    "# Slice columns\n",
    "cols_list = wine_quality.columns[0:3]\n",
    "df3 = wine_quality.select(cols_list)\n",
    "print('Sliced column count:',len(df3.columns))"
   ]
  },
  {
   "cell_type": "markdown",
   "id": "d74b2591",
   "metadata": {
    "papermill": {
     "duration": 0.219316,
     "end_time": "2022-01-08T12:37:49.321486",
     "exception": false,
     "start_time": "2022-01-08T12:37:49.102170",
     "status": "completed"
    },
    "tags": []
   },
   "source": [
    "# Filtering a DataFrame"
   ]
  },
  {
   "cell_type": "markdown",
   "id": "dc0fbdeb",
   "metadata": {
    "papermill": {
     "duration": 0.223603,
     "end_time": "2022-01-08T12:37:49.762744",
     "exception": false,
     "start_time": "2022-01-08T12:37:49.539141",
     "status": "completed"
    },
    "tags": []
   },
   "source": [
    "#### Using where construct"
   ]
  },
  {
   "cell_type": "code",
   "execution_count": 34,
   "id": "074d629c",
   "metadata": {
    "execution": {
     "iopub.execute_input": "2022-01-08T12:37:50.202881Z",
     "iopub.status.busy": "2022-01-08T12:37:50.201919Z",
     "iopub.status.idle": "2022-01-08T12:37:50.462086Z",
     "shell.execute_reply": "2022-01-08T12:37:50.462788Z",
     "shell.execute_reply.started": "2021-12-26T09:38:29.704684Z"
    },
    "papermill": {
     "duration": 0.482672,
     "end_time": "2022-01-08T12:37:50.462963",
     "exception": false,
     "start_time": "2022-01-08T12:37:49.980291",
     "status": "completed"
    },
    "tags": []
   },
   "outputs": [
    {
     "data": {
      "text/html": [
       "<div>\n",
       "<style scoped>\n",
       "    .dataframe tbody tr th:only-of-type {\n",
       "        vertical-align: middle;\n",
       "    }\n",
       "\n",
       "    .dataframe tbody tr th {\n",
       "        vertical-align: top;\n",
       "    }\n",
       "\n",
       "    .dataframe thead th {\n",
       "        text-align: right;\n",
       "    }\n",
       "</style>\n",
       "<table border=\"1\" class=\"dataframe\">\n",
       "  <thead>\n",
       "    <tr style=\"text-align: right;\">\n",
       "      <th></th>\n",
       "      <th>pH</th>\n",
       "      <th>quality</th>\n",
       "    </tr>\n",
       "  </thead>\n",
       "  <tbody>\n",
       "    <tr>\n",
       "      <th>0</th>\n",
       "      <td>3.51</td>\n",
       "      <td>5</td>\n",
       "    </tr>\n",
       "    <tr>\n",
       "      <th>1</th>\n",
       "      <td>3.51</td>\n",
       "      <td>5</td>\n",
       "    </tr>\n",
       "    <tr>\n",
       "      <th>2</th>\n",
       "      <td>3.51</td>\n",
       "      <td>5</td>\n",
       "    </tr>\n",
       "    <tr>\n",
       "      <th>3</th>\n",
       "      <td>3.11</td>\n",
       "      <td>5</td>\n",
       "    </tr>\n",
       "  </tbody>\n",
       "</table>\n",
       "</div>"
      ],
      "text/plain": [
       "     pH  quality\n",
       "0  3.51        5\n",
       "1  3.51        5\n",
       "2  3.51        5\n",
       "3  3.11        5"
      ]
     },
     "execution_count": 34,
     "metadata": {},
     "output_type": "execute_result"
    }
   ],
   "source": [
    "wine_quality.select(\"pH\",\"quality\").where(wine_quality.pH.startswith(\"3\")) \\\n",
    "                                  .where(wine_quality.pH.endswith(\"1\")).limit(4).toPandas()"
   ]
  },
  {
   "cell_type": "markdown",
   "id": "28911745",
   "metadata": {
    "papermill": {
     "duration": 0.21961,
     "end_time": "2022-01-08T12:37:50.903993",
     "exception": false,
     "start_time": "2022-01-08T12:37:50.684383",
     "status": "completed"
    },
    "tags": []
   },
   "source": [
    "#### Filtering a DataFrame with SQL 'Like' Operation"
   ]
  },
  {
   "cell_type": "code",
   "execution_count": 35,
   "id": "94ded0f3",
   "metadata": {
    "execution": {
     "iopub.execute_input": "2022-01-08T12:37:51.347446Z",
     "iopub.status.busy": "2022-01-08T12:37:51.346436Z",
     "iopub.status.idle": "2022-01-08T12:37:51.502593Z",
     "shell.execute_reply": "2022-01-08T12:37:51.501721Z",
     "shell.execute_reply.started": "2021-12-26T09:38:29.962271Z"
    },
    "papermill": {
     "duration": 0.379147,
     "end_time": "2022-01-08T12:37:51.502809",
     "exception": false,
     "start_time": "2022-01-08T12:37:51.123662",
     "status": "completed"
    },
    "tags": []
   },
   "outputs": [
    {
     "name": "stdout",
     "output_type": "stream",
     "text": [
      "+-------------+---------+----+-------+\n",
      "|fixed acidity|sulphates|pH  |quality|\n",
      "+-------------+---------+----+-------+\n",
      "|7.4          |0.56     |3.51|5      |\n",
      "|7.4          |0.56     |3.51|5      |\n",
      "|7.4          |0.56     |3.51|5      |\n",
      "|7.5          |0.8      |3.35|5      |\n",
      "|7.5          |0.8      |3.35|5      |\n",
      "|5.6          |0.52     |3.58|5      |\n",
      "|7.6          |0.65     |3.52|5      |\n",
      "|6.7          |0.54     |3.35|5      |\n",
      "|6.9          |0.52     |3.45|6      |\n",
      "|5.7          |0.48     |3.5 |4      |\n",
      "+-------------+---------+----+-------+\n",
      "only showing top 10 rows\n",
      "\n"
     ]
    }
   ],
   "source": [
    "wine_quality.select('fixed acidity','sulphates','pH', 'quality').where(wine_quality.pH.like(\"%5%\")).show(10, False)"
   ]
  },
  {
   "cell_type": "markdown",
   "id": "1cbf6a90",
   "metadata": {
    "papermill": {
     "duration": 0.218561,
     "end_time": "2022-01-08T12:37:51.974509",
     "exception": false,
     "start_time": "2022-01-08T12:37:51.755948",
     "status": "completed"
    },
    "tags": []
   },
   "source": [
    "#### Using filter construct"
   ]
  },
  {
   "cell_type": "markdown",
   "id": "9ad2ee22",
   "metadata": {
    "papermill": {
     "duration": 0.343245,
     "end_time": "2022-01-08T12:37:52.536114",
     "exception": false,
     "start_time": "2022-01-08T12:37:52.192869",
     "status": "completed"
    },
    "tags": []
   },
   "source": [
    "Spark DataFrames are built on top of the Spark SQL platform, if you already know SQL, you can easily use SQL commands to get similar operations done in Spark also."
   ]
  },
  {
   "cell_type": "code",
   "execution_count": 36,
   "id": "5238c00f",
   "metadata": {
    "execution": {
     "iopub.execute_input": "2022-01-08T12:37:52.988066Z",
     "iopub.status.busy": "2022-01-08T12:37:52.987057Z",
     "iopub.status.idle": "2022-01-08T12:37:53.241882Z",
     "shell.execute_reply": "2022-01-08T12:37:53.243233Z",
     "shell.execute_reply.started": "2021-12-26T09:38:30.223087Z"
    },
    "papermill": {
     "duration": 0.479346,
     "end_time": "2022-01-08T12:37:53.243512",
     "exception": false,
     "start_time": "2022-01-08T12:37:52.764166",
     "status": "completed"
    },
    "tags": []
   },
   "outputs": [
    {
     "data": {
      "text/html": [
       "<div>\n",
       "<style scoped>\n",
       "    .dataframe tbody tr th:only-of-type {\n",
       "        vertical-align: middle;\n",
       "    }\n",
       "\n",
       "    .dataframe tbody tr th {\n",
       "        vertical-align: top;\n",
       "    }\n",
       "\n",
       "    .dataframe thead th {\n",
       "        text-align: right;\n",
       "    }\n",
       "</style>\n",
       "<table border=\"1\" class=\"dataframe\">\n",
       "  <thead>\n",
       "    <tr style=\"text-align: right;\">\n",
       "      <th></th>\n",
       "      <th>fixed acidity</th>\n",
       "      <th>volatile acidity</th>\n",
       "      <th>citric acid</th>\n",
       "      <th>residual sugar</th>\n",
       "      <th>chlorides</th>\n",
       "      <th>free sulfur dioxide</th>\n",
       "      <th>total sulfur dioxide</th>\n",
       "      <th>density</th>\n",
       "      <th>pH</th>\n",
       "      <th>sulphates</th>\n",
       "      <th>alcohol</th>\n",
       "      <th>quality</th>\n",
       "    </tr>\n",
       "  </thead>\n",
       "  <tbody>\n",
       "    <tr>\n",
       "      <th>0</th>\n",
       "      <td>7.4</td>\n",
       "      <td>0.70</td>\n",
       "      <td>0.00</td>\n",
       "      <td>1.9</td>\n",
       "      <td>0.076</td>\n",
       "      <td>11.0</td>\n",
       "      <td>34.0</td>\n",
       "      <td>0.9978</td>\n",
       "      <td>3.51</td>\n",
       "      <td>0.56</td>\n",
       "      <td>9.4</td>\n",
       "      <td>5</td>\n",
       "    </tr>\n",
       "    <tr>\n",
       "      <th>1</th>\n",
       "      <td>7.8</td>\n",
       "      <td>0.88</td>\n",
       "      <td>0.00</td>\n",
       "      <td>2.6</td>\n",
       "      <td>0.098</td>\n",
       "      <td>25.0</td>\n",
       "      <td>67.0</td>\n",
       "      <td>0.9968</td>\n",
       "      <td>3.20</td>\n",
       "      <td>0.68</td>\n",
       "      <td>9.8</td>\n",
       "      <td>5</td>\n",
       "    </tr>\n",
       "    <tr>\n",
       "      <th>2</th>\n",
       "      <td>7.8</td>\n",
       "      <td>0.76</td>\n",
       "      <td>0.04</td>\n",
       "      <td>2.3</td>\n",
       "      <td>0.092</td>\n",
       "      <td>15.0</td>\n",
       "      <td>54.0</td>\n",
       "      <td>0.9970</td>\n",
       "      <td>3.26</td>\n",
       "      <td>0.65</td>\n",
       "      <td>9.8</td>\n",
       "      <td>5</td>\n",
       "    </tr>\n",
       "    <tr>\n",
       "      <th>3</th>\n",
       "      <td>11.2</td>\n",
       "      <td>0.28</td>\n",
       "      <td>0.56</td>\n",
       "      <td>1.9</td>\n",
       "      <td>0.075</td>\n",
       "      <td>17.0</td>\n",
       "      <td>60.0</td>\n",
       "      <td>0.9980</td>\n",
       "      <td>3.16</td>\n",
       "      <td>0.58</td>\n",
       "      <td>9.8</td>\n",
       "      <td>6</td>\n",
       "    </tr>\n",
       "  </tbody>\n",
       "</table>\n",
       "</div>"
      ],
      "text/plain": [
       "   fixed acidity  volatile acidity  citric acid  residual sugar  chlorides  \\\n",
       "0            7.4              0.70         0.00             1.9      0.076   \n",
       "1            7.8              0.88         0.00             2.6      0.098   \n",
       "2            7.8              0.76         0.04             2.3      0.092   \n",
       "3           11.2              0.28         0.56             1.9      0.075   \n",
       "\n",
       "   free sulfur dioxide  total sulfur dioxide  density    pH  sulphates  \\\n",
       "0                 11.0                  34.0   0.9978  3.51       0.56   \n",
       "1                 25.0                  67.0   0.9968  3.20       0.68   \n",
       "2                 15.0                  54.0   0.9970  3.26       0.65   \n",
       "3                 17.0                  60.0   0.9980  3.16       0.58   \n",
       "\n",
       "   alcohol  quality  \n",
       "0      9.4        5  \n",
       "1      9.8        5  \n",
       "2      9.8        5  \n",
       "3      9.8        6  "
      ]
     },
     "execution_count": 36,
     "metadata": {},
     "output_type": "execute_result"
    }
   ],
   "source": [
    "wine_quality.filter(\"pH>3\").limit(4).toPandas()"
   ]
  },
  {
   "cell_type": "markdown",
   "id": "5652a958",
   "metadata": {
    "papermill": {
     "duration": 0.219693,
     "end_time": "2022-01-08T12:37:53.843040",
     "exception": false,
     "start_time": "2022-01-08T12:37:53.623347",
     "status": "completed"
    },
    "tags": []
   },
   "source": [
    "# Multiple filters"
   ]
  },
  {
   "cell_type": "code",
   "execution_count": 37,
   "id": "209cf7f1",
   "metadata": {
    "execution": {
     "iopub.execute_input": "2022-01-08T12:37:54.284332Z",
     "iopub.status.busy": "2022-01-08T12:37:54.281008Z",
     "iopub.status.idle": "2022-01-08T12:37:54.480189Z",
     "shell.execute_reply": "2022-01-08T12:37:54.480970Z",
     "shell.execute_reply.started": "2021-12-26T09:38:30.381616Z"
    },
    "papermill": {
     "duration": 0.421205,
     "end_time": "2022-01-08T12:37:54.481215",
     "exception": false,
     "start_time": "2022-01-08T12:37:54.060010",
     "status": "completed"
    },
    "tags": []
   },
   "outputs": [
    {
     "data": {
      "text/html": [
       "<div>\n",
       "<style scoped>\n",
       "    .dataframe tbody tr th:only-of-type {\n",
       "        vertical-align: middle;\n",
       "    }\n",
       "\n",
       "    .dataframe tbody tr th {\n",
       "        vertical-align: top;\n",
       "    }\n",
       "\n",
       "    .dataframe thead th {\n",
       "        text-align: right;\n",
       "    }\n",
       "</style>\n",
       "<table border=\"1\" class=\"dataframe\">\n",
       "  <thead>\n",
       "    <tr style=\"text-align: right;\">\n",
       "      <th></th>\n",
       "      <th>fixed acidity</th>\n",
       "      <th>volatile acidity</th>\n",
       "      <th>citric acid</th>\n",
       "      <th>residual sugar</th>\n",
       "      <th>chlorides</th>\n",
       "      <th>free sulfur dioxide</th>\n",
       "      <th>total sulfur dioxide</th>\n",
       "      <th>density</th>\n",
       "      <th>pH</th>\n",
       "      <th>sulphates</th>\n",
       "      <th>alcohol</th>\n",
       "      <th>quality</th>\n",
       "    </tr>\n",
       "  </thead>\n",
       "  <tbody>\n",
       "    <tr>\n",
       "      <th>0</th>\n",
       "      <td>7.4</td>\n",
       "      <td>0.70</td>\n",
       "      <td>0.00</td>\n",
       "      <td>1.9</td>\n",
       "      <td>0.076</td>\n",
       "      <td>11.0</td>\n",
       "      <td>34.0</td>\n",
       "      <td>0.9978</td>\n",
       "      <td>3.51</td>\n",
       "      <td>0.56</td>\n",
       "      <td>9.4</td>\n",
       "      <td>5</td>\n",
       "    </tr>\n",
       "    <tr>\n",
       "      <th>1</th>\n",
       "      <td>11.2</td>\n",
       "      <td>0.28</td>\n",
       "      <td>0.56</td>\n",
       "      <td>1.9</td>\n",
       "      <td>0.075</td>\n",
       "      <td>17.0</td>\n",
       "      <td>60.0</td>\n",
       "      <td>0.9980</td>\n",
       "      <td>3.16</td>\n",
       "      <td>0.58</td>\n",
       "      <td>9.8</td>\n",
       "      <td>6</td>\n",
       "    </tr>\n",
       "    <tr>\n",
       "      <th>2</th>\n",
       "      <td>7.4</td>\n",
       "      <td>0.70</td>\n",
       "      <td>0.00</td>\n",
       "      <td>1.9</td>\n",
       "      <td>0.076</td>\n",
       "      <td>11.0</td>\n",
       "      <td>34.0</td>\n",
       "      <td>0.9978</td>\n",
       "      <td>3.51</td>\n",
       "      <td>0.56</td>\n",
       "      <td>9.4</td>\n",
       "      <td>5</td>\n",
       "    </tr>\n",
       "    <tr>\n",
       "      <th>3</th>\n",
       "      <td>7.4</td>\n",
       "      <td>0.66</td>\n",
       "      <td>0.00</td>\n",
       "      <td>1.8</td>\n",
       "      <td>0.075</td>\n",
       "      <td>13.0</td>\n",
       "      <td>40.0</td>\n",
       "      <td>0.9978</td>\n",
       "      <td>3.51</td>\n",
       "      <td>0.56</td>\n",
       "      <td>9.4</td>\n",
       "      <td>5</td>\n",
       "    </tr>\n",
       "  </tbody>\n",
       "</table>\n",
       "</div>"
      ],
      "text/plain": [
       "   fixed acidity  volatile acidity  citric acid  residual sugar  chlorides  \\\n",
       "0            7.4              0.70         0.00             1.9      0.076   \n",
       "1           11.2              0.28         0.56             1.9      0.075   \n",
       "2            7.4              0.70         0.00             1.9      0.076   \n",
       "3            7.4              0.66         0.00             1.8      0.075   \n",
       "\n",
       "   free sulfur dioxide  total sulfur dioxide  density    pH  sulphates  \\\n",
       "0                 11.0                  34.0   0.9978  3.51       0.56   \n",
       "1                 17.0                  60.0   0.9980  3.16       0.58   \n",
       "2                 11.0                  34.0   0.9978  3.51       0.56   \n",
       "3                 13.0                  40.0   0.9978  3.51       0.56   \n",
       "\n",
       "   alcohol  quality  \n",
       "0      9.4        5  \n",
       "1      9.8        6  \n",
       "2      9.4        5  \n",
       "3      9.4        5  "
      ]
     },
     "execution_count": 37,
     "metadata": {},
     "output_type": "execute_result"
    }
   ],
   "source": [
    "wine_quality.filter(\"pH>3 and sulphates<0.6\").limit(4).toPandas()"
   ]
  },
  {
   "cell_type": "code",
   "execution_count": 38,
   "id": "8d689755",
   "metadata": {
    "execution": {
     "iopub.execute_input": "2022-01-08T12:37:55.065654Z",
     "iopub.status.busy": "2022-01-08T12:37:55.064991Z",
     "iopub.status.idle": "2022-01-08T12:37:55.242631Z",
     "shell.execute_reply": "2022-01-08T12:37:55.241516Z",
     "shell.execute_reply.started": "2021-12-26T09:38:30.513767Z"
    },
    "papermill": {
     "duration": 0.399984,
     "end_time": "2022-01-08T12:37:55.242827",
     "exception": false,
     "start_time": "2022-01-08T12:37:54.842843",
     "status": "completed"
    },
    "tags": []
   },
   "outputs": [
    {
     "data": {
      "text/html": [
       "<div>\n",
       "<style scoped>\n",
       "    .dataframe tbody tr th:only-of-type {\n",
       "        vertical-align: middle;\n",
       "    }\n",
       "\n",
       "    .dataframe tbody tr th {\n",
       "        vertical-align: top;\n",
       "    }\n",
       "\n",
       "    .dataframe thead th {\n",
       "        text-align: right;\n",
       "    }\n",
       "</style>\n",
       "<table border=\"1\" class=\"dataframe\">\n",
       "  <thead>\n",
       "    <tr style=\"text-align: right;\">\n",
       "      <th></th>\n",
       "      <th>fixed acidity</th>\n",
       "      <th>volatile acidity</th>\n",
       "      <th>citric acid</th>\n",
       "      <th>residual sugar</th>\n",
       "      <th>chlorides</th>\n",
       "      <th>free sulfur dioxide</th>\n",
       "      <th>total sulfur dioxide</th>\n",
       "      <th>density</th>\n",
       "      <th>pH</th>\n",
       "      <th>sulphates</th>\n",
       "      <th>alcohol</th>\n",
       "      <th>quality</th>\n",
       "    </tr>\n",
       "  </thead>\n",
       "  <tbody>\n",
       "    <tr>\n",
       "      <th>0</th>\n",
       "      <td>7.4</td>\n",
       "      <td>0.70</td>\n",
       "      <td>0.00</td>\n",
       "      <td>1.9</td>\n",
       "      <td>0.076</td>\n",
       "      <td>11.0</td>\n",
       "      <td>34.0</td>\n",
       "      <td>0.9978</td>\n",
       "      <td>3.51</td>\n",
       "      <td>0.56</td>\n",
       "      <td>9.4</td>\n",
       "      <td>5</td>\n",
       "    </tr>\n",
       "    <tr>\n",
       "      <th>1</th>\n",
       "      <td>7.8</td>\n",
       "      <td>0.88</td>\n",
       "      <td>0.00</td>\n",
       "      <td>2.6</td>\n",
       "      <td>0.098</td>\n",
       "      <td>25.0</td>\n",
       "      <td>67.0</td>\n",
       "      <td>0.9968</td>\n",
       "      <td>3.20</td>\n",
       "      <td>0.68</td>\n",
       "      <td>9.8</td>\n",
       "      <td>5</td>\n",
       "    </tr>\n",
       "    <tr>\n",
       "      <th>2</th>\n",
       "      <td>7.8</td>\n",
       "      <td>0.76</td>\n",
       "      <td>0.04</td>\n",
       "      <td>2.3</td>\n",
       "      <td>0.092</td>\n",
       "      <td>15.0</td>\n",
       "      <td>54.0</td>\n",
       "      <td>0.9970</td>\n",
       "      <td>3.26</td>\n",
       "      <td>0.65</td>\n",
       "      <td>9.8</td>\n",
       "      <td>5</td>\n",
       "    </tr>\n",
       "    <tr>\n",
       "      <th>3</th>\n",
       "      <td>11.2</td>\n",
       "      <td>0.28</td>\n",
       "      <td>0.56</td>\n",
       "      <td>1.9</td>\n",
       "      <td>0.075</td>\n",
       "      <td>17.0</td>\n",
       "      <td>60.0</td>\n",
       "      <td>0.9980</td>\n",
       "      <td>3.16</td>\n",
       "      <td>0.58</td>\n",
       "      <td>9.8</td>\n",
       "      <td>6</td>\n",
       "    </tr>\n",
       "  </tbody>\n",
       "</table>\n",
       "</div>"
      ],
      "text/plain": [
       "   fixed acidity  volatile acidity  citric acid  residual sugar  chlorides  \\\n",
       "0            7.4              0.70         0.00             1.9      0.076   \n",
       "1            7.8              0.88         0.00             2.6      0.098   \n",
       "2            7.8              0.76         0.04             2.3      0.092   \n",
       "3           11.2              0.28         0.56             1.9      0.075   \n",
       "\n",
       "   free sulfur dioxide  total sulfur dioxide  density    pH  sulphates  \\\n",
       "0                 11.0                  34.0   0.9978  3.51       0.56   \n",
       "1                 25.0                  67.0   0.9968  3.20       0.68   \n",
       "2                 15.0                  54.0   0.9970  3.26       0.65   \n",
       "3                 17.0                  60.0   0.9980  3.16       0.58   \n",
       "\n",
       "   alcohol  quality  \n",
       "0      9.4        5  \n",
       "1      9.8        5  \n",
       "2      9.8        5  \n",
       "3      9.8        6  "
      ]
     },
     "execution_count": 38,
     "metadata": {},
     "output_type": "execute_result"
    }
   ],
   "source": [
    "wine_quality.filter(\"pH>3 or sulphates<0.6\").limit(4).toPandas()"
   ]
  },
  {
   "cell_type": "code",
   "execution_count": 39,
   "id": "3386ac4c",
   "metadata": {
    "execution": {
     "iopub.execute_input": "2022-01-08T12:37:55.877190Z",
     "iopub.status.busy": "2022-01-08T12:37:55.876558Z",
     "iopub.status.idle": "2022-01-08T12:37:56.062822Z",
     "shell.execute_reply": "2022-01-08T12:37:56.063816Z",
     "shell.execute_reply.started": "2021-12-26T09:38:30.69967Z"
    },
    "papermill": {
     "duration": 0.472459,
     "end_time": "2022-01-08T12:37:56.064076",
     "exception": false,
     "start_time": "2022-01-08T12:37:55.591617",
     "status": "completed"
    },
    "tags": []
   },
   "outputs": [
    {
     "data": {
      "text/html": [
       "<div>\n",
       "<style scoped>\n",
       "    .dataframe tbody tr th:only-of-type {\n",
       "        vertical-align: middle;\n",
       "    }\n",
       "\n",
       "    .dataframe tbody tr th {\n",
       "        vertical-align: top;\n",
       "    }\n",
       "\n",
       "    .dataframe thead th {\n",
       "        text-align: right;\n",
       "    }\n",
       "</style>\n",
       "<table border=\"1\" class=\"dataframe\">\n",
       "  <thead>\n",
       "    <tr style=\"text-align: right;\">\n",
       "      <th></th>\n",
       "      <th>fixed acidity</th>\n",
       "      <th>volatile acidity</th>\n",
       "      <th>citric acid</th>\n",
       "      <th>residual sugar</th>\n",
       "      <th>chlorides</th>\n",
       "      <th>free sulfur dioxide</th>\n",
       "      <th>total sulfur dioxide</th>\n",
       "      <th>density</th>\n",
       "      <th>pH</th>\n",
       "      <th>sulphates</th>\n",
       "      <th>alcohol</th>\n",
       "      <th>quality</th>\n",
       "    </tr>\n",
       "  </thead>\n",
       "  <tbody>\n",
       "    <tr>\n",
       "      <th>0</th>\n",
       "      <td>7.4</td>\n",
       "      <td>0.70</td>\n",
       "      <td>0.00</td>\n",
       "      <td>1.9</td>\n",
       "      <td>0.076</td>\n",
       "      <td>11.0</td>\n",
       "      <td>34.0</td>\n",
       "      <td>0.9978</td>\n",
       "      <td>3.51</td>\n",
       "      <td>0.56</td>\n",
       "      <td>9.4</td>\n",
       "      <td>5</td>\n",
       "    </tr>\n",
       "    <tr>\n",
       "      <th>1</th>\n",
       "      <td>7.4</td>\n",
       "      <td>0.70</td>\n",
       "      <td>0.00</td>\n",
       "      <td>1.9</td>\n",
       "      <td>0.076</td>\n",
       "      <td>11.0</td>\n",
       "      <td>34.0</td>\n",
       "      <td>0.9978</td>\n",
       "      <td>3.51</td>\n",
       "      <td>0.56</td>\n",
       "      <td>9.4</td>\n",
       "      <td>5</td>\n",
       "    </tr>\n",
       "    <tr>\n",
       "      <th>2</th>\n",
       "      <td>7.4</td>\n",
       "      <td>0.66</td>\n",
       "      <td>0.00</td>\n",
       "      <td>1.8</td>\n",
       "      <td>0.075</td>\n",
       "      <td>13.0</td>\n",
       "      <td>40.0</td>\n",
       "      <td>0.9978</td>\n",
       "      <td>3.51</td>\n",
       "      <td>0.56</td>\n",
       "      <td>9.4</td>\n",
       "      <td>5</td>\n",
       "    </tr>\n",
       "    <tr>\n",
       "      <th>3</th>\n",
       "      <td>7.4</td>\n",
       "      <td>0.59</td>\n",
       "      <td>0.08</td>\n",
       "      <td>4.4</td>\n",
       "      <td>0.086</td>\n",
       "      <td>6.0</td>\n",
       "      <td>29.0</td>\n",
       "      <td>0.9974</td>\n",
       "      <td>3.38</td>\n",
       "      <td>0.50</td>\n",
       "      <td>9.0</td>\n",
       "      <td>4</td>\n",
       "    </tr>\n",
       "  </tbody>\n",
       "</table>\n",
       "</div>"
      ],
      "text/plain": [
       "   fixed acidity  volatile acidity  citric acid  residual sugar  chlorides  \\\n",
       "0            7.4              0.70         0.00             1.9      0.076   \n",
       "1            7.4              0.70         0.00             1.9      0.076   \n",
       "2            7.4              0.66         0.00             1.8      0.075   \n",
       "3            7.4              0.59         0.08             4.4      0.086   \n",
       "\n",
       "   free sulfur dioxide  total sulfur dioxide  density    pH  sulphates  \\\n",
       "0                 11.0                  34.0   0.9978  3.51       0.56   \n",
       "1                 11.0                  34.0   0.9978  3.51       0.56   \n",
       "2                 13.0                  40.0   0.9978  3.51       0.56   \n",
       "3                  6.0                  29.0   0.9974  3.38       0.50   \n",
       "\n",
       "   alcohol  quality  \n",
       "0      9.4        5  \n",
       "1      9.4        5  \n",
       "2      9.4        5  \n",
       "3      9.0        4  "
      ]
     },
     "execution_count": 39,
     "metadata": {},
     "output_type": "execute_result"
    }
   ],
   "source": [
    "wine_quality.filter(\"pH>3 and sulphates<0.6 and density like '%0.997%'\").limit(4).toPandas()"
   ]
  },
  {
   "cell_type": "code",
   "execution_count": 40,
   "id": "81fe37bc",
   "metadata": {
    "execution": {
     "iopub.execute_input": "2022-01-08T12:37:56.722838Z",
     "iopub.status.busy": "2022-01-08T12:37:56.721764Z",
     "iopub.status.idle": "2022-01-08T12:37:56.887679Z",
     "shell.execute_reply": "2022-01-08T12:37:56.888469Z",
     "shell.execute_reply.started": "2021-12-26T09:38:30.848172Z"
    },
    "papermill": {
     "duration": 0.464541,
     "end_time": "2022-01-08T12:37:56.888792",
     "exception": false,
     "start_time": "2022-01-08T12:37:56.424251",
     "status": "completed"
    },
    "tags": []
   },
   "outputs": [
    {
     "data": {
      "text/html": [
       "<div>\n",
       "<style scoped>\n",
       "    .dataframe tbody tr th:only-of-type {\n",
       "        vertical-align: middle;\n",
       "    }\n",
       "\n",
       "    .dataframe tbody tr th {\n",
       "        vertical-align: top;\n",
       "    }\n",
       "\n",
       "    .dataframe thead th {\n",
       "        text-align: right;\n",
       "    }\n",
       "</style>\n",
       "<table border=\"1\" class=\"dataframe\">\n",
       "  <thead>\n",
       "    <tr style=\"text-align: right;\">\n",
       "      <th></th>\n",
       "      <th>fixed acidity</th>\n",
       "      <th>volatile acidity</th>\n",
       "      <th>citric acid</th>\n",
       "      <th>residual sugar</th>\n",
       "      <th>chlorides</th>\n",
       "      <th>free sulfur dioxide</th>\n",
       "      <th>total sulfur dioxide</th>\n",
       "      <th>density</th>\n",
       "      <th>pH</th>\n",
       "      <th>sulphates</th>\n",
       "      <th>alcohol</th>\n",
       "      <th>quality</th>\n",
       "    </tr>\n",
       "  </thead>\n",
       "  <tbody>\n",
       "    <tr>\n",
       "      <th>0</th>\n",
       "      <td>11.2</td>\n",
       "      <td>0.28</td>\n",
       "      <td>0.56</td>\n",
       "      <td>1.9</td>\n",
       "      <td>0.075</td>\n",
       "      <td>17.0</td>\n",
       "      <td>60.0</td>\n",
       "      <td>0.9980</td>\n",
       "      <td>3.16</td>\n",
       "      <td>0.58</td>\n",
       "      <td>9.8</td>\n",
       "      <td>6</td>\n",
       "    </tr>\n",
       "    <tr>\n",
       "      <th>1</th>\n",
       "      <td>7.9</td>\n",
       "      <td>0.60</td>\n",
       "      <td>0.06</td>\n",
       "      <td>1.6</td>\n",
       "      <td>0.069</td>\n",
       "      <td>15.0</td>\n",
       "      <td>59.0</td>\n",
       "      <td>0.9964</td>\n",
       "      <td>3.30</td>\n",
       "      <td>0.46</td>\n",
       "      <td>9.4</td>\n",
       "      <td>5</td>\n",
       "    </tr>\n",
       "    <tr>\n",
       "      <th>2</th>\n",
       "      <td>7.3</td>\n",
       "      <td>0.65</td>\n",
       "      <td>0.00</td>\n",
       "      <td>1.2</td>\n",
       "      <td>0.065</td>\n",
       "      <td>15.0</td>\n",
       "      <td>21.0</td>\n",
       "      <td>0.9946</td>\n",
       "      <td>3.39</td>\n",
       "      <td>0.47</td>\n",
       "      <td>10.0</td>\n",
       "      <td>7</td>\n",
       "    </tr>\n",
       "    <tr>\n",
       "      <th>3</th>\n",
       "      <td>7.8</td>\n",
       "      <td>0.58</td>\n",
       "      <td>0.02</td>\n",
       "      <td>2.0</td>\n",
       "      <td>0.073</td>\n",
       "      <td>9.0</td>\n",
       "      <td>18.0</td>\n",
       "      <td>0.9968</td>\n",
       "      <td>3.36</td>\n",
       "      <td>0.57</td>\n",
       "      <td>9.5</td>\n",
       "      <td>7</td>\n",
       "    </tr>\n",
       "  </tbody>\n",
       "</table>\n",
       "</div>"
      ],
      "text/plain": [
       "   fixed acidity  volatile acidity  citric acid  residual sugar  chlorides  \\\n",
       "0           11.2              0.28         0.56             1.9      0.075   \n",
       "1            7.9              0.60         0.06             1.6      0.069   \n",
       "2            7.3              0.65         0.00             1.2      0.065   \n",
       "3            7.8              0.58         0.02             2.0      0.073   \n",
       "\n",
       "   free sulfur dioxide  total sulfur dioxide  density    pH  sulphates  \\\n",
       "0                 17.0                  60.0   0.9980  3.16       0.58   \n",
       "1                 15.0                  59.0   0.9964  3.30       0.46   \n",
       "2                 15.0                  21.0   0.9946  3.39       0.47   \n",
       "3                  9.0                  18.0   0.9968  3.36       0.57   \n",
       "\n",
       "   alcohol  quality  \n",
       "0      9.8        6  \n",
       "1      9.4        5  \n",
       "2     10.0        7  \n",
       "3      9.5        7  "
      ]
     },
     "execution_count": 40,
     "metadata": {},
     "output_type": "execute_result"
    }
   ],
   "source": [
    "wine_quality.filter(\"pH>3 and sulphates<0.6 and density not like '%0.997%'\").limit(4).toPandas()"
   ]
  },
  {
   "cell_type": "markdown",
   "id": "fa8c5dfb",
   "metadata": {
    "papermill": {
     "duration": 0.22917,
     "end_time": "2022-01-08T12:37:57.354321",
     "exception": false,
     "start_time": "2022-01-08T12:37:57.125151",
     "status": "completed"
    },
    "tags": []
   },
   "source": [
    "# Using DataFrame style filters"
   ]
  },
  {
   "cell_type": "code",
   "execution_count": 41,
   "id": "ecb15d5c",
   "metadata": {
    "execution": {
     "iopub.execute_input": "2022-01-08T12:37:57.815682Z",
     "iopub.status.busy": "2022-01-08T12:37:57.814687Z",
     "iopub.status.idle": "2022-01-08T12:37:58.043170Z",
     "shell.execute_reply": "2022-01-08T12:37:58.044151Z",
     "shell.execute_reply.started": "2021-12-26T09:38:30.99712Z"
    },
    "papermill": {
     "duration": 0.459791,
     "end_time": "2022-01-08T12:37:58.044401",
     "exception": false,
     "start_time": "2022-01-08T12:37:57.584610",
     "status": "completed"
    },
    "tags": []
   },
   "outputs": [
    {
     "data": {
      "text/html": [
       "<div>\n",
       "<style scoped>\n",
       "    .dataframe tbody tr th:only-of-type {\n",
       "        vertical-align: middle;\n",
       "    }\n",
       "\n",
       "    .dataframe tbody tr th {\n",
       "        vertical-align: top;\n",
       "    }\n",
       "\n",
       "    .dataframe thead th {\n",
       "        text-align: right;\n",
       "    }\n",
       "</style>\n",
       "<table border=\"1\" class=\"dataframe\">\n",
       "  <thead>\n",
       "    <tr style=\"text-align: right;\">\n",
       "      <th></th>\n",
       "      <th>fixed acidity</th>\n",
       "      <th>volatile acidity</th>\n",
       "      <th>citric acid</th>\n",
       "      <th>residual sugar</th>\n",
       "      <th>chlorides</th>\n",
       "      <th>free sulfur dioxide</th>\n",
       "      <th>total sulfur dioxide</th>\n",
       "      <th>density</th>\n",
       "      <th>pH</th>\n",
       "      <th>sulphates</th>\n",
       "      <th>alcohol</th>\n",
       "      <th>quality</th>\n",
       "    </tr>\n",
       "  </thead>\n",
       "  <tbody>\n",
       "    <tr>\n",
       "      <th>0</th>\n",
       "      <td>7.4</td>\n",
       "      <td>0.70</td>\n",
       "      <td>0.00</td>\n",
       "      <td>1.9</td>\n",
       "      <td>0.076</td>\n",
       "      <td>11.0</td>\n",
       "      <td>34.0</td>\n",
       "      <td>0.9978</td>\n",
       "      <td>3.51</td>\n",
       "      <td>0.56</td>\n",
       "      <td>9.4</td>\n",
       "      <td>5</td>\n",
       "    </tr>\n",
       "    <tr>\n",
       "      <th>1</th>\n",
       "      <td>7.8</td>\n",
       "      <td>0.88</td>\n",
       "      <td>0.00</td>\n",
       "      <td>2.6</td>\n",
       "      <td>0.098</td>\n",
       "      <td>25.0</td>\n",
       "      <td>67.0</td>\n",
       "      <td>0.9968</td>\n",
       "      <td>3.20</td>\n",
       "      <td>0.68</td>\n",
       "      <td>9.8</td>\n",
       "      <td>5</td>\n",
       "    </tr>\n",
       "    <tr>\n",
       "      <th>2</th>\n",
       "      <td>7.8</td>\n",
       "      <td>0.76</td>\n",
       "      <td>0.04</td>\n",
       "      <td>2.3</td>\n",
       "      <td>0.092</td>\n",
       "      <td>15.0</td>\n",
       "      <td>54.0</td>\n",
       "      <td>0.9970</td>\n",
       "      <td>3.26</td>\n",
       "      <td>0.65</td>\n",
       "      <td>9.8</td>\n",
       "      <td>5</td>\n",
       "    </tr>\n",
       "    <tr>\n",
       "      <th>3</th>\n",
       "      <td>7.4</td>\n",
       "      <td>0.70</td>\n",
       "      <td>0.00</td>\n",
       "      <td>1.9</td>\n",
       "      <td>0.076</td>\n",
       "      <td>11.0</td>\n",
       "      <td>34.0</td>\n",
       "      <td>0.9978</td>\n",
       "      <td>3.51</td>\n",
       "      <td>0.56</td>\n",
       "      <td>9.4</td>\n",
       "      <td>5</td>\n",
       "    </tr>\n",
       "    <tr>\n",
       "      <th>4</th>\n",
       "      <td>7.4</td>\n",
       "      <td>0.66</td>\n",
       "      <td>0.00</td>\n",
       "      <td>1.8</td>\n",
       "      <td>0.075</td>\n",
       "      <td>13.0</td>\n",
       "      <td>40.0</td>\n",
       "      <td>0.9978</td>\n",
       "      <td>3.51</td>\n",
       "      <td>0.56</td>\n",
       "      <td>9.4</td>\n",
       "      <td>5</td>\n",
       "    </tr>\n",
       "  </tbody>\n",
       "</table>\n",
       "</div>"
      ],
      "text/plain": [
       "   fixed acidity  volatile acidity  citric acid  residual sugar  chlorides  \\\n",
       "0            7.4              0.70         0.00             1.9      0.076   \n",
       "1            7.8              0.88         0.00             2.6      0.098   \n",
       "2            7.8              0.76         0.04             2.3      0.092   \n",
       "3            7.4              0.70         0.00             1.9      0.076   \n",
       "4            7.4              0.66         0.00             1.8      0.075   \n",
       "\n",
       "   free sulfur dioxide  total sulfur dioxide  density    pH  sulphates  \\\n",
       "0                 11.0                  34.0   0.9978  3.51       0.56   \n",
       "1                 25.0                  67.0   0.9968  3.20       0.68   \n",
       "2                 15.0                  54.0   0.9970  3.26       0.65   \n",
       "3                 11.0                  34.0   0.9978  3.51       0.56   \n",
       "4                 13.0                  40.0   0.9978  3.51       0.56   \n",
       "\n",
       "   alcohol  quality  \n",
       "0      9.4        5  \n",
       "1      9.8        5  \n",
       "2      9.8        5  \n",
       "3      9.4        5  \n",
       "4      9.4        5  "
      ]
     },
     "execution_count": 41,
     "metadata": {},
     "output_type": "execute_result"
    }
   ],
   "source": [
    "## or condition\n",
    "wine_quality.filter( (wine_quality.pH  == 3.0) | (wine_quality.quality  == 5) ).limit(5).toPandas()"
   ]
  },
  {
   "cell_type": "code",
   "execution_count": 42,
   "id": "b1dfff49",
   "metadata": {
    "execution": {
     "iopub.execute_input": "2022-01-08T12:37:58.521103Z",
     "iopub.status.busy": "2022-01-08T12:37:58.520203Z",
     "iopub.status.idle": "2022-01-08T12:37:58.756484Z",
     "shell.execute_reply": "2022-01-08T12:37:58.755588Z",
     "shell.execute_reply.started": "2021-12-26T09:38:31.138067Z"
    },
    "papermill": {
     "duration": 0.463551,
     "end_time": "2022-01-08T12:37:58.756726",
     "exception": false,
     "start_time": "2022-01-08T12:37:58.293175",
     "status": "completed"
    },
    "tags": []
   },
   "outputs": [
    {
     "data": {
      "text/html": [
       "<div>\n",
       "<style scoped>\n",
       "    .dataframe tbody tr th:only-of-type {\n",
       "        vertical-align: middle;\n",
       "    }\n",
       "\n",
       "    .dataframe tbody tr th {\n",
       "        vertical-align: top;\n",
       "    }\n",
       "\n",
       "    .dataframe thead th {\n",
       "        text-align: right;\n",
       "    }\n",
       "</style>\n",
       "<table border=\"1\" class=\"dataframe\">\n",
       "  <thead>\n",
       "    <tr style=\"text-align: right;\">\n",
       "      <th></th>\n",
       "      <th>fixed acidity</th>\n",
       "      <th>volatile acidity</th>\n",
       "      <th>citric acid</th>\n",
       "      <th>residual sugar</th>\n",
       "      <th>chlorides</th>\n",
       "      <th>free sulfur dioxide</th>\n",
       "      <th>total sulfur dioxide</th>\n",
       "      <th>density</th>\n",
       "      <th>pH</th>\n",
       "      <th>sulphates</th>\n",
       "      <th>alcohol</th>\n",
       "      <th>quality</th>\n",
       "    </tr>\n",
       "  </thead>\n",
       "  <tbody>\n",
       "    <tr>\n",
       "      <th>0</th>\n",
       "      <td>7.5</td>\n",
       "      <td>0.705</td>\n",
       "      <td>0.24</td>\n",
       "      <td>1.8</td>\n",
       "      <td>0.360</td>\n",
       "      <td>15.0</td>\n",
       "      <td>63.0</td>\n",
       "      <td>0.99640</td>\n",
       "      <td>3.0</td>\n",
       "      <td>1.59</td>\n",
       "      <td>9.5</td>\n",
       "      <td>5</td>\n",
       "    </tr>\n",
       "    <tr>\n",
       "      <th>1</th>\n",
       "      <td>8.9</td>\n",
       "      <td>0.635</td>\n",
       "      <td>0.37</td>\n",
       "      <td>1.7</td>\n",
       "      <td>0.263</td>\n",
       "      <td>5.0</td>\n",
       "      <td>62.0</td>\n",
       "      <td>0.99710</td>\n",
       "      <td>3.0</td>\n",
       "      <td>1.09</td>\n",
       "      <td>9.3</td>\n",
       "      <td>5</td>\n",
       "    </tr>\n",
       "    <tr>\n",
       "      <th>2</th>\n",
       "      <td>8.7</td>\n",
       "      <td>0.780</td>\n",
       "      <td>0.51</td>\n",
       "      <td>1.7</td>\n",
       "      <td>0.415</td>\n",
       "      <td>12.0</td>\n",
       "      <td>66.0</td>\n",
       "      <td>0.99623</td>\n",
       "      <td>3.0</td>\n",
       "      <td>1.17</td>\n",
       "      <td>9.2</td>\n",
       "      <td>5</td>\n",
       "    </tr>\n",
       "    <tr>\n",
       "      <th>3</th>\n",
       "      <td>8.7</td>\n",
       "      <td>0.780</td>\n",
       "      <td>0.51</td>\n",
       "      <td>1.7</td>\n",
       "      <td>0.415</td>\n",
       "      <td>12.0</td>\n",
       "      <td>66.0</td>\n",
       "      <td>0.99623</td>\n",
       "      <td>3.0</td>\n",
       "      <td>1.17</td>\n",
       "      <td>9.2</td>\n",
       "      <td>5</td>\n",
       "    </tr>\n",
       "  </tbody>\n",
       "</table>\n",
       "</div>"
      ],
      "text/plain": [
       "   fixed acidity  volatile acidity  citric acid  residual sugar  chlorides  \\\n",
       "0            7.5             0.705         0.24             1.8      0.360   \n",
       "1            8.9             0.635         0.37             1.7      0.263   \n",
       "2            8.7             0.780         0.51             1.7      0.415   \n",
       "3            8.7             0.780         0.51             1.7      0.415   \n",
       "\n",
       "   free sulfur dioxide  total sulfur dioxide  density   pH  sulphates  \\\n",
       "0                 15.0                  63.0  0.99640  3.0       1.59   \n",
       "1                  5.0                  62.0  0.99710  3.0       1.09   \n",
       "2                 12.0                  66.0  0.99623  3.0       1.17   \n",
       "3                 12.0                  66.0  0.99623  3.0       1.17   \n",
       "\n",
       "   alcohol  quality  \n",
       "0      9.5        5  \n",
       "1      9.3        5  \n",
       "2      9.2        5  \n",
       "3      9.2        5  "
      ]
     },
     "execution_count": 42,
     "metadata": {},
     "output_type": "execute_result"
    }
   ],
   "source": [
    "## and condition\n",
    "wine_quality.filter( (wine_quality.pH  == 3.0) & (wine_quality.quality  == 5) ).limit(5).toPandas()"
   ]
  },
  {
   "cell_type": "code",
   "execution_count": 43,
   "id": "03ce23d9",
   "metadata": {
    "execution": {
     "iopub.execute_input": "2022-01-08T12:37:59.310127Z",
     "iopub.status.busy": "2022-01-08T12:37:59.308927Z",
     "iopub.status.idle": "2022-01-08T12:37:59.450841Z",
     "shell.execute_reply": "2022-01-08T12:37:59.450318Z",
     "shell.execute_reply.started": "2021-12-26T09:38:31.2913Z"
    },
    "papermill": {
     "duration": 0.377774,
     "end_time": "2022-01-08T12:37:59.450989",
     "exception": false,
     "start_time": "2022-01-08T12:37:59.073215",
     "status": "completed"
    },
    "tags": []
   },
   "outputs": [
    {
     "data": {
      "text/html": [
       "<div>\n",
       "<style scoped>\n",
       "    .dataframe tbody tr th:only-of-type {\n",
       "        vertical-align: middle;\n",
       "    }\n",
       "\n",
       "    .dataframe tbody tr th {\n",
       "        vertical-align: top;\n",
       "    }\n",
       "\n",
       "    .dataframe thead th {\n",
       "        text-align: right;\n",
       "    }\n",
       "</style>\n",
       "<table border=\"1\" class=\"dataframe\">\n",
       "  <thead>\n",
       "    <tr style=\"text-align: right;\">\n",
       "      <th></th>\n",
       "      <th>fixed acidity</th>\n",
       "      <th>volatile acidity</th>\n",
       "      <th>citric acid</th>\n",
       "      <th>residual sugar</th>\n",
       "      <th>chlorides</th>\n",
       "      <th>free sulfur dioxide</th>\n",
       "      <th>total sulfur dioxide</th>\n",
       "      <th>density</th>\n",
       "      <th>pH</th>\n",
       "      <th>sulphates</th>\n",
       "      <th>alcohol</th>\n",
       "      <th>quality</th>\n",
       "    </tr>\n",
       "  </thead>\n",
       "  <tbody>\n",
       "    <tr>\n",
       "      <th>0</th>\n",
       "      <td>11.9</td>\n",
       "      <td>0.37</td>\n",
       "      <td>0.69</td>\n",
       "      <td>2.3</td>\n",
       "      <td>0.078</td>\n",
       "      <td>12.0</td>\n",
       "      <td>24.0</td>\n",
       "      <td>0.9958</td>\n",
       "      <td>3.0</td>\n",
       "      <td>0.65</td>\n",
       "      <td>12.8</td>\n",
       "      <td>6</td>\n",
       "    </tr>\n",
       "    <tr>\n",
       "      <th>1</th>\n",
       "      <td>12.7</td>\n",
       "      <td>0.59</td>\n",
       "      <td>0.45</td>\n",
       "      <td>2.3</td>\n",
       "      <td>0.082</td>\n",
       "      <td>11.0</td>\n",
       "      <td>22.0</td>\n",
       "      <td>1.0000</td>\n",
       "      <td>3.0</td>\n",
       "      <td>0.70</td>\n",
       "      <td>9.3</td>\n",
       "      <td>6</td>\n",
       "    </tr>\n",
       "  </tbody>\n",
       "</table>\n",
       "</div>"
      ],
      "text/plain": [
       "   fixed acidity  volatile acidity  citric acid  residual sugar  chlorides  \\\n",
       "0           11.9              0.37         0.69             2.3      0.078   \n",
       "1           12.7              0.59         0.45             2.3      0.082   \n",
       "\n",
       "   free sulfur dioxide  total sulfur dioxide  density   pH  sulphates  \\\n",
       "0                 12.0                  24.0   0.9958  3.0       0.65   \n",
       "1                 11.0                  22.0   1.0000  3.0       0.70   \n",
       "\n",
       "   alcohol  quality  \n",
       "0     12.8        6  \n",
       "1      9.3        6  "
      ]
     },
     "execution_count": 43,
     "metadata": {},
     "output_type": "execute_result"
    }
   ],
   "source": [
    "## and and not equal to\n",
    "wine_quality.filter( (wine_quality.pH  == 3.0) & (wine_quality.quality  != 5) ).limit(5).toPandas()"
   ]
  },
  {
   "cell_type": "markdown",
   "id": "26dbc5bc",
   "metadata": {
    "papermill": {
     "duration": 0.238126,
     "end_time": "2022-01-08T12:37:59.922925",
     "exception": false,
     "start_time": "2022-01-08T12:37:59.684799",
     "status": "completed"
    },
    "tags": []
   },
   "source": [
    "# String based filters"
   ]
  },
  {
   "cell_type": "code",
   "execution_count": 44,
   "id": "72ecc198",
   "metadata": {
    "execution": {
     "iopub.execute_input": "2022-01-08T12:38:00.402760Z",
     "iopub.status.busy": "2022-01-08T12:38:00.401656Z",
     "iopub.status.idle": "2022-01-08T12:38:00.559183Z",
     "shell.execute_reply": "2022-01-08T12:38:00.560164Z",
     "shell.execute_reply.started": "2021-12-26T09:38:31.473569Z"
    },
    "papermill": {
     "duration": 0.400045,
     "end_time": "2022-01-08T12:38:00.560445",
     "exception": false,
     "start_time": "2022-01-08T12:38:00.160400",
     "status": "completed"
    },
    "tags": []
   },
   "outputs": [
    {
     "data": {
      "text/html": [
       "<div>\n",
       "<style scoped>\n",
       "    .dataframe tbody tr th:only-of-type {\n",
       "        vertical-align: middle;\n",
       "    }\n",
       "\n",
       "    .dataframe tbody tr th {\n",
       "        vertical-align: top;\n",
       "    }\n",
       "\n",
       "    .dataframe thead th {\n",
       "        text-align: right;\n",
       "    }\n",
       "</style>\n",
       "<table border=\"1\" class=\"dataframe\">\n",
       "  <thead>\n",
       "    <tr style=\"text-align: right;\">\n",
       "      <th></th>\n",
       "      <th>fixed acidity</th>\n",
       "      <th>volatile acidity</th>\n",
       "      <th>citric acid</th>\n",
       "      <th>residual sugar</th>\n",
       "      <th>chlorides</th>\n",
       "      <th>free sulfur dioxide</th>\n",
       "      <th>total sulfur dioxide</th>\n",
       "      <th>density</th>\n",
       "      <th>pH</th>\n",
       "      <th>sulphates</th>\n",
       "      <th>alcohol</th>\n",
       "      <th>quality</th>\n",
       "    </tr>\n",
       "  </thead>\n",
       "  <tbody>\n",
       "    <tr>\n",
       "      <th>0</th>\n",
       "      <td>8.6</td>\n",
       "      <td>0.49</td>\n",
       "      <td>0.28</td>\n",
       "      <td>1.9</td>\n",
       "      <td>0.110</td>\n",
       "      <td>20.0</td>\n",
       "      <td>136.0</td>\n",
       "      <td>0.9972</td>\n",
       "      <td>2.93</td>\n",
       "      <td>1.95</td>\n",
       "      <td>9.9</td>\n",
       "      <td>6</td>\n",
       "    </tr>\n",
       "    <tr>\n",
       "      <th>1</th>\n",
       "      <td>8.6</td>\n",
       "      <td>0.49</td>\n",
       "      <td>0.28</td>\n",
       "      <td>1.9</td>\n",
       "      <td>0.110</td>\n",
       "      <td>20.0</td>\n",
       "      <td>136.0</td>\n",
       "      <td>0.9972</td>\n",
       "      <td>2.93</td>\n",
       "      <td>1.95</td>\n",
       "      <td>9.9</td>\n",
       "      <td>6</td>\n",
       "    </tr>\n",
       "    <tr>\n",
       "      <th>2</th>\n",
       "      <td>8.6</td>\n",
       "      <td>0.49</td>\n",
       "      <td>0.29</td>\n",
       "      <td>2.0</td>\n",
       "      <td>0.110</td>\n",
       "      <td>19.0</td>\n",
       "      <td>133.0</td>\n",
       "      <td>0.9972</td>\n",
       "      <td>2.93</td>\n",
       "      <td>1.98</td>\n",
       "      <td>9.8</td>\n",
       "      <td>5</td>\n",
       "    </tr>\n",
       "    <tr>\n",
       "      <th>3</th>\n",
       "      <td>9.2</td>\n",
       "      <td>0.52</td>\n",
       "      <td>1.00</td>\n",
       "      <td>3.4</td>\n",
       "      <td>0.610</td>\n",
       "      <td>32.0</td>\n",
       "      <td>69.0</td>\n",
       "      <td>0.9996</td>\n",
       "      <td>2.74</td>\n",
       "      <td>2.00</td>\n",
       "      <td>9.4</td>\n",
       "      <td>4</td>\n",
       "    </tr>\n",
       "    <tr>\n",
       "      <th>4</th>\n",
       "      <td>12.5</td>\n",
       "      <td>0.46</td>\n",
       "      <td>0.63</td>\n",
       "      <td>2.0</td>\n",
       "      <td>0.071</td>\n",
       "      <td>6.0</td>\n",
       "      <td>15.0</td>\n",
       "      <td>0.9988</td>\n",
       "      <td>2.99</td>\n",
       "      <td>0.87</td>\n",
       "      <td>10.2</td>\n",
       "      <td>5</td>\n",
       "    </tr>\n",
       "  </tbody>\n",
       "</table>\n",
       "</div>"
      ],
      "text/plain": [
       "   fixed acidity  volatile acidity  citric acid  residual sugar  chlorides  \\\n",
       "0            8.6              0.49         0.28             1.9      0.110   \n",
       "1            8.6              0.49         0.28             1.9      0.110   \n",
       "2            8.6              0.49         0.29             2.0      0.110   \n",
       "3            9.2              0.52         1.00             3.4      0.610   \n",
       "4           12.5              0.46         0.63             2.0      0.071   \n",
       "\n",
       "   free sulfur dioxide  total sulfur dioxide  density    pH  sulphates  \\\n",
       "0                 20.0                 136.0   0.9972  2.93       1.95   \n",
       "1                 20.0                 136.0   0.9972  2.93       1.95   \n",
       "2                 19.0                 133.0   0.9972  2.93       1.98   \n",
       "3                 32.0                  69.0   0.9996  2.74       2.00   \n",
       "4                  6.0                  15.0   0.9988  2.99       0.87   \n",
       "\n",
       "   alcohol  quality  \n",
       "0      9.9        6  \n",
       "1      9.9        6  \n",
       "2      9.8        5  \n",
       "3      9.4        4  \n",
       "4     10.2        5  "
      ]
     },
     "execution_count": 44,
     "metadata": {},
     "output_type": "execute_result"
    }
   ],
   "source": [
    "wine_quality.filter(wine_quality.pH.startswith(\"2\")).limit(5).toPandas()"
   ]
  },
  {
   "cell_type": "code",
   "execution_count": 45,
   "id": "32462c10",
   "metadata": {
    "execution": {
     "iopub.execute_input": "2022-01-08T12:38:01.038255Z",
     "iopub.status.busy": "2022-01-08T12:38:01.037249Z",
     "iopub.status.idle": "2022-01-08T12:38:01.213192Z",
     "shell.execute_reply": "2022-01-08T12:38:01.214366Z",
     "shell.execute_reply.started": "2021-12-26T09:38:31.595846Z"
    },
    "papermill": {
     "duration": 0.411304,
     "end_time": "2022-01-08T12:38:01.214625",
     "exception": false,
     "start_time": "2022-01-08T12:38:00.803321",
     "status": "completed"
    },
    "tags": []
   },
   "outputs": [
    {
     "data": {
      "text/html": [
       "<div>\n",
       "<style scoped>\n",
       "    .dataframe tbody tr th:only-of-type {\n",
       "        vertical-align: middle;\n",
       "    }\n",
       "\n",
       "    .dataframe tbody tr th {\n",
       "        vertical-align: top;\n",
       "    }\n",
       "\n",
       "    .dataframe thead th {\n",
       "        text-align: right;\n",
       "    }\n",
       "</style>\n",
       "<table border=\"1\" class=\"dataframe\">\n",
       "  <thead>\n",
       "    <tr style=\"text-align: right;\">\n",
       "      <th></th>\n",
       "      <th>fixed acidity</th>\n",
       "      <th>volatile acidity</th>\n",
       "      <th>citric acid</th>\n",
       "      <th>residual sugar</th>\n",
       "      <th>chlorides</th>\n",
       "      <th>free sulfur dioxide</th>\n",
       "      <th>total sulfur dioxide</th>\n",
       "      <th>density</th>\n",
       "      <th>pH</th>\n",
       "      <th>sulphates</th>\n",
       "      <th>alcohol</th>\n",
       "      <th>quality</th>\n",
       "    </tr>\n",
       "  </thead>\n",
       "  <tbody>\n",
       "    <tr>\n",
       "      <th>0</th>\n",
       "      <td>7.3</td>\n",
       "      <td>0.650</td>\n",
       "      <td>0.00</td>\n",
       "      <td>1.2</td>\n",
       "      <td>0.065</td>\n",
       "      <td>15.0</td>\n",
       "      <td>21.0</td>\n",
       "      <td>0.9946</td>\n",
       "      <td>3.39</td>\n",
       "      <td>0.47</td>\n",
       "      <td>10.0</td>\n",
       "      <td>7</td>\n",
       "    </tr>\n",
       "    <tr>\n",
       "      <th>1</th>\n",
       "      <td>8.9</td>\n",
       "      <td>0.220</td>\n",
       "      <td>0.48</td>\n",
       "      <td>1.8</td>\n",
       "      <td>0.077</td>\n",
       "      <td>29.0</td>\n",
       "      <td>60.0</td>\n",
       "      <td>0.9968</td>\n",
       "      <td>3.39</td>\n",
       "      <td>0.53</td>\n",
       "      <td>9.4</td>\n",
       "      <td>6</td>\n",
       "    </tr>\n",
       "    <tr>\n",
       "      <th>2</th>\n",
       "      <td>4.6</td>\n",
       "      <td>0.520</td>\n",
       "      <td>0.15</td>\n",
       "      <td>2.1</td>\n",
       "      <td>0.054</td>\n",
       "      <td>8.0</td>\n",
       "      <td>65.0</td>\n",
       "      <td>0.9934</td>\n",
       "      <td>3.90</td>\n",
       "      <td>0.56</td>\n",
       "      <td>13.1</td>\n",
       "      <td>4</td>\n",
       "    </tr>\n",
       "    <tr>\n",
       "      <th>3</th>\n",
       "      <td>6.6</td>\n",
       "      <td>0.500</td>\n",
       "      <td>0.04</td>\n",
       "      <td>2.1</td>\n",
       "      <td>0.068</td>\n",
       "      <td>6.0</td>\n",
       "      <td>14.0</td>\n",
       "      <td>0.9955</td>\n",
       "      <td>3.39</td>\n",
       "      <td>0.64</td>\n",
       "      <td>9.4</td>\n",
       "      <td>6</td>\n",
       "    </tr>\n",
       "    <tr>\n",
       "      <th>4</th>\n",
       "      <td>7.0</td>\n",
       "      <td>0.735</td>\n",
       "      <td>0.05</td>\n",
       "      <td>2.0</td>\n",
       "      <td>0.081</td>\n",
       "      <td>13.0</td>\n",
       "      <td>54.0</td>\n",
       "      <td>0.9966</td>\n",
       "      <td>3.39</td>\n",
       "      <td>0.57</td>\n",
       "      <td>9.8</td>\n",
       "      <td>5</td>\n",
       "    </tr>\n",
       "  </tbody>\n",
       "</table>\n",
       "</div>"
      ],
      "text/plain": [
       "   fixed acidity  volatile acidity  citric acid  residual sugar  chlorides  \\\n",
       "0            7.3             0.650         0.00             1.2      0.065   \n",
       "1            8.9             0.220         0.48             1.8      0.077   \n",
       "2            4.6             0.520         0.15             2.1      0.054   \n",
       "3            6.6             0.500         0.04             2.1      0.068   \n",
       "4            7.0             0.735         0.05             2.0      0.081   \n",
       "\n",
       "   free sulfur dioxide  total sulfur dioxide  density    pH  sulphates  \\\n",
       "0                 15.0                  21.0   0.9946  3.39       0.47   \n",
       "1                 29.0                  60.0   0.9968  3.39       0.53   \n",
       "2                  8.0                  65.0   0.9934  3.90       0.56   \n",
       "3                  6.0                  14.0   0.9955  3.39       0.64   \n",
       "4                 13.0                  54.0   0.9966  3.39       0.57   \n",
       "\n",
       "   alcohol  quality  \n",
       "0     10.0        7  \n",
       "1      9.4        6  \n",
       "2     13.1        4  \n",
       "3      9.4        6  \n",
       "4      9.8        5  "
      ]
     },
     "execution_count": 45,
     "metadata": {},
     "output_type": "execute_result"
    }
   ],
   "source": [
    "wine_quality.filter(wine_quality.pH.endswith(\"9\")).limit(5).toPandas()"
   ]
  },
  {
   "cell_type": "code",
   "execution_count": 46,
   "id": "f3559bff",
   "metadata": {
    "execution": {
     "iopub.execute_input": "2022-01-08T12:38:01.725662Z",
     "iopub.status.busy": "2022-01-08T12:38:01.724891Z",
     "iopub.status.idle": "2022-01-08T12:38:01.887291Z",
     "shell.execute_reply": "2022-01-08T12:38:01.887778Z",
     "shell.execute_reply.started": "2021-12-26T09:38:31.754993Z"
    },
    "papermill": {
     "duration": 0.398464,
     "end_time": "2022-01-08T12:38:01.887962",
     "exception": false,
     "start_time": "2022-01-08T12:38:01.489498",
     "status": "completed"
    },
    "tags": []
   },
   "outputs": [
    {
     "data": {
      "text/html": [
       "<div>\n",
       "<style scoped>\n",
       "    .dataframe tbody tr th:only-of-type {\n",
       "        vertical-align: middle;\n",
       "    }\n",
       "\n",
       "    .dataframe tbody tr th {\n",
       "        vertical-align: top;\n",
       "    }\n",
       "\n",
       "    .dataframe thead th {\n",
       "        text-align: right;\n",
       "    }\n",
       "</style>\n",
       "<table border=\"1\" class=\"dataframe\">\n",
       "  <thead>\n",
       "    <tr style=\"text-align: right;\">\n",
       "      <th></th>\n",
       "      <th>fixed acidity</th>\n",
       "      <th>volatile acidity</th>\n",
       "      <th>citric acid</th>\n",
       "      <th>residual sugar</th>\n",
       "      <th>chlorides</th>\n",
       "      <th>free sulfur dioxide</th>\n",
       "      <th>total sulfur dioxide</th>\n",
       "      <th>density</th>\n",
       "      <th>pH</th>\n",
       "      <th>sulphates</th>\n",
       "      <th>alcohol</th>\n",
       "      <th>quality</th>\n",
       "    </tr>\n",
       "  </thead>\n",
       "  <tbody>\n",
       "    <tr>\n",
       "      <th>0</th>\n",
       "      <td>7.9</td>\n",
       "      <td>0.320</td>\n",
       "      <td>0.51</td>\n",
       "      <td>1.8</td>\n",
       "      <td>0.341</td>\n",
       "      <td>17.0</td>\n",
       "      <td>56.0</td>\n",
       "      <td>0.9969</td>\n",
       "      <td>3.04</td>\n",
       "      <td>1.08</td>\n",
       "      <td>9.2</td>\n",
       "      <td>6</td>\n",
       "    </tr>\n",
       "    <tr>\n",
       "      <th>1</th>\n",
       "      <td>6.9</td>\n",
       "      <td>0.400</td>\n",
       "      <td>0.14</td>\n",
       "      <td>2.4</td>\n",
       "      <td>0.085</td>\n",
       "      <td>21.0</td>\n",
       "      <td>40.0</td>\n",
       "      <td>0.9968</td>\n",
       "      <td>3.43</td>\n",
       "      <td>0.63</td>\n",
       "      <td>9.7</td>\n",
       "      <td>6</td>\n",
       "    </tr>\n",
       "    <tr>\n",
       "      <th>2</th>\n",
       "      <td>6.3</td>\n",
       "      <td>0.390</td>\n",
       "      <td>0.16</td>\n",
       "      <td>1.4</td>\n",
       "      <td>0.080</td>\n",
       "      <td>11.0</td>\n",
       "      <td>23.0</td>\n",
       "      <td>0.9955</td>\n",
       "      <td>3.34</td>\n",
       "      <td>0.56</td>\n",
       "      <td>9.3</td>\n",
       "      <td>5</td>\n",
       "    </tr>\n",
       "    <tr>\n",
       "      <th>3</th>\n",
       "      <td>7.1</td>\n",
       "      <td>0.710</td>\n",
       "      <td>0.00</td>\n",
       "      <td>1.9</td>\n",
       "      <td>0.080</td>\n",
       "      <td>14.0</td>\n",
       "      <td>35.0</td>\n",
       "      <td>0.9972</td>\n",
       "      <td>3.47</td>\n",
       "      <td>0.55</td>\n",
       "      <td>9.4</td>\n",
       "      <td>5</td>\n",
       "    </tr>\n",
       "    <tr>\n",
       "      <th>4</th>\n",
       "      <td>6.9</td>\n",
       "      <td>0.685</td>\n",
       "      <td>0.00</td>\n",
       "      <td>2.5</td>\n",
       "      <td>0.105</td>\n",
       "      <td>22.0</td>\n",
       "      <td>37.0</td>\n",
       "      <td>0.9966</td>\n",
       "      <td>3.46</td>\n",
       "      <td>0.57</td>\n",
       "      <td>10.6</td>\n",
       "      <td>6</td>\n",
       "    </tr>\n",
       "  </tbody>\n",
       "</table>\n",
       "</div>"
      ],
      "text/plain": [
       "   fixed acidity  volatile acidity  citric acid  residual sugar  chlorides  \\\n",
       "0            7.9             0.320         0.51             1.8      0.341   \n",
       "1            6.9             0.400         0.14             2.4      0.085   \n",
       "2            6.3             0.390         0.16             1.4      0.080   \n",
       "3            7.1             0.710         0.00             1.9      0.080   \n",
       "4            6.9             0.685         0.00             2.5      0.105   \n",
       "\n",
       "   free sulfur dioxide  total sulfur dioxide  density    pH  sulphates  \\\n",
       "0                 17.0                  56.0   0.9969  3.04       1.08   \n",
       "1                 21.0                  40.0   0.9968  3.43       0.63   \n",
       "2                 11.0                  23.0   0.9955  3.34       0.56   \n",
       "3                 14.0                  35.0   0.9972  3.47       0.55   \n",
       "4                 22.0                  37.0   0.9966  3.46       0.57   \n",
       "\n",
       "   alcohol  quality  \n",
       "0      9.2        6  \n",
       "1      9.7        6  \n",
       "2      9.3        5  \n",
       "3      9.4        5  \n",
       "4     10.6        6  "
      ]
     },
     "execution_count": 46,
     "metadata": {},
     "output_type": "execute_result"
    }
   ],
   "source": [
    "wine_quality.filter(wine_quality.pH.contains(\"4\")).limit(5).toPandas()"
   ]
  },
  {
   "cell_type": "markdown",
   "id": "81f3093a",
   "metadata": {
    "papermill": {
     "duration": 0.222536,
     "end_time": "2022-01-08T12:38:02.334069",
     "exception": false,
     "start_time": "2022-01-08T12:38:02.111533",
     "status": "completed"
    },
    "tags": []
   },
   "source": [
    "# DataFrame based null filters"
   ]
  },
  {
   "cell_type": "code",
   "execution_count": 47,
   "id": "9fff0981",
   "metadata": {
    "execution": {
     "iopub.execute_input": "2022-01-08T12:38:02.782756Z",
     "iopub.status.busy": "2022-01-08T12:38:02.782069Z",
     "iopub.status.idle": "2022-01-08T12:38:02.910671Z",
     "shell.execute_reply": "2022-01-08T12:38:02.911274Z",
     "shell.execute_reply.started": "2021-12-26T09:38:31.839964Z"
    },
    "papermill": {
     "duration": 0.356632,
     "end_time": "2022-01-08T12:38:02.911441",
     "exception": false,
     "start_time": "2022-01-08T12:38:02.554809",
     "status": "completed"
    },
    "tags": []
   },
   "outputs": [
    {
     "data": {
      "text/html": [
       "<div>\n",
       "<style scoped>\n",
       "    .dataframe tbody tr th:only-of-type {\n",
       "        vertical-align: middle;\n",
       "    }\n",
       "\n",
       "    .dataframe tbody tr th {\n",
       "        vertical-align: top;\n",
       "    }\n",
       "\n",
       "    .dataframe thead th {\n",
       "        text-align: right;\n",
       "    }\n",
       "</style>\n",
       "<table border=\"1\" class=\"dataframe\">\n",
       "  <thead>\n",
       "    <tr style=\"text-align: right;\">\n",
       "      <th></th>\n",
       "      <th>fixed acidity</th>\n",
       "      <th>volatile acidity</th>\n",
       "      <th>citric acid</th>\n",
       "      <th>residual sugar</th>\n",
       "      <th>chlorides</th>\n",
       "      <th>free sulfur dioxide</th>\n",
       "      <th>total sulfur dioxide</th>\n",
       "      <th>density</th>\n",
       "      <th>pH</th>\n",
       "      <th>sulphates</th>\n",
       "      <th>alcohol</th>\n",
       "      <th>quality</th>\n",
       "    </tr>\n",
       "  </thead>\n",
       "  <tbody>\n",
       "  </tbody>\n",
       "</table>\n",
       "</div>"
      ],
      "text/plain": [
       "Empty DataFrame\n",
       "Columns: [fixed acidity, volatile acidity, citric acid, residual sugar, chlorides, free sulfur dioxide, total sulfur dioxide, density, pH, sulphates, alcohol, quality]\n",
       "Index: []"
      ]
     },
     "execution_count": 47,
     "metadata": {},
     "output_type": "execute_result"
    }
   ],
   "source": [
    "## null check\n",
    "wine_quality.filter(wine_quality['fixed acidity'].isNull() | wine_quality.alcohol.isNull()).limit(4).toPandas()"
   ]
  },
  {
   "cell_type": "code",
   "execution_count": 48,
   "id": "74cb3ebe",
   "metadata": {
    "execution": {
     "iopub.execute_input": "2022-01-08T12:38:03.394256Z",
     "iopub.status.busy": "2022-01-08T12:38:03.391321Z",
     "iopub.status.idle": "2022-01-08T12:38:03.507378Z",
     "shell.execute_reply": "2022-01-08T12:38:03.506311Z",
     "shell.execute_reply.started": "2021-12-26T09:38:31.936556Z"
    },
    "papermill": {
     "duration": 0.372019,
     "end_time": "2022-01-08T12:38:03.507591",
     "exception": false,
     "start_time": "2022-01-08T12:38:03.135572",
     "status": "completed"
    },
    "tags": []
   },
   "outputs": [
    {
     "data": {
      "text/html": [
       "<div>\n",
       "<style scoped>\n",
       "    .dataframe tbody tr th:only-of-type {\n",
       "        vertical-align: middle;\n",
       "    }\n",
       "\n",
       "    .dataframe tbody tr th {\n",
       "        vertical-align: top;\n",
       "    }\n",
       "\n",
       "    .dataframe thead th {\n",
       "        text-align: right;\n",
       "    }\n",
       "</style>\n",
       "<table border=\"1\" class=\"dataframe\">\n",
       "  <thead>\n",
       "    <tr style=\"text-align: right;\">\n",
       "      <th></th>\n",
       "      <th>fixed acidity</th>\n",
       "      <th>volatile acidity</th>\n",
       "      <th>citric acid</th>\n",
       "      <th>residual sugar</th>\n",
       "      <th>chlorides</th>\n",
       "      <th>free sulfur dioxide</th>\n",
       "      <th>total sulfur dioxide</th>\n",
       "      <th>density</th>\n",
       "      <th>pH</th>\n",
       "      <th>sulphates</th>\n",
       "      <th>alcohol</th>\n",
       "      <th>quality</th>\n",
       "    </tr>\n",
       "  </thead>\n",
       "  <tbody>\n",
       "    <tr>\n",
       "      <th>0</th>\n",
       "      <td>7.4</td>\n",
       "      <td>0.70</td>\n",
       "      <td>0.00</td>\n",
       "      <td>1.9</td>\n",
       "      <td>0.076</td>\n",
       "      <td>11.0</td>\n",
       "      <td>34.0</td>\n",
       "      <td>0.9978</td>\n",
       "      <td>3.51</td>\n",
       "      <td>0.56</td>\n",
       "      <td>9.4</td>\n",
       "      <td>5</td>\n",
       "    </tr>\n",
       "    <tr>\n",
       "      <th>1</th>\n",
       "      <td>7.8</td>\n",
       "      <td>0.88</td>\n",
       "      <td>0.00</td>\n",
       "      <td>2.6</td>\n",
       "      <td>0.098</td>\n",
       "      <td>25.0</td>\n",
       "      <td>67.0</td>\n",
       "      <td>0.9968</td>\n",
       "      <td>3.20</td>\n",
       "      <td>0.68</td>\n",
       "      <td>9.8</td>\n",
       "      <td>5</td>\n",
       "    </tr>\n",
       "    <tr>\n",
       "      <th>2</th>\n",
       "      <td>7.8</td>\n",
       "      <td>0.76</td>\n",
       "      <td>0.04</td>\n",
       "      <td>2.3</td>\n",
       "      <td>0.092</td>\n",
       "      <td>15.0</td>\n",
       "      <td>54.0</td>\n",
       "      <td>0.9970</td>\n",
       "      <td>3.26</td>\n",
       "      <td>0.65</td>\n",
       "      <td>9.8</td>\n",
       "      <td>5</td>\n",
       "    </tr>\n",
       "    <tr>\n",
       "      <th>3</th>\n",
       "      <td>11.2</td>\n",
       "      <td>0.28</td>\n",
       "      <td>0.56</td>\n",
       "      <td>1.9</td>\n",
       "      <td>0.075</td>\n",
       "      <td>17.0</td>\n",
       "      <td>60.0</td>\n",
       "      <td>0.9980</td>\n",
       "      <td>3.16</td>\n",
       "      <td>0.58</td>\n",
       "      <td>9.8</td>\n",
       "      <td>6</td>\n",
       "    </tr>\n",
       "  </tbody>\n",
       "</table>\n",
       "</div>"
      ],
      "text/plain": [
       "   fixed acidity  volatile acidity  citric acid  residual sugar  chlorides  \\\n",
       "0            7.4              0.70         0.00             1.9      0.076   \n",
       "1            7.8              0.88         0.00             2.6      0.098   \n",
       "2            7.8              0.76         0.04             2.3      0.092   \n",
       "3           11.2              0.28         0.56             1.9      0.075   \n",
       "\n",
       "   free sulfur dioxide  total sulfur dioxide  density    pH  sulphates  \\\n",
       "0                 11.0                  34.0   0.9978  3.51       0.56   \n",
       "1                 25.0                  67.0   0.9968  3.20       0.68   \n",
       "2                 15.0                  54.0   0.9970  3.26       0.65   \n",
       "3                 17.0                  60.0   0.9980  3.16       0.58   \n",
       "\n",
       "   alcohol  quality  \n",
       "0      9.4        5  \n",
       "1      9.8        5  \n",
       "2      9.8        5  \n",
       "3      9.8        6  "
      ]
     },
     "execution_count": 48,
     "metadata": {},
     "output_type": "execute_result"
    }
   ],
   "source": [
    "## Not null check\n",
    "wine_quality.filter(wine_quality['fixed acidity'].isNotNull() | wine_quality.alcohol.isNotNull()).limit(4).toPandas()"
   ]
  },
  {
   "cell_type": "markdown",
   "id": "fb797db2",
   "metadata": {
    "papermill": {
     "duration": 0.226997,
     "end_time": "2022-01-08T12:38:03.963195",
     "exception": false,
     "start_time": "2022-01-08T12:38:03.736198",
     "status": "completed"
    },
    "tags": []
   },
   "source": [
    "# SQL based null filters"
   ]
  },
  {
   "cell_type": "code",
   "execution_count": 49,
   "id": "c1d87d56",
   "metadata": {
    "execution": {
     "iopub.execute_input": "2022-01-08T12:38:04.461811Z",
     "iopub.status.busy": "2022-01-08T12:38:04.460723Z",
     "iopub.status.idle": "2022-01-08T12:38:04.527982Z",
     "shell.execute_reply": "2022-01-08T12:38:04.528486Z",
     "shell.execute_reply.started": "2021-12-26T09:38:32.047676Z"
    },
    "papermill": {
     "duration": 0.328345,
     "end_time": "2022-01-08T12:38:04.528757",
     "exception": false,
     "start_time": "2022-01-08T12:38:04.200412",
     "status": "completed"
    },
    "tags": []
   },
   "outputs": [
    {
     "data": {
      "text/html": [
       "<div>\n",
       "<style scoped>\n",
       "    .dataframe tbody tr th:only-of-type {\n",
       "        vertical-align: middle;\n",
       "    }\n",
       "\n",
       "    .dataframe tbody tr th {\n",
       "        vertical-align: top;\n",
       "    }\n",
       "\n",
       "    .dataframe thead th {\n",
       "        text-align: right;\n",
       "    }\n",
       "</style>\n",
       "<table border=\"1\" class=\"dataframe\">\n",
       "  <thead>\n",
       "    <tr style=\"text-align: right;\">\n",
       "      <th></th>\n",
       "      <th>fixed acidity</th>\n",
       "      <th>volatile acidity</th>\n",
       "      <th>citric acid</th>\n",
       "      <th>residual sugar</th>\n",
       "      <th>chlorides</th>\n",
       "      <th>free sulfur dioxide</th>\n",
       "      <th>total sulfur dioxide</th>\n",
       "      <th>density</th>\n",
       "      <th>pH</th>\n",
       "      <th>sulphates</th>\n",
       "      <th>alcohol</th>\n",
       "      <th>quality</th>\n",
       "    </tr>\n",
       "  </thead>\n",
       "  <tbody>\n",
       "  </tbody>\n",
       "</table>\n",
       "</div>"
      ],
      "text/plain": [
       "Empty DataFrame\n",
       "Columns: [fixed acidity, volatile acidity, citric acid, residual sugar, chlorides, free sulfur dioxide, total sulfur dioxide, density, pH, sulphates, alcohol, quality]\n",
       "Index: []"
      ]
     },
     "execution_count": 49,
     "metadata": {},
     "output_type": "execute_result"
    }
   ],
   "source": [
    "wine_quality.filter(\"'fixed acidity' is NULL\").limit(4).toPandas()"
   ]
  },
  {
   "cell_type": "code",
   "execution_count": 50,
   "id": "cf6259b0",
   "metadata": {
    "execution": {
     "iopub.execute_input": "2022-01-08T12:38:05.002940Z",
     "iopub.status.busy": "2022-01-08T12:38:05.000819Z",
     "iopub.status.idle": "2022-01-08T12:38:05.092767Z",
     "shell.execute_reply": "2022-01-08T12:38:05.092212Z",
     "shell.execute_reply.started": "2021-12-26T09:38:32.0814Z"
    },
    "papermill": {
     "duration": 0.327881,
     "end_time": "2022-01-08T12:38:05.092921",
     "exception": false,
     "start_time": "2022-01-08T12:38:04.765040",
     "status": "completed"
    },
    "tags": []
   },
   "outputs": [
    {
     "data": {
      "text/html": [
       "<div>\n",
       "<style scoped>\n",
       "    .dataframe tbody tr th:only-of-type {\n",
       "        vertical-align: middle;\n",
       "    }\n",
       "\n",
       "    .dataframe tbody tr th {\n",
       "        vertical-align: top;\n",
       "    }\n",
       "\n",
       "    .dataframe thead th {\n",
       "        text-align: right;\n",
       "    }\n",
       "</style>\n",
       "<table border=\"1\" class=\"dataframe\">\n",
       "  <thead>\n",
       "    <tr style=\"text-align: right;\">\n",
       "      <th></th>\n",
       "      <th>fixed acidity</th>\n",
       "      <th>volatile acidity</th>\n",
       "      <th>citric acid</th>\n",
       "      <th>residual sugar</th>\n",
       "      <th>chlorides</th>\n",
       "      <th>free sulfur dioxide</th>\n",
       "      <th>total sulfur dioxide</th>\n",
       "      <th>density</th>\n",
       "      <th>pH</th>\n",
       "      <th>sulphates</th>\n",
       "      <th>alcohol</th>\n",
       "      <th>quality</th>\n",
       "    </tr>\n",
       "  </thead>\n",
       "  <tbody>\n",
       "    <tr>\n",
       "      <th>0</th>\n",
       "      <td>7.4</td>\n",
       "      <td>0.70</td>\n",
       "      <td>0.00</td>\n",
       "      <td>1.9</td>\n",
       "      <td>0.076</td>\n",
       "      <td>11.0</td>\n",
       "      <td>34.0</td>\n",
       "      <td>0.9978</td>\n",
       "      <td>3.51</td>\n",
       "      <td>0.56</td>\n",
       "      <td>9.4</td>\n",
       "      <td>5</td>\n",
       "    </tr>\n",
       "    <tr>\n",
       "      <th>1</th>\n",
       "      <td>7.8</td>\n",
       "      <td>0.88</td>\n",
       "      <td>0.00</td>\n",
       "      <td>2.6</td>\n",
       "      <td>0.098</td>\n",
       "      <td>25.0</td>\n",
       "      <td>67.0</td>\n",
       "      <td>0.9968</td>\n",
       "      <td>3.20</td>\n",
       "      <td>0.68</td>\n",
       "      <td>9.8</td>\n",
       "      <td>5</td>\n",
       "    </tr>\n",
       "    <tr>\n",
       "      <th>2</th>\n",
       "      <td>7.8</td>\n",
       "      <td>0.76</td>\n",
       "      <td>0.04</td>\n",
       "      <td>2.3</td>\n",
       "      <td>0.092</td>\n",
       "      <td>15.0</td>\n",
       "      <td>54.0</td>\n",
       "      <td>0.9970</td>\n",
       "      <td>3.26</td>\n",
       "      <td>0.65</td>\n",
       "      <td>9.8</td>\n",
       "      <td>5</td>\n",
       "    </tr>\n",
       "    <tr>\n",
       "      <th>3</th>\n",
       "      <td>11.2</td>\n",
       "      <td>0.28</td>\n",
       "      <td>0.56</td>\n",
       "      <td>1.9</td>\n",
       "      <td>0.075</td>\n",
       "      <td>17.0</td>\n",
       "      <td>60.0</td>\n",
       "      <td>0.9980</td>\n",
       "      <td>3.16</td>\n",
       "      <td>0.58</td>\n",
       "      <td>9.8</td>\n",
       "      <td>6</td>\n",
       "    </tr>\n",
       "  </tbody>\n",
       "</table>\n",
       "</div>"
      ],
      "text/plain": [
       "   fixed acidity  volatile acidity  citric acid  residual sugar  chlorides  \\\n",
       "0            7.4              0.70         0.00             1.9      0.076   \n",
       "1            7.8              0.88         0.00             2.6      0.098   \n",
       "2            7.8              0.76         0.04             2.3      0.092   \n",
       "3           11.2              0.28         0.56             1.9      0.075   \n",
       "\n",
       "   free sulfur dioxide  total sulfur dioxide  density    pH  sulphates  \\\n",
       "0                 11.0                  34.0   0.9978  3.51       0.56   \n",
       "1                 25.0                  67.0   0.9968  3.20       0.68   \n",
       "2                 15.0                  54.0   0.9970  3.26       0.65   \n",
       "3                 17.0                  60.0   0.9980  3.16       0.58   \n",
       "\n",
       "   alcohol  quality  \n",
       "0      9.4        5  \n",
       "1      9.8        5  \n",
       "2      9.8        5  \n",
       "3      9.8        6  "
      ]
     },
     "execution_count": 50,
     "metadata": {},
     "output_type": "execute_result"
    }
   ],
   "source": [
    "wine_quality.filter(\"'fixed acidity' is not NULL\").limit(4).toPandas()"
   ]
  },
  {
   "cell_type": "markdown",
   "id": "6c6228a2",
   "metadata": {
    "papermill": {
     "duration": 0.224874,
     "end_time": "2022-01-08T12:38:05.548867",
     "exception": false,
     "start_time": "2022-01-08T12:38:05.323993",
     "status": "completed"
    },
    "tags": []
   },
   "source": [
    "#### Filter and select combination"
   ]
  },
  {
   "cell_type": "code",
   "execution_count": 51,
   "id": "40628dbb",
   "metadata": {
    "execution": {
     "iopub.execute_input": "2022-01-08T12:38:06.009357Z",
     "iopub.status.busy": "2022-01-08T12:38:06.007263Z",
     "iopub.status.idle": "2022-01-08T12:38:06.199132Z",
     "shell.execute_reply": "2022-01-08T12:38:06.200299Z",
     "shell.execute_reply.started": "2021-12-26T09:38:32.171848Z"
    },
    "papermill": {
     "duration": 0.425637,
     "end_time": "2022-01-08T12:38:06.200542",
     "exception": false,
     "start_time": "2022-01-08T12:38:05.774905",
     "status": "completed"
    },
    "tags": []
   },
   "outputs": [
    {
     "data": {
      "text/html": [
       "<div>\n",
       "<style scoped>\n",
       "    .dataframe tbody tr th:only-of-type {\n",
       "        vertical-align: middle;\n",
       "    }\n",
       "\n",
       "    .dataframe tbody tr th {\n",
       "        vertical-align: top;\n",
       "    }\n",
       "\n",
       "    .dataframe thead th {\n",
       "        text-align: right;\n",
       "    }\n",
       "</style>\n",
       "<table border=\"1\" class=\"dataframe\">\n",
       "  <thead>\n",
       "    <tr style=\"text-align: right;\">\n",
       "      <th></th>\n",
       "      <th>fixed acidity</th>\n",
       "      <th>sulphates</th>\n",
       "      <th>pH</th>\n",
       "      <th>quality</th>\n",
       "    </tr>\n",
       "  </thead>\n",
       "  <tbody>\n",
       "    <tr>\n",
       "      <th>0</th>\n",
       "      <td>5.4</td>\n",
       "      <td>0.59</td>\n",
       "      <td>4.01</td>\n",
       "      <td>6</td>\n",
       "    </tr>\n",
       "    <tr>\n",
       "      <th>1</th>\n",
       "      <td>5.0</td>\n",
       "      <td>0.59</td>\n",
       "      <td>4.01</td>\n",
       "      <td>6</td>\n",
       "    </tr>\n",
       "  </tbody>\n",
       "</table>\n",
       "</div>"
      ],
      "text/plain": [
       "   fixed acidity  sulphates    pH  quality\n",
       "0            5.4       0.59  4.01        6\n",
       "1            5.0       0.59  4.01        6"
      ]
     },
     "execution_count": 51,
     "metadata": {},
     "output_type": "execute_result"
    }
   ],
   "source": [
    "wine_quality.filter(\"pH>4\").select(['fixed acidity','sulphates','pH', 'quality']).limit(4).toPandas()"
   ]
  },
  {
   "cell_type": "markdown",
   "id": "5726f11e",
   "metadata": {
    "papermill": {
     "duration": 0.224414,
     "end_time": "2022-01-08T12:38:06.676801",
     "exception": false,
     "start_time": "2022-01-08T12:38:06.452387",
     "status": "completed"
    },
    "tags": []
   },
   "source": [
    "#### Filter, select and orderby combination"
   ]
  },
  {
   "cell_type": "code",
   "execution_count": 52,
   "id": "e93279ba",
   "metadata": {
    "execution": {
     "iopub.execute_input": "2022-01-08T12:38:07.129324Z",
     "iopub.status.busy": "2022-01-08T12:38:07.128715Z",
     "iopub.status.idle": "2022-01-08T12:38:07.327945Z",
     "shell.execute_reply": "2022-01-08T12:38:07.328902Z",
     "shell.execute_reply.started": "2021-12-26T09:38:32.301992Z"
    },
    "papermill": {
     "duration": 0.429055,
     "end_time": "2022-01-08T12:38:07.329154",
     "exception": false,
     "start_time": "2022-01-08T12:38:06.900099",
     "status": "completed"
    },
    "tags": []
   },
   "outputs": [
    {
     "data": {
      "text/html": [
       "<div>\n",
       "<style scoped>\n",
       "    .dataframe tbody tr th:only-of-type {\n",
       "        vertical-align: middle;\n",
       "    }\n",
       "\n",
       "    .dataframe tbody tr th {\n",
       "        vertical-align: top;\n",
       "    }\n",
       "\n",
       "    .dataframe thead th {\n",
       "        text-align: right;\n",
       "    }\n",
       "</style>\n",
       "<table border=\"1\" class=\"dataframe\">\n",
       "  <thead>\n",
       "    <tr style=\"text-align: right;\">\n",
       "      <th></th>\n",
       "      <th>fixed acidity</th>\n",
       "      <th>sulphates</th>\n",
       "      <th>pH</th>\n",
       "      <th>quality</th>\n",
       "    </tr>\n",
       "  </thead>\n",
       "  <tbody>\n",
       "    <tr>\n",
       "      <th>0</th>\n",
       "      <td>7.9</td>\n",
       "      <td>0.86</td>\n",
       "      <td>3.35</td>\n",
       "      <td>8</td>\n",
       "    </tr>\n",
       "    <tr>\n",
       "      <th>1</th>\n",
       "      <td>11.3</td>\n",
       "      <td>0.69</td>\n",
       "      <td>3.22</td>\n",
       "      <td>8</td>\n",
       "    </tr>\n",
       "    <tr>\n",
       "      <th>2</th>\n",
       "      <td>10.3</td>\n",
       "      <td>0.82</td>\n",
       "      <td>3.23</td>\n",
       "      <td>8</td>\n",
       "    </tr>\n",
       "    <tr>\n",
       "      <th>3</th>\n",
       "      <td>5.6</td>\n",
       "      <td>0.82</td>\n",
       "      <td>3.56</td>\n",
       "      <td>8</td>\n",
       "    </tr>\n",
       "  </tbody>\n",
       "</table>\n",
       "</div>"
      ],
      "text/plain": [
       "   fixed acidity  sulphates    pH  quality\n",
       "0            7.9       0.86  3.35        8\n",
       "1           11.3       0.69  3.22        8\n",
       "2           10.3       0.82  3.23        8\n",
       "3            5.6       0.82  3.56        8"
      ]
     },
     "execution_count": 52,
     "metadata": {},
     "output_type": "execute_result"
    }
   ],
   "source": [
    "wine_quality.select(['fixed acidity','sulphates','pH', 'quality']).filter(\"pH>3\").orderBy(wine_quality[\"quality\"].desc()).limit(4).toPandas()"
   ]
  },
  {
   "cell_type": "markdown",
   "id": "079531fc",
   "metadata": {
    "execution": {
     "iopub.status.busy": "2021-12-26T04:19:37.169749Z",
     "iopub.status.idle": "2021-12-26T04:19:37.170392Z",
     "shell.execute_reply": "2021-12-26T04:19:37.170185Z",
     "shell.execute_reply.started": "2021-12-26T04:19:37.17016Z"
    },
    "papermill": {
     "duration": 0.22853,
     "end_time": "2022-01-08T12:38:07.940927",
     "exception": false,
     "start_time": "2022-01-08T12:38:07.712397",
     "status": "completed"
    },
    "tags": []
   },
   "source": [
    "# Collecting Results as Objects\n",
    "\n",
    "The collect() function on DataFrame returns an array/list of Rows which is a flattened version of the DataFrame. It shows the metadata of the DataFrame."
   ]
  },
  {
   "cell_type": "markdown",
   "id": "121c57b4",
   "metadata": {
    "papermill": {
     "duration": 0.22447,
     "end_time": "2022-01-08T12:38:08.391195",
     "exception": false,
     "start_time": "2022-01-08T12:38:08.166725",
     "status": "completed"
    },
    "tags": []
   },
   "source": [
    "A row in DataFrame. The fields in it can be accessed:\n",
    "\n",
    "* like attributes (row.key)\n",
    "* like dictionary values (row[key])\n",
    "\n",
    "key in row will search through row keys.\n",
    "\n",
    "Row can be used to create a row object by using named arguments. It is not allowed to omit a named argument to represent that the value is None or missing. This should be explicitly set to None in this case.\n",
    "\n"
   ]
  },
  {
   "cell_type": "markdown",
   "id": "6e05d297",
   "metadata": {
    "papermill": {
     "duration": 0.225373,
     "end_time": "2022-01-08T12:38:08.841883",
     "exception": false,
     "start_time": "2022-01-08T12:38:08.616510",
     "status": "completed"
    },
    "tags": []
   },
   "source": [
    "Row also can be used to create another Row like class, then it could be used to create Row objects, such as"
   ]
  },
  {
   "cell_type": "code",
   "execution_count": 53,
   "id": "68e8db28",
   "metadata": {
    "execution": {
     "iopub.execute_input": "2022-01-08T12:38:09.301014Z",
     "iopub.status.busy": "2022-01-08T12:38:09.300077Z",
     "iopub.status.idle": "2022-01-08T12:38:09.304540Z",
     "shell.execute_reply": "2022-01-08T12:38:09.303889Z",
     "shell.execute_reply.started": "2021-12-26T09:38:32.422831Z"
    },
    "papermill": {
     "duration": 0.235987,
     "end_time": "2022-01-08T12:38:09.304707",
     "exception": false,
     "start_time": "2022-01-08T12:38:09.068720",
     "status": "completed"
    },
    "tags": []
   },
   "outputs": [
    {
     "data": {
      "text/plain": [
       "<Row('name', 'age')>"
      ]
     },
     "execution_count": 53,
     "metadata": {},
     "output_type": "execute_result"
    }
   ],
   "source": [
    "from pyspark.sql import Row\n",
    "\n",
    "Person = Row(\"name\", \"age\")\n",
    "Person"
   ]
  },
  {
   "cell_type": "code",
   "execution_count": 54,
   "id": "14f222c2",
   "metadata": {
    "execution": {
     "iopub.execute_input": "2022-01-08T12:38:09.776357Z",
     "iopub.status.busy": "2022-01-08T12:38:09.775728Z",
     "iopub.status.idle": "2022-01-08T12:38:09.780625Z",
     "shell.execute_reply": "2022-01-08T12:38:09.781111Z",
     "shell.execute_reply.started": "2021-12-26T09:38:32.429695Z"
    },
    "papermill": {
     "duration": 0.241843,
     "end_time": "2022-01-08T12:38:09.781295",
     "exception": false,
     "start_time": "2022-01-08T12:38:09.539452",
     "status": "completed"
    },
    "tags": []
   },
   "outputs": [
    {
     "data": {
      "text/plain": [
       "True"
      ]
     },
     "execution_count": 54,
     "metadata": {},
     "output_type": "execute_result"
    }
   ],
   "source": [
    "'name' in Person"
   ]
  },
  {
   "cell_type": "code",
   "execution_count": 55,
   "id": "323a0fda",
   "metadata": {
    "execution": {
     "iopub.execute_input": "2022-01-08T12:38:10.255000Z",
     "iopub.status.busy": "2022-01-08T12:38:10.254289Z",
     "iopub.status.idle": "2022-01-08T12:38:10.261702Z",
     "shell.execute_reply": "2022-01-08T12:38:10.262213Z",
     "shell.execute_reply.started": "2021-12-26T09:38:32.44124Z"
    },
    "papermill": {
     "duration": 0.244844,
     "end_time": "2022-01-08T12:38:10.262421",
     "exception": false,
     "start_time": "2022-01-08T12:38:10.017577",
     "status": "completed"
    },
    "tags": []
   },
   "outputs": [
    {
     "data": {
      "text/plain": [
       "Row(name='Alice', age=11)"
      ]
     },
     "execution_count": 55,
     "metadata": {},
     "output_type": "execute_result"
    }
   ],
   "source": [
    "Person(\"Alice\", 11)"
   ]
  },
  {
   "cell_type": "markdown",
   "id": "db7def56",
   "metadata": {
    "papermill": {
     "duration": 0.228013,
     "end_time": "2022-01-08T12:38:10.722898",
     "exception": false,
     "start_time": "2022-01-08T12:38:10.494885",
     "status": "completed"
    },
    "tags": []
   },
   "source": [
    "Reference: https://spark.apache.org/docs/latest/api/python/reference/api/pyspark.sql.Row.html#pyspark.sql.Row"
   ]
  },
  {
   "cell_type": "markdown",
   "id": "049b5f64",
   "metadata": {
    "papermill": {
     "duration": 0.234287,
     "end_time": "2022-01-08T12:38:11.184621",
     "exception": false,
     "start_time": "2022-01-08T12:38:10.950334",
     "status": "completed"
    },
    "tags": []
   },
   "source": [
    "#### Back to collect()"
   ]
  },
  {
   "cell_type": "code",
   "execution_count": 56,
   "id": "2e9818e7",
   "metadata": {
    "execution": {
     "iopub.execute_input": "2022-01-08T12:38:11.656983Z",
     "iopub.status.busy": "2022-01-08T12:38:11.656263Z",
     "iopub.status.idle": "2022-01-08T12:38:12.202569Z",
     "shell.execute_reply": "2022-01-08T12:38:12.203912Z",
     "shell.execute_reply.started": "2021-12-26T09:38:32.454329Z"
    },
    "papermill": {
     "duration": 0.787318,
     "end_time": "2022-01-08T12:38:12.204192",
     "exception": false,
     "start_time": "2022-01-08T12:38:11.416874",
     "status": "completed"
    },
    "tags": []
   },
   "outputs": [],
   "source": [
    "result = wine_quality.select(['fixed acidity','sulphates','pH', 'quality']).filter(\"pH>3\").orderBy(wine_quality[\"pH\"].desc()).collect()"
   ]
  },
  {
   "cell_type": "code",
   "execution_count": 57,
   "id": "6f7c72ba",
   "metadata": {
    "execution": {
     "iopub.execute_input": "2022-01-08T12:38:12.679368Z",
     "iopub.status.busy": "2022-01-08T12:38:12.678751Z",
     "iopub.status.idle": "2022-01-08T12:38:12.683543Z",
     "shell.execute_reply": "2022-01-08T12:38:12.684127Z",
     "shell.execute_reply.started": "2021-12-26T09:38:32.819224Z"
    },
    "papermill": {
     "duration": 0.234891,
     "end_time": "2022-01-08T12:38:12.684297",
     "exception": false,
     "start_time": "2022-01-08T12:38:12.449406",
     "status": "completed"
    },
    "tags": []
   },
   "outputs": [
    {
     "data": {
      "text/plain": [
       "[Row(fixed acidity=5.4, sulphates=0.59, pH=4.01, quality=6),\n",
       " Row(fixed acidity=5.0, sulphates=0.59, pH=4.01, quality=6),\n",
       " Row(fixed acidity=4.6, sulphates=0.56, pH=3.9, quality=4),\n",
       " Row(fixed acidity=5.1, sulphates=0.62, pH=3.9, quality=6),\n",
       " Row(fixed acidity=4.7, sulphates=0.6, pH=3.85, quality=6)]"
      ]
     },
     "execution_count": 57,
     "metadata": {},
     "output_type": "execute_result"
    }
   ],
   "source": [
    "result[:5]"
   ]
  },
  {
   "cell_type": "code",
   "execution_count": 58,
   "id": "1834f1ef",
   "metadata": {
    "execution": {
     "iopub.execute_input": "2022-01-08T12:38:13.141888Z",
     "iopub.status.busy": "2022-01-08T12:38:13.140821Z",
     "iopub.status.idle": "2022-01-08T12:38:13.146917Z",
     "shell.execute_reply": "2022-01-08T12:38:13.147567Z",
     "shell.execute_reply.started": "2021-12-26T09:38:32.828074Z"
    },
    "papermill": {
     "duration": 0.237451,
     "end_time": "2022-01-08T12:38:13.147743",
     "exception": false,
     "start_time": "2022-01-08T12:38:12.910292",
     "status": "completed"
    },
    "tags": []
   },
   "outputs": [
    {
     "data": {
      "text/plain": [
       "pyspark.sql.types.Row"
      ]
     },
     "execution_count": 58,
     "metadata": {},
     "output_type": "execute_result"
    }
   ],
   "source": [
    "type(result[0])"
   ]
  },
  {
   "cell_type": "markdown",
   "id": "f9c36fd8",
   "metadata": {
    "execution": {
     "iopub.status.busy": "2021-12-26T04:19:37.175998Z",
     "iopub.status.idle": "2021-12-26T04:19:37.1767Z",
     "shell.execute_reply": "2021-12-26T04:19:37.176459Z",
     "shell.execute_reply.started": "2021-12-26T04:19:37.17643Z"
    },
    "papermill": {
     "duration": 0.235643,
     "end_time": "2022-01-08T12:38:13.614004",
     "exception": false,
     "start_time": "2022-01-08T12:38:13.378361",
     "status": "completed"
    },
    "tags": []
   },
   "source": [
    "#### Accessing a row as a dictionary"
   ]
  },
  {
   "cell_type": "code",
   "execution_count": 59,
   "id": "fa8367f6",
   "metadata": {
    "execution": {
     "iopub.execute_input": "2022-01-08T12:38:14.093061Z",
     "iopub.status.busy": "2022-01-08T12:38:14.092358Z",
     "iopub.status.idle": "2022-01-08T12:38:14.096078Z",
     "shell.execute_reply": "2022-01-08T12:38:14.095405Z",
     "shell.execute_reply.started": "2021-12-26T09:38:32.8457Z"
    },
    "papermill": {
     "duration": 0.246835,
     "end_time": "2022-01-08T12:38:14.096227",
     "exception": false,
     "start_time": "2022-01-08T12:38:13.849392",
     "status": "completed"
    },
    "tags": []
   },
   "outputs": [
    {
     "data": {
      "text/plain": [
       "{'fixed acidity': 5.4, 'sulphates': 0.59, 'pH': 4.01, 'quality': 6}"
      ]
     },
     "execution_count": 59,
     "metadata": {},
     "output_type": "execute_result"
    }
   ],
   "source": [
    "result[0].asDict()"
   ]
  },
  {
   "cell_type": "code",
   "execution_count": 60,
   "id": "3f6b7ad8",
   "metadata": {
    "execution": {
     "iopub.execute_input": "2022-01-08T12:38:14.596764Z",
     "iopub.status.busy": "2022-01-08T12:38:14.595760Z",
     "iopub.status.idle": "2022-01-08T12:38:14.602735Z",
     "shell.execute_reply": "2022-01-08T12:38:14.602093Z",
     "shell.execute_reply.started": "2021-12-26T09:38:32.860118Z"
    },
    "papermill": {
     "duration": 0.254815,
     "end_time": "2022-01-08T12:38:14.602906",
     "exception": false,
     "start_time": "2022-01-08T12:38:14.348091",
     "status": "completed"
    },
    "tags": []
   },
   "outputs": [
    {
     "name": "stdout",
     "output_type": "stream",
     "text": [
      "5.4\n",
      "0.59\n",
      "4.01\n",
      "6\n"
     ]
    }
   ],
   "source": [
    "for item in result[0]:\n",
    "    print(item)"
   ]
  },
  {
   "cell_type": "markdown",
   "id": "1572f6cd",
   "metadata": {
    "execution": {
     "iopub.execute_input": "2021-12-26T09:11:09.476399Z",
     "iopub.status.busy": "2021-12-26T09:11:09.476081Z",
     "iopub.status.idle": "2021-12-26T09:11:09.481583Z",
     "shell.execute_reply": "2021-12-26T09:11:09.480603Z",
     "shell.execute_reply.started": "2021-12-26T09:11:09.476366Z"
    },
    "papermill": {
     "duration": 0.23285,
     "end_time": "2022-01-08T12:38:15.074015",
     "exception": false,
     "start_time": "2022-01-08T12:38:14.841165",
     "status": "completed"
    },
    "tags": []
   },
   "source": [
    "#### List of rows to DataFrame"
   ]
  },
  {
   "cell_type": "code",
   "execution_count": 61,
   "id": "4c10aec5",
   "metadata": {
    "execution": {
     "iopub.execute_input": "2022-01-08T12:38:15.539002Z",
     "iopub.status.busy": "2022-01-08T12:38:15.538048Z",
     "iopub.status.idle": "2022-01-08T12:38:15.713399Z",
     "shell.execute_reply": "2022-01-08T12:38:15.714024Z",
     "shell.execute_reply.started": "2021-12-26T09:38:32.871885Z"
    },
    "papermill": {
     "duration": 0.406339,
     "end_time": "2022-01-08T12:38:15.714200",
     "exception": false,
     "start_time": "2022-01-08T12:38:15.307861",
     "status": "completed"
    },
    "tags": []
   },
   "outputs": [
    {
     "data": {
      "text/html": [
       "<div>\n",
       "<style scoped>\n",
       "    .dataframe tbody tr th:only-of-type {\n",
       "        vertical-align: middle;\n",
       "    }\n",
       "\n",
       "    .dataframe tbody tr th {\n",
       "        vertical-align: top;\n",
       "    }\n",
       "\n",
       "    .dataframe thead th {\n",
       "        text-align: right;\n",
       "    }\n",
       "</style>\n",
       "<table border=\"1\" class=\"dataframe\">\n",
       "  <thead>\n",
       "    <tr style=\"text-align: right;\">\n",
       "      <th></th>\n",
       "      <th>fixed acidity</th>\n",
       "      <th>sulphates</th>\n",
       "      <th>pH</th>\n",
       "      <th>quality</th>\n",
       "    </tr>\n",
       "  </thead>\n",
       "  <tbody>\n",
       "    <tr>\n",
       "      <th>0</th>\n",
       "      <td>5.4</td>\n",
       "      <td>0.59</td>\n",
       "      <td>4.01</td>\n",
       "      <td>6</td>\n",
       "    </tr>\n",
       "    <tr>\n",
       "      <th>1</th>\n",
       "      <td>5.0</td>\n",
       "      <td>0.59</td>\n",
       "      <td>4.01</td>\n",
       "      <td>6</td>\n",
       "    </tr>\n",
       "    <tr>\n",
       "      <th>2</th>\n",
       "      <td>4.6</td>\n",
       "      <td>0.56</td>\n",
       "      <td>3.90</td>\n",
       "      <td>4</td>\n",
       "    </tr>\n",
       "    <tr>\n",
       "      <th>3</th>\n",
       "      <td>5.1</td>\n",
       "      <td>0.62</td>\n",
       "      <td>3.90</td>\n",
       "      <td>6</td>\n",
       "    </tr>\n",
       "    <tr>\n",
       "      <th>4</th>\n",
       "      <td>4.7</td>\n",
       "      <td>0.60</td>\n",
       "      <td>3.85</td>\n",
       "      <td>6</td>\n",
       "    </tr>\n",
       "  </tbody>\n",
       "</table>\n",
       "</div>"
      ],
      "text/plain": [
       "   fixed acidity  sulphates    pH  quality\n",
       "0            5.4       0.59  4.01        6\n",
       "1            5.0       0.59  4.01        6\n",
       "2            4.6       0.56  3.90        4\n",
       "3            5.1       0.62  3.90        6\n",
       "4            4.7       0.60  3.85        6"
      ]
     },
     "execution_count": 61,
     "metadata": {},
     "output_type": "execute_result"
    }
   ],
   "source": [
    "backto_df = spark.createDataFrame(result)\n",
    "backto_df.limit(5).toPandas()"
   ]
  },
  {
   "cell_type": "markdown",
   "id": "5bc2d602",
   "metadata": {
    "papermill": {
     "duration": 0.228631,
     "end_time": "2022-01-08T12:38:16.172116",
     "exception": false,
     "start_time": "2022-01-08T12:38:15.943485",
     "status": "completed"
    },
    "tags": []
   },
   "source": [
    "## Thanks!\n",
    "\n",
    "### More in the next notebook."
   ]
  },
  {
   "cell_type": "markdown",
   "id": "8ab53510",
   "metadata": {
    "papermill": {
     "duration": 0.228103,
     "end_time": "2022-01-08T12:38:16.629230",
     "exception": false,
     "start_time": "2022-01-08T12:38:16.401127",
     "status": "completed"
    },
    "tags": []
   },
   "source": [
    "Reference\n",
    "* https://sparkbyexamples.com/pyspark/pyspark-where-filter/\n",
    "* https://sparkbyexamples.com/pyspark/pyspark-filter-rows-with-null-values/\n",
    "* https://stackoverflow.com/questions/41000273/spark-difference-between-collect-take-and-show-outputs-after-conversion\n",
    "* https://www.kdnuggets.com/2020/04/benefits-apache-spark-pyspark.html"
   ]
  }
 ],
 "metadata": {
  "kernelspec": {
   "display_name": "Python 3",
   "language": "python",
   "name": "python3"
  },
  "language_info": {
   "codemirror_mode": {
    "name": "ipython",
    "version": 3
   },
   "file_extension": ".py",
   "mimetype": "text/x-python",
   "name": "python",
   "nbconvert_exporter": "python",
   "pygments_lexer": "ipython3",
   "version": "3.7.12"
  },
  "papermill": {
   "default_parameters": {},
   "duration": 144.420383,
   "end_time": "2022-01-08T12:38:17.669798",
   "environment_variables": {},
   "exception": null,
   "input_path": "__notebook__.ipynb",
   "output_path": "__notebook__.ipynb",
   "parameters": {},
   "start_time": "2022-01-08T12:35:53.249415",
   "version": "2.3.3"
  }
 },
 "nbformat": 4,
 "nbformat_minor": 5
}
