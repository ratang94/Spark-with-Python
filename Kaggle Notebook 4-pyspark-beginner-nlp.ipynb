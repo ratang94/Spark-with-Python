{
 "cells": [
  {
   "cell_type": "markdown",
   "id": "aed8c05c",
   "metadata": {
    "papermill": {
     "duration": 0.061566,
     "end_time": "2022-05-31T11:20:59.663493",
     "exception": false,
     "start_time": "2022-05-31T11:20:59.601927",
     "status": "completed"
    },
    "tags": []
   },
   "source": [
    "# Problem Statement: \n",
    "\n",
    "## We need to develop a Recommender System with just TF-IDF Vectorisation Technique\n",
    "\n",
    "### Using PySpark NLP pipeline"
   ]
  },
  {
   "cell_type": "markdown",
   "id": "3c995194",
   "metadata": {
    "papermill": {
     "duration": 0.057462,
     "end_time": "2022-05-31T11:20:59.779455",
     "exception": false,
     "start_time": "2022-05-31T11:20:59.721993",
     "status": "completed"
    },
    "tags": []
   },
   "source": [
    "# Approach:"
   ]
  },
  {
   "cell_type": "markdown",
   "id": "00ceb0e3",
   "metadata": {
    "papermill": {
     "duration": 0.058869,
     "end_time": "2022-05-31T11:20:59.896404",
     "exception": false,
     "start_time": "2022-05-31T11:20:59.837535",
     "status": "completed"
    },
    "tags": []
   },
   "source": [
    "We begin by installing PySpark at the very beginning because Kaggle's current environment support doesn't have PySpark available by default for use."
   ]
  },
  {
   "cell_type": "code",
   "execution_count": 1,
   "id": "2c657a3e",
   "metadata": {
    "_kg_hide-input": true,
    "_kg_hide-output": true,
    "execution": {
     "iopub.execute_input": "2022-05-31T11:21:00.018645Z",
     "iopub.status.busy": "2022-05-31T11:21:00.017467Z",
     "iopub.status.idle": "2022-05-31T11:21:50.725024Z",
     "shell.execute_reply": "2022-05-31T11:21:50.725640Z",
     "shell.execute_reply.started": "2022-03-19T13:41:06.846317Z"
    },
    "papermill": {
     "duration": 50.770442,
     "end_time": "2022-05-31T11:21:50.726360",
     "exception": false,
     "start_time": "2022-05-31T11:20:59.955918",
     "status": "completed"
    },
    "tags": []
   },
   "outputs": [
    {
     "name": "stdout",
     "output_type": "stream",
     "text": [
      "Collecting pyspark\r\n",
      "  Downloading pyspark-3.2.1.tar.gz (281.4 MB)\r\n",
      "     |████████████████████████████████| 281.4 MB 34 kB/s              \r\n",
      "\u001b[?25h  Preparing metadata (setup.py) ... \u001b[?25l-\b \b\\\b \bdone\r\n",
      "\u001b[?25hRequirement already satisfied: py4j==0.10.9.3 in /opt/conda/lib/python3.7/site-packages (from pyspark) (0.10.9.3)\r\n",
      "Building wheels for collected packages: pyspark\r\n",
      "  Building wheel for pyspark (setup.py) ... \u001b[?25l-\b \b\\\b \b|\b \b/\b \b-\b \b\\\b \b|\b \b/\b \b-\b \b\\\b \b|\b \b/\b \b-\b \b\\\b \b|\b \b/\b \b-\b \b\\\b \b|\b \b/\b \b-\b \b\\\b \b|\b \b/\b \b-\b \b\\\b \b|\b \b/\b \b-\b \b\\\b \b|\b \b/\b \b-\b \b\\\b \b|\b \b/\b \b-\b \b\\\b \b|\b \b/\b \b-\b \b\\\b \b|\b \b/\b \b-\b \b\\\b \b|\b \b/\b \b-\b \b\\\b \b|\b \b/\b \b-\b \b\\\b \b|\b \b/\b \b-\b \b\\\b \b|\b \b/\b \b-\b \b\\\b \b|\b \b/\b \b-\b \b\\\b \b|\b \bdone\r\n",
      "\u001b[?25h  Created wheel for pyspark: filename=pyspark-3.2.1-py2.py3-none-any.whl size=281853642 sha256=f40b1fe20b7371a22ccd3435fee74a28845a193a317d93a6a15d4a38ba3ec90b\r\n",
      "  Stored in directory: /root/.cache/pip/wheels/9f/f5/07/7cd8017084dce4e93e84e92efd1e1d5334db05f2e83bcef74f\r\n",
      "Successfully built pyspark\r\n",
      "Installing collected packages: pyspark\r\n",
      "Successfully installed pyspark-3.2.1\r\n",
      "\u001b[33mWARNING: Running pip as the 'root' user can result in broken permissions and conflicting behaviour with the system package manager. It is recommended to use a virtual environment instead: https://pip.pypa.io/warnings/venv\u001b[0m\r\n"
     ]
    }
   ],
   "source": [
    "!pip install pyspark"
   ]
  },
  {
   "cell_type": "markdown",
   "id": "ffe61e53",
   "metadata": {
    "papermill": {
     "duration": 0.202161,
     "end_time": "2022-05-31T11:21:51.134979",
     "exception": false,
     "start_time": "2022-05-31T11:21:50.932818",
     "status": "completed"
    },
    "tags": []
   },
   "source": [
    "We move ahead and initialise the PySpark session now."
   ]
  },
  {
   "cell_type": "code",
   "execution_count": 2,
   "id": "a337eae9",
   "metadata": {
    "execution": {
     "iopub.execute_input": "2022-05-31T11:21:51.547207Z",
     "iopub.status.busy": "2022-05-31T11:21:51.546172Z",
     "iopub.status.idle": "2022-05-31T11:21:57.953818Z",
     "shell.execute_reply": "2022-05-31T11:21:57.955298Z",
     "shell.execute_reply.started": "2022-03-19T13:41:17.233943Z"
    },
    "papermill": {
     "duration": 6.620804,
     "end_time": "2022-05-31T11:21:57.955585",
     "exception": false,
     "start_time": "2022-05-31T11:21:51.334781",
     "status": "completed"
    },
    "tags": []
   },
   "outputs": [
    {
     "name": "stderr",
     "output_type": "stream",
     "text": [
      "WARNING: An illegal reflective access operation has occurred\n",
      "WARNING: Illegal reflective access by org.apache.spark.unsafe.Platform (file:/opt/conda/lib/python3.7/site-packages/pyspark/jars/spark-unsafe_2.12-3.2.1.jar) to constructor java.nio.DirectByteBuffer(long,int)\n",
      "WARNING: Please consider reporting this to the maintainers of org.apache.spark.unsafe.Platform\n",
      "WARNING: Use --illegal-access=warn to enable warnings of further illegal reflective access operations\n",
      "WARNING: All illegal access operations will be denied in a future release\n",
      "Using Spark's default log4j profile: org/apache/spark/log4j-defaults.properties\n",
      "Setting default log level to \"WARN\".\n",
      "To adjust logging level use sc.setLogLevel(newLevel). For SparkR, use setLogLevel(newLevel).\n",
      "22/05/31 11:21:54 WARN NativeCodeLoader: Unable to load native-hadoop library for your platform... using builtin-java classes where applicable\n"
     ]
    },
    {
     "name": "stdout",
     "output_type": "stream",
     "text": [
      "You are working with 1 core(s)\n"
     ]
    },
    {
     "data": {
      "text/html": [
       "\n",
       "            <div>\n",
       "                <p><b>SparkSession - in-memory</b></p>\n",
       "                \n",
       "        <div>\n",
       "            <p><b>SparkContext</b></p>\n",
       "\n",
       "            <p><a href=\"http://3ae648821120:4040\">Spark UI</a></p>\n",
       "\n",
       "            <dl>\n",
       "              <dt>Version</dt>\n",
       "                <dd><code>v3.2.1</code></dd>\n",
       "              <dt>Master</dt>\n",
       "                <dd><code>local[*]</code></dd>\n",
       "              <dt>AppName</dt>\n",
       "                <dd><code>Pyspark_4_NLP</code></dd>\n",
       "            </dl>\n",
       "        </div>\n",
       "        \n",
       "            </div>\n",
       "        "
      ],
      "text/plain": [
       "<pyspark.sql.session.SparkSession at 0x7f4249c5d650>"
      ]
     },
     "execution_count": 2,
     "metadata": {},
     "output_type": "execute_result"
    }
   ],
   "source": [
    "import numpy as np # linear algebra\n",
    "import pandas as pd # data processing, CSV file I/O (e.g. pd.read_csv)\n",
    "\n",
    "import os\n",
    "import pyspark # only run after findspark.init()\n",
    "from pyspark.sql import SparkSession\n",
    "# May take awhile locally\n",
    "spark = SparkSession.builder.appName(\"Pyspark_4_NLP\").getOrCreate()\n",
    "\n",
    "cores = spark._jsc.sc().getExecutorMemoryStatus().keySet().size()\n",
    "print(\"You are working with\", cores, \"core(s)\")\n",
    "spark"
   ]
  },
  {
   "cell_type": "markdown",
   "id": "1d9973b4",
   "metadata": {
    "papermill": {
     "duration": 0.199842,
     "end_time": "2022-05-31T11:21:58.390445",
     "exception": false,
     "start_time": "2022-05-31T11:21:58.190603",
     "status": "completed"
    },
    "tags": []
   },
   "source": [
    "All good! We want to start by importing the relevant libraries now."
   ]
  },
  {
   "cell_type": "code",
   "execution_count": 3,
   "id": "6a41a361",
   "metadata": {
    "execution": {
     "iopub.execute_input": "2022-05-31T11:21:58.798718Z",
     "iopub.status.busy": "2022-05-31T11:21:58.797885Z",
     "iopub.status.idle": "2022-05-31T11:21:59.133417Z",
     "shell.execute_reply": "2022-05-31T11:21:59.132775Z",
     "shell.execute_reply.started": "2022-03-19T13:41:17.256371Z"
    },
    "papermill": {
     "duration": 0.542741,
     "end_time": "2022-05-31T11:21:59.133569",
     "exception": false,
     "start_time": "2022-05-31T11:21:58.590828",
     "status": "completed"
    },
    "tags": []
   },
   "outputs": [],
   "source": [
    "from pyspark.ml.feature import * #CountVectorizer,StringIndexer, RegexTokenizer,StopWordsRemover\n",
    "from pyspark.sql.functions import * #col, udf,regexp_replace,isnull\n",
    "from pyspark.sql.types import * #StringType,IntegerType\n",
    "from pyspark.ml.classification import *\n",
    "from pyspark.ml.evaluation import *\n",
    "from pyspark.ml.tuning import CrossValidator, ParamGridBuilder\n",
    "\n",
    "# For pipeline development\n",
    "from pyspark.ml import Pipeline "
   ]
  },
  {
   "cell_type": "markdown",
   "id": "7d22453f",
   "metadata": {
    "papermill": {
     "duration": 0.199877,
     "end_time": "2022-05-31T11:21:59.533449",
     "exception": false,
     "start_time": "2022-05-31T11:21:59.333572",
     "status": "completed"
    },
    "tags": []
   },
   "source": [
    "Data sample view is coming up next."
   ]
  },
  {
   "cell_type": "code",
   "execution_count": 4,
   "id": "bd20e0c2",
   "metadata": {
    "execution": {
     "iopub.execute_input": "2022-05-31T11:21:59.939566Z",
     "iopub.status.busy": "2022-05-31T11:21:59.938899Z",
     "iopub.status.idle": "2022-05-31T11:22:00.091511Z",
     "shell.execute_reply": "2022-05-31T11:22:00.092058Z",
     "shell.execute_reply.started": "2022-03-19T13:41:17.271659Z"
    },
    "papermill": {
     "duration": 0.358565,
     "end_time": "2022-05-31T11:22:00.092247",
     "exception": false,
     "start_time": "2022-05-31T11:21:59.733682",
     "status": "completed"
    },
    "tags": []
   },
   "outputs": [],
   "source": [
    "raw_data = pd.read_csv('/kaggle/input/netflix-shows/netflix_titles.csv')"
   ]
  },
  {
   "cell_type": "markdown",
   "id": "488d2dc6",
   "metadata": {
    "papermill": {
     "duration": 0.199582,
     "end_time": "2022-05-31T11:22:00.491300",
     "exception": false,
     "start_time": "2022-05-31T11:22:00.291718",
     "status": "completed"
    },
    "tags": []
   },
   "source": [
    "# Exploration and Basic Data Analysis"
   ]
  },
  {
   "cell_type": "code",
   "execution_count": 5,
   "id": "24534f01",
   "metadata": {
    "execution": {
     "iopub.execute_input": "2022-05-31T11:22:00.908470Z",
     "iopub.status.busy": "2022-05-31T11:22:00.907747Z",
     "iopub.status.idle": "2022-05-31T11:22:00.938798Z",
     "shell.execute_reply": "2022-05-31T11:22:00.938163Z",
     "shell.execute_reply.started": "2022-03-19T13:41:17.387189Z"
    },
    "papermill": {
     "duration": 0.247676,
     "end_time": "2022-05-31T11:22:00.938935",
     "exception": false,
     "start_time": "2022-05-31T11:22:00.691259",
     "status": "completed"
    },
    "tags": []
   },
   "outputs": [
    {
     "data": {
      "text/html": [
       "<div>\n",
       "<style scoped>\n",
       "    .dataframe tbody tr th:only-of-type {\n",
       "        vertical-align: middle;\n",
       "    }\n",
       "\n",
       "    .dataframe tbody tr th {\n",
       "        vertical-align: top;\n",
       "    }\n",
       "\n",
       "    .dataframe thead th {\n",
       "        text-align: right;\n",
       "    }\n",
       "</style>\n",
       "<table border=\"1\" class=\"dataframe\">\n",
       "  <thead>\n",
       "    <tr style=\"text-align: right;\">\n",
       "      <th></th>\n",
       "      <th>show_id</th>\n",
       "      <th>type</th>\n",
       "      <th>title</th>\n",
       "      <th>director</th>\n",
       "      <th>cast</th>\n",
       "      <th>country</th>\n",
       "      <th>date_added</th>\n",
       "      <th>release_year</th>\n",
       "      <th>rating</th>\n",
       "      <th>duration</th>\n",
       "      <th>listed_in</th>\n",
       "      <th>description</th>\n",
       "    </tr>\n",
       "  </thead>\n",
       "  <tbody>\n",
       "    <tr>\n",
       "      <th>0</th>\n",
       "      <td>s1</td>\n",
       "      <td>Movie</td>\n",
       "      <td>Dick Johnson Is Dead</td>\n",
       "      <td>Kirsten Johnson</td>\n",
       "      <td>NaN</td>\n",
       "      <td>United States</td>\n",
       "      <td>September 25, 2021</td>\n",
       "      <td>2020</td>\n",
       "      <td>PG-13</td>\n",
       "      <td>90 min</td>\n",
       "      <td>Documentaries</td>\n",
       "      <td>As her father nears the end of his life, filmm...</td>\n",
       "    </tr>\n",
       "    <tr>\n",
       "      <th>1</th>\n",
       "      <td>s2</td>\n",
       "      <td>TV Show</td>\n",
       "      <td>Blood &amp; Water</td>\n",
       "      <td>NaN</td>\n",
       "      <td>Ama Qamata, Khosi Ngema, Gail Mabalane, Thaban...</td>\n",
       "      <td>South Africa</td>\n",
       "      <td>September 24, 2021</td>\n",
       "      <td>2021</td>\n",
       "      <td>TV-MA</td>\n",
       "      <td>2 Seasons</td>\n",
       "      <td>International TV Shows, TV Dramas, TV Mysteries</td>\n",
       "      <td>After crossing paths at a party, a Cape Town t...</td>\n",
       "    </tr>\n",
       "    <tr>\n",
       "      <th>2</th>\n",
       "      <td>s3</td>\n",
       "      <td>TV Show</td>\n",
       "      <td>Ganglands</td>\n",
       "      <td>Julien Leclercq</td>\n",
       "      <td>Sami Bouajila, Tracy Gotoas, Samuel Jouy, Nabi...</td>\n",
       "      <td>NaN</td>\n",
       "      <td>September 24, 2021</td>\n",
       "      <td>2021</td>\n",
       "      <td>TV-MA</td>\n",
       "      <td>1 Season</td>\n",
       "      <td>Crime TV Shows, International TV Shows, TV Act...</td>\n",
       "      <td>To protect his family from a powerful drug lor...</td>\n",
       "    </tr>\n",
       "    <tr>\n",
       "      <th>3</th>\n",
       "      <td>s4</td>\n",
       "      <td>TV Show</td>\n",
       "      <td>Jailbirds New Orleans</td>\n",
       "      <td>NaN</td>\n",
       "      <td>NaN</td>\n",
       "      <td>NaN</td>\n",
       "      <td>September 24, 2021</td>\n",
       "      <td>2021</td>\n",
       "      <td>TV-MA</td>\n",
       "      <td>1 Season</td>\n",
       "      <td>Docuseries, Reality TV</td>\n",
       "      <td>Feuds, flirtations and toilet talk go down amo...</td>\n",
       "    </tr>\n",
       "    <tr>\n",
       "      <th>4</th>\n",
       "      <td>s5</td>\n",
       "      <td>TV Show</td>\n",
       "      <td>Kota Factory</td>\n",
       "      <td>NaN</td>\n",
       "      <td>Mayur More, Jitendra Kumar, Ranjan Raj, Alam K...</td>\n",
       "      <td>India</td>\n",
       "      <td>September 24, 2021</td>\n",
       "      <td>2021</td>\n",
       "      <td>TV-MA</td>\n",
       "      <td>2 Seasons</td>\n",
       "      <td>International TV Shows, Romantic TV Shows, TV ...</td>\n",
       "      <td>In a city of coaching centers known to train I...</td>\n",
       "    </tr>\n",
       "  </tbody>\n",
       "</table>\n",
       "</div>"
      ],
      "text/plain": [
       "  show_id     type                  title         director  \\\n",
       "0      s1    Movie   Dick Johnson Is Dead  Kirsten Johnson   \n",
       "1      s2  TV Show          Blood & Water              NaN   \n",
       "2      s3  TV Show              Ganglands  Julien Leclercq   \n",
       "3      s4  TV Show  Jailbirds New Orleans              NaN   \n",
       "4      s5  TV Show           Kota Factory              NaN   \n",
       "\n",
       "                                                cast        country  \\\n",
       "0                                                NaN  United States   \n",
       "1  Ama Qamata, Khosi Ngema, Gail Mabalane, Thaban...   South Africa   \n",
       "2  Sami Bouajila, Tracy Gotoas, Samuel Jouy, Nabi...            NaN   \n",
       "3                                                NaN            NaN   \n",
       "4  Mayur More, Jitendra Kumar, Ranjan Raj, Alam K...          India   \n",
       "\n",
       "           date_added  release_year rating   duration  \\\n",
       "0  September 25, 2021          2020  PG-13     90 min   \n",
       "1  September 24, 2021          2021  TV-MA  2 Seasons   \n",
       "2  September 24, 2021          2021  TV-MA   1 Season   \n",
       "3  September 24, 2021          2021  TV-MA   1 Season   \n",
       "4  September 24, 2021          2021  TV-MA  2 Seasons   \n",
       "\n",
       "                                           listed_in  \\\n",
       "0                                      Documentaries   \n",
       "1    International TV Shows, TV Dramas, TV Mysteries   \n",
       "2  Crime TV Shows, International TV Shows, TV Act...   \n",
       "3                             Docuseries, Reality TV   \n",
       "4  International TV Shows, Romantic TV Shows, TV ...   \n",
       "\n",
       "                                         description  \n",
       "0  As her father nears the end of his life, filmm...  \n",
       "1  After crossing paths at a party, a Cape Town t...  \n",
       "2  To protect his family from a powerful drug lor...  \n",
       "3  Feuds, flirtations and toilet talk go down amo...  \n",
       "4  In a city of coaching centers known to train I...  "
      ]
     },
     "execution_count": 5,
     "metadata": {},
     "output_type": "execute_result"
    }
   ],
   "source": [
    "raw_data.head()"
   ]
  },
  {
   "cell_type": "code",
   "execution_count": 6,
   "id": "9e212f5e",
   "metadata": {
    "execution": {
     "iopub.execute_input": "2022-05-31T11:22:01.344380Z",
     "iopub.status.busy": "2022-05-31T11:22:01.343706Z",
     "iopub.status.idle": "2022-05-31T11:22:01.348208Z",
     "shell.execute_reply": "2022-05-31T11:22:01.348721Z",
     "shell.execute_reply.started": "2022-03-19T13:41:17.415362Z"
    },
    "papermill": {
     "duration": 0.208626,
     "end_time": "2022-05-31T11:22:01.348892",
     "exception": false,
     "start_time": "2022-05-31T11:22:01.140266",
     "status": "completed"
    },
    "tags": []
   },
   "outputs": [
    {
     "data": {
      "text/plain": [
       "(8807, 12)"
      ]
     },
     "execution_count": 6,
     "metadata": {},
     "output_type": "execute_result"
    }
   ],
   "source": [
    "raw_data.shape"
   ]
  },
  {
   "cell_type": "code",
   "execution_count": 7,
   "id": "aae3f023",
   "metadata": {
    "execution": {
     "iopub.execute_input": "2022-05-31T11:22:01.755508Z",
     "iopub.status.busy": "2022-05-31T11:22:01.754870Z",
     "iopub.status.idle": "2022-05-31T11:22:01.815534Z",
     "shell.execute_reply": "2022-05-31T11:22:01.814871Z",
     "shell.execute_reply.started": "2022-03-19T13:41:17.428049Z"
    },
    "papermill": {
     "duration": 0.265757,
     "end_time": "2022-05-31T11:22:01.815677",
     "exception": false,
     "start_time": "2022-05-31T11:22:01.549920",
     "status": "completed"
    },
    "tags": []
   },
   "outputs": [
    {
     "data": {
      "text/plain": [
       "0"
      ]
     },
     "execution_count": 7,
     "metadata": {},
     "output_type": "execute_result"
    }
   ],
   "source": [
    "# not going too far back in time, filtering out movies before 2000\n",
    "raw_data = raw_data.query(\"release_year>1999\")\n",
    "\n",
    "# duplicate data check\n",
    "raw_data.drop(['show_id'], axis  = 1).duplicated().sum()"
   ]
  },
  {
   "cell_type": "code",
   "execution_count": 8,
   "id": "de369248",
   "metadata": {
    "execution": {
     "iopub.execute_input": "2022-05-31T11:22:02.238646Z",
     "iopub.status.busy": "2022-05-31T11:22:02.236291Z",
     "iopub.status.idle": "2022-05-31T11:22:02.264311Z",
     "shell.execute_reply": "2022-05-31T11:22:02.264906Z",
     "shell.execute_reply.started": "2022-03-19T13:41:17.482437Z"
    },
    "papermill": {
     "duration": 0.239473,
     "end_time": "2022-05-31T11:22:02.265072",
     "exception": false,
     "start_time": "2022-05-31T11:22:02.025599",
     "status": "completed"
    },
    "tags": []
   },
   "outputs": [
    {
     "data": {
      "text/plain": [
       "show_id         8282\n",
       "type               2\n",
       "title           8282\n",
       "director        4274\n",
       "cast            7199\n",
       "country          724\n",
       "date_added      1754\n",
       "release_year      22\n",
       "rating            17\n",
       "duration         206\n",
       "listed_in        468\n",
       "description     8252\n",
       "dtype: int64"
      ]
     },
     "execution_count": 8,
     "metadata": {},
     "output_type": "execute_result"
    }
   ],
   "source": [
    "raw_data.nunique()"
   ]
  },
  {
   "cell_type": "code",
   "execution_count": 9,
   "id": "b4e004fd",
   "metadata": {
    "execution": {
     "iopub.execute_input": "2022-05-31T11:22:02.699146Z",
     "iopub.status.busy": "2022-05-31T11:22:02.698480Z",
     "iopub.status.idle": "2022-05-31T11:22:02.705382Z",
     "shell.execute_reply": "2022-05-31T11:22:02.705948Z",
     "shell.execute_reply.started": "2022-03-19T13:41:17.51791Z"
    },
    "papermill": {
     "duration": 0.232059,
     "end_time": "2022-05-31T11:22:02.706111",
     "exception": false,
     "start_time": "2022-05-31T11:22:02.474052",
     "status": "completed"
    },
    "tags": []
   },
   "outputs": [
    {
     "data": {
      "text/plain": [
       "show_id            0\n",
       "type               0\n",
       "title              0\n",
       "director        2582\n",
       "cast             807\n",
       "country          808\n",
       "date_added        10\n",
       "release_year       0\n",
       "rating             4\n",
       "duration           3\n",
       "listed_in          0\n",
       "description        0\n",
       "dtype: int64"
      ]
     },
     "execution_count": 9,
     "metadata": {},
     "output_type": "execute_result"
    }
   ],
   "source": [
    "raw_data.isnull().sum()"
   ]
  },
  {
   "cell_type": "markdown",
   "id": "2dd44dad",
   "metadata": {
    "execution": {
     "iopub.execute_input": "2022-03-18T19:20:31.634835Z",
     "iopub.status.busy": "2022-03-18T19:20:31.634418Z",
     "iopub.status.idle": "2022-03-18T19:20:31.640879Z",
     "shell.execute_reply": "2022-03-18T19:20:31.63964Z",
     "shell.execute_reply.started": "2022-03-18T19:20:31.634803Z"
    },
    "papermill": {
     "duration": 0.21251,
     "end_time": "2022-05-31T11:22:03.135425",
     "exception": false,
     "start_time": "2022-05-31T11:22:02.922915",
     "status": "completed"
    },
    "tags": []
   },
   "source": [
    "### I feel that it would be suitable to concatenate title and description and build all the NLP pipeline on the concatenated result"
   ]
  },
  {
   "cell_type": "code",
   "execution_count": 10,
   "id": "0a7e4143",
   "metadata": {
    "execution": {
     "iopub.execute_input": "2022-05-31T11:22:03.566466Z",
     "iopub.status.busy": "2022-05-31T11:22:03.565845Z",
     "iopub.status.idle": "2022-05-31T11:22:03.584367Z",
     "shell.execute_reply": "2022-05-31T11:22:03.584864Z",
     "shell.execute_reply.started": "2022-03-19T13:41:17.541061Z"
    },
    "papermill": {
     "duration": 0.232543,
     "end_time": "2022-05-31T11:22:03.585031",
     "exception": false,
     "start_time": "2022-05-31T11:22:03.352488",
     "status": "completed"
    },
    "tags": []
   },
   "outputs": [],
   "source": [
    "raw_data['input_text'] = raw_data.title+' ' +raw_data.description\n",
    "raw_data['input_text'] = raw_data['input_text'].str.lower()"
   ]
  },
  {
   "cell_type": "markdown",
   "id": "55571af6",
   "metadata": {
    "execution": {
     "iopub.execute_input": "2022-03-18T21:56:20.723435Z",
     "iopub.status.busy": "2022-03-18T21:56:20.722516Z",
     "iopub.status.idle": "2022-03-18T21:56:20.732259Z",
     "shell.execute_reply": "2022-03-18T21:56:20.730324Z",
     "shell.execute_reply.started": "2022-03-18T21:56:20.723343Z"
    },
    "papermill": {
     "duration": 0.204623,
     "end_time": "2022-05-31T11:22:03.995031",
     "exception": false,
     "start_time": "2022-05-31T11:22:03.790408",
     "status": "completed"
    },
    "tags": []
   },
   "source": [
    "https://stackoverflow.com/questions/31259891/put-customized-functions-in-sklearn-pipeline?msclkid=6b48bdf9a5e511ec8688e89b6b52b4c8"
   ]
  },
  {
   "cell_type": "markdown",
   "id": "c50e3eff",
   "metadata": {
    "papermill": {
     "duration": 0.239339,
     "end_time": "2022-05-31T11:22:04.437356",
     "exception": false,
     "start_time": "2022-05-31T11:22:04.198017",
     "status": "completed"
    },
    "tags": []
   },
   "source": [
    "# Data Story:"
   ]
  },
  {
   "cell_type": "markdown",
   "id": "1343ac3b",
   "metadata": {
    "papermill": {
     "duration": 0.210829,
     "end_time": "2022-05-31T11:22:04.862852",
     "exception": false,
     "start_time": "2022-05-31T11:22:04.652023",
     "status": "completed"
    },
    "tags": []
   },
   "source": [
    "Netflix has 8282 unique Movies and TV shows (figure 1) which have never failed to capture the attention of its content consumers who are spread across the globe.\n",
    "Even though the entire entertainment industry has felt an evident rise in the love for short TV shows, we can still see the Movie category holding strong still being ~3 times more in number than its competition. (figure 2)\n",
    "\n"
   ]
  },
  {
   "cell_type": "code",
   "execution_count": 11,
   "id": "d8bcae7c",
   "metadata": {
    "execution": {
     "iopub.execute_input": "2022-05-31T11:22:05.280716Z",
     "iopub.status.busy": "2022-05-31T11:22:05.279752Z",
     "iopub.status.idle": "2022-05-31T11:22:05.552605Z",
     "shell.execute_reply": "2022-05-31T11:22:05.551645Z",
     "shell.execute_reply.started": "2022-03-19T13:41:17.568702Z"
    },
    "papermill": {
     "duration": 0.482003,
     "end_time": "2022-05-31T11:22:05.552817",
     "exception": false,
     "start_time": "2022-05-31T11:22:05.070814",
     "status": "completed"
    },
    "tags": []
   },
   "outputs": [
    {
     "data": {
      "image/png": "[encoded data removed]",
      "text/plain": [
       "<Figure size 432x288 with 1 Axes>"
      ]
     },
     "metadata": {
      "needs_background": "light"
     },
     "output_type": "display_data"
    }
   ],
   "source": [
    "_ = raw_data.type.value_counts().plot(kind = 'bar', title = 'Content Type')"
   ]
  },
  {
   "cell_type": "code",
   "execution_count": 12,
   "id": "ff1c040f",
   "metadata": {
    "execution": {
     "iopub.execute_input": "2022-05-31T11:22:05.991323Z",
     "iopub.status.busy": "2022-05-31T11:22:05.987868Z",
     "iopub.status.idle": "2022-05-31T11:22:06.351314Z",
     "shell.execute_reply": "2022-05-31T11:22:06.351863Z",
     "shell.execute_reply.started": "2022-03-19T13:41:17.809825Z"
    },
    "papermill": {
     "duration": 0.579326,
     "end_time": "2022-05-31T11:22:06.352063",
     "exception": false,
     "start_time": "2022-05-31T11:22:05.772737",
     "status": "completed"
    },
    "tags": []
   },
   "outputs": [
    {
     "data": {
      "image/png": "[encoded data removed]",
      "text/plain": [
       "<Figure size 432x288 with 1 Axes>"
      ]
     },
     "metadata": {
      "needs_background": "light"
     },
     "output_type": "display_data"
    }
   ],
   "source": [
    "raw_data['release_year_bin'] = pd.cut(raw_data.release_year.astype(int), bins = 10, precision= 0)\n",
    "_ = raw_data.pivot_table(index = 'release_year_bin', columns= 'type', aggfunc='count', values = 'show_id').plot(kind = 'bar',\n",
    "                                                                                                           stacked = True,\n",
    "                                                                                                           title = 'How much of each content type do we consume every 2 years')"
   ]
  },
  {
   "cell_type": "code",
   "execution_count": 13,
   "id": "121c9625",
   "metadata": {
    "execution": {
     "iopub.execute_input": "2022-05-31T11:22:06.935962Z",
     "iopub.status.busy": "2022-05-31T11:22:06.914159Z",
     "iopub.status.idle": "2022-05-31T11:22:07.114416Z",
     "shell.execute_reply": "2022-05-31T11:22:07.115067Z",
     "shell.execute_reply.started": "2022-03-19T13:41:18.239788Z"
    },
    "papermill": {
     "duration": 0.48506,
     "end_time": "2022-05-31T11:22:07.115283",
     "exception": false,
     "start_time": "2022-05-31T11:22:06.630223",
     "status": "completed"
    },
    "tags": []
   },
   "outputs": [
    {
     "data": {
      "text/plain": [
       "<AxesSubplot:title={'center':'All-Time Popular Netflix Ratings'}>"
      ]
     },
     "execution_count": 13,
     "metadata": {},
     "output_type": "execute_result"
    },
    {
     "data": {
      "image/png": "[encoded data removed]",
      "text/plain": [
       "<Figure size 432x288 with 1 Axes>"
      ]
     },
     "metadata": {
      "needs_background": "light"
     },
     "output_type": "display_data"
    }
   ],
   "source": [
    "raw_data.rating.value_counts().head().plot(kind = 'bar', title = 'All-Time Popular Netflix Ratings')"
   ]
  },
  {
   "cell_type": "markdown",
   "id": "34343941",
   "metadata": {
    "papermill": {
     "duration": 0.217368,
     "end_time": "2022-05-31T11:22:07.552566",
     "exception": false,
     "start_time": "2022-05-31T11:22:07.335198",
     "status": "completed"
    },
    "tags": []
   },
   "source": [
    "### This was a basic story that was built from the first few visualisations. In a similar manner more stories can be found and shared with the readers. Now back to our desired system."
   ]
  },
  {
   "cell_type": "markdown",
   "id": "40190479",
   "metadata": {
    "papermill": {
     "duration": 0.203596,
     "end_time": "2022-05-31T11:22:07.959511",
     "exception": false,
     "start_time": "2022-05-31T11:22:07.755915",
     "status": "completed"
    },
    "tags": []
   },
   "source": [
    "# PySpark NLP"
   ]
  },
  {
   "cell_type": "markdown",
   "id": "d7550253",
   "metadata": {
    "papermill": {
     "duration": 0.205504,
     "end_time": "2022-05-31T11:22:08.372338",
     "exception": false,
     "start_time": "2022-05-31T11:22:08.166834",
     "status": "completed"
    },
    "tags": []
   },
   "source": [
    "# 1. Loading Data in the PySpark"
   ]
  },
  {
   "cell_type": "code",
   "execution_count": 14,
   "id": "f4170702",
   "metadata": {
    "execution": {
     "iopub.execute_input": "2022-05-31T11:22:08.798656Z",
     "iopub.status.busy": "2022-05-31T11:22:08.797625Z",
     "iopub.status.idle": "2022-05-31T11:22:11.718953Z",
     "shell.execute_reply": "2022-05-31T11:22:11.718266Z",
     "shell.execute_reply.started": "2022-03-19T13:41:18.493688Z"
    },
    "papermill": {
     "duration": 3.133577,
     "end_time": "2022-05-31T11:22:11.719105",
     "exception": false,
     "start_time": "2022-05-31T11:22:08.585528",
     "status": "completed"
    },
    "tags": []
   },
   "outputs": [],
   "source": [
    "# dropping release_year_bin column as pyspark doesn't support Interval class by default\n",
    "# and throws the error -> TypeError: not supported type: <class 'pandas._libs.interval.Interval'>\n",
    "# It would be useful to find a way around if we needed this feature but for the current usecase\n",
    "# we do not need it and will move forward without this feature.\n",
    "\n",
    "from pyspark.sql.types import *\n",
    "\n",
    "## schema could be used to help pyspark pick the correct datatype but for now \n",
    "## I'll be using only two columns relevant for the whole pipeline\n",
    "\n",
    "# schema = StructType([StructField(\"cast\", StringType(), True)\\\n",
    "#   ,StructField(\"director\", StringType(), True)\\\n",
    "#   ,StructField(\"title\", StringType(), True)\n",
    "#   ,StructField(\"show_id\", StringType(), True)\n",
    "#   ,StructField(\"country\", StringType(), True)  \n",
    "#   ,StructField(\"rating\", StringType(), True)\n",
    "#   ,StructField(\"listed_in\", StringType(), True)\n",
    "#   ,StructField(\"description\", StringType(), True) \n",
    "#   ,StructField(\"input_text\", StringType(), True)                   ])\n",
    "raw_spark_data = spark.createDataFrame(raw_data[['show_id', 'input_text']])"
   ]
  },
  {
   "cell_type": "markdown",
   "id": "3280428b",
   "metadata": {
    "papermill": {
     "duration": 0.218262,
     "end_time": "2022-05-31T11:22:12.177716",
     "exception": false,
     "start_time": "2022-05-31T11:22:11.959454",
     "status": "completed"
    },
    "tags": []
   },
   "source": [
    "# 2. Building NLP Pipeline with PySpark"
   ]
  },
  {
   "cell_type": "markdown",
   "id": "b6323f2a",
   "metadata": {
    "papermill": {
     "duration": 0.213145,
     "end_time": "2022-05-31T11:22:12.606209",
     "exception": false,
     "start_time": "2022-05-31T11:22:12.393064",
     "status": "completed"
    },
    "tags": []
   },
   "source": [
    "I have decided to go with both TFIDF and Count Vector technique from the Bag of Words after having heard from many NLP practitioners that count vectors perform better than TF-IDF many times."
   ]
  },
  {
   "cell_type": "markdown",
   "id": "09dc852d",
   "metadata": {
    "papermill": {
     "duration": 0.233582,
     "end_time": "2022-05-31T11:22:13.052950",
     "exception": false,
     "start_time": "2022-05-31T11:22:12.819368",
     "status": "completed"
    },
    "tags": []
   },
   "source": [
    "### So the approach would be to use the same regex and stop word remover for both pipelines but then going forward the final feature creating segments of the pipelines would differ."
   ]
  },
  {
   "cell_type": "code",
   "execution_count": 15,
   "id": "1d7eaa3c",
   "metadata": {
    "execution": {
     "iopub.execute_input": "2022-05-31T11:22:13.511901Z",
     "iopub.status.busy": "2022-05-31T11:22:13.510802Z",
     "iopub.status.idle": "2022-05-31T11:22:13.686615Z",
     "shell.execute_reply": "2022-05-31T11:22:13.687110Z",
     "shell.execute_reply.started": "2022-03-19T13:41:19.716915Z"
    },
    "papermill": {
     "duration": 0.390431,
     "end_time": "2022-05-31T11:22:13.687343",
     "exception": false,
     "start_time": "2022-05-31T11:22:13.296912",
     "status": "completed"
    },
    "tags": []
   },
   "outputs": [],
   "source": [
    "from pyspark.ml.feature import *\n",
    "from pyspark.ml import Pipeline\n",
    "\n",
    "\n",
    "\n",
    "# split sentences into list of words\n",
    "\n",
    "tokenize = RegexTokenizer(\n",
    "  inputCol=\"input_text\", \n",
    "  outputCol=\"regex_tokenizer_words\", \n",
    "  pattern=\"[^a-z]\"\n",
    ")\n",
    "\n",
    "# removing common stopwords from english vocabulary\n",
    "remover = StopWordsRemover(\n",
    "  inputCol=\"regex_tokenizer_words\", \n",
    "  outputCol=\"filtered_words\"\n",
    ")\n",
    "\n",
    "\n",
    "count_vectorizor_tf_version = HashingTF(\n",
    "    inputCol=\"filtered_words\", \n",
    "    outputCol=\"tfidf_count_vector\", \n",
    "    numFeatures=50)\n",
    "\n",
    "# TF-IDF\n",
    "tf_idf_vectorizor = IDF(\n",
    "    inputCol=\"tfidf_count_vector\", \n",
    "    outputCol=\"features_tfidf\")\n",
    "\n",
    "# create a pipeline with the above stages\n",
    "pipeline_tfidf = Pipeline(\n",
    "  stages=[\n",
    "    tokenize, \n",
    "    remover, \n",
    "    count_vectorizor_tf_version,\n",
    "    tf_idf_vectorizor  \n",
    "  ]\n",
    ")\n",
    "\n",
    "\n",
    "\n",
    "\n",
    "count_vectorizor_standalone_version = HashingTF(\n",
    "    inputCol=\"filtered_words\", \n",
    "    outputCol=\"features_count\", \n",
    "    numFeatures=50)\n",
    "\n",
    "\n",
    "\n",
    "\n",
    "# creating another pipeline with just count vectors\n",
    "pipeline_count = Pipeline(\n",
    "  stages=[\n",
    "    count_vectorizor_standalone_version, \n",
    "  ]\n",
    ")"
   ]
  },
  {
   "cell_type": "markdown",
   "id": "d4b349a0",
   "metadata": {
    "papermill": {
     "duration": 0.217355,
     "end_time": "2022-05-31T11:22:14.123091",
     "exception": false,
     "start_time": "2022-05-31T11:22:13.905736",
     "status": "completed"
    },
    "tags": []
   },
   "source": [
    "# 3. Executing PySpark NLP Pipelines"
   ]
  },
  {
   "cell_type": "code",
   "execution_count": 16,
   "id": "5ead58b5",
   "metadata": {
    "execution": {
     "iopub.execute_input": "2022-05-31T11:22:14.560753Z",
     "iopub.status.busy": "2022-05-31T11:22:14.558754Z",
     "iopub.status.idle": "2022-05-31T11:22:20.564895Z",
     "shell.execute_reply": "2022-05-31T11:22:20.563669Z",
     "shell.execute_reply.started": "2022-03-19T13:41:19.843067Z"
    },
    "papermill": {
     "duration": 6.223605,
     "end_time": "2022-05-31T11:22:20.565106",
     "exception": false,
     "start_time": "2022-05-31T11:22:14.341501",
     "status": "completed"
    },
    "tags": []
   },
   "outputs": [
    {
     "name": "stderr",
     "output_type": "stream",
     "text": [
      "                                                                                \r"
     ]
    }
   ],
   "source": [
    "# TFIDF pipeline\n",
    "pipeline_tfidf_fit = pipeline_tfidf.fit(raw_spark_data)\n",
    "feature_tfidf_df = pipeline_tfidf_fit.transform(raw_spark_data)\n",
    "\n",
    "# Count Vector pipeline\n",
    "pipeline_count_fit = pipeline_count.fit(feature_tfidf_df)\n",
    "feature_count_tfidf_df = pipeline_count_fit.transform(feature_tfidf_df)"
   ]
  },
  {
   "cell_type": "code",
   "execution_count": 17,
   "id": "d716db8e",
   "metadata": {
    "execution": {
     "iopub.execute_input": "2022-05-31T11:22:20.991275Z",
     "iopub.status.busy": "2022-05-31T11:22:20.990530Z",
     "iopub.status.idle": "2022-05-31T11:22:21.496222Z",
     "shell.execute_reply": "2022-05-31T11:22:21.497023Z",
     "shell.execute_reply.started": "2022-03-19T13:41:20.988789Z"
    },
    "papermill": {
     "duration": 0.717652,
     "end_time": "2022-05-31T11:22:21.497293",
     "exception": false,
     "start_time": "2022-05-31T11:22:20.779641",
     "status": "completed"
    },
    "tags": []
   },
   "outputs": [
    {
     "data": {
      "text/html": [
       "<div>\n",
       "<style scoped>\n",
       "    .dataframe tbody tr th:only-of-type {\n",
       "        vertical-align: middle;\n",
       "    }\n",
       "\n",
       "    .dataframe tbody tr th {\n",
       "        vertical-align: top;\n",
       "    }\n",
       "\n",
       "    .dataframe thead th {\n",
       "        text-align: right;\n",
       "    }\n",
       "</style>\n",
       "<table border=\"1\" class=\"dataframe\">\n",
       "  <thead>\n",
       "    <tr style=\"text-align: right;\">\n",
       "      <th></th>\n",
       "      <th>show_id</th>\n",
       "      <th>input_text</th>\n",
       "      <th>regex_tokenizer_words</th>\n",
       "      <th>filtered_words</th>\n",
       "      <th>tfidf_count_vector</th>\n",
       "      <th>features_tfidf</th>\n",
       "    </tr>\n",
       "  </thead>\n",
       "  <tbody>\n",
       "    <tr>\n",
       "      <th>0</th>\n",
       "      <td>s1</td>\n",
       "      <td>dick johnson is dead as her father nears the e...</td>\n",
       "      <td>[dick, johnson, is, dead, as, her, father, nea...</td>\n",
       "      <td>[dick, johnson, dead, father, nears, end, life...</td>\n",
       "      <td>(1.0, 1.0, 1.0, 1.0, 0.0, 0.0, 0.0, 0.0, 0.0, ...</td>\n",
       "      <td>(1.3081758839995092, 1.4165681357833297, 1.152...</td>\n",
       "    </tr>\n",
       "    <tr>\n",
       "      <th>1</th>\n",
       "      <td>s2</td>\n",
       "      <td>blood &amp; water after crossing paths at a party,...</td>\n",
       "      <td>[blood, water, after, crossing, paths, at, a, ...</td>\n",
       "      <td>[blood, water, crossing, paths, party, cape, t...</td>\n",
       "      <td>(0.0, 0.0, 1.0, 1.0, 0.0, 0.0, 1.0, 0.0, 0.0, ...</td>\n",
       "      <td>(0.0, 0.0, 1.1529411240992409, 1.2580892127780...</td>\n",
       "    </tr>\n",
       "    <tr>\n",
       "      <th>2</th>\n",
       "      <td>s3</td>\n",
       "      <td>ganglands to protect his family from a powerfu...</td>\n",
       "      <td>[ganglands, to, protect, his, family, from, a,...</td>\n",
       "      <td>[ganglands, protect, family, powerful, drug, l...</td>\n",
       "      <td>(0.0, 0.0, 0.0, 1.0, 1.0, 0.0, 0.0, 0.0, 0.0, ...</td>\n",
       "      <td>(0.0, 0.0, 0.0, 1.258089212778042, 1.319404387...</td>\n",
       "    </tr>\n",
       "    <tr>\n",
       "      <th>3</th>\n",
       "      <td>s4</td>\n",
       "      <td>jailbirds new orleans feuds, flirtations and t...</td>\n",
       "      <td>[jailbirds, new, orleans, feuds, flirtations, ...</td>\n",
       "      <td>[jailbirds, new, orleans, feuds, flirtations, ...</td>\n",
       "      <td>(0.0, 1.0, 0.0, 0.0, 0.0, 1.0, 0.0, 0.0, 0.0, ...</td>\n",
       "      <td>(0.0, 1.4165681357833297, 0.0, 0.0, 0.0, 1.321...</td>\n",
       "    </tr>\n",
       "    <tr>\n",
       "      <th>4</th>\n",
       "      <td>s5</td>\n",
       "      <td>kota factory in a city of coaching centers kno...</td>\n",
       "      <td>[kota, factory, in, a, city, of, coaching, cen...</td>\n",
       "      <td>[kota, factory, city, coaching, centers, known...</td>\n",
       "      <td>(0.0, 0.0, 0.0, 0.0, 0.0, 0.0, 0.0, 0.0, 0.0, ...</td>\n",
       "      <td>(0.0, 0.0, 0.0, 0.0, 0.0, 0.0, 0.0, 0.0, 0.0, ...</td>\n",
       "    </tr>\n",
       "  </tbody>\n",
       "</table>\n",
       "</div>"
      ],
      "text/plain": [
       "  show_id                                         input_text  \\\n",
       "0      s1  dick johnson is dead as her father nears the e...   \n",
       "1      s2  blood & water after crossing paths at a party,...   \n",
       "2      s3  ganglands to protect his family from a powerfu...   \n",
       "3      s4  jailbirds new orleans feuds, flirtations and t...   \n",
       "4      s5  kota factory in a city of coaching centers kno...   \n",
       "\n",
       "                               regex_tokenizer_words  \\\n",
       "0  [dick, johnson, is, dead, as, her, father, nea...   \n",
       "1  [blood, water, after, crossing, paths, at, a, ...   \n",
       "2  [ganglands, to, protect, his, family, from, a,...   \n",
       "3  [jailbirds, new, orleans, feuds, flirtations, ...   \n",
       "4  [kota, factory, in, a, city, of, coaching, cen...   \n",
       "\n",
       "                                      filtered_words  \\\n",
       "0  [dick, johnson, dead, father, nears, end, life...   \n",
       "1  [blood, water, crossing, paths, party, cape, t...   \n",
       "2  [ganglands, protect, family, powerful, drug, l...   \n",
       "3  [jailbirds, new, orleans, feuds, flirtations, ...   \n",
       "4  [kota, factory, city, coaching, centers, known...   \n",
       "\n",
       "                                  tfidf_count_vector  \\\n",
       "0  (1.0, 1.0, 1.0, 1.0, 0.0, 0.0, 0.0, 0.0, 0.0, ...   \n",
       "1  (0.0, 0.0, 1.0, 1.0, 0.0, 0.0, 1.0, 0.0, 0.0, ...   \n",
       "2  (0.0, 0.0, 0.0, 1.0, 1.0, 0.0, 0.0, 0.0, 0.0, ...   \n",
       "3  (0.0, 1.0, 0.0, 0.0, 0.0, 1.0, 0.0, 0.0, 0.0, ...   \n",
       "4  (0.0, 0.0, 0.0, 0.0, 0.0, 0.0, 0.0, 0.0, 0.0, ...   \n",
       "\n",
       "                                      features_tfidf  \n",
       "0  (1.3081758839995092, 1.4165681357833297, 1.152...  \n",
       "1  (0.0, 0.0, 1.1529411240992409, 1.2580892127780...  \n",
       "2  (0.0, 0.0, 0.0, 1.258089212778042, 1.319404387...  \n",
       "3  (0.0, 1.4165681357833297, 0.0, 0.0, 0.0, 1.321...  \n",
       "4  (0.0, 0.0, 0.0, 0.0, 0.0, 0.0, 0.0, 0.0, 0.0, ...  "
      ]
     },
     "execution_count": 17,
     "metadata": {},
     "output_type": "execute_result"
    }
   ],
   "source": [
    "feature_tfidf_df.limit(5).toPandas().head()"
   ]
  },
  {
   "cell_type": "code",
   "execution_count": 18,
   "id": "080a2bcd",
   "metadata": {
    "execution": {
     "iopub.execute_input": "2022-05-31T11:22:22.055320Z",
     "iopub.status.busy": "2022-05-31T11:22:22.054359Z",
     "iopub.status.idle": "2022-05-31T11:22:22.396087Z",
     "shell.execute_reply": "2022-05-31T11:22:22.394694Z",
     "shell.execute_reply.started": "2022-03-19T13:41:21.189313Z"
    },
    "papermill": {
     "duration": 0.561092,
     "end_time": "2022-05-31T11:22:22.396323",
     "exception": false,
     "start_time": "2022-05-31T11:22:21.835231",
     "status": "completed"
    },
    "tags": []
   },
   "outputs": [
    {
     "data": {
      "text/html": [
       "<div>\n",
       "<style scoped>\n",
       "    .dataframe tbody tr th:only-of-type {\n",
       "        vertical-align: middle;\n",
       "    }\n",
       "\n",
       "    .dataframe tbody tr th {\n",
       "        vertical-align: top;\n",
       "    }\n",
       "\n",
       "    .dataframe thead th {\n",
       "        text-align: right;\n",
       "    }\n",
       "</style>\n",
       "<table border=\"1\" class=\"dataframe\">\n",
       "  <thead>\n",
       "    <tr style=\"text-align: right;\">\n",
       "      <th></th>\n",
       "      <th>show_id</th>\n",
       "      <th>input_text</th>\n",
       "      <th>regex_tokenizer_words</th>\n",
       "      <th>filtered_words</th>\n",
       "      <th>tfidf_count_vector</th>\n",
       "      <th>features_tfidf</th>\n",
       "      <th>features_count</th>\n",
       "    </tr>\n",
       "  </thead>\n",
       "  <tbody>\n",
       "    <tr>\n",
       "      <th>0</th>\n",
       "      <td>s1</td>\n",
       "      <td>dick johnson is dead as her father nears the e...</td>\n",
       "      <td>[dick, johnson, is, dead, as, her, father, nea...</td>\n",
       "      <td>[dick, johnson, dead, father, nears, end, life...</td>\n",
       "      <td>(1.0, 1.0, 1.0, 1.0, 0.0, 0.0, 0.0, 0.0, 0.0, ...</td>\n",
       "      <td>(1.3081758839995092, 1.4165681357833297, 1.152...</td>\n",
       "      <td>(1.0, 1.0, 1.0, 1.0, 0.0, 0.0, 0.0, 0.0, 0.0, ...</td>\n",
       "    </tr>\n",
       "    <tr>\n",
       "      <th>1</th>\n",
       "      <td>s2</td>\n",
       "      <td>blood &amp; water after crossing paths at a party,...</td>\n",
       "      <td>[blood, water, after, crossing, paths, at, a, ...</td>\n",
       "      <td>[blood, water, crossing, paths, party, cape, t...</td>\n",
       "      <td>(0.0, 0.0, 1.0, 1.0, 0.0, 0.0, 1.0, 0.0, 0.0, ...</td>\n",
       "      <td>(0.0, 0.0, 1.1529411240992409, 1.2580892127780...</td>\n",
       "      <td>(0.0, 0.0, 1.0, 1.0, 0.0, 0.0, 1.0, 0.0, 0.0, ...</td>\n",
       "    </tr>\n",
       "    <tr>\n",
       "      <th>2</th>\n",
       "      <td>s3</td>\n",
       "      <td>ganglands to protect his family from a powerfu...</td>\n",
       "      <td>[ganglands, to, protect, his, family, from, a,...</td>\n",
       "      <td>[ganglands, protect, family, powerful, drug, l...</td>\n",
       "      <td>(0.0, 0.0, 0.0, 1.0, 1.0, 0.0, 0.0, 0.0, 0.0, ...</td>\n",
       "      <td>(0.0, 0.0, 0.0, 1.258089212778042, 1.319404387...</td>\n",
       "      <td>(0.0, 0.0, 0.0, 1.0, 1.0, 0.0, 0.0, 0.0, 0.0, ...</td>\n",
       "    </tr>\n",
       "    <tr>\n",
       "      <th>3</th>\n",
       "      <td>s4</td>\n",
       "      <td>jailbirds new orleans feuds, flirtations and t...</td>\n",
       "      <td>[jailbirds, new, orleans, feuds, flirtations, ...</td>\n",
       "      <td>[jailbirds, new, orleans, feuds, flirtations, ...</td>\n",
       "      <td>(0.0, 1.0, 0.0, 0.0, 0.0, 1.0, 0.0, 0.0, 0.0, ...</td>\n",
       "      <td>(0.0, 1.4165681357833297, 0.0, 0.0, 0.0, 1.321...</td>\n",
       "      <td>(0.0, 1.0, 0.0, 0.0, 0.0, 1.0, 0.0, 0.0, 0.0, ...</td>\n",
       "    </tr>\n",
       "    <tr>\n",
       "      <th>4</th>\n",
       "      <td>s5</td>\n",
       "      <td>kota factory in a city of coaching centers kno...</td>\n",
       "      <td>[kota, factory, in, a, city, of, coaching, cen...</td>\n",
       "      <td>[kota, factory, city, coaching, centers, known...</td>\n",
       "      <td>(0.0, 0.0, 0.0, 0.0, 0.0, 0.0, 0.0, 0.0, 0.0, ...</td>\n",
       "      <td>(0.0, 0.0, 0.0, 0.0, 0.0, 0.0, 0.0, 0.0, 0.0, ...</td>\n",
       "      <td>(0.0, 0.0, 0.0, 0.0, 0.0, 0.0, 0.0, 0.0, 0.0, ...</td>\n",
       "    </tr>\n",
       "  </tbody>\n",
       "</table>\n",
       "</div>"
      ],
      "text/plain": [
       "  show_id                                         input_text  \\\n",
       "0      s1  dick johnson is dead as her father nears the e...   \n",
       "1      s2  blood & water after crossing paths at a party,...   \n",
       "2      s3  ganglands to protect his family from a powerfu...   \n",
       "3      s4  jailbirds new orleans feuds, flirtations and t...   \n",
       "4      s5  kota factory in a city of coaching centers kno...   \n",
       "\n",
       "                               regex_tokenizer_words  \\\n",
       "0  [dick, johnson, is, dead, as, her, father, nea...   \n",
       "1  [blood, water, after, crossing, paths, at, a, ...   \n",
       "2  [ganglands, to, protect, his, family, from, a,...   \n",
       "3  [jailbirds, new, orleans, feuds, flirtations, ...   \n",
       "4  [kota, factory, in, a, city, of, coaching, cen...   \n",
       "\n",
       "                                      filtered_words  \\\n",
       "0  [dick, johnson, dead, father, nears, end, life...   \n",
       "1  [blood, water, crossing, paths, party, cape, t...   \n",
       "2  [ganglands, protect, family, powerful, drug, l...   \n",
       "3  [jailbirds, new, orleans, feuds, flirtations, ...   \n",
       "4  [kota, factory, city, coaching, centers, known...   \n",
       "\n",
       "                                  tfidf_count_vector  \\\n",
       "0  (1.0, 1.0, 1.0, 1.0, 0.0, 0.0, 0.0, 0.0, 0.0, ...   \n",
       "1  (0.0, 0.0, 1.0, 1.0, 0.0, 0.0, 1.0, 0.0, 0.0, ...   \n",
       "2  (0.0, 0.0, 0.0, 1.0, 1.0, 0.0, 0.0, 0.0, 0.0, ...   \n",
       "3  (0.0, 1.0, 0.0, 0.0, 0.0, 1.0, 0.0, 0.0, 0.0, ...   \n",
       "4  (0.0, 0.0, 0.0, 0.0, 0.0, 0.0, 0.0, 0.0, 0.0, ...   \n",
       "\n",
       "                                      features_tfidf  \\\n",
       "0  (1.3081758839995092, 1.4165681357833297, 1.152...   \n",
       "1  (0.0, 0.0, 1.1529411240992409, 1.2580892127780...   \n",
       "2  (0.0, 0.0, 0.0, 1.258089212778042, 1.319404387...   \n",
       "3  (0.0, 1.4165681357833297, 0.0, 0.0, 0.0, 1.321...   \n",
       "4  (0.0, 0.0, 0.0, 0.0, 0.0, 0.0, 0.0, 0.0, 0.0, ...   \n",
       "\n",
       "                                      features_count  \n",
       "0  (1.0, 1.0, 1.0, 1.0, 0.0, 0.0, 0.0, 0.0, 0.0, ...  \n",
       "1  (0.0, 0.0, 1.0, 1.0, 0.0, 0.0, 1.0, 0.0, 0.0, ...  \n",
       "2  (0.0, 0.0, 0.0, 1.0, 1.0, 0.0, 0.0, 0.0, 0.0, ...  \n",
       "3  (0.0, 1.0, 0.0, 0.0, 0.0, 1.0, 0.0, 0.0, 0.0, ...  \n",
       "4  (0.0, 0.0, 0.0, 0.0, 0.0, 0.0, 0.0, 0.0, 0.0, ...  "
      ]
     },
     "execution_count": 18,
     "metadata": {},
     "output_type": "execute_result"
    }
   ],
   "source": [
    "feature_count_tfidf_df.limit(5).toPandas().head()"
   ]
  },
  {
   "cell_type": "markdown",
   "id": "7943b4b1",
   "metadata": {
    "papermill": {
     "duration": 0.206517,
     "end_time": "2022-05-31T11:22:22.842152",
     "exception": false,
     "start_time": "2022-05-31T11:22:22.635635",
     "status": "completed"
    },
    "tags": []
   },
   "source": [
    "# 4. Format Conversion for Calculations"
   ]
  },
  {
   "cell_type": "markdown",
   "id": "0964a17d",
   "metadata": {
    "papermill": {
     "duration": 0.205753,
     "end_time": "2022-05-31T11:22:23.257740",
     "exception": false,
     "start_time": "2022-05-31T11:22:23.051987",
     "status": "completed"
    },
    "tags": []
   },
   "source": [
    "PySpark returns the features in the form of array of SparseVectors which need to be converted to SparseMatrix format supported by Scipy which is the library that Numpy builds upon.\n",
    "\n",
    "We want to have the SparseMatrix format in order for the sklearn similarity function to be able to calculate similarity on the vectors.\n",
    "\n",
    "First we want to convert the SparseVectors to plain array of list."
   ]
  },
  {
   "cell_type": "code",
   "execution_count": 19,
   "id": "70264d97",
   "metadata": {
    "execution": {
     "iopub.execute_input": "2022-05-31T11:22:23.680154Z",
     "iopub.status.busy": "2022-05-31T11:22:23.677139Z",
     "iopub.status.idle": "2022-05-31T11:22:23.787156Z",
     "shell.execute_reply": "2022-05-31T11:22:23.786216Z",
     "shell.execute_reply.started": "2022-03-19T13:41:21.332437Z"
    },
    "papermill": {
     "duration": 0.321111,
     "end_time": "2022-05-31T11:22:23.787384",
     "exception": false,
     "start_time": "2022-05-31T11:22:23.466273",
     "status": "completed"
    },
    "tags": []
   },
   "outputs": [],
   "source": [
    "import pyspark.sql.functions as F\n",
    "\n",
    "\n",
    "## internally vector_to_array function does the below steps\n",
    "# to_array = F.udf(lambda v: v.toArray().tolist(), T.ArrayType(T.FloatType()))\n",
    "# feature_df = feature_df.withColumn('array_features', to_array('features'))\n",
    "\n",
    "from pyspark.ml.functions import vector_to_array\n",
    "feature_count_tfidf_df = feature_count_tfidf_df.withColumn('array_features_tfidf', vector_to_array('features_tfidf'))\\\n",
    "                                    .withColumn('array_features_count', vector_to_array('features_count'))\n"
   ]
  },
  {
   "cell_type": "code",
   "execution_count": 20,
   "id": "b4b0013a",
   "metadata": {
    "execution": {
     "iopub.execute_input": "2022-05-31T11:22:24.245326Z",
     "iopub.status.busy": "2022-05-31T11:22:24.244260Z",
     "iopub.status.idle": "2022-05-31T11:22:28.170301Z",
     "shell.execute_reply": "2022-05-31T11:22:28.170962Z",
     "shell.execute_reply.started": "2022-03-19T13:41:21.369795Z"
    },
    "papermill": {
     "duration": 4.14311,
     "end_time": "2022-05-31T11:22:28.171151",
     "exception": false,
     "start_time": "2022-05-31T11:22:24.028041",
     "status": "completed"
    },
    "tags": []
   },
   "outputs": [
    {
     "name": "stderr",
     "output_type": "stream",
     "text": [
      "                                                                                \r"
     ]
    },
    {
     "data": {
      "text/html": [
       "<div>\n",
       "<style scoped>\n",
       "    .dataframe tbody tr th:only-of-type {\n",
       "        vertical-align: middle;\n",
       "    }\n",
       "\n",
       "    .dataframe tbody tr th {\n",
       "        vertical-align: top;\n",
       "    }\n",
       "\n",
       "    .dataframe thead th {\n",
       "        text-align: right;\n",
       "    }\n",
       "</style>\n",
       "<table border=\"1\" class=\"dataframe\">\n",
       "  <thead>\n",
       "    <tr style=\"text-align: right;\">\n",
       "      <th></th>\n",
       "      <th>show_id</th>\n",
       "      <th>input_text</th>\n",
       "      <th>regex_tokenizer_words</th>\n",
       "      <th>filtered_words</th>\n",
       "      <th>tfidf_count_vector</th>\n",
       "      <th>features_tfidf</th>\n",
       "      <th>features_count</th>\n",
       "      <th>array_features_tfidf</th>\n",
       "      <th>array_features_count</th>\n",
       "    </tr>\n",
       "  </thead>\n",
       "  <tbody>\n",
       "    <tr>\n",
       "      <th>0</th>\n",
       "      <td>s1</td>\n",
       "      <td>dick johnson is dead as her father nears the e...</td>\n",
       "      <td>[dick, johnson, is, dead, as, her, father, nea...</td>\n",
       "      <td>[dick, johnson, dead, father, nears, end, life...</td>\n",
       "      <td>(1.0, 1.0, 1.0, 1.0, 0.0, 0.0, 0.0, 0.0, 0.0, ...</td>\n",
       "      <td>(1.3081758839995092, 1.4165681357833297, 1.152...</td>\n",
       "      <td>(1.0, 1.0, 1.0, 1.0, 0.0, 0.0, 0.0, 0.0, 0.0, ...</td>\n",
       "      <td>[1.3081758839995092, 1.4165681357833297, 1.152...</td>\n",
       "      <td>[1.0, 1.0, 1.0, 1.0, 0.0, 0.0, 0.0, 0.0, 0.0, ...</td>\n",
       "    </tr>\n",
       "    <tr>\n",
       "      <th>1</th>\n",
       "      <td>s2</td>\n",
       "      <td>blood &amp; water after crossing paths at a party,...</td>\n",
       "      <td>[blood, water, after, crossing, paths, at, a, ...</td>\n",
       "      <td>[blood, water, crossing, paths, party, cape, t...</td>\n",
       "      <td>(0.0, 0.0, 1.0, 1.0, 0.0, 0.0, 1.0, 0.0, 0.0, ...</td>\n",
       "      <td>(0.0, 0.0, 1.1529411240992409, 1.2580892127780...</td>\n",
       "      <td>(0.0, 0.0, 1.0, 1.0, 0.0, 0.0, 1.0, 0.0, 0.0, ...</td>\n",
       "      <td>[0.0, 0.0, 1.1529411240992409, 1.2580892127780...</td>\n",
       "      <td>[0.0, 0.0, 1.0, 1.0, 0.0, 0.0, 1.0, 0.0, 0.0, ...</td>\n",
       "    </tr>\n",
       "    <tr>\n",
       "      <th>2</th>\n",
       "      <td>s3</td>\n",
       "      <td>ganglands to protect his family from a powerfu...</td>\n",
       "      <td>[ganglands, to, protect, his, family, from, a,...</td>\n",
       "      <td>[ganglands, protect, family, powerful, drug, l...</td>\n",
       "      <td>(0.0, 0.0, 0.0, 1.0, 1.0, 0.0, 0.0, 0.0, 0.0, ...</td>\n",
       "      <td>(0.0, 0.0, 0.0, 1.258089212778042, 1.319404387...</td>\n",
       "      <td>(0.0, 0.0, 0.0, 1.0, 1.0, 0.0, 0.0, 0.0, 0.0, ...</td>\n",
       "      <td>[0.0, 0.0, 0.0, 1.258089212778042, 1.319404387...</td>\n",
       "      <td>[0.0, 0.0, 0.0, 1.0, 1.0, 0.0, 0.0, 0.0, 0.0, ...</td>\n",
       "    </tr>\n",
       "    <tr>\n",
       "      <th>3</th>\n",
       "      <td>s4</td>\n",
       "      <td>jailbirds new orleans feuds, flirtations and t...</td>\n",
       "      <td>[jailbirds, new, orleans, feuds, flirtations, ...</td>\n",
       "      <td>[jailbirds, new, orleans, feuds, flirtations, ...</td>\n",
       "      <td>(0.0, 1.0, 0.0, 0.0, 0.0, 1.0, 0.0, 0.0, 0.0, ...</td>\n",
       "      <td>(0.0, 1.4165681357833297, 0.0, 0.0, 0.0, 1.321...</td>\n",
       "      <td>(0.0, 1.0, 0.0, 0.0, 0.0, 1.0, 0.0, 0.0, 0.0, ...</td>\n",
       "      <td>[0.0, 1.4165681357833297, 0.0, 0.0, 0.0, 1.321...</td>\n",
       "      <td>[0.0, 1.0, 0.0, 0.0, 0.0, 1.0, 0.0, 0.0, 0.0, ...</td>\n",
       "    </tr>\n",
       "    <tr>\n",
       "      <th>4</th>\n",
       "      <td>s5</td>\n",
       "      <td>kota factory in a city of coaching centers kno...</td>\n",
       "      <td>[kota, factory, in, a, city, of, coaching, cen...</td>\n",
       "      <td>[kota, factory, city, coaching, centers, known...</td>\n",
       "      <td>(0.0, 0.0, 0.0, 0.0, 0.0, 0.0, 0.0, 0.0, 0.0, ...</td>\n",
       "      <td>(0.0, 0.0, 0.0, 0.0, 0.0, 0.0, 0.0, 0.0, 0.0, ...</td>\n",
       "      <td>(0.0, 0.0, 0.0, 0.0, 0.0, 0.0, 0.0, 0.0, 0.0, ...</td>\n",
       "      <td>[0.0, 0.0, 0.0, 0.0, 0.0, 0.0, 0.0, 0.0, 0.0, ...</td>\n",
       "      <td>[0.0, 0.0, 0.0, 0.0, 0.0, 0.0, 0.0, 0.0, 0.0, ...</td>\n",
       "    </tr>\n",
       "  </tbody>\n",
       "</table>\n",
       "</div>"
      ],
      "text/plain": [
       "  show_id                                         input_text  \\\n",
       "0      s1  dick johnson is dead as her father nears the e...   \n",
       "1      s2  blood & water after crossing paths at a party,...   \n",
       "2      s3  ganglands to protect his family from a powerfu...   \n",
       "3      s4  jailbirds new orleans feuds, flirtations and t...   \n",
       "4      s5  kota factory in a city of coaching centers kno...   \n",
       "\n",
       "                               regex_tokenizer_words  \\\n",
       "0  [dick, johnson, is, dead, as, her, father, nea...   \n",
       "1  [blood, water, after, crossing, paths, at, a, ...   \n",
       "2  [ganglands, to, protect, his, family, from, a,...   \n",
       "3  [jailbirds, new, orleans, feuds, flirtations, ...   \n",
       "4  [kota, factory, in, a, city, of, coaching, cen...   \n",
       "\n",
       "                                      filtered_words  \\\n",
       "0  [dick, johnson, dead, father, nears, end, life...   \n",
       "1  [blood, water, crossing, paths, party, cape, t...   \n",
       "2  [ganglands, protect, family, powerful, drug, l...   \n",
       "3  [jailbirds, new, orleans, feuds, flirtations, ...   \n",
       "4  [kota, factory, city, coaching, centers, known...   \n",
       "\n",
       "                                  tfidf_count_vector  \\\n",
       "0  (1.0, 1.0, 1.0, 1.0, 0.0, 0.0, 0.0, 0.0, 0.0, ...   \n",
       "1  (0.0, 0.0, 1.0, 1.0, 0.0, 0.0, 1.0, 0.0, 0.0, ...   \n",
       "2  (0.0, 0.0, 0.0, 1.0, 1.0, 0.0, 0.0, 0.0, 0.0, ...   \n",
       "3  (0.0, 1.0, 0.0, 0.0, 0.0, 1.0, 0.0, 0.0, 0.0, ...   \n",
       "4  (0.0, 0.0, 0.0, 0.0, 0.0, 0.0, 0.0, 0.0, 0.0, ...   \n",
       "\n",
       "                                      features_tfidf  \\\n",
       "0  (1.3081758839995092, 1.4165681357833297, 1.152...   \n",
       "1  (0.0, 0.0, 1.1529411240992409, 1.2580892127780...   \n",
       "2  (0.0, 0.0, 0.0, 1.258089212778042, 1.319404387...   \n",
       "3  (0.0, 1.4165681357833297, 0.0, 0.0, 0.0, 1.321...   \n",
       "4  (0.0, 0.0, 0.0, 0.0, 0.0, 0.0, 0.0, 0.0, 0.0, ...   \n",
       "\n",
       "                                      features_count  \\\n",
       "0  (1.0, 1.0, 1.0, 1.0, 0.0, 0.0, 0.0, 0.0, 0.0, ...   \n",
       "1  (0.0, 0.0, 1.0, 1.0, 0.0, 0.0, 1.0, 0.0, 0.0, ...   \n",
       "2  (0.0, 0.0, 0.0, 1.0, 1.0, 0.0, 0.0, 0.0, 0.0, ...   \n",
       "3  (0.0, 1.0, 0.0, 0.0, 0.0, 1.0, 0.0, 0.0, 0.0, ...   \n",
       "4  (0.0, 0.0, 0.0, 0.0, 0.0, 0.0, 0.0, 0.0, 0.0, ...   \n",
       "\n",
       "                                array_features_tfidf  \\\n",
       "0  [1.3081758839995092, 1.4165681357833297, 1.152...   \n",
       "1  [0.0, 0.0, 1.1529411240992409, 1.2580892127780...   \n",
       "2  [0.0, 0.0, 0.0, 1.258089212778042, 1.319404387...   \n",
       "3  [0.0, 1.4165681357833297, 0.0, 0.0, 0.0, 1.321...   \n",
       "4  [0.0, 0.0, 0.0, 0.0, 0.0, 0.0, 0.0, 0.0, 0.0, ...   \n",
       "\n",
       "                                array_features_count  \n",
       "0  [1.0, 1.0, 1.0, 1.0, 0.0, 0.0, 0.0, 0.0, 0.0, ...  \n",
       "1  [0.0, 0.0, 1.0, 1.0, 0.0, 0.0, 1.0, 0.0, 0.0, ...  \n",
       "2  [0.0, 0.0, 0.0, 1.0, 1.0, 0.0, 0.0, 0.0, 0.0, ...  \n",
       "3  [0.0, 1.0, 0.0, 0.0, 0.0, 1.0, 0.0, 0.0, 0.0, ...  \n",
       "4  [0.0, 0.0, 0.0, 0.0, 0.0, 0.0, 0.0, 0.0, 0.0, ...  "
      ]
     },
     "execution_count": 20,
     "metadata": {},
     "output_type": "execute_result"
    }
   ],
   "source": [
    "feature_count_tfidf_df.toPandas().head()"
   ]
  },
  {
   "cell_type": "code",
   "execution_count": 21,
   "id": "b670f44c",
   "metadata": {
    "execution": {
     "iopub.execute_input": "2022-05-31T11:22:28.609716Z",
     "iopub.status.busy": "2022-05-31T11:22:28.608091Z",
     "iopub.status.idle": "2022-05-31T11:22:31.674310Z",
     "shell.execute_reply": "2022-05-31T11:22:31.673740Z",
     "shell.execute_reply.started": "2022-03-19T13:41:24.740277Z"
    },
    "papermill": {
     "duration": 3.27868,
     "end_time": "2022-05-31T11:22:31.674462",
     "exception": false,
     "start_time": "2022-05-31T11:22:28.395782",
     "status": "completed"
    },
    "tags": []
   },
   "outputs": [
    {
     "name": "stderr",
     "output_type": "stream",
     "text": [
      "                                                                                \r"
     ]
    }
   ],
   "source": [
    "feature_count_tfidf_df_pandas = feature_count_tfidf_df.toPandas()"
   ]
  },
  {
   "cell_type": "code",
   "execution_count": 22,
   "id": "c7751438",
   "metadata": {
    "execution": {
     "iopub.execute_input": "2022-05-31T11:22:32.112959Z",
     "iopub.status.busy": "2022-05-31T11:22:32.112280Z",
     "iopub.status.idle": "2022-05-31T11:22:32.118312Z",
     "shell.execute_reply": "2022-05-31T11:22:32.118895Z",
     "shell.execute_reply.started": "2022-03-19T13:41:28.59367Z"
    },
    "papermill": {
     "duration": 0.223314,
     "end_time": "2022-05-31T11:22:32.119137",
     "exception": false,
     "start_time": "2022-05-31T11:22:31.895823",
     "status": "completed"
    },
    "tags": []
   },
   "outputs": [
    {
     "data": {
      "text/plain": [
       "array([SparseVector(50, {0: 1.0, 1: 1.0, 2: 1.0, 3: 1.0, 19: 1.0, 25: 1.0, 27: 1.0, 28: 1.0, 29: 1.0, 30: 2.0, 34: 1.0, 38: 1.0, 41: 1.0, 43: 1.0, 45: 1.0, 47: 1.0, 48: 1.0}),\n",
       "       SparseVector(50, {2: 1.0, 3: 1.0, 6: 1.0, 9: 1.0, 14: 1.0, 15: 1.0, 20: 1.0, 21: 1.0, 23: 1.0, 26: 1.0, 29: 2.0, 36: 1.0, 39: 1.0, 41: 1.0, 42: 1.0, 47: 1.0, 49: 1.0})],\n",
       "      dtype=object)"
      ]
     },
     "execution_count": 22,
     "metadata": {},
     "output_type": "execute_result"
    }
   ],
   "source": [
    "feature_count_tfidf_df_pandas['features_count'].values[:2]"
   ]
  },
  {
   "cell_type": "code",
   "execution_count": 23,
   "id": "327b4a02",
   "metadata": {
    "execution": {
     "iopub.execute_input": "2022-05-31T11:22:32.546436Z",
     "iopub.status.busy": "2022-05-31T11:22:32.545638Z",
     "iopub.status.idle": "2022-05-31T11:22:32.551119Z",
     "shell.execute_reply": "2022-05-31T11:22:32.551600Z",
     "shell.execute_reply.started": "2022-03-19T13:41:28.604615Z"
    },
    "papermill": {
     "duration": 0.224306,
     "end_time": "2022-05-31T11:22:32.551777",
     "exception": false,
     "start_time": "2022-05-31T11:22:32.327471",
     "status": "completed"
    },
    "tags": []
   },
   "outputs": [
    {
     "data": {
      "text/plain": [
       "array([list([1.0, 1.0, 1.0, 1.0, 0.0, 0.0, 0.0, 0.0, 0.0, 0.0, 0.0, 0.0, 0.0, 0.0, 0.0, 0.0, 0.0, 0.0, 0.0, 1.0, 0.0, 0.0, 0.0, 0.0, 0.0, 1.0, 0.0, 1.0, 1.0, 1.0, 2.0, 0.0, 0.0, 0.0, 1.0, 0.0, 0.0, 0.0, 1.0, 0.0, 0.0, 1.0, 0.0, 1.0, 0.0, 1.0, 0.0, 1.0, 1.0, 0.0]),\n",
       "       list([0.0, 0.0, 1.0, 1.0, 0.0, 0.0, 1.0, 0.0, 0.0, 1.0, 0.0, 0.0, 0.0, 0.0, 1.0, 1.0, 0.0, 0.0, 0.0, 0.0, 1.0, 1.0, 0.0, 1.0, 0.0, 0.0, 1.0, 0.0, 0.0, 2.0, 0.0, 0.0, 0.0, 0.0, 0.0, 0.0, 1.0, 0.0, 0.0, 1.0, 0.0, 1.0, 1.0, 0.0, 0.0, 0.0, 0.0, 1.0, 0.0, 1.0])],\n",
       "      dtype=object)"
      ]
     },
     "execution_count": 23,
     "metadata": {},
     "output_type": "execute_result"
    }
   ],
   "source": [
    "feature_count_tfidf_df_pandas['array_features_count'].values[:2]"
   ]
  },
  {
   "cell_type": "markdown",
   "id": "560010c0",
   "metadata": {
    "papermill": {
     "duration": 0.212808,
     "end_time": "2022-05-31T11:22:32.980730",
     "exception": false,
     "start_time": "2022-05-31T11:22:32.767922",
     "status": "completed"
    },
    "tags": []
   },
   "source": [
    "The array of list would finally be converted to Compressed Sparse Row matrix which is suitable for the similarity calculation method offered by sklearn package.\n",
    "\n",
    "> scipy.sparse.csr_matrix(list(feature_df_pandas['array_features'].values))\n",
    "\n",
    "The above snippet of code takes care of the final conversion."
   ]
  },
  {
   "cell_type": "markdown",
   "id": "4b30ba2b",
   "metadata": {
    "papermill": {
     "duration": 0.214486,
     "end_time": "2022-05-31T11:22:33.404949",
     "exception": false,
     "start_time": "2022-05-31T11:22:33.190463",
     "status": "completed"
    },
    "tags": []
   },
   "source": [
    "Here I have calculated the similarity for the entire corpus with itself simply to demonstrate the use of cosine_similarity method. It works fast on sparse matrices for our scale of data."
   ]
  },
  {
   "cell_type": "code",
   "execution_count": 24,
   "id": "60170709",
   "metadata": {
    "execution": {
     "iopub.execute_input": "2022-05-31T11:22:33.836820Z",
     "iopub.status.busy": "2022-05-31T11:22:33.836142Z",
     "iopub.status.idle": "2022-05-31T11:22:38.654396Z",
     "shell.execute_reply": "2022-05-31T11:22:38.653854Z",
     "shell.execute_reply.started": "2022-03-19T13:41:28.625154Z"
    },
    "papermill": {
     "duration": 5.032508,
     "end_time": "2022-05-31T11:22:38.654554",
     "exception": false,
     "start_time": "2022-05-31T11:22:33.622046",
     "status": "completed"
    },
    "tags": []
   },
   "outputs": [],
   "source": [
    "import scipy\n",
    "from sklearn.metrics.pairwise import cosine_similarity\n",
    "\n",
    "similarity = cosine_similarity(scipy.sparse.csr_matrix(list(feature_count_tfidf_df_pandas['array_features_tfidf'].values)), scipy.sparse.csr_matrix(list(feature_count_tfidf_df_pandas['array_features_tfidf'].values)))"
   ]
  },
  {
   "cell_type": "code",
   "execution_count": 25,
   "id": "363049c8",
   "metadata": {
    "execution": {
     "iopub.execute_input": "2022-05-31T11:22:39.086221Z",
     "iopub.status.busy": "2022-05-31T11:22:39.085448Z",
     "iopub.status.idle": "2022-05-31T11:22:39.088554Z",
     "shell.execute_reply": "2022-05-31T11:22:39.089062Z",
     "shell.execute_reply.started": "2022-03-19T13:41:32.5507Z"
    },
    "papermill": {
     "duration": 0.223344,
     "end_time": "2022-05-31T11:22:39.089243",
     "exception": false,
     "start_time": "2022-05-31T11:22:38.865899",
     "status": "completed"
    },
    "tags": []
   },
   "outputs": [
    {
     "data": {
      "text/plain": [
       "(8282, 8282)"
      ]
     },
     "execution_count": 25,
     "metadata": {},
     "output_type": "execute_result"
    }
   ],
   "source": [
    "similarity.shape"
   ]
  },
  {
   "cell_type": "markdown",
   "id": "02e24b83",
   "metadata": {
    "papermill": {
     "duration": 0.210415,
     "end_time": "2022-05-31T11:22:39.508312",
     "exception": false,
     "start_time": "2022-05-31T11:22:39.297897",
     "status": "completed"
    },
    "tags": []
   },
   "source": [
    "# 5. Preparing for Prediction for New Entries"
   ]
  },
  {
   "cell_type": "markdown",
   "id": "8db70d67",
   "metadata": {
    "papermill": {
     "duration": 0.210633,
     "end_time": "2022-05-31T11:22:39.930143",
     "exception": false,
     "start_time": "2022-05-31T11:22:39.719510",
     "status": "completed"
    },
    "tags": []
   },
   "source": [
    "The function 'new_entry_prediction()' has been designed to take a search text, the number of similarity results one would like to see, both the pipelines for tfidf and count vector, the corpus with the prepared main features and a flag to prompt whether tfidf model is to be used for similarity calculation or count vector model."
   ]
  },
  {
   "cell_type": "markdown",
   "id": "2dda0537",
   "metadata": {
    "papermill": {
     "duration": 0.208093,
     "end_time": "2022-05-31T11:22:40.350852",
     "exception": false,
     "start_time": "2022-05-31T11:22:40.142759",
     "status": "completed"
    },
    "tags": []
   },
   "source": [
    "Now we'll get to see what kind of recommendations our designed engine is making given a few categories of content like war, comedy, romance etc.\n",
    "\n",
    "So for each text input we'll have two similarity results, one from TFIDF and the other from Count Vector"
   ]
  },
  {
   "cell_type": "code",
   "execution_count": 26,
   "id": "6ac20ef2",
   "metadata": {
    "execution": {
     "iopub.execute_input": "2022-05-31T11:22:40.780453Z",
     "iopub.status.busy": "2022-05-31T11:22:40.779744Z",
     "iopub.status.idle": "2022-05-31T11:22:40.787080Z",
     "shell.execute_reply": "2022-05-31T11:22:40.787642Z",
     "shell.execute_reply.started": "2022-03-19T13:41:32.559197Z"
    },
    "papermill": {
     "duration": 0.227487,
     "end_time": "2022-05-31T11:22:40.787811",
     "exception": false,
     "start_time": "2022-05-31T11:22:40.560324",
     "status": "completed"
    },
    "tags": []
   },
   "outputs": [],
   "source": [
    "def new_entry_prediction(search_text, top_n_results, pipeline_fitted_tfidf, \n",
    "                         pipeline_fitted_count, prepared_feature_corpus, tfidf_flag = True):\n",
    "    #import math\n",
    "    \n",
    "    if tfidf_flag:\n",
    "        feature_array_col = 'array_features_tfidf'\n",
    "    else:\n",
    "        feature_array_col = 'array_features_count'\n",
    "        \n",
    "    pred_raw_data = pd.DataFrame(data = {\"input_text\":[search_text]})\n",
    "    pred_raw_data['input_text'] = pred_raw_data['input_text'].str.lower()\n",
    "    \n",
    "    test_input = spark.createDataFrame(pred_raw_data)\n",
    "    \n",
    "    #pred_feature_df = pipeline_fitted.transform(test_input)\n",
    "    feature_tfidf_df = pipeline_tfidf_fit.transform(test_input)\n",
    "    pred_feature_df = pipeline_fitted_count.transform(feature_tfidf_df)\n",
    "    \n",
    "    pred_feature_df = pred_feature_df.withColumn('array_features_tfidf', vector_to_array('features_tfidf'))\\\n",
    "                                    .withColumn('array_features_count', vector_to_array('features_count'))\n",
    "    \n",
    "    pred_feature_df_pandas = pred_feature_df.toPandas()\n",
    "    #print(pred_feature_df_pandas.columns)\n",
    "    \n",
    "    pred_similarity = cosine_similarity( scipy.sparse.csr_matrix(list(prepared_feature_corpus[feature_array_col].values)),\n",
    "                                        scipy.sparse.csr_matrix(list(pred_feature_df_pandas[feature_array_col].values)))\n",
    "    \n",
    "    prepared_feature_corpus['predicted_similarity'] = pred_similarity\n",
    "    \n",
    "    top_n_df = None\n",
    "    shape_corpus = prepared_feature_corpus.shape[0]\n",
    "    if top_n_results > 0 and top_n_results<=shape_corpus:\n",
    "        top_n_df = prepared_feature_corpus.sort_values(['predicted_similarity'], ascending = False).head(top_n_results)\n",
    "    \n",
    "    else:\n",
    "        print(\"Kindly put a value between 1 and {0}\".format(shape_corpus))\n",
    "    \n",
    "    if top_n_df is not None:\n",
    "        print(\"Recommendations: \\n\")\n",
    "        print_df = top_n_df[['input_text', 'predicted_similarity']]\n",
    "        #print(top_n_df[['input_text', 'predicted_similarity']])\n",
    "        for i in range(0, top_n_df.shape[0]):\n",
    "            print(str(i+1)+ '.')\n",
    "            print(print_df.iloc[i].input_text)\n",
    "            print('----> with a Similarity Score: '+str(print_df.iloc[i].predicted_similarity)+ '<---- \\n')\n",
    "        \n",
    "    return top_n_df"
   ]
  },
  {
   "cell_type": "markdown",
   "id": "53d12b3a",
   "metadata": {
    "papermill": {
     "duration": 0.213448,
     "end_time": "2022-05-31T11:22:41.210921",
     "exception": false,
     "start_time": "2022-05-31T11:22:40.997473",
     "status": "completed"
    },
    "tags": []
   },
   "source": [
    "# 6. Prediction Cases, Observations and Analysis"
   ]
  },
  {
   "cell_type": "markdown",
   "id": "35976721",
   "metadata": {
    "papermill": {
     "duration": 0.207476,
     "end_time": "2022-05-31T11:22:41.628172",
     "exception": false,
     "start_time": "2022-05-31T11:22:41.420696",
     "status": "completed"
    },
    "tags": []
   },
   "source": [
    "# Action Content "
   ]
  },
  {
   "cell_type": "code",
   "execution_count": 27,
   "id": "46a7e018",
   "metadata": {
    "execution": {
     "iopub.execute_input": "2022-05-31T11:22:42.056119Z",
     "iopub.status.busy": "2022-05-31T11:22:42.055480Z",
     "iopub.status.idle": "2022-05-31T11:22:42.749630Z",
     "shell.execute_reply": "2022-05-31T11:22:42.750501Z",
     "shell.execute_reply.started": "2022-03-19T13:41:32.579974Z"
    },
    "papermill": {
     "duration": 0.912122,
     "end_time": "2022-05-31T11:22:42.750768",
     "exception": false,
     "start_time": "2022-05-31T11:22:41.838646",
     "status": "completed"
    },
    "tags": []
   },
   "outputs": [
    {
     "name": "stdout",
     "output_type": "stream",
     "text": [
      "Recommendations: \n",
      "\n",
      "1.\n",
      "the angry birds movie 2 enemies turn into frenemies when the pigs call for a truce with the birds to unite against a formidable new foe that’s threatening all of their homes.\n",
      "----> with a Similarity Score: 0.6992710609628546<---- \n",
      "\n",
      "2.\n",
      "anger management after a gentle businessman is forced to get anger management counseling, his therapist moves in – but turns out to have anger issues of his own.\n",
      "----> with a Similarity Score: 0.6590344380433819<---- \n",
      "\n",
      "3.\n",
      "memory love losing her memory – and her boyfriend – after a car accident, jia-en crosses paths with a heart transplant recipient who helps her recall her past.\n",
      "----> with a Similarity Score: 0.6511586646883918<---- \n",
      "\n",
      "4.\n",
      "the writer when accused of a murder eerily parallel to a plot in his novel, a best-selling crime writer must navigate a web of hidden enemies.\n",
      "----> with a Similarity Score: 0.6272922007712964<---- \n",
      "\n",
      "5.\n",
      "power rangers samurai a new generation of power rangers must master the symbols of samurai power, which give them control over the earth's elements to battle dark forces.\n",
      "----> with a Similarity Score: 0.6234307042133657<---- \n",
      "\n"
     ]
    }
   ],
   "source": [
    "search_text = 'action fight crime fighting scenes punching guns mafia'\n",
    "top_n_results = 5\n",
    "pipeline_fitted_tfidf = pipeline_tfidf_fit\n",
    "pipeline_fitted_count = pipeline_count_fit\n",
    "prepared_feature_corpus = feature_count_tfidf_df_pandas\n",
    "top_n_df = new_entry_prediction(search_text, top_n_results, pipeline_fitted_tfidf, \n",
    "                                pipeline_fitted_count, prepared_feature_corpus, tfidf_flag = True)"
   ]
  },
  {
   "cell_type": "code",
   "execution_count": 28,
   "id": "56d8e3ba",
   "metadata": {
    "execution": {
     "iopub.execute_input": "2022-05-31T11:22:43.221927Z",
     "iopub.status.busy": "2022-05-31T11:22:43.220860Z",
     "iopub.status.idle": "2022-05-31T11:22:43.875144Z",
     "shell.execute_reply": "2022-05-31T11:22:43.876076Z",
     "shell.execute_reply.started": "2022-03-19T13:41:33.166492Z"
    },
    "papermill": {
     "duration": 0.880183,
     "end_time": "2022-05-31T11:22:43.876339",
     "exception": false,
     "start_time": "2022-05-31T11:22:42.996156",
     "status": "completed"
    },
    "tags": []
   },
   "outputs": [
    {
     "name": "stdout",
     "output_type": "stream",
     "text": [
      "Recommendations: \n",
      "\n",
      "1.\n",
      "the angry birds movie 2 enemies turn into frenemies when the pigs call for a truce with the birds to unite against a formidable new foe that’s threatening all of their homes.\n",
      "----> with a Similarity Score: 0.6741998624632419<---- \n",
      "\n",
      "2.\n",
      "anger management after a gentle businessman is forced to get anger management counseling, his therapist moves in – but turns out to have anger issues of his own.\n",
      "----> with a Similarity Score: 0.6454972243679029<---- \n",
      "\n",
      "3.\n",
      "memory love losing her memory – and her boyfriend – after a car accident, jia-en crosses paths with a heart transplant recipient who helps her recall her past.\n",
      "----> with a Similarity Score: 0.632455532033676<---- \n",
      "\n",
      "4.\n",
      "between two ferns: the movie armed with awkward questions and zero self-awareness, zach galifianakis hits the road to find famous interview subjects for his no-budget talk show.\n",
      "----> with a Similarity Score: 0.6201736729460423<---- \n",
      "\n",
      "5.\n",
      "the writer when accused of a murder eerily parallel to a plot in his novel, a best-selling crime writer must navigate a web of hidden enemies.\n",
      "----> with a Similarity Score: 0.5976143046671968<---- \n",
      "\n"
     ]
    }
   ],
   "source": [
    "search_text = 'action fight crime fighting scenes punching guns mafia'\n",
    "top_n_results = 5\n",
    "pipeline_fitted_tfidf = pipeline_tfidf_fit\n",
    "pipeline_fitted_count = pipeline_count_fit\n",
    "prepared_feature_corpus = feature_count_tfidf_df_pandas\n",
    "top_n_df = new_entry_prediction(search_text, top_n_results, pipeline_fitted_tfidf, \n",
    "                                pipeline_fitted_count, prepared_feature_corpus, tfidf_flag = False)"
   ]
  },
  {
   "cell_type": "markdown",
   "id": "a914d8a5",
   "metadata": {
    "papermill": {
     "duration": 0.214492,
     "end_time": "2022-05-31T11:22:44.350234",
     "exception": false,
     "start_time": "2022-05-31T11:22:44.135742",
     "status": "completed"
    },
    "tags": []
   },
   "source": [
    "# Analysis"
   ]
  },
  {
   "cell_type": "markdown",
   "id": "a1779f39",
   "metadata": {
    "papermill": {
     "duration": 0.212701,
     "end_time": "2022-05-31T11:22:44.775586",
     "exception": false,
     "start_time": "2022-05-31T11:22:44.562885",
     "status": "completed"
    },
    "tags": []
   },
   "source": [
    "#### This seems to be fine but I believe that the 4th document in TFIDF should have been at the top as it covers the keywords more intensely. Notice how the word 'crime' is present in both query and 4th result but still it gets the 4th rank.\n",
    "\n",
    "#### Also its funny how 'between two ferns' seems to have ended up 4th on Count Vector's list because it had the word 'armed' even though it has nothing to do with the context of violence here. And that my friends is how Bag of Words algorithms fail to capture the context of words.\n",
    "\n",
    "#### It means that the words would be deemed same in BoW algorithms as it doesn't consider the context or the surrounding words when making its vectors\n",
    "* 'dog toy' - a toy for the dog to play with \n",
    "* 'toy dog' - a dummy of a dog/soft toy perhaps to play with\n",
    "\n",
    "#### It may seem initially like TFIDF did better here because of the 'between the ferns' mistake made by CountVector but it did also miss the word 'crime' which would be so basic for any recommendation to be made. We can see that it is a property of Count Vectors to have a benefit when two texts that are being compared share same keywords."
   ]
  },
  {
   "cell_type": "markdown",
   "id": "479cdb8f",
   "metadata": {
    "papermill": {
     "duration": 0.212342,
     "end_time": "2022-05-31T11:22:45.198029",
     "exception": false,
     "start_time": "2022-05-31T11:22:44.985687",
     "status": "completed"
    },
    "tags": []
   },
   "source": [
    "# Romantic Comedy Content"
   ]
  },
  {
   "cell_type": "code",
   "execution_count": 29,
   "id": "762a98eb",
   "metadata": {
    "execution": {
     "iopub.execute_input": "2022-05-31T11:22:45.632703Z",
     "iopub.status.busy": "2022-05-31T11:22:45.631715Z",
     "iopub.status.idle": "2022-05-31T11:22:46.222969Z",
     "shell.execute_reply": "2022-05-31T11:22:46.223879Z",
     "shell.execute_reply.started": "2022-03-19T13:41:33.532368Z"
    },
    "papermill": {
     "duration": 0.813036,
     "end_time": "2022-05-31T11:22:46.224126",
     "exception": false,
     "start_time": "2022-05-31T11:22:45.411090",
     "status": "completed"
    },
    "tags": []
   },
   "outputs": [
    {
     "name": "stdout",
     "output_type": "stream",
     "text": [
      "Recommendations: \n",
      "\n",
      "1.\n",
      "just you when her uptight new boss and landlord starts a war on office romances, plucky liang-liang quickly starts looking for ways to get him to lighten up.\n",
      "----> with a Similarity Score: 0.7728968532290629<---- \n",
      "\n",
      "2.\n",
      "hazel brugger: tropical in this stand-up special, comedian hazel brugger offers her breezy takes on unruly geese, chatty gynecologists, german bank loans and more.\n",
      "----> with a Similarity Score: 0.7537225315637165<---- \n",
      "\n",
      "3.\n",
      "first kiss a starry-eyed employee of a hot cosmetics company hires a dreamy photographer who is secretly indebted to a major rival – her sketchy aunt.\n",
      "----> with a Similarity Score: 0.7019579203744745<---- \n",
      "\n",
      "4.\n",
      "transformers: rescue bots follow the adventure of four young transformers, heatwave, chase, blades and boulder, and their human counterparts: a family of emergency responders.\n",
      "----> with a Similarity Score: 0.6728275920143738<---- \n",
      "\n",
      "5.\n",
      "queens of comedy eight women perform in front of celebrity judges and compete for the title of india’s top female stand-up comedian.\n",
      "----> with a Similarity Score: 0.6523538462246616<---- \n",
      "\n"
     ]
    }
   ],
   "source": [
    "search_text = 'Romantic comedy'\n",
    "top_n_results = 5\n",
    "pipeline_fitted_tfidf = pipeline_tfidf_fit\n",
    "pipeline_fitted_count = pipeline_count_fit\n",
    "prepared_feature_corpus = feature_count_tfidf_df_pandas\n",
    "top_n_df = new_entry_prediction(search_text, top_n_results, pipeline_fitted_tfidf, \n",
    "                                pipeline_fitted_count, prepared_feature_corpus, tfidf_flag = True)"
   ]
  },
  {
   "cell_type": "code",
   "execution_count": 30,
   "id": "1db294a5",
   "metadata": {
    "execution": {
     "iopub.execute_input": "2022-05-31T11:22:46.678531Z",
     "iopub.status.busy": "2022-05-31T11:22:46.677538Z",
     "iopub.status.idle": "2022-05-31T11:22:47.319957Z",
     "shell.execute_reply": "2022-05-31T11:22:47.319417Z",
     "shell.execute_reply.started": "2022-03-19T13:41:33.890887Z"
    },
    "papermill": {
     "duration": 0.873344,
     "end_time": "2022-05-31T11:22:47.320105",
     "exception": false,
     "start_time": "2022-05-31T11:22:46.446761",
     "status": "completed"
    },
    "tags": []
   },
   "outputs": [
    {
     "name": "stdout",
     "output_type": "stream",
     "text": [
      "Recommendations: \n",
      "\n",
      "1.\n",
      "just you when her uptight new boss and landlord starts a war on office romances, plucky liang-liang quickly starts looking for ways to get him to lighten up.\n",
      "----> with a Similarity Score: 0.7620007620011431<---- \n",
      "\n",
      "2.\n",
      "hazel brugger: tropical in this stand-up special, comedian hazel brugger offers her breezy takes on unruly geese, chatty gynecologists, german bank loans and more.\n",
      "----> with a Similarity Score: 0.7276068751089988<---- \n",
      "\n",
      "3.\n",
      "first kiss a starry-eyed employee of a hot cosmetics company hires a dreamy photographer who is secretly indebted to a major rival – her sketchy aunt.\n",
      "----> with a Similarity Score: 0.6804138174397716<---- \n",
      "\n",
      "4.\n",
      "queens of comedy eight women perform in front of celebrity judges and compete for the title of india’s top female stand-up comedian.\n",
      "----> with a Similarity Score: 0.6488856845230501<---- \n",
      "\n",
      "5.\n",
      "transformers: rescue bots follow the adventure of four young transformers, heatwave, chase, blades and boulder, and their human counterparts: a family of emergency responders.\n",
      "----> with a Similarity Score: 0.6350006350009525<---- \n",
      "\n"
     ]
    }
   ],
   "source": [
    "search_text = 'Romantic comedy'\n",
    "top_n_results = 5\n",
    "pipeline_fitted_tfidf = pipeline_tfidf_fit\n",
    "pipeline_fitted_count = pipeline_count_fit\n",
    "prepared_feature_corpus = feature_count_tfidf_df_pandas\n",
    "top_n_df = new_entry_prediction(search_text, top_n_results, pipeline_fitted_tfidf, \n",
    "                                pipeline_fitted_count, prepared_feature_corpus, tfidf_flag = False)"
   ]
  },
  {
   "cell_type": "markdown",
   "id": "ccc6be31",
   "metadata": {
    "papermill": {
     "duration": 0.226562,
     "end_time": "2022-05-31T11:22:47.777108",
     "exception": false,
     "start_time": "2022-05-31T11:22:47.550546",
     "status": "completed"
    },
    "tags": []
   },
   "source": [
    "# Analysis"
   ]
  },
  {
   "cell_type": "markdown",
   "id": "623cadb4",
   "metadata": {
    "papermill": {
     "duration": 0.217106,
     "end_time": "2022-05-31T11:22:48.221488",
     "exception": false,
     "start_time": "2022-05-31T11:22:48.004382",
     "status": "completed"
    },
    "tags": []
   },
   "source": [
    "#### This is something peculiar, though I am satisfied with the results in this search outcome from both models, I have a strong feeling that Count Vector did a bit of a better job here as it put queens of comedy above transformers which by the way I am not sure why it even ended up in top 5 perhaps because it has the word 'family' in it?"
   ]
  },
  {
   "cell_type": "markdown",
   "id": "e550c03d",
   "metadata": {
    "papermill": {
     "duration": 0.217349,
     "end_time": "2022-05-31T11:22:48.672982",
     "exception": false,
     "start_time": "2022-05-31T11:22:48.455633",
     "status": "completed"
    },
    "tags": []
   },
   "source": [
    "# War Content"
   ]
  },
  {
   "cell_type": "code",
   "execution_count": 31,
   "id": "8b65319f",
   "metadata": {
    "execution": {
     "iopub.execute_input": "2022-05-31T11:22:49.141873Z",
     "iopub.status.busy": "2022-05-31T11:22:49.141172Z",
     "iopub.status.idle": "2022-05-31T11:22:49.786564Z",
     "shell.execute_reply": "2022-05-31T11:22:49.787089Z",
     "shell.execute_reply.started": "2022-03-19T13:41:34.288026Z"
    },
    "papermill": {
     "duration": 0.886361,
     "end_time": "2022-05-31T11:22:49.787301",
     "exception": false,
     "start_time": "2022-05-31T11:22:48.900940",
     "status": "completed"
    },
    "tags": []
   },
   "outputs": [
    {
     "name": "stdout",
     "output_type": "stream",
     "text": [
      "Recommendations: \n",
      "\n",
      "1.\n",
      "shot! the psycho-spiritual mantra of rock aptly named iconic rock photographer mick rock reconstructs his journey through the thrilling and murky universe of rock 'n' roll history.\n",
      "----> with a Similarity Score: 0.7382833080112235<---- \n",
      "\n",
      "2.\n",
      "pegasus after a five-year suspension, a once-legendary race car driver decides to get back in the game against a new generation of opponents.\n",
      "----> with a Similarity Score: 0.722263662892445<---- \n",
      "\n",
      "3.\n",
      "sintonia three teens living in the same são paulo favela pursue their dreams while maintaining their friendship, amid a world of music, drugs and religion.\n",
      "----> with a Similarity Score: 0.6776035224005892<---- \n",
      "\n",
      "4.\n",
      "chris rock: tamborine chris rock takes the stage in brooklyn for a comedy special filled with searing observations on fatherhood, infidelity and american politics.\n",
      "----> with a Similarity Score: 0.6523197256447757<---- \n",
      "\n",
      "5.\n",
      "operation red sea a special task force takes on a risky operation to evacuate civilians amid civil war. based on the 2015 mission to rescue chinese citizens in yemen.\n",
      "----> with a Similarity Score: 0.6501005053234649<---- \n",
      "\n"
     ]
    }
   ],
   "source": [
    "search_text = 'the war of the legends'\n",
    "top_n_results = 5\n",
    "pipeline_fitted_tfidf = pipeline_tfidf_fit\n",
    "pipeline_fitted_count = pipeline_count_fit\n",
    "prepared_feature_corpus = feature_count_tfidf_df_pandas\n",
    "top_n_df = new_entry_prediction(search_text, top_n_results, pipeline_fitted_tfidf, \n",
    "                                pipeline_fitted_count, prepared_feature_corpus, tfidf_flag = True)"
   ]
  },
  {
   "cell_type": "code",
   "execution_count": 32,
   "id": "2e06a8ac",
   "metadata": {
    "execution": {
     "iopub.execute_input": "2022-05-31T11:22:50.314388Z",
     "iopub.status.busy": "2022-05-31T11:22:50.310258Z",
     "iopub.status.idle": "2022-05-31T11:22:50.864445Z",
     "shell.execute_reply": "2022-05-31T11:22:50.863671Z",
     "shell.execute_reply.started": "2022-03-19T13:41:34.66889Z"
    },
    "papermill": {
     "duration": 0.775186,
     "end_time": "2022-05-31T11:22:50.864646",
     "exception": false,
     "start_time": "2022-05-31T11:22:50.089460",
     "status": "completed"
    },
    "tags": []
   },
   "outputs": [
    {
     "name": "stdout",
     "output_type": "stream",
     "text": [
      "Recommendations: \n",
      "\n",
      "1.\n",
      "pegasus after a five-year suspension, a once-legendary race car driver decides to get back in the game against a new generation of opponents.\n",
      "----> with a Similarity Score: 0.7372097807744857<---- \n",
      "\n",
      "2.\n",
      "shot! the psycho-spiritual mantra of rock aptly named iconic rock photographer mick rock reconstructs his journey through the thrilling and murky universe of rock 'n' roll history.\n",
      "----> with a Similarity Score: 0.7071067811865475<---- \n",
      "\n",
      "3.\n",
      "operation red sea a special task force takes on a risky operation to evacuate civilians amid civil war. based on the 2015 mission to rescue chinese citizens in yemen.\n",
      "----> with a Similarity Score: 0.6882472016116853<---- \n",
      "\n",
      "4.\n",
      "the sons of sam: a descent into darkness the son of sam case grew into a lifelong obsession for journalist maury terry, who became convinced that the murders were linked to a satanic cult.\n",
      "----> with a Similarity Score: 0.6565321642986127<---- \n",
      "\n",
      "5.\n",
      "chris rock: tamborine chris rock takes the stage in brooklyn for a comedy special filled with searing observations on fatherhood, infidelity and american politics.\n",
      "----> with a Similarity Score: 0.6565321642986127<---- \n",
      "\n"
     ]
    }
   ],
   "source": [
    "search_text = 'the war of the legends'\n",
    "top_n_results = 5\n",
    "pipeline_fitted_tfidf = pipeline_tfidf_fit\n",
    "pipeline_fitted_count = pipeline_count_fit\n",
    "prepared_feature_corpus = feature_count_tfidf_df_pandas\n",
    "top_n_df = new_entry_prediction(search_text, top_n_results, pipeline_fitted_tfidf, \n",
    "                                pipeline_fitted_count, prepared_feature_corpus, tfidf_flag = False)"
   ]
  },
  {
   "cell_type": "markdown",
   "id": "311ebc6d",
   "metadata": {
    "papermill": {
     "duration": 0.21082,
     "end_time": "2022-05-31T11:22:51.289455",
     "exception": false,
     "start_time": "2022-05-31T11:22:51.078635",
     "status": "completed"
    },
    "tags": []
   },
   "source": [
    "# Analysis"
   ]
  },
  {
   "cell_type": "markdown",
   "id": "b0a461b0",
   "metadata": {
    "papermill": {
     "duration": 0.21518,
     "end_time": "2022-05-31T11:22:51.717992",
     "exception": false,
     "start_time": "2022-05-31T11:22:51.502812",
     "status": "completed"
    },
    "tags": []
   },
   "source": [
    "#### Count Vectors clearly did a much better job putting operation red sea on 3rd while TFIDF has Sintonia which I do not believe is a war movie going by its description. It also did a lovely job with The Sons of Sam on 4th position which has keywords like murder, satanic etc. going pretty well with the War theme.\n",
    "\n",
    "#### Also I have an interesting theory why 'Shot!' ended up on top or top 2 for both, it might be because of the word 'legend' in the query and 'Shot!' also being themed around discussing history of music genre which definitely would land around 'legend' due to the use of the word 'legend' around history etc. \n",
    "#### I confirmed that by removing the word 'legend' from the query and running TFIDF model again for War theme below ['Shot!' nowhere to be found in the top 5] :) Let me know what you think!"
   ]
  },
  {
   "cell_type": "code",
   "execution_count": 33,
   "id": "f1d42350",
   "metadata": {
    "execution": {
     "iopub.execute_input": "2022-05-31T11:22:52.151579Z",
     "iopub.status.busy": "2022-05-31T11:22:52.150858Z",
     "iopub.status.idle": "2022-05-31T11:22:52.595654Z",
     "shell.execute_reply": "2022-05-31T11:22:52.596472Z",
     "shell.execute_reply.started": "2022-03-19T14:11:19.704589Z"
    },
    "papermill": {
     "duration": 0.66535,
     "end_time": "2022-05-31T11:22:52.596750",
     "exception": false,
     "start_time": "2022-05-31T11:22:51.931400",
     "status": "completed"
    },
    "tags": []
   },
   "outputs": [
    {
     "name": "stdout",
     "output_type": "stream",
     "text": [
      "Recommendations: \n",
      "\n",
      "1.\n",
      "who's the one a doctor performs plastic surgery on a fat man who's been jilted, and continues his transformation by turning him into a handsome, desirable man.\n",
      "----> with a Similarity Score: 0.8574929257125441<---- \n",
      "\n",
      "2.\n",
      "ip man an occupying japanese general challenges chinese men to duels to prove the superiority of the japanese, but ip man refuses to fight – at first.\n",
      "----> with a Similarity Score: 0.7142857142857143<---- \n",
      "\n",
      "3.\n",
      "marc maron: end times fun marc maron wades through a swamp of vitamin hustlers, evangelicals and grown male nerd children, culminating in a gleefully filthy end-times fantasy.\n",
      "----> with a Similarity Score: 0.6933752452815365<---- \n",
      "\n",
      "4.\n",
      "wonho chung: live in new york at the comic strip's first arabic stand-up show, wonho chung ratchets up the laughs by tackling unique names, life in jordan, accents and more.\n",
      "----> with a Similarity Score: 0.6405126152203485<---- \n",
      "\n",
      "5.\n",
      "a mission in an old movie a young man struggles with his overbearing mother while looking for romance and a way to kick-start his show business career.\n",
      "----> with a Similarity Score: 0.6396021490668313<---- \n",
      "\n"
     ]
    }
   ],
   "source": [
    "search_text = 'the war of the'\n",
    "top_n_results = 5\n",
    "pipeline_fitted_tfidf = pipeline_tfidf_fit\n",
    "pipeline_fitted_count = pipeline_count_fit\n",
    "prepared_feature_corpus = feature_count_tfidf_df_pandas\n",
    "top_n_df = new_entry_prediction(search_text, top_n_results, pipeline_fitted_tfidf, \n",
    "                                pipeline_fitted_count, prepared_feature_corpus, tfidf_flag = False)"
   ]
  },
  {
   "cell_type": "markdown",
   "id": "01eac30f",
   "metadata": {
    "papermill": {
     "duration": 0.215242,
     "end_time": "2022-05-31T11:22:53.024344",
     "exception": false,
     "start_time": "2022-05-31T11:22:52.809102",
     "status": "completed"
    },
    "tags": []
   },
   "source": [
    "# Finance Content"
   ]
  },
  {
   "cell_type": "code",
   "execution_count": 34,
   "id": "3c7511e0",
   "metadata": {
    "execution": {
     "iopub.execute_input": "2022-05-31T11:22:53.449548Z",
     "iopub.status.busy": "2022-05-31T11:22:53.448856Z",
     "iopub.status.idle": "2022-05-31T11:22:53.935048Z",
     "shell.execute_reply": "2022-05-31T11:22:53.935594Z",
     "shell.execute_reply.started": "2022-03-19T13:49:24.122686Z"
    },
    "papermill": {
     "duration": 0.70025,
     "end_time": "2022-05-31T11:22:53.935770",
     "exception": false,
     "start_time": "2022-05-31T11:22:53.235520",
     "status": "completed"
    },
    "tags": []
   },
   "outputs": [
    {
     "name": "stdout",
     "output_type": "stream",
     "text": [
      "Recommendations: \n",
      "\n",
      "1.\n",
      "gelo a punjabi woman who works on a farm must endure the difficulties of living in an oppressive class-based society and a dysfunctional community.\n",
      "----> with a Similarity Score: 0.8247156271241594<---- \n",
      "\n",
      "2.\n",
      "dangerous roads using various 4x4 vehicles, celebrities steer their way across some of the most infamous roads and trickiest terrains on earth.\n",
      "----> with a Similarity Score: 0.6771288238283468<---- \n",
      "\n",
      "3.\n",
      "the smart money woman five glamorous millennials strive for success as they juggle careers, finances, love and friendships. based on arese ugwu's 2016 best-selling novel.\n",
      "----> with a Similarity Score: 0.6709284624508404<---- \n",
      "\n",
      "4.\n",
      "reframe theater experience with you perfume's reframe 2019 concert, performed to great effect in the newly reconstructed line cube shibuya, is recreated as a high-tech concert film.\n",
      "----> with a Similarity Score: 0.6291624747492458<---- \n",
      "\n",
      "5.\n",
      "mad money a woman joins the janitorial staff of the federal reserve bank and conspires with two co-workers to pilfer old money that's scheduled to be destroyed.\n",
      "----> with a Similarity Score: 0.6243202323730312<---- \n",
      "\n"
     ]
    }
   ],
   "source": [
    "search_text = 'wallstreet money cash'\n",
    "top_n_results = 5\n",
    "pipeline_fitted_tfidf = pipeline_tfidf_fit\n",
    "pipeline_fitted_count = pipeline_count_fit\n",
    "prepared_feature_corpus = feature_count_tfidf_df_pandas\n",
    "top_n_df = new_entry_prediction(search_text, top_n_results, pipeline_fitted_tfidf, \n",
    "                                pipeline_fitted_count, prepared_feature_corpus, tfidf_flag = True)"
   ]
  },
  {
   "cell_type": "code",
   "execution_count": 35,
   "id": "0d91f8fa",
   "metadata": {
    "execution": {
     "iopub.execute_input": "2022-05-31T11:22:54.380762Z",
     "iopub.status.busy": "2022-05-31T11:22:54.379977Z",
     "iopub.status.idle": "2022-05-31T11:22:54.827786Z",
     "shell.execute_reply": "2022-05-31T11:22:54.828546Z",
     "shell.execute_reply.started": "2022-03-19T13:49:25.02809Z"
    },
    "papermill": {
     "duration": 0.677064,
     "end_time": "2022-05-31T11:22:54.828806",
     "exception": false,
     "start_time": "2022-05-31T11:22:54.151742",
     "status": "completed"
    },
    "tags": []
   },
   "outputs": [
    {
     "name": "stdout",
     "output_type": "stream",
     "text": [
      "Recommendations: \n",
      "\n",
      "1.\n",
      "secrets of scotland yard revisit famous cases and explore the history of scotland yard, one of the world's oldest detective forces and a name synonymous with crime solving.\n",
      "----> with a Similarity Score: 0.643267520902677<---- \n",
      "\n",
      "2.\n",
      "stray bullet in 1976 beirut, after a rendezvous with her old flame, soon-to-wed noha witnesses a violent incident and changes course on a path to self-realization.\n",
      "----> with a Similarity Score: 0.629940788348712<---- \n",
      "\n",
      "3.\n",
      "gelo a punjabi woman who works on a farm must endure the difficulties of living in an oppressive class-based society and a dysfunctional community.\n",
      "----> with a Similarity Score: 0.6221710168382553<---- \n",
      "\n",
      "4.\n",
      "the woman in the window confined to her home by agoraphobia, a psychologist becomes obsessed with her new neighbors — and solving a brutal crime she witnesses from her window.\n",
      "----> with a Similarity Score: 0.6019292654288462<---- \n",
      "\n",
      "5.\n",
      "she's gotta have it nola darling struggles to stay true to herself and her dreams while juggling three lovers in this spike lee series based on his breakout film.\n",
      "----> with a Similarity Score: 0.5892556509887897<---- \n",
      "\n"
     ]
    }
   ],
   "source": [
    "search_text = 'wallstreet money leonardo'\n",
    "top_n_results = 5\n",
    "pipeline_fitted_tfidf = pipeline_tfidf_fit\n",
    "pipeline_fitted_count = pipeline_count_fit\n",
    "prepared_feature_corpus = feature_count_tfidf_df_pandas\n",
    "top_n_df = new_entry_prediction(search_text, top_n_results, pipeline_fitted_tfidf, \n",
    "                                pipeline_fitted_count, prepared_feature_corpus, tfidf_flag = False)"
   ]
  },
  {
   "cell_type": "markdown",
   "id": "2e022b46",
   "metadata": {
    "papermill": {
     "duration": 0.214333,
     "end_time": "2022-05-31T11:22:55.270548",
     "exception": false,
     "start_time": "2022-05-31T11:22:55.056215",
     "status": "completed"
    },
    "tags": []
   },
   "source": [
    "# Analysis"
   ]
  },
  {
   "cell_type": "markdown",
   "id": "d2f95d49",
   "metadata": {
    "papermill": {
     "duration": 0.221817,
     "end_time": "2022-05-31T11:22:55.704616",
     "exception": false,
     "start_time": "2022-05-31T11:22:55.482799",
     "status": "completed"
    },
    "tags": []
   },
   "source": [
    "#### None of the two models impress me in this case. However TFIDF got 'Smart Money' on the 3rd and 'Mad Money' on 5th rank (which actually perhaps should have been the 1st ranker) which Count Vector completely failed to capture while the word money is there in both the query and the TFIDF 5th ranker element. Here TFIDF definitely did a bit better.\n",
    "\n",
    "#### This is quite the opposite of what happened in our first observation in the Action Content query. There TFIDF was failing to consider exact word matches and Count Vector was doing a great job of it and we had established that Count Vector was better at it.\n",
    "\n",
    "#### Now that we have the opposite happening in this case we should restrain from establishing that Count Vectors is better than TFIDF on queries which have exact match with the documents"
   ]
  },
  {
   "cell_type": "markdown",
   "id": "07b00e4b",
   "metadata": {
    "papermill": {
     "duration": 0.217605,
     "end_time": "2022-05-31T11:22:56.137463",
     "exception": false,
     "start_time": "2022-05-31T11:22:55.919858",
     "status": "completed"
    },
    "tags": []
   },
   "source": [
    "# 7. Conclusion"
   ]
  },
  {
   "cell_type": "markdown",
   "id": "b758d69c",
   "metadata": {
    "papermill": {
     "duration": 0.211492,
     "end_time": "2022-05-31T11:22:56.564653",
     "exception": false,
     "start_time": "2022-05-31T11:22:56.353161",
     "status": "completed"
    },
    "tags": []
   },
   "source": [
    "#### It seems like in this case neither TFIDF nor Count Vectors could do a really great job of making those near perfect recommendations that Netflix does. (Lol I know how Netflix algorithm is far more complicated compared to this one so please take it as a joke :P)\n",
    "\n",
    "#### Its interesting that for most cases Count Vectors did a slightly better job than TFIDF even though TFIDF is supposed to be intelligent with handling frequent words. We had already removed stop words so TFIDF might have lost its advantage there too.\n",
    "\n",
    "#### Additionally we couldn't establish anything about any of the algorithms being better when the query and the document being compared have the same keywords present in both of them."
   ]
  },
  {
   "cell_type": "markdown",
   "id": "5c6a3155",
   "metadata": {
    "papermill": {
     "duration": 0.213979,
     "end_time": "2022-05-31T11:22:56.989815",
     "exception": false,
     "start_time": "2022-05-31T11:22:56.775836",
     "status": "completed"
    },
    "tags": []
   },
   "source": [
    "# 8. Up Next\n",
    "\n",
    "#### What if we combine the vectors we get from TFIDF and Count Vectors and try our luck with a single combined featureset for this data?"
   ]
  }
 ],
 "metadata": {
  "kernelspec": {
   "display_name": "Python 3",
   "language": "python",
   "name": "python3"
  },
  "language_info": {
   "codemirror_mode": {
    "name": "ipython",
    "version": 3
   },
   "file_extension": ".py",
   "mimetype": "text/x-python",
   "name": "python",
   "nbconvert_exporter": "python",
   "pygments_lexer": "ipython3",
   "version": "3.7.12"
  },
  "papermill": {
   "default_parameters": {},
   "duration": 128.952305,
   "end_time": "2022-05-31T11:22:58.317524",
   "environment_variables": {},
   "exception": null,
   "input_path": "__notebook__.ipynb",
   "output_path": "__notebook__.ipynb",
   "parameters": {},
   "start_time": "2022-05-31T11:20:49.365219",
   "version": "2.3.3"
  }
 },
 "nbformat": 4,
 "nbformat_minor": 5
}
